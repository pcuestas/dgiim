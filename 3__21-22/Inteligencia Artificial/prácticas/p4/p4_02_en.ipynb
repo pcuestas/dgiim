{
 "cells": [
  {
   "cell_type": "markdown",
   "metadata": {
    "collapsed": true
   },
   "source": [
    "# AI Lab Assignment 4"
   ]
  },
  {
   "cell_type": "markdown",
   "metadata": {
    "collapsed": true
   },
   "source": [
    "# 2. Building a classifier on a real dataset (3.5 points)"
   ]
  },
  {
   "cell_type": "code",
   "execution_count": 1,
   "metadata": {},
   "outputs": [],
   "source": [
    "import pandas as pd\n",
    "import warnings\n",
    "import matplotlib.pyplot as plt\n",
    "from sklearn.model_selection import cross_val_score\n",
    "\n",
    "%matplotlib inline"
   ]
  },
  {
   "cell_type": "code",
   "execution_count": 2,
   "metadata": {},
   "outputs": [
    {
     "name": "stdout",
     "output_type": "stream",
     "text": [
      "(768, 9)\n"
     ]
    },
    {
     "data": {
      "text/html": [
       "<div>\n",
       "<style scoped>\n",
       "    .dataframe tbody tr th:only-of-type {\n",
       "        vertical-align: middle;\n",
       "    }\n",
       "\n",
       "    .dataframe tbody tr th {\n",
       "        vertical-align: top;\n",
       "    }\n",
       "\n",
       "    .dataframe thead th {\n",
       "        text-align: right;\n",
       "    }\n",
       "</style>\n",
       "<table border=\"1\" class=\"dataframe\">\n",
       "  <thead>\n",
       "    <tr style=\"text-align: right;\">\n",
       "      <th></th>\n",
       "      <th>numPregnant</th>\n",
       "      <th>glucose</th>\n",
       "      <th>bloodPress</th>\n",
       "      <th>skinThick</th>\n",
       "      <th>insulin</th>\n",
       "      <th>massIndex</th>\n",
       "      <th>pedigree</th>\n",
       "      <th>age</th>\n",
       "      <th>class</th>\n",
       "    </tr>\n",
       "  </thead>\n",
       "  <tbody>\n",
       "    <tr>\n",
       "      <th>0</th>\n",
       "      <td>6</td>\n",
       "      <td>148</td>\n",
       "      <td>72</td>\n",
       "      <td>35</td>\n",
       "      <td>0</td>\n",
       "      <td>33.6</td>\n",
       "      <td>0.627</td>\n",
       "      <td>50</td>\n",
       "      <td>yes</td>\n",
       "    </tr>\n",
       "    <tr>\n",
       "      <th>1</th>\n",
       "      <td>1</td>\n",
       "      <td>85</td>\n",
       "      <td>66</td>\n",
       "      <td>29</td>\n",
       "      <td>0</td>\n",
       "      <td>26.6</td>\n",
       "      <td>0.351</td>\n",
       "      <td>31</td>\n",
       "      <td>no</td>\n",
       "    </tr>\n",
       "    <tr>\n",
       "      <th>2</th>\n",
       "      <td>8</td>\n",
       "      <td>183</td>\n",
       "      <td>64</td>\n",
       "      <td>0</td>\n",
       "      <td>0</td>\n",
       "      <td>23.3</td>\n",
       "      <td>0.672</td>\n",
       "      <td>32</td>\n",
       "      <td>yes</td>\n",
       "    </tr>\n",
       "    <tr>\n",
       "      <th>3</th>\n",
       "      <td>1</td>\n",
       "      <td>89</td>\n",
       "      <td>66</td>\n",
       "      <td>23</td>\n",
       "      <td>94</td>\n",
       "      <td>28.1</td>\n",
       "      <td>0.167</td>\n",
       "      <td>21</td>\n",
       "      <td>no</td>\n",
       "    </tr>\n",
       "    <tr>\n",
       "      <th>4</th>\n",
       "      <td>0</td>\n",
       "      <td>137</td>\n",
       "      <td>40</td>\n",
       "      <td>35</td>\n",
       "      <td>168</td>\n",
       "      <td>43.1</td>\n",
       "      <td>2.288</td>\n",
       "      <td>33</td>\n",
       "      <td>yes</td>\n",
       "    </tr>\n",
       "  </tbody>\n",
       "</table>\n",
       "</div>"
      ],
      "text/plain": [
       "   numPregnant  glucose  bloodPress  skinThick  insulin  massIndex  pedigree  \\\n",
       "0            6      148          72         35        0       33.6     0.627   \n",
       "1            1       85          66         29        0       26.6     0.351   \n",
       "2            8      183          64          0        0       23.3     0.672   \n",
       "3            1       89          66         23       94       28.1     0.167   \n",
       "4            0      137          40         35      168       43.1     2.288   \n",
       "\n",
       "   age class  \n",
       "0   50   yes  \n",
       "1   31    no  \n",
       "2   32   yes  \n",
       "3   21    no  \n",
       "4   33   yes  "
      ]
     },
     "execution_count": 2,
     "metadata": {},
     "output_type": "execute_result"
    }
   ],
   "source": [
    "df = pd.read_csv(\"pima.csv\", header=0, sep=',')\n",
    "print(df.shape)\n",
    "df.head(5)"
   ]
  },
  {
   "cell_type": "markdown",
   "metadata": {},
   "source": [
    "**The goal is to predict whether or not a patient has diabetes from the values ​​of some variables. The target variable is \"class\".**"
   ]
  },
  {
   "cell_type": "markdown",
   "metadata": {},
   "source": [
    "* **Pregnancies:** Number of times pregnant\n",
    "* **Glucose:** Plasma glucose concentration a 2 hours in an oral glucose tolerance test\n",
    "* **BloodPressure:** Diastolic blood pressure (mm Hg)\n",
    "* **SkinThickness:** Triceps skin fold thickness (mm)\n",
    "* **Insulin:** 2-Hour serum insulin (mu U/ml)\n",
    "* **BMI:** Body mass index (weight in kg/(height in m)^2)\n",
    "* **DiabetesPedigreeFunction:** Diabetes pedigree function\n",
    "* **Age:** Age (years)\n",
    "* **Class:** Class variable (\"yes\" / \"no\")"
   ]
  },
  {
   "cell_type": "code",
   "execution_count": 3,
   "metadata": {},
   "outputs": [
    {
     "name": "stdout",
     "output_type": "stream",
     "text": [
      "['numPregnant', 'glucose', 'bloodPress', 'skinThick', 'insulin', 'massIndex', 'pedigree', 'age']\n"
     ]
    }
   ],
   "source": [
    "feature_names = list(df.columns)\n",
    "feature_names.remove('class')\n",
    "print(feature_names)\n",
    "X = df[feature_names].values\n",
    "y = df['class'].values"
   ]
  },
  {
   "cell_type": "markdown",
   "metadata": {},
   "source": [
    "**Basic stats for each attribute:**"
   ]
  },
  {
   "cell_type": "code",
   "execution_count": 4,
   "metadata": {},
   "outputs": [
    {
     "data": {
      "text/html": [
       "<div>\n",
       "<style scoped>\n",
       "    .dataframe tbody tr th:only-of-type {\n",
       "        vertical-align: middle;\n",
       "    }\n",
       "\n",
       "    .dataframe tbody tr th {\n",
       "        vertical-align: top;\n",
       "    }\n",
       "\n",
       "    .dataframe thead th {\n",
       "        text-align: right;\n",
       "    }\n",
       "</style>\n",
       "<table border=\"1\" class=\"dataframe\">\n",
       "  <thead>\n",
       "    <tr style=\"text-align: right;\">\n",
       "      <th></th>\n",
       "      <th>numPregnant</th>\n",
       "      <th>glucose</th>\n",
       "      <th>bloodPress</th>\n",
       "      <th>skinThick</th>\n",
       "      <th>insulin</th>\n",
       "      <th>massIndex</th>\n",
       "      <th>pedigree</th>\n",
       "      <th>age</th>\n",
       "    </tr>\n",
       "  </thead>\n",
       "  <tbody>\n",
       "    <tr>\n",
       "      <th>count</th>\n",
       "      <td>768.000000</td>\n",
       "      <td>768.000000</td>\n",
       "      <td>768.000000</td>\n",
       "      <td>768.000000</td>\n",
       "      <td>768.000000</td>\n",
       "      <td>768.000000</td>\n",
       "      <td>768.000000</td>\n",
       "      <td>768.000000</td>\n",
       "    </tr>\n",
       "    <tr>\n",
       "      <th>mean</th>\n",
       "      <td>3.845052</td>\n",
       "      <td>120.894531</td>\n",
       "      <td>69.105469</td>\n",
       "      <td>20.536458</td>\n",
       "      <td>79.799479</td>\n",
       "      <td>31.992578</td>\n",
       "      <td>0.471876</td>\n",
       "      <td>33.240885</td>\n",
       "    </tr>\n",
       "    <tr>\n",
       "      <th>std</th>\n",
       "      <td>3.369578</td>\n",
       "      <td>31.972618</td>\n",
       "      <td>19.355807</td>\n",
       "      <td>15.952218</td>\n",
       "      <td>115.244002</td>\n",
       "      <td>7.884160</td>\n",
       "      <td>0.331329</td>\n",
       "      <td>11.760232</td>\n",
       "    </tr>\n",
       "    <tr>\n",
       "      <th>min</th>\n",
       "      <td>0.000000</td>\n",
       "      <td>0.000000</td>\n",
       "      <td>0.000000</td>\n",
       "      <td>0.000000</td>\n",
       "      <td>0.000000</td>\n",
       "      <td>0.000000</td>\n",
       "      <td>0.078000</td>\n",
       "      <td>21.000000</td>\n",
       "    </tr>\n",
       "    <tr>\n",
       "      <th>25%</th>\n",
       "      <td>1.000000</td>\n",
       "      <td>99.000000</td>\n",
       "      <td>62.000000</td>\n",
       "      <td>0.000000</td>\n",
       "      <td>0.000000</td>\n",
       "      <td>27.300000</td>\n",
       "      <td>0.243750</td>\n",
       "      <td>24.000000</td>\n",
       "    </tr>\n",
       "    <tr>\n",
       "      <th>50%</th>\n",
       "      <td>3.000000</td>\n",
       "      <td>117.000000</td>\n",
       "      <td>72.000000</td>\n",
       "      <td>23.000000</td>\n",
       "      <td>30.500000</td>\n",
       "      <td>32.000000</td>\n",
       "      <td>0.372500</td>\n",
       "      <td>29.000000</td>\n",
       "    </tr>\n",
       "    <tr>\n",
       "      <th>75%</th>\n",
       "      <td>6.000000</td>\n",
       "      <td>140.250000</td>\n",
       "      <td>80.000000</td>\n",
       "      <td>32.000000</td>\n",
       "      <td>127.250000</td>\n",
       "      <td>36.600000</td>\n",
       "      <td>0.626250</td>\n",
       "      <td>41.000000</td>\n",
       "    </tr>\n",
       "    <tr>\n",
       "      <th>max</th>\n",
       "      <td>17.000000</td>\n",
       "      <td>199.000000</td>\n",
       "      <td>122.000000</td>\n",
       "      <td>99.000000</td>\n",
       "      <td>846.000000</td>\n",
       "      <td>67.100000</td>\n",
       "      <td>2.420000</td>\n",
       "      <td>81.000000</td>\n",
       "    </tr>\n",
       "  </tbody>\n",
       "</table>\n",
       "</div>"
      ],
      "text/plain": [
       "       numPregnant     glucose  bloodPress   skinThick     insulin  \\\n",
       "count   768.000000  768.000000  768.000000  768.000000  768.000000   \n",
       "mean      3.845052  120.894531   69.105469   20.536458   79.799479   \n",
       "std       3.369578   31.972618   19.355807   15.952218  115.244002   \n",
       "min       0.000000    0.000000    0.000000    0.000000    0.000000   \n",
       "25%       1.000000   99.000000   62.000000    0.000000    0.000000   \n",
       "50%       3.000000  117.000000   72.000000   23.000000   30.500000   \n",
       "75%       6.000000  140.250000   80.000000   32.000000  127.250000   \n",
       "max      17.000000  199.000000  122.000000   99.000000  846.000000   \n",
       "\n",
       "        massIndex    pedigree         age  \n",
       "count  768.000000  768.000000  768.000000  \n",
       "mean    31.992578    0.471876   33.240885  \n",
       "std      7.884160    0.331329   11.760232  \n",
       "min      0.000000    0.078000   21.000000  \n",
       "25%     27.300000    0.243750   24.000000  \n",
       "50%     32.000000    0.372500   29.000000  \n",
       "75%     36.600000    0.626250   41.000000  \n",
       "max     67.100000    2.420000   81.000000  "
      ]
     },
     "execution_count": 4,
     "metadata": {},
     "output_type": "execute_result"
    }
   ],
   "source": [
    "df.describe()"
   ]
  },
  {
   "cell_type": "markdown",
   "metadata": {},
   "source": [
    "**Smoothed histograms of each attribute in each class. Color indicates class (\"yes\"/\"no\"):**"
   ]
  },
  {
   "cell_type": "code",
   "execution_count": 5,
   "metadata": {},
   "outputs": [
    {
     "data": {
      "image/png": "[encoded data removed]",
      "text/plain": [
       "<Figure size 1080x504 with 8 Axes>"
      ]
     },
     "metadata": {
      "needs_background": "light"
     },
     "output_type": "display_data"
    }
   ],
   "source": [
    "plt.figure(figsize=(15,7))\n",
    "for i,n in enumerate(feature_names):\n",
    "    plt.subplot(2,4,i+1)\n",
    "    aux = 'Density' if i%4==0 else ''\n",
    "    df.groupby(\"class\")[n].plot(kind='kde', title='Hist. de '+n)\n",
    "    plt.ylabel(aux)"
   ]
  },
  {
   "cell_type": "markdown",
   "metadata": {},
   "source": [
    "## Training a model and testing its quality using 5-fold cross validation"
   ]
  },
  {
   "cell_type": "markdown",
   "metadata": {},
   "source": [
    "The following cell trains a model and tests it on several different training-test partitions of the data. The result is a mean score with its standard deviation. The type of model (Naïve Bayes / decision tree / knn / logistic regression / neural network) and parameters used must be selected to obtain the best result."
   ]
  },
  {
   "cell_type": "code",
   "execution_count": 6,
   "metadata": {},
   "outputs": [],
   "source": [
    "from copy import copy\n",
    "\n",
    "#Find best configuration using the data from previous cells\n",
    "def graph_classifier_2(classifier, modify_clf, values, xlabel=\"\", title=\"\", X=X, y=y):\n",
    "    '''plots a graph of the scores'''\n",
    "\n",
    "    fig, axs = plt.subplots(2)\n",
    "    fig.suptitle(title)\n",
    "    clf = copy(classifier)\n",
    "    max_val, argmax = -1, -1\n",
    "\n",
    "    mean_scores, std_scores = [], []\n",
    "    best_index = None\n",
    "\n",
    "    # iterate over the options (depth, K, etc.)\n",
    "    for i, param in enumerate(values):\n",
    "        modify_clf(clf, param)\n",
    "        aux_scores = cross_val_score(clf, X, y, cv=5)\n",
    "        mean = aux_scores.mean()\n",
    "        st = aux_scores.std()\n",
    "\n",
    "        #update maximum and argmax. max() falla si se usa con la lista de np mean scores!\n",
    "        if max_val <= mean:\n",
    "            max_val = mean\n",
    "            argmax = param\n",
    "            best_index = i\n",
    "\n",
    "        mean_scores.append(mean)\n",
    "        std_scores.append(st)\n",
    "\n",
    "    axs[0].set_ylabel(\"Mean\")\n",
    "    axs[1].set_ylabel(\"Standard deviation\")\n",
    "    axs[0].set_xlabel(xlabel)\n",
    "    axs[1].set_xlabel(xlabel)\n",
    "    axs[0].plot(values, mean_scores)\n",
    "    axs[1].plot(values, std_scores)\n",
    "    fig.tight_layout()\n",
    "\n",
    "    return (max_val, argmax, std_scores[best_index])\n"
   ]
  },
  {
   "cell_type": "code",
   "execution_count": 7,
   "metadata": {},
   "outputs": [
    {
     "name": "stdout",
     "output_type": "stream",
     "text": [
      "All scores:  [0.64285714 0.62987013 0.66883117 0.75816993 0.61437908]\n",
      "KNeighburs Global Model Score: 0.66 +/- 0.05\n"
     ]
    }
   ],
   "source": [
    "from sklearn.naive_bayes import GaussianNB\n",
    "from sklearn.neighbors import KNeighborsClassifier\n",
    "from sklearn.tree import DecisionTreeClassifier\n",
    "from sklearn.linear_model import LogisticRegression\n",
    "from sklearn.neural_network import MLPClassifier\n",
    "# other classifiers (from notebook p4_01)\n",
    "\n",
    "clf = KNeighborsClassifier(n_neighbors=1) # DecisionTreeClassifier(max_depth=3)\n",
    "scores = cross_val_score(clf, X, y, cv=5)\n",
    "print(\"All scores: \", scores)\n",
    "print(\"KNeighburs Global Model Score: {:.2f} +/- {:.2f}\".format(scores.mean(), scores.std()))\n"
   ]
  },
  {
   "cell_type": "markdown",
   "metadata": {
    "collapsed": true
   },
   "source": [
    "## Answer the following questions here:"
   ]
  },
  {
   "cell_type": "markdown",
   "metadata": {},
   "source": [
    "* What is the best score you get with a k-nn and with what k (value of n_neighbours)?\n",
    "* What is the best score you get with a decision tree and at what maximum depth (value of max_depth)?\n",
    "* What is the best score you get with a neural network and with what configuration (value of hidden_layer_sizes)?\n",
    "\n",
    "Note: to answer these questions you just have to change the type of model and its parameters in the previous cell."
   ]
  },
  {
   "cell_type": "markdown",
   "metadata": {},
   "source": [
    "The following cells answer these questions."
   ]
  },
  {
   "cell_type": "markdown",
   "metadata": {},
   "source": [
    "## KNeigborsClassifier"
   ]
  },
  {
   "cell_type": "code",
   "execution_count": 11,
   "metadata": {},
   "outputs": [
    {
     "name": "stdout",
     "output_type": "stream",
     "text": [
      "The maximum mean is 0.7553 and it is reached with 14 neighbors. The std is 0.04.\n"
     ]
    },
    {
     "data": {
      "image/png": "[encoded data removed]",
      "text/plain": [
       "<Figure size 432x288 with 2 Axes>"
      ]
     },
     "metadata": {
      "needs_background": "light"
     },
     "output_type": "display_data"
    }
   ],
   "source": [
    "\n",
    "k_neighbors_classifier = KNeighborsClassifier(n_neighbors=1)\n",
    "\n",
    "def change_k(clf, k):\n",
    "    clf.n_neighbors = k \n",
    "\n",
    "max_mean,argmax,std = graph_classifier_2(\n",
    "    classifier=k_neighbors_classifier,\n",
    "    values=list(range(1, 300, 2)),\n",
    "    modify_clf=change_k,\n",
    "    title=\"Mean and std varying Number of Kneigbours\",\n",
    "    xlabel=\"Number of neighbours\"\n",
    ")\n",
    "\n",
    "print(\"The maximum mean is {:.4f} and it is reached with {} neighbors. The std is {:.2f}.\".format(max_mean, argmax, std))\n"
   ]
  },
  {
   "cell_type": "markdown",
   "metadata": {},
   "source": [
    "## Decision Tree"
   ]
  },
  {
   "cell_type": "code",
   "execution_count": 12,
   "metadata": {},
   "outputs": [
    {
     "name": "stdout",
     "output_type": "stream",
     "text": [
      "The maximum mean is 0.74 and it is reached with a depth of 4. The std is 0.02.\n"
     ]
    },
    {
     "data": {
      "image/png": "[encoded data removed]",
      "text/plain": [
       "<Figure size 432x288 with 2 Axes>"
      ]
     },
     "metadata": {
      "needs_background": "light"
     },
     "output_type": "display_data"
    }
   ],
   "source": [
    "dt_classifier = DecisionTreeClassifier(criterion='entropy', max_depth=1)\n",
    "\n",
    "def change_depth(clf, depth):\n",
    "    clf.max_depth = depth \n",
    "\n",
    "\n",
    "max_mean,argmax,std=graph_classifier_2(\n",
    "    classifier=dt_classifier,\n",
    "    values=list(range(1,31)),\n",
    "    modify_clf=change_depth,\n",
    "    title=\"Mean and std varying Depth of Tree\",\n",
    "    xlabel=\"Depth\"\n",
    ")\n",
    "\n",
    "print(\"The maximum mean is {:.2f} and it is reached with a depth of {}. The std is {:.2f}.\".format(max_mean,argmax,std))"
   ]
  },
  {
   "cell_type": "markdown",
   "metadata": {},
   "source": [
    "## Logistic regression\n",
    "Logistic regression changing the max number of iterations, **without any penalty**."
   ]
  },
  {
   "cell_type": "code",
   "execution_count": 8,
   "metadata": {},
   "outputs": [
    {
     "name": "stdout",
     "output_type": "stream",
     "text": [
      "The maximum mean is 0.77 and it is reached with a depth of 450. The std is 0.02.\n"
     ]
    },
    {
     "data": {
      "image/png": "[encoded data removed]",
      "text/plain": [
       "<Figure size 432x288 with 2 Axes>"
      ]
     },
     "metadata": {
      "needs_background": "light"
     },
     "output_type": "display_data"
    }
   ],
   "source": [
    "dt_classifier = LogisticRegression(penalty='none')\n",
    "\n",
    "def change_max_iter(clf, max_iter):\n",
    "    clf.max_iter = max_iter\n",
    "\n",
    "with warnings.catch_warnings(record=True) as wlist:\n",
    "    warnings.simplefilter(\"always\",UserWarning)\n",
    "    max_mean,argmax,std=graph_classifier_2(\n",
    "        classifier=dt_classifier,\n",
    "        values=list(range(5, 100, 5)) + list(range(100, 500, 50)),\n",
    "        modify_clf=change_max_iter,\n",
    "        title=\"Mean and std varying max number of iterations in logistic regression\",\n",
    "        xlabel=\"Max number of iterations\",\n",
    "    )\n",
    "\n",
    "print(\"The maximum mean is {:.2f} and it is reached with a depth of {}. The std is {:.2f}.\".format(max_mean,argmax,std))"
   ]
  },
  {
   "cell_type": "code",
   "execution_count": 9,
   "metadata": {},
   "outputs": [
    {
     "name": "stdout",
     "output_type": "stream",
     "text": [
      "lbfgs failed to converge (status=1):\n",
      "STOP: TOTAL NO. of ITERATIONS REACHED LIMIT.\n",
      "\n",
      "Increase the number of iterations (max_iter) or scale the data as shown in:\n",
      "    https://scikit-learn.org/stable/modules/preprocessing.html\n",
      "Please also refer to the documentation for alternative solver options:\n",
      "    https://scikit-learn.org/stable/modules/linear_model.html#logistic-regression\n"
     ]
    }
   ],
   "source": [
    "# List of warnings to see when convergence is not being reached.\n",
    "for w_message in set([str(w.message) for w in wlist]):\n",
    "    print(w_message)"
   ]
  },
  {
   "cell_type": "markdown",
   "metadata": {},
   "source": [
    "The code from the cell above shows that the LogisticRegression classifier has failed to reach convergence for some values of max_iterations. The warnings do not specify those values but the standard deviation plot hints that converngence may not be reached when max_iterations is smaller than 100 (aprox)."
   ]
  },
  {
   "cell_type": "markdown",
   "metadata": {},
   "source": [
    "As we can see, it gets to a point where the mean and std stabilize around 0.77 and 0.02, respectively, for max_iter > 160. Although this results in a classifier that is very closely fitted to our own data, and may not perform well with other samples (overfitting).\n",
    "Note that there are warnings of non-convergence, we have ignored the suggestions to preprocess the data, as it is to be done in the next section."
   ]
  },
  {
   "cell_type": "markdown",
   "metadata": {},
   "source": [
    "Now, we will fix the max_iter value in 400, and modify the penalty."
   ]
  },
  {
   "cell_type": "code",
   "execution_count": 22,
   "metadata": {},
   "outputs": [
    {
     "name": "stdout",
     "output_type": "stream",
     "text": [
      "The maximum mean is 0.77 and it is reached with a depth of l2. The std is 0.02.\n"
     ]
    },
    {
     "data": {
      "image/png": "[encoded data removed]",
      "text/plain": [
       "<Figure size 432x288 with 2 Axes>"
      ]
     },
     "metadata": {
      "needs_background": "light"
     },
     "output_type": "display_data"
    }
   ],
   "source": [
    "dt_classifier = LogisticRegression(max_iter=400)\n",
    "\n",
    "def change_max_iter(clf, p):\n",
    "    clf.penalty = p\n",
    "\n",
    "# Solver lbfgs supports only 'l2' or 'none' penalties\n",
    "\n",
    "max_mean,argmax,std=graph_classifier_2(\n",
    "    classifier=dt_classifier,\n",
    "    values=['none', 'l2'],\n",
    "    modify_clf=change_max_iter,\n",
    "    title=\"Mean and std varying the penalty\",\n",
    "    xlabel=\"penalty\",\n",
    ")\n",
    "\n",
    "print(\"The maximum mean is {:.2f} and it is reached with a depth of {}. The std is {:.2f}.\".format(max_mean,argmax,std))"
   ]
  },
  {
   "cell_type": "markdown",
   "metadata": {},
   "source": [
    "The improvement done by the penalty is very small - basically insignifficant. The mean goes from 77,1% in the case of no penalty to 77,2% in the case of L2 penalty. However, the penalty is suposed to improve the performance on unknown datasets; so it is not unexpected that we do not see significant results when doing cross-validation."
   ]
  },
  {
   "cell_type": "markdown",
   "metadata": {},
   "source": [
    "## MLPClassifier"
   ]
  },
  {
   "cell_type": "code",
   "execution_count": 27,
   "metadata": {},
   "outputs": [],
   "source": [
    "from sklearn.neural_network import MLPClassifier\n",
    "import pylab\n",
    "\n",
    "N=100\n",
    "clf=MLPClassifier(hidden_layer_sizes=(2,2),\n",
    "                              max_iter=1000,\n",
    "                              alpha=0)\n",
    "\n",
    "score=pylab.zeros([N,N])\n",
    "# iterate over all combinations of hidden_layer_sizes = (i,j),\n",
    "# for i,j in {1, 2, 3, ... , 100}\n",
    "for i in range(N):\n",
    "    for j in range(N):\n",
    "\n",
    "        clf.hidden_layer_sizes=(i+1,j+1)\n",
    "        score[i,j]=cross_val_score(clf, X, y, cv=5).mean()\n",
    "\n"
   ]
  },
  {
   "cell_type": "code",
   "execution_count": 29,
   "metadata": {},
   "outputs": [
    {
     "data": {
      "image/png": "[encoded data removed]",
      "text/plain": [
       "<Figure size 432x288 with 2 Axes>"
      ]
     },
     "metadata": {
      "needs_background": "light"
     },
     "output_type": "display_data"
    }
   ],
   "source": [
    "import numpy as np\n",
    "from matplotlib.colors import LogNorm\n",
    "  \n",
    "xx = pylab.linspace(1, 99, 100)\n",
    "yy = pylab.linspace(1, 99, 100)\n",
    "pylab.pcolor(xx, yy, score,norm=LogNorm(vmin=score.min(), vmax=score.max()), cmap=plt.cm.autumn)\n",
    "pylab.colorbar()\n",
    "pylab.show()"
   ]
  },
  {
   "cell_type": "markdown",
   "metadata": {},
   "source": [
    "The colormap above shows the cross validation score for different configurations of a neuron network with two layers. The axes represent the number of neurons in each of the two hidden layers (varying from 1-100). \n",
    "\n",
    "Rather than trying to obtain the best configuration for two single layers, this plot indicates that there are not a list of patterns that perform significantly better than the rest. \n",
    "\n",
    "In general, all the scores fluctuate around the 60% and 70%. Moreover, configurations where one of the two layers have a reduce number of neurons (~5) give worse results; this is seen in the two axes of the plot where the color is close to darker tones of red than in the rest of the square."
   ]
  },
  {
   "cell_type": "markdown",
   "metadata": {},
   "source": [
    "## Naive Bayes\n",
    "\n",
    "This time, we will try the different models of naive Bayes. As seen in the documentation (https://scikit-learn.org/stable/modules/naive_bayes.html) The difference between these classifiers is the assumption they make to calculate P(x_i|y) where y is the class."
   ]
  },
  {
   "cell_type": "code",
   "execution_count": 80,
   "metadata": {},
   "outputs": [
    {
     "name": "stdout",
     "output_type": "stream",
     "text": [
      "The maximum mean is 0.7670 and it is reached with the Bernoulli classifier. The std is 0.02.\n"
     ]
    }
   ],
   "source": [
    "from sklearn.naive_bayes import *\n",
    "classifiers=[[\"Gaussian\",GaussianNB()],[\"Multinomial\",MultinomialNB()],[\"Complement\", ComplementNB()],[\"Bernoulli\", BernoulliNB()]]\n",
    "\n",
    "max_val = -1\n",
    "for name,clf in classifiers:\n",
    "    scores = cross_val_score(clf, X, y, cv=5)\n",
    "    mean = scores.mean()\n",
    "    deviation = scores.std()\n",
    "\n",
    "    if max_val<= mean:\n",
    "        max_val = mean\n",
    "        argmax = name\n",
    "        std = deviation\n",
    "\n",
    "print(\"The maximum mean is {:.4f} and it is reached with the {} classifier. The std is {:.2f}.\".format(max_mean, name, std))\n",
    "\n"
   ]
  },
  {
   "cell_type": "markdown",
   "metadata": {},
   "source": [
    "# Improve the model: feature processing and parameter search"
   ]
  },
  {
   "cell_type": "markdown",
   "metadata": {},
   "source": [
    "Sometimes, instead of using more complex models, it is more useful to spend more time processing the data to get better results.\n",
    "\n",
    "In this section you will investigate a few approaches for preparing the data which are likely to improve the results: feature construction and selection, feature preprocessing (detection of outliers, missing values, centering and scaling).\n",
    "\n",
    "Give reasons why you decide to try or ignore any of these methods, and how the results change when you apply them (you can create as many cells as you want)."
   ]
  },
  {
   "cell_type": "code",
   "execution_count": 5,
   "metadata": {},
   "outputs": [
    {
     "data": {
      "text/html": [
       "<div>\n",
       "<style scoped>\n",
       "    .dataframe tbody tr th:only-of-type {\n",
       "        vertical-align: middle;\n",
       "    }\n",
       "\n",
       "    .dataframe tbody tr th {\n",
       "        vertical-align: top;\n",
       "    }\n",
       "\n",
       "    .dataframe thead th {\n",
       "        text-align: right;\n",
       "    }\n",
       "</style>\n",
       "<table border=\"1\" class=\"dataframe\">\n",
       "  <thead>\n",
       "    <tr style=\"text-align: right;\">\n",
       "      <th></th>\n",
       "      <th>numPregnant</th>\n",
       "      <th>glucose</th>\n",
       "      <th>bloodPress</th>\n",
       "      <th>skinThick</th>\n",
       "      <th>insulin</th>\n",
       "      <th>massIndex</th>\n",
       "      <th>pedigree</th>\n",
       "      <th>age</th>\n",
       "      <th>class</th>\n",
       "    </tr>\n",
       "  </thead>\n",
       "  <tbody>\n",
       "    <tr>\n",
       "      <th>0</th>\n",
       "      <td>6</td>\n",
       "      <td>148</td>\n",
       "      <td>72</td>\n",
       "      <td>35</td>\n",
       "      <td>0</td>\n",
       "      <td>33.6</td>\n",
       "      <td>0.627</td>\n",
       "      <td>50</td>\n",
       "      <td>1</td>\n",
       "    </tr>\n",
       "    <tr>\n",
       "      <th>1</th>\n",
       "      <td>1</td>\n",
       "      <td>85</td>\n",
       "      <td>66</td>\n",
       "      <td>29</td>\n",
       "      <td>0</td>\n",
       "      <td>26.6</td>\n",
       "      <td>0.351</td>\n",
       "      <td>31</td>\n",
       "      <td>0</td>\n",
       "    </tr>\n",
       "    <tr>\n",
       "      <th>2</th>\n",
       "      <td>8</td>\n",
       "      <td>183</td>\n",
       "      <td>64</td>\n",
       "      <td>0</td>\n",
       "      <td>0</td>\n",
       "      <td>23.3</td>\n",
       "      <td>0.672</td>\n",
       "      <td>32</td>\n",
       "      <td>1</td>\n",
       "    </tr>\n",
       "    <tr>\n",
       "      <th>3</th>\n",
       "      <td>1</td>\n",
       "      <td>89</td>\n",
       "      <td>66</td>\n",
       "      <td>23</td>\n",
       "      <td>94</td>\n",
       "      <td>28.1</td>\n",
       "      <td>0.167</td>\n",
       "      <td>21</td>\n",
       "      <td>0</td>\n",
       "    </tr>\n",
       "    <tr>\n",
       "      <th>4</th>\n",
       "      <td>0</td>\n",
       "      <td>137</td>\n",
       "      <td>40</td>\n",
       "      <td>35</td>\n",
       "      <td>168</td>\n",
       "      <td>43.1</td>\n",
       "      <td>2.288</td>\n",
       "      <td>33</td>\n",
       "      <td>1</td>\n",
       "    </tr>\n",
       "  </tbody>\n",
       "</table>\n",
       "</div>"
      ],
      "text/plain": [
       "   numPregnant  glucose  bloodPress  skinThick  insulin  massIndex  pedigree  \\\n",
       "0            6      148          72         35        0       33.6     0.627   \n",
       "1            1       85          66         29        0       26.6     0.351   \n",
       "2            8      183          64          0        0       23.3     0.672   \n",
       "3            1       89          66         23       94       28.1     0.167   \n",
       "4            0      137          40         35      168       43.1     2.288   \n",
       "\n",
       "   age  class  \n",
       "0   50      1  \n",
       "1   31      0  \n",
       "2   32      1  \n",
       "3   21      0  \n",
       "4   33      1  "
      ]
     },
     "execution_count": 5,
     "metadata": {},
     "output_type": "execute_result"
    }
   ],
   "source": [
    "from copy import copy\n",
    "df2 = copy(df)\n",
    "# substitute strings by numbers: yes==>1, no==>0\n",
    "df2['class'] = df2['class'].replace('yes', value=1)\n",
    "df2['class'] = df2['class'].replace('no', value=0)\n",
    "df2.head()"
   ]
  },
  {
   "cell_type": "markdown",
   "metadata": {},
   "source": [
    "We will now separate the data in two sets: training set and test set.\n",
    "The idea is to use the test set as a way to validate how good the processing \n",
    "of our training data has been."
   ]
  },
  {
   "cell_type": "code",
   "execution_count": 10,
   "metadata": {},
   "outputs": [],
   "source": [
    "import numpy as np\n",
    "\n",
    "# a fifth of the data used to test\n",
    "num_test_data = len(df2) // 5 \n",
    "\n",
    "# select a random permutation \n",
    "indices = np.random.permutation(len(df2))\n",
    "X2 = df2[feature_names].values\n",
    "y2 = df2['class'].values\n",
    "# training samples:\n",
    "X_train = X2[indices[:-num_test_data]]\n",
    "y_train = y2[indices[:-num_test_data]]\n",
    "# test samples:\n",
    "X_test = X2[indices[-num_test_data:]]\n",
    "y_test = y2[indices[-num_test_data:]]"
   ]
  },
  {
   "cell_type": "markdown",
   "metadata": {},
   "source": [
    "## Standardization"
   ]
  },
  {
   "cell_type": "markdown",
   "metadata": {},
   "source": [
    "By standarizing the values we expect that Knn will give better results this time as the distances are of the same magnitude for every attribute."
   ]
  },
  {
   "cell_type": "code",
   "execution_count": 46,
   "metadata": {},
   "outputs": [
    {
     "data": {
      "text/html": [
       "<div>\n",
       "<style scoped>\n",
       "    .dataframe tbody tr th:only-of-type {\n",
       "        vertical-align: middle;\n",
       "    }\n",
       "\n",
       "    .dataframe tbody tr th {\n",
       "        vertical-align: top;\n",
       "    }\n",
       "\n",
       "    .dataframe thead th {\n",
       "        text-align: right;\n",
       "    }\n",
       "</style>\n",
       "<table border=\"1\" class=\"dataframe\">\n",
       "  <thead>\n",
       "    <tr style=\"text-align: right;\">\n",
       "      <th></th>\n",
       "      <th>numPregnant</th>\n",
       "      <th>glucose</th>\n",
       "      <th>bloodPress</th>\n",
       "      <th>skinThick</th>\n",
       "      <th>insulin</th>\n",
       "      <th>massIndex</th>\n",
       "      <th>pedigree</th>\n",
       "      <th>age</th>\n",
       "      <th>class</th>\n",
       "    </tr>\n",
       "  </thead>\n",
       "  <tbody>\n",
       "    <tr>\n",
       "      <th>0</th>\n",
       "      <td>0.639947</td>\n",
       "      <td>0.848324</td>\n",
       "      <td>0.149641</td>\n",
       "      <td>0.907270</td>\n",
       "      <td>-0.692891</td>\n",
       "      <td>0.204013</td>\n",
       "      <td>0.468492</td>\n",
       "      <td>1.425995</td>\n",
       "      <td>1</td>\n",
       "    </tr>\n",
       "    <tr>\n",
       "      <th>1</th>\n",
       "      <td>-0.844885</td>\n",
       "      <td>-1.123396</td>\n",
       "      <td>-0.160546</td>\n",
       "      <td>0.530902</td>\n",
       "      <td>-0.692891</td>\n",
       "      <td>-0.684422</td>\n",
       "      <td>-0.365061</td>\n",
       "      <td>-0.190672</td>\n",
       "      <td>0</td>\n",
       "    </tr>\n",
       "    <tr>\n",
       "      <th>2</th>\n",
       "      <td>1.233880</td>\n",
       "      <td>1.943724</td>\n",
       "      <td>-0.263941</td>\n",
       "      <td>-1.288212</td>\n",
       "      <td>-0.692891</td>\n",
       "      <td>-1.103255</td>\n",
       "      <td>0.604397</td>\n",
       "      <td>-0.105584</td>\n",
       "      <td>1</td>\n",
       "    </tr>\n",
       "    <tr>\n",
       "      <th>3</th>\n",
       "      <td>-0.844885</td>\n",
       "      <td>-0.998208</td>\n",
       "      <td>-0.160546</td>\n",
       "      <td>0.154533</td>\n",
       "      <td>0.123302</td>\n",
       "      <td>-0.494043</td>\n",
       "      <td>-0.920763</td>\n",
       "      <td>-1.041549</td>\n",
       "      <td>0</td>\n",
       "    </tr>\n",
       "    <tr>\n",
       "      <th>4</th>\n",
       "      <td>-1.141852</td>\n",
       "      <td>0.504055</td>\n",
       "      <td>-1.504687</td>\n",
       "      <td>0.907270</td>\n",
       "      <td>0.765836</td>\n",
       "      <td>1.409746</td>\n",
       "      <td>5.484909</td>\n",
       "      <td>-0.020496</td>\n",
       "      <td>1</td>\n",
       "    </tr>\n",
       "    <tr>\n",
       "      <th>...</th>\n",
       "      <td>...</td>\n",
       "      <td>...</td>\n",
       "      <td>...</td>\n",
       "      <td>...</td>\n",
       "      <td>...</td>\n",
       "      <td>...</td>\n",
       "      <td>...</td>\n",
       "      <td>...</td>\n",
       "      <td>...</td>\n",
       "    </tr>\n",
       "    <tr>\n",
       "      <th>763</th>\n",
       "      <td>1.827813</td>\n",
       "      <td>-0.622642</td>\n",
       "      <td>0.356432</td>\n",
       "      <td>1.722735</td>\n",
       "      <td>0.870031</td>\n",
       "      <td>0.115169</td>\n",
       "      <td>-0.908682</td>\n",
       "      <td>2.532136</td>\n",
       "      <td>0</td>\n",
       "    </tr>\n",
       "    <tr>\n",
       "      <th>764</th>\n",
       "      <td>-0.547919</td>\n",
       "      <td>0.034598</td>\n",
       "      <td>0.046245</td>\n",
       "      <td>0.405445</td>\n",
       "      <td>-0.692891</td>\n",
       "      <td>0.610154</td>\n",
       "      <td>-0.398282</td>\n",
       "      <td>-0.531023</td>\n",
       "      <td>0</td>\n",
       "    </tr>\n",
       "    <tr>\n",
       "      <th>765</th>\n",
       "      <td>0.342981</td>\n",
       "      <td>0.003301</td>\n",
       "      <td>0.149641</td>\n",
       "      <td>0.154533</td>\n",
       "      <td>0.279594</td>\n",
       "      <td>-0.735190</td>\n",
       "      <td>-0.685193</td>\n",
       "      <td>-0.275760</td>\n",
       "      <td>0</td>\n",
       "    </tr>\n",
       "    <tr>\n",
       "      <th>766</th>\n",
       "      <td>-0.844885</td>\n",
       "      <td>0.159787</td>\n",
       "      <td>-0.470732</td>\n",
       "      <td>-1.288212</td>\n",
       "      <td>-0.692891</td>\n",
       "      <td>-0.240205</td>\n",
       "      <td>-0.371101</td>\n",
       "      <td>1.170732</td>\n",
       "      <td>1</td>\n",
       "    </tr>\n",
       "    <tr>\n",
       "      <th>767</th>\n",
       "      <td>-0.844885</td>\n",
       "      <td>-0.873019</td>\n",
       "      <td>0.046245</td>\n",
       "      <td>0.656358</td>\n",
       "      <td>-0.692891</td>\n",
       "      <td>-0.202129</td>\n",
       "      <td>-0.473785</td>\n",
       "      <td>-0.871374</td>\n",
       "      <td>0</td>\n",
       "    </tr>\n",
       "  </tbody>\n",
       "</table>\n",
       "<p>768 rows × 9 columns</p>\n",
       "</div>"
      ],
      "text/plain": [
       "     numPregnant   glucose  bloodPress  skinThick   insulin  massIndex  \\\n",
       "0       0.639947  0.848324    0.149641   0.907270 -0.692891   0.204013   \n",
       "1      -0.844885 -1.123396   -0.160546   0.530902 -0.692891  -0.684422   \n",
       "2       1.233880  1.943724   -0.263941  -1.288212 -0.692891  -1.103255   \n",
       "3      -0.844885 -0.998208   -0.160546   0.154533  0.123302  -0.494043   \n",
       "4      -1.141852  0.504055   -1.504687   0.907270  0.765836   1.409746   \n",
       "..           ...       ...         ...        ...       ...        ...   \n",
       "763     1.827813 -0.622642    0.356432   1.722735  0.870031   0.115169   \n",
       "764    -0.547919  0.034598    0.046245   0.405445 -0.692891   0.610154   \n",
       "765     0.342981  0.003301    0.149641   0.154533  0.279594  -0.735190   \n",
       "766    -0.844885  0.159787   -0.470732  -1.288212 -0.692891  -0.240205   \n",
       "767    -0.844885 -0.873019    0.046245   0.656358 -0.692891  -0.202129   \n",
       "\n",
       "     pedigree       age  class  \n",
       "0    0.468492  1.425995      1  \n",
       "1   -0.365061 -0.190672      0  \n",
       "2    0.604397 -0.105584      1  \n",
       "3   -0.920763 -1.041549      0  \n",
       "4    5.484909 -0.020496      1  \n",
       "..        ...       ...    ...  \n",
       "763 -0.908682  2.532136      0  \n",
       "764 -0.398282 -0.531023      0  \n",
       "765 -0.685193 -0.275760      0  \n",
       "766 -0.371101  1.170732      1  \n",
       "767 -0.473785 -0.871374      0  \n",
       "\n",
       "[768 rows x 9 columns]"
      ]
     },
     "execution_count": 46,
     "metadata": {},
     "output_type": "execute_result"
    }
   ],
   "source": [
    "from sklearn.preprocessing import StandardScaler\n",
    "scaler = StandardScaler()\n",
    "\n",
    "# the standardized data:\n",
    "df_scaled = pd.DataFrame(data=scaler.fit_transform(df2), columns=df2.columns)\n",
    "df_scaled['class'] = df2['class'] # the class does not have to be standardized\n",
    "\n",
    "X_train_scaled = scaler.fit_transform(X_train)\n",
    "\n",
    "# we also have to standardize the test values, \n",
    "# so that the prediction can be made according to the training data\n",
    "X_test_scaled = scaler.fit_transform(X_test)\n",
    "\n",
    "df_scaled"
   ]
  },
  {
   "cell_type": "code",
   "execution_count": 48,
   "metadata": {},
   "outputs": [
    {
     "name": "stdout",
     "output_type": "stream",
     "text": [
      "Success rate after standardization: 0.7647058823529411\n"
     ]
    }
   ],
   "source": [
    "from sklearn.neighbors import KNeighborsClassifier\n",
    "\n",
    "k_neighbors_classifier = KNeighborsClassifier()\n",
    "k_neighbors_classifier.fit(X=X_train_scaled, y=y_train)\n",
    "prediction = k_neighbors_classifier.predict(X=X_test_scaled)\n",
    "success_rate = np.sum(prediction==y_test) / len(y_test)\n",
    "\n",
    "print(f\"Success rate after standardization: {success_rate}\")"
   ]
  },
  {
   "cell_type": "markdown",
   "metadata": {},
   "source": [
    "The results are basically the same as the previously observed ones, which were done without using standardization. We think that internally, the method fit (for a Knn classfier) may be apllying some kind of standardization."
   ]
  },
  {
   "cell_type": "markdown",
   "metadata": {},
   "source": [
    "## Outliers"
   ]
  },
  {
   "cell_type": "markdown",
   "metadata": {},
   "source": [
    "In this part we will deal with atypical data observations. It is worth noticing that there is no difference on using the original data (`df`) or the rescaled one (`df_scaled`) as both will present the same outliers. The next two boxplots (usefull for detecting outliers) show that both data sets present the same shape although the values are not equal (the second data set has been rescaled).\n",
    "\n",
    "Removing outliers will not affect all classifiers in the same way. For instace, an outlier will not be significant when considering more than a neighbour in Knn. \n",
    "\n"
   ]
  },
  {
   "cell_type": "code",
   "execution_count": 49,
   "metadata": {},
   "outputs": [
    {
     "data": {
      "image/png": "[encoded data removed]",
      "text/plain": [
       "<Figure size 1080x504 with 8 Axes>"
      ]
     },
     "metadata": {
      "needs_background": "light"
     },
     "output_type": "display_data"
    }
   ],
   "source": [
    "# Boxplots of the data without standardization \n",
    "plt.figure(figsize=(15,7))\n",
    "for i,attr in enumerate(feature_names):\n",
    "    plt.subplot(2,4,i+1)\n",
    "    plt.boxplot(data=df,x=df[attr])\n",
    "    plt.ylabel(attr)\n",
    "\n",
    "plt.tight_layout()"
   ]
  },
  {
   "cell_type": "code",
   "execution_count": 50,
   "metadata": {},
   "outputs": [
    {
     "data": {
      "image/png": "[encoded data removed]",
      "text/plain": [
       "<Figure size 1080x504 with 8 Axes>"
      ]
     },
     "metadata": {
      "needs_background": "light"
     },
     "output_type": "display_data"
    }
   ],
   "source": [
    "# Boxplots of the data after standardization \n",
    "plt.figure(figsize=(15,7))\n",
    "for i,attr in enumerate(feature_names):\n",
    "    plt.subplot(2,4,i+1)\n",
    "    plt.boxplot(data=df_scaled,x=df_scaled[attr])\n",
    "    plt.ylabel(attr)\n",
    "\n",
    "plt.tight_layout()"
   ]
  },
  {
   "cell_type": "code",
   "execution_count": 51,
   "metadata": {},
   "outputs": [
    {
     "name": "stdout",
     "output_type": "stream",
     "text": [
      "Length of training set before preprocessing: 614\n"
     ]
    },
    {
     "data": {
      "text/html": [
       "<div>\n",
       "<style scoped>\n",
       "    .dataframe tbody tr th:only-of-type {\n",
       "        vertical-align: middle;\n",
       "    }\n",
       "\n",
       "    .dataframe tbody tr th {\n",
       "        vertical-align: top;\n",
       "    }\n",
       "\n",
       "    .dataframe thead th {\n",
       "        text-align: right;\n",
       "    }\n",
       "</style>\n",
       "<table border=\"1\" class=\"dataframe\">\n",
       "  <thead>\n",
       "    <tr style=\"text-align: right;\">\n",
       "      <th></th>\n",
       "      <th>numPregnant</th>\n",
       "      <th>glucose</th>\n",
       "      <th>bloodPress</th>\n",
       "      <th>skinThick</th>\n",
       "      <th>insulin</th>\n",
       "      <th>massIndex</th>\n",
       "      <th>pedigree</th>\n",
       "      <th>age</th>\n",
       "      <th>class</th>\n",
       "    </tr>\n",
       "  </thead>\n",
       "  <tbody>\n",
       "    <tr>\n",
       "      <th>34</th>\n",
       "      <td>10</td>\n",
       "      <td>122</td>\n",
       "      <td>78</td>\n",
       "      <td>31</td>\n",
       "      <td>0</td>\n",
       "      <td>27.6</td>\n",
       "      <td>0.512</td>\n",
       "      <td>45</td>\n",
       "      <td>0</td>\n",
       "    </tr>\n",
       "    <tr>\n",
       "      <th>89</th>\n",
       "      <td>1</td>\n",
       "      <td>107</td>\n",
       "      <td>68</td>\n",
       "      <td>19</td>\n",
       "      <td>0</td>\n",
       "      <td>26.5</td>\n",
       "      <td>0.165</td>\n",
       "      <td>24</td>\n",
       "      <td>0</td>\n",
       "    </tr>\n",
       "    <tr>\n",
       "      <th>680</th>\n",
       "      <td>2</td>\n",
       "      <td>56</td>\n",
       "      <td>56</td>\n",
       "      <td>28</td>\n",
       "      <td>45</td>\n",
       "      <td>24.2</td>\n",
       "      <td>0.332</td>\n",
       "      <td>22</td>\n",
       "      <td>0</td>\n",
       "    </tr>\n",
       "    <tr>\n",
       "      <th>633</th>\n",
       "      <td>1</td>\n",
       "      <td>128</td>\n",
       "      <td>82</td>\n",
       "      <td>17</td>\n",
       "      <td>183</td>\n",
       "      <td>27.5</td>\n",
       "      <td>0.115</td>\n",
       "      <td>22</td>\n",
       "      <td>0</td>\n",
       "    </tr>\n",
       "    <tr>\n",
       "      <th>39</th>\n",
       "      <td>4</td>\n",
       "      <td>111</td>\n",
       "      <td>72</td>\n",
       "      <td>47</td>\n",
       "      <td>207</td>\n",
       "      <td>37.1</td>\n",
       "      <td>1.390</td>\n",
       "      <td>56</td>\n",
       "      <td>1</td>\n",
       "    </tr>\n",
       "    <tr>\n",
       "      <th>...</th>\n",
       "      <td>...</td>\n",
       "      <td>...</td>\n",
       "      <td>...</td>\n",
       "      <td>...</td>\n",
       "      <td>...</td>\n",
       "      <td>...</td>\n",
       "      <td>...</td>\n",
       "      <td>...</td>\n",
       "      <td>...</td>\n",
       "    </tr>\n",
       "    <tr>\n",
       "      <th>482</th>\n",
       "      <td>4</td>\n",
       "      <td>85</td>\n",
       "      <td>58</td>\n",
       "      <td>22</td>\n",
       "      <td>49</td>\n",
       "      <td>27.8</td>\n",
       "      <td>0.306</td>\n",
       "      <td>28</td>\n",
       "      <td>0</td>\n",
       "    </tr>\n",
       "    <tr>\n",
       "      <th>668</th>\n",
       "      <td>6</td>\n",
       "      <td>98</td>\n",
       "      <td>58</td>\n",
       "      <td>33</td>\n",
       "      <td>190</td>\n",
       "      <td>34.0</td>\n",
       "      <td>0.430</td>\n",
       "      <td>43</td>\n",
       "      <td>0</td>\n",
       "    </tr>\n",
       "    <tr>\n",
       "      <th>31</th>\n",
       "      <td>3</td>\n",
       "      <td>158</td>\n",
       "      <td>76</td>\n",
       "      <td>36</td>\n",
       "      <td>245</td>\n",
       "      <td>31.6</td>\n",
       "      <td>0.851</td>\n",
       "      <td>28</td>\n",
       "      <td>1</td>\n",
       "    </tr>\n",
       "    <tr>\n",
       "      <th>171</th>\n",
       "      <td>6</td>\n",
       "      <td>134</td>\n",
       "      <td>70</td>\n",
       "      <td>23</td>\n",
       "      <td>130</td>\n",
       "      <td>35.4</td>\n",
       "      <td>0.542</td>\n",
       "      <td>29</td>\n",
       "      <td>1</td>\n",
       "    </tr>\n",
       "    <tr>\n",
       "      <th>741</th>\n",
       "      <td>3</td>\n",
       "      <td>102</td>\n",
       "      <td>44</td>\n",
       "      <td>20</td>\n",
       "      <td>94</td>\n",
       "      <td>30.8</td>\n",
       "      <td>0.400</td>\n",
       "      <td>26</td>\n",
       "      <td>0</td>\n",
       "    </tr>\n",
       "  </tbody>\n",
       "</table>\n",
       "<p>555 rows × 9 columns</p>\n",
       "</div>"
      ],
      "text/plain": [
       "     numPregnant  glucose  bloodPress  skinThick  insulin  massIndex  \\\n",
       "34            10      122          78         31        0       27.6   \n",
       "89             1      107          68         19        0       26.5   \n",
       "680            2       56          56         28       45       24.2   \n",
       "633            1      128          82         17      183       27.5   \n",
       "39             4      111          72         47      207       37.1   \n",
       "..           ...      ...         ...        ...      ...        ...   \n",
       "482            4       85          58         22       49       27.8   \n",
       "668            6       98          58         33      190       34.0   \n",
       "31             3      158          76         36      245       31.6   \n",
       "171            6      134          70         23      130       35.4   \n",
       "741            3      102          44         20       94       30.8   \n",
       "\n",
       "     pedigree  age  class  \n",
       "34      0.512   45      0  \n",
       "89      0.165   24      0  \n",
       "680     0.332   22      0  \n",
       "633     0.115   22      0  \n",
       "39      1.390   56      1  \n",
       "..        ...  ...    ...  \n",
       "482     0.306   28      0  \n",
       "668     0.430   43      0  \n",
       "31      0.851   28      1  \n",
       "171     0.542   29      1  \n",
       "741     0.400   26      0  \n",
       "\n",
       "[555 rows x 9 columns]"
      ]
     },
     "execution_count": 51,
     "metadata": {},
     "output_type": "execute_result"
    }
   ],
   "source": [
    "# we will now remove the outliers (those further from the mean than 3 times the standard deviation), \n",
    "# to leave out around 5% of the most extreme samples of each column. The removal will ony be made for \n",
    "# the training data.\n",
    "\n",
    "#select training data and test data\n",
    "df_train=df2.sample(frac=0.8) #random state is a seed value\n",
    "df_test=df2.drop(df_train.index)\n",
    "print(\"Length of training set before preprocessing:\",len(df_train))\n",
    "\n",
    "for col_name in feature_names: \n",
    "    mean = df2[col_name].mean()\n",
    "    std = df2[col_name].std()\n",
    "    cut_off = std * 3\n",
    "    lower, upper = mean-cut_off, mean+cut_off\n",
    "    df_train = df_train[(df_train[col_name] < upper) & (df_train[col_name] > lower)]\n",
    "df_train"
   ]
  },
  {
   "cell_type": "code",
   "execution_count": 52,
   "metadata": {},
   "outputs": [
    {
     "name": "stdout",
     "output_type": "stream",
     "text": [
      "There are now 555 samples\n"
     ]
    },
    {
     "data": {
      "image/png": "[encoded data removed]",
      "text/plain": [
       "<Figure size 1080x504 with 8 Axes>"
      ]
     },
     "metadata": {
      "needs_background": "light"
     },
     "output_type": "display_data"
    }
   ],
   "source": [
    "plt.figure(figsize=(15,7))\n",
    "for i,attr in enumerate(feature_names):\n",
    "    plt.subplot(2,4,i+1)\n",
    "    plt.boxplot(data=df_train,x=df_train[attr])\n",
    "    plt.ylabel(attr)\n",
    "\n",
    "print(\"There are now {} samples\".format(len(df_train)))\n",
    "plt.tight_layout()"
   ]
  },
  {
   "cell_type": "code",
   "execution_count": 76,
   "metadata": {},
   "outputs": [
    {
     "name": "stdout",
     "output_type": "stream",
     "text": [
      "Success rate after removing outliers:     0.7337662337662337\n"
     ]
    }
   ],
   "source": [
    "from sklearn.neighbors import KNeighborsClassifier\n",
    "\n",
    "k_neighbors_classifier = KNeighborsClassifier()\n",
    "k_neighbors_classifier.fit(X=df_train[feature_names].values, y=df_train['class'].values)\n",
    "\n",
    "print(f\"Success rate after removing outliers: \\\n",
    "    {k_neighbors_classifier.score(df_test[feature_names].values, df_test['class'].values)}\")\n"
   ]
  },
  {
   "cell_type": "code",
   "execution_count": 28,
   "metadata": {},
   "outputs": [
    {
     "name": "stdout",
     "output_type": "stream",
     "text": [
      "Success rate after removing outliers:     0.7272727272727273\n"
     ]
    }
   ],
   "source": [
    "from sklearn.tree import DecisionTreeClassifier\n",
    "\n",
    "dt_clf = DecisionTreeClassifier()\n",
    "dt_clf.fit(X=df_train[feature_names].values, y=df_train['class'].values)\n",
    "\n",
    "print(f\"Success rate after removing outliers: \\\n",
    "    {dt_clf.score(df_test[feature_names].values, df_test['class'].values)}\")\n"
   ]
  },
  {
   "cell_type": "code",
   "execution_count": 88,
   "metadata": {},
   "outputs": [
    {
     "name": "stdout",
     "output_type": "stream",
     "text": [
      "Success rate after removing outliers:     0.6753246753246753\n"
     ]
    }
   ],
   "source": [
    "from sklearn.neural_network import MLPClassifier\n",
    "\n",
    "mlp_clf = MLPClassifier(max_iter=500)\n",
    "mlp_clf.fit(X=df_train[feature_names].values, y=df_train['class'].values)\n",
    "\n",
    "print(f\"Success rate after removing outliers: \\\n",
    "    {mlp_clf.score(df_test[feature_names].values, df_test['class'].values)}\")\n"
   ]
  },
  {
   "cell_type": "markdown",
   "metadata": {},
   "source": [
    "Again, the results are not much better tan those that we got without preprocessing outliers. So this approach at removing outliers does not seem very effective."
   ]
  },
  {
   "cell_type": "markdown",
   "metadata": {},
   "source": [
    "## Data processing\n",
    "Here we will try to remove missing values and possibly columns, so that the data makes a little sense. But for this, we have to take into account what each column actually means. \n",
    "\n",
    "In the cell which is labled: **Smoothed histograms of each attribute in each class. Color indicates class (\"yes\"/\"no\"):**; it appears that some values have some stange bumps around 0, which could point to missing data in those rows, at least for some of the attributes."
   ]
  },
  {
   "cell_type": "code",
   "execution_count": 6,
   "metadata": {},
   "outputs": [],
   "source": [
    "#select training data and test data\n",
    "df_train=df2.sample(frac=0.8)    # 80% of the data for training\n",
    "df_test=df2.drop(df_train.index) # 20% for testing"
   ]
  },
  {
   "cell_type": "code",
   "execution_count": 7,
   "metadata": {},
   "outputs": [
    {
     "name": "stdout",
     "output_type": "stream",
     "text": [
      "There are no NaN values: True\n",
      "numPregnant     93\n",
      "glucose          2\n",
      "bloodPress      29\n",
      "skinThick      186\n",
      "insulin        294\n",
      "massIndex       11\n",
      "pedigree         0\n",
      "age              0\n",
      "dtype: int64 \n",
      "Training set length: 614\n"
     ]
    }
   ],
   "source": [
    "print(f\"There are no NaN values: {len(df2) == len(df2.dropna())}\")\n",
    "# zero values by columns:\n",
    "num_missing = (df_train[feature_names] == 0).sum()\n",
    "# report the results\n",
    "print(num_missing, '\\nTraining set length:', len(df_train))"
   ]
  },
  {
   "cell_type": "markdown",
   "metadata": {},
   "source": [
    "For attribute 'numPregnant', 0 is an expected value.\n",
    "However, for columns 'glucose', 'bloodPress', 'skinThick', 'insulin' and 'massIndex'; it is not a real value. Therefore, we can consider these values missing data.\n",
    "\n",
    "Columns 'glucose', 'bloodPress' and 'massIndex' have small enough number of missing rows, that we can remove those rows from our training data."
   ]
  },
  {
   "cell_type": "code",
   "execution_count": 8,
   "metadata": {},
   "outputs": [
    {
     "name": "stdout",
     "output_type": "stream",
     "text": [
      "numPregnant     83\n",
      "glucose          0\n",
      "bloodPress       0\n",
      "skinThick      156\n",
      "insulin        260\n",
      "massIndex        0\n",
      "pedigree         0\n",
      "age              0\n",
      "dtype: int64 \n",
      "Training set length: 579\n"
     ]
    }
   ],
   "source": [
    "df_train_trimmed = df_train[\n",
    "      (df_train['glucose'] != 0) \n",
    "    & (df_train['bloodPress'] != 0)\n",
    "    & (df_train['massIndex'] != 0)\n",
    "]\n",
    "\n",
    "num_missing = (df_train_trimmed[feature_names] == 0).sum()\n",
    "# report the results\n",
    "print(num_missing, '\\nTraining set length:', len(df_train_trimmed))"
   ]
  },
  {
   "cell_type": "markdown",
   "metadata": {},
   "source": [
    "Now, let's train and validate the results."
   ]
  },
  {
   "cell_type": "code",
   "execution_count": 9,
   "metadata": {},
   "outputs": [
    {
     "name": "stdout",
     "output_type": "stream",
     "text": [
      "Success rate after removing outliers:     0.7207792207792207\n"
     ]
    }
   ],
   "source": [
    "from sklearn.neighbors import KNeighborsClassifier\n",
    "\n",
    "k_neighbors_classifier = KNeighborsClassifier()\n",
    "k_neighbors_classifier.fit(X=df_train_trimmed[feature_names].values, y=df_train_trimmed['class'].values)\n",
    "\n",
    "print(f\"Success rate after removing outliers: \\\n",
    "    {k_neighbors_classifier.score(df_test[feature_names].values, df_test['class'].values)}\")\n"
   ]
  },
  {
   "cell_type": "code",
   "execution_count": 10,
   "metadata": {},
   "outputs": [
    {
     "name": "stdout",
     "output_type": "stream",
     "text": [
      "Success rate after removing outliers:     0.6948051948051948\n"
     ]
    }
   ],
   "source": [
    "from sklearn.tree import DecisionTreeClassifier\n",
    "\n",
    "dt_clf = DecisionTreeClassifier()\n",
    "dt_clf.fit(X=df_train_trimmed[feature_names].values, y=df_train_trimmed['class'].values)\n",
    "\n",
    "print(f\"Success rate after removing outliers: \\\n",
    "    {dt_clf.score(df_test[feature_names].values, df_test['class'].values)}\")\n"
   ]
  },
  {
   "cell_type": "code",
   "execution_count": 11,
   "metadata": {},
   "outputs": [
    {
     "name": "stdout",
     "output_type": "stream",
     "text": [
      "Success rate after removing outliers:     0.7207792207792207\n"
     ]
    }
   ],
   "source": [
    "from sklearn.neural_network import MLPClassifier\n",
    "\n",
    "mlp_clf = MLPClassifier(max_iter=500)\n",
    "mlp_clf.fit(X=df_train_trimmed[feature_names].values, y=df_train_trimmed['class'].values)\n",
    "\n",
    "print(f\"Success rate after removing outliers: \\\n",
    "    {mlp_clf.score(df_test[feature_names].values, df_test['class'].values)}\")\n"
   ]
  },
  {
   "cell_type": "markdown",
   "metadata": {},
   "source": [
    "The results are still very similar to the results before preprocessing. Now let's change the insulin and skin thickness missing values to the mean of their respective columns. The missing values are so numerous that removing rows would leave us with too few samples."
   ]
  },
  {
   "cell_type": "code",
   "execution_count": 12,
   "metadata": {},
   "outputs": [
    {
     "name": "stdout",
     "output_type": "stream",
     "text": [
      "means: 83.66666666666667 21.236614853195164\n",
      "numPregnant    83\n",
      "glucose         0\n",
      "bloodPress      0\n",
      "skinThick       0\n",
      "insulin         0\n",
      "massIndex       0\n",
      "pedigree        0\n",
      "age             0\n",
      "dtype: int64 \n",
      "Training set length: 579\n"
     ]
    },
    {
     "name": "stderr",
     "output_type": "stream",
     "text": [
      "/tmp/ipykernel_7058/2476621320.py:5: SettingWithCopyWarning: \n",
      "A value is trying to be set on a copy of a slice from a DataFrame.\n",
      "Try using .loc[row_indexer,col_indexer] = value instead\n",
      "\n",
      "See the caveats in the documentation: https://pandas.pydata.org/pandas-docs/stable/user_guide/indexing.html#returning-a-view-versus-a-copy\n",
      "  df_train_trimmed['skinThick'] = df_train_trimmed['skinThick'].replace(0, skin_thick_mean)\n",
      "/tmp/ipykernel_7058/2476621320.py:6: SettingWithCopyWarning: \n",
      "A value is trying to be set on a copy of a slice from a DataFrame.\n",
      "Try using .loc[row_indexer,col_indexer] = value instead\n",
      "\n",
      "See the caveats in the documentation: https://pandas.pydata.org/pandas-docs/stable/user_guide/indexing.html#returning-a-view-versus-a-copy\n",
      "  df_train_trimmed['insulin'] = df_train_trimmed['insulin'].replace(0, insulin_mean)\n"
     ]
    }
   ],
   "source": [
    "insulin_mean = df_train_trimmed['insulin'].mean()\n",
    "skin_thick_mean = df_train_trimmed['skinThick'].mean()\n",
    "print(\"means:\",insulin_mean, skin_thick_mean)\n",
    "\n",
    "df_train_trimmed['skinThick'] = df_train_trimmed['skinThick'].replace(0, skin_thick_mean)\n",
    "df_train_trimmed['insulin'] = df_train_trimmed['insulin'].replace(0, insulin_mean)\n",
    "\n",
    "\n",
    "num_missing = (df_train_trimmed[feature_names] == 0).sum()\n",
    "# report the results\n",
    "print(num_missing, '\\nTraining set length:', len(df_train_trimmed))"
   ]
  },
  {
   "cell_type": "markdown",
   "metadata": {},
   "source": [
    "And now, we check the results."
   ]
  },
  {
   "cell_type": "code",
   "execution_count": 13,
   "metadata": {},
   "outputs": [
    {
     "name": "stdout",
     "output_type": "stream",
     "text": [
      "Success rate after removing outliers:     0.6558441558441559\n"
     ]
    }
   ],
   "source": [
    "from sklearn.neighbors import KNeighborsClassifier\n",
    "\n",
    "k_neighbors_classifier = KNeighborsClassifier()\n",
    "k_neighbors_classifier.fit(X=df_train_trimmed[feature_names].values, y=df_train_trimmed['class'].values)\n",
    "\n",
    "print(f\"Success rate after removing outliers: \\\n",
    "    {k_neighbors_classifier.score(df_test[feature_names].values, df_test['class'].values)}\")\n"
   ]
  },
  {
   "cell_type": "code",
   "execution_count": 14,
   "metadata": {},
   "outputs": [
    {
     "name": "stdout",
     "output_type": "stream",
     "text": [
      "Success rate after removing outliers:     0.6428571428571429\n"
     ]
    }
   ],
   "source": [
    "from sklearn.tree import DecisionTreeClassifier\n",
    "\n",
    "dt_clf = DecisionTreeClassifier()\n",
    "dt_clf.fit(X=df_train_trimmed[feature_names].values, y=df_train_trimmed['class'].values)\n",
    "\n",
    "print(f\"Success rate after removing outliers: \\\n",
    "    {dt_clf.score(df_test[feature_names].values, df_test['class'].values)}\")\n"
   ]
  },
  {
   "cell_type": "code",
   "execution_count": 15,
   "metadata": {},
   "outputs": [
    {
     "name": "stdout",
     "output_type": "stream",
     "text": [
      "Success rate after removing outliers:     0.5974025974025974\n"
     ]
    }
   ],
   "source": [
    "from sklearn.neural_network import MLPClassifier\n",
    "\n",
    "mlp_clf = MLPClassifier(max_iter=500)\n",
    "mlp_clf.fit(X=df_train_trimmed[feature_names].values, y=df_train_trimmed['class'].values)\n",
    "\n",
    "print(f\"Success rate after removing outliers: \\\n",
    "    {mlp_clf.score(df_test[feature_names].values, df_test['class'].values)}\")\n"
   ]
  },
  {
   "cell_type": "markdown",
   "metadata": {},
   "source": [
    "The success rate falls. But now let's try changing the values of the test set so that the missing values no longer occur by replacing them with the mean of the column."
   ]
  },
  {
   "cell_type": "code",
   "execution_count": 16,
   "metadata": {},
   "outputs": [
    {
     "name": "stdout",
     "output_type": "stream",
     "text": [
      "numPregnant    18\n",
      "glucose         0\n",
      "bloodPress      0\n",
      "skinThick       0\n",
      "insulin         0\n",
      "massIndex       0\n",
      "pedigree        0\n",
      "age             0\n",
      "dtype: int64\n"
     ]
    }
   ],
   "source": [
    "not_zero_features = copy(feature_names)\n",
    "not_zero_features.remove('numPregnant')\n",
    "for col in not_zero_features:\n",
    "    df_test[col] = df_test[col].replace(0, df2[col].mean())\n",
    "\n",
    "\n",
    "num_missing = (df_test[feature_names] == 0).sum()\n",
    "# report the results\n",
    "print(num_missing)"
   ]
  },
  {
   "cell_type": "code",
   "execution_count": 17,
   "metadata": {},
   "outputs": [
    {
     "name": "stdout",
     "output_type": "stream",
     "text": [
      "Success rate after removing outliers:     0.7142857142857143\n"
     ]
    }
   ],
   "source": [
    "from sklearn.neighbors import KNeighborsClassifier\n",
    "\n",
    "k_neighbors_classifier = KNeighborsClassifier()\n",
    "k_neighbors_classifier.fit(X=df_train_trimmed[feature_names].values, y=df_train_trimmed['class'].values)\n",
    "\n",
    "print(f\"Success rate after removing outliers: \\\n",
    "    {k_neighbors_classifier.score(df_test[feature_names].values, df_test['class'].values)}\")\n"
   ]
  },
  {
   "cell_type": "code",
   "execution_count": 18,
   "metadata": {},
   "outputs": [
    {
     "name": "stdout",
     "output_type": "stream",
     "text": [
      "Success rate after removing outliers:     0.7142857142857143\n"
     ]
    }
   ],
   "source": [
    "from sklearn.tree import DecisionTreeClassifier\n",
    "\n",
    "dt_clf = DecisionTreeClassifier()\n",
    "dt_clf.fit(X=df_train_trimmed[feature_names].values, y=df_train_trimmed['class'].values)\n",
    "\n",
    "print(f\"Success rate after removing outliers: \\\n",
    "    {dt_clf.score(df_test[feature_names].values, df_test['class'].values)}\")\n"
   ]
  },
  {
   "cell_type": "code",
   "execution_count": 19,
   "metadata": {},
   "outputs": [
    {
     "name": "stdout",
     "output_type": "stream",
     "text": [
      "Success rate after removing outliers:     0.6883116883116883\n"
     ]
    }
   ],
   "source": [
    "from sklearn.neural_network import MLPClassifier\n",
    "\n",
    "mlp_clf = MLPClassifier(max_iter=500)\n",
    "mlp_clf.fit(X=df_train_trimmed[feature_names].values, y=df_train_trimmed['class'].values)\n",
    "\n",
    "print(f\"Success rate after removing outliers: \\\n",
    "    {mlp_clf.score(df_test[feature_names].values, df_test['class'].values)}\")\n"
   ]
  },
  {
   "cell_type": "markdown",
   "metadata": {},
   "source": [
    "The results are very low still. Although replacing missing values in the test set increases the score, it is not an improvement with respect to the results that we had before preprocessing the data."
   ]
  },
  {
   "cell_type": "markdown",
   "metadata": {},
   "source": [
    "# Nested Cross Validation\n",
    " \n",
    "*Do you think that another configuration of the classifier hyperparameters can solve the problem more efficiently?*\n",
    "\n",
    "We have been trying different hyperparameters, but until now we have been choosing kind of blindly, as we are not familiar with which parameters are worth changing in each classifier. So it is very likely that other values would yield much better results. It is worth mentioning that the best hyperparameters for this particular problem may not be the best (even not good at all) for other datasets.  "
   ]
  },
  {
   "cell_type": "code",
   "execution_count": 11,
   "metadata": {},
   "outputs": [],
   "source": [
    "from sklearn.metrics import accuracy_score\n",
    "from sklearn.tree import DecisionTreeClassifier\n",
    "from sklearn.neighbors import KNeighborsClassifier\n",
    "from sklearn.neural_network import MLPClassifier\n",
    "from sklearn.model_selection import GridSearchCV, KFold\n",
    "import numpy as np\n",
    "\n",
    "'''\n",
    "Code adapted from: https://machinelearningmastery.com/nested-cross-validation-for-machine-learning-with-python/\n",
    "The function best_params_NCV (nested-cross validation) returns the best params from a given grid and the \n",
    "score difference between nested .\n",
    "Arguments:\n",
    "    -model: model to be tested\n",
    "    -p_grid: grid of params to be changed (all the combinations are performed)\n",
    "    -df: data to be used\n",
    "    -n_rep: number of times that the NCV is performed\n",
    "Returns:\n",
    "    -best_params: the list of best parameters of all searches\n",
    "    -outer_results: the list of accuracies of each best model when used to predict the test samples\n",
    "'''\n",
    "\n",
    "\n",
    "def best_params_NCV(model, p_grid:dict, df = pd.read_csv(\"pima.csv\"), n_rep=20):\n",
    "  \n",
    "    # Load the dataset\n",
    "    feature_names = list(df.columns)\n",
    "    feature_names.remove('class')\n",
    "    X = df[feature_names].values\n",
    "    y = df['class'].values\n",
    "\n",
    "    # Arrays to store scores\n",
    "    outer_results = list()\n",
    "    best_params = list()\n",
    "    for i in range(n_rep):\n",
    "        # configure the cross-validation procedure\n",
    "        cv_outer = KFold(n_splits=10, shuffle=True, random_state=i)\n",
    "        # Loop for each trial\n",
    "        for train_ix, test_ix in cv_outer.split(X):\n",
    "            # split data\n",
    "            X_train, X_test = X[train_ix, :], X[test_ix, :]\n",
    "            y_train, y_test = y[train_ix], y[test_ix]\n",
    "            # configure the cross-validation procedure\n",
    "            cv_inner = KFold(n_splits=3, shuffle=True, random_state=1)\n",
    "            # define search\n",
    "            search = GridSearchCV(estimator=model, param_grid=p_grid, scoring='accuracy', cv=cv_inner, refit=True)\n",
    "            \n",
    "            # execute search\n",
    "            result = search.fit(X_train, y_train)\n",
    "            # get the best performing model fit on the whole training set\n",
    "            best_model = result.best_estimator_\n",
    "            # evaluate model on the hold out dataset\n",
    "            yhat = best_model.predict(X_test)\n",
    "            # evaluate the model\n",
    "            acc = accuracy_score(y_test, yhat)\n",
    "            \n",
    "            # store the result and the best parameters\n",
    "            outer_results.append(acc)\n",
    "            best_params.append(result.best_params_)\n",
    "            # report progress\n",
    "            #print('>acc=%.3f, est=%.3f, cfg=%s' % (acc, result.best_score_, result.best_params_))\n",
    "\n",
    "    # summarize the estimated performance of the model\n",
    "    print('Accuracy mean +/- std: %.3f +/- (%.3f)' % (np.mean(outer_results), np.std(outer_results)))\n",
    "    \n",
    "    return best_params, outer_results "
   ]
  },
  {
   "cell_type": "markdown",
   "metadata": {},
   "source": [
    "Now we will se which configuration of the hyperparameters best predicts the data that we have. Of course, if the data changes, the optimal hyperparameters will also change."
   ]
  },
  {
   "cell_type": "code",
   "execution_count": 11,
   "metadata": {},
   "outputs": [
    {
     "name": "stdout",
     "output_type": "stream",
     "text": [
      "Accuracy mean +/- std: 0.736 +/- (0.048)\n"
     ]
    }
   ],
   "source": [
    "# decision tree:\n",
    "p_grid = {\"criterion\":[\"gini\",\"entropy\"],\"max_depth\":[2,3,4,5,6,7]}\n",
    "dt_best_params, dt_accuracy = best_params_NCV(DecisionTreeClassifier(), p_grid)"
   ]
  },
  {
   "cell_type": "code",
   "execution_count": 12,
   "metadata": {},
   "outputs": [
    {
     "name": "stdout",
     "output_type": "stream",
     "text": [
      "The best configuration from {'criterion': ['gini', 'entropy'], 'max_depth': [2, 3, 4, 5, 6, 7]} for the decision tree classifier is ('gini', 2).\n",
      "The best configuration for the criterion of the decision tree classifier is gini.\n",
      "The best configuration for the max_depth of the decision tree classifier is 2.\n",
      "The highest accuracy achieved is: 0.8311688311688312\n"
     ]
    }
   ],
   "source": [
    "from statistics import mode\n",
    "print(f\"The best configuration from {p_grid} for the decision tree classifier is {mode([tuple(i.values()) for i in dt_best_params])}.\")\n",
    "print(f\"The best configuration for the criterion of the decision tree classifier is {mode([tuple(i.values())[0] for i in dt_best_params])}.\")\n",
    "print(f\"The best configuration for the max_depth of the decision tree classifier is {mode([tuple(i.values())[1] for i in dt_best_params])}.\")\n",
    "print(f\"The highest accuracy achieved is: {np.max(dt_accuracy)}\")\n"
   ]
  },
  {
   "cell_type": "markdown",
   "metadata": {},
   "source": [
    "For the decision tree, we have decided to see the difference in performance of the depth of the tree, and of the criterion used to select the atribute for the root of each subtree. The results regarding the criterion probably depend a lot on the problem. But as we have seen in class, usually lower maximum depths perform better when tested with data unknown at training, mainly because lower maximum depths avoid overfitting the model to the training data.\n",
    "\n",
    "Now, we can observe that the score that we get with the best model in the iterations has a value of more than 83%. This is a much better result than we got in the previous sections."
   ]
  },
  {
   "cell_type": "code",
   "execution_count": 13,
   "metadata": {},
   "outputs": [
    {
     "name": "stdout",
     "output_type": "stream",
     "text": [
      "Accuracy mean +/- std: 0.747 +/- (0.047)\n"
     ]
    }
   ],
   "source": [
    "# Knn\n",
    "p_grid = {\"n_neighbors\":list(range(3,26,2)),\"weights\":[\"uniform\", \"distance\"], \"p\":[1,2]}\n",
    "knn_best_params, knn_accuracy = best_params_NCV(KNeighborsClassifier(), p_grid)"
   ]
  },
  {
   "cell_type": "code",
   "execution_count": 14,
   "metadata": {},
   "outputs": [
    {
     "name": "stdout",
     "output_type": "stream",
     "text": [
      "The best configuration from {'n_neighbors': [3, 5, 7, 9, 11, 13, 15, 17, 19], 'weights': ['uniform', 'distance'], 'p': [1, 2]} for the Knn classifier is (19, 1, 'distance').\n",
      "The best configuration for K in the Knn classifier is 11.\n",
      "The best configuration for weights of the Knn classifier is 1.\n",
      "The highest accuracy achieved is: 0.8701298701298701\n"
     ]
    }
   ],
   "source": [
    "from statistics import mode\n",
    "print(f\"The best configuration from {p_grid} for the Knn classifier is {mode([tuple(i.values()) for i in knn_best_params])}.\")\n",
    "print(f\"The best configuration for K in the Knn classifier is {mode([tuple(i.values())[0] for i in knn_best_params])}.\")\n",
    "print(f\"The best configuration for weights of the Knn classifier is {mode([tuple(i.values())[1] for i in knn_best_params])}.\")\n",
    "print(f\"The highest accuracy achieved is: {np.max(knn_accuracy)}\")\n"
   ]
  },
  {
   "cell_type": "markdown",
   "metadata": {},
   "source": [
    "In the Knn, we of course use the n_neighbors hyperparameter for the grid. Another hyperparameters that we have selected is the p of the Minkowski distances and the weight function used in prediction. The optimal K in the Knn classifier will be quite low, as the number of samples is quite high (>500); that is why we only test $K\\in\\{3, 5, ... ,25 \\}$. \n",
    "\n",
    "The best result achieved with the optimal hyperparameters during the NCV with the test values is the highest that we have gotten until now. The best model that we get here has: `weights = 'distance'`, `p=1` and `K = 19`. Although if we search for the best K over all the best models, `K = 11` is the most common one among them."
   ]
  },
  {
   "cell_type": "code",
   "execution_count": 12,
   "metadata": {},
   "outputs": [
    {
     "name": "stdout",
     "output_type": "stream",
     "text": [
      "Accuracy mean +/- std: 0.703 +/- (0.057)\n"
     ]
    }
   ],
   "source": [
    "# MLP\n",
    "\n",
    "p_grid = {\"alpha\":[0, 0.001, 0.01],\"hidden_layer_sizes\":[(100,), (50,), (20,), (16,16), (25,16), (25,25)]}\n",
    "with warnings.catch_warnings(record=True) as wlist:\n",
    "    warnings.simplefilter(\"always\",UserWarning)\n",
    "    mlp_best_params, mpl_accuracy = best_params_NCV(MLPClassifier(max_iter=500), p_grid, n_rep=5)"
   ]
  },
  {
   "cell_type": "code",
   "execution_count": 15,
   "metadata": {},
   "outputs": [
    {
     "name": "stdout",
     "output_type": "stream",
     "text": [
      "Stochastic Optimizer: Maximum iterations (500) reached and the optimization hasn't converged yet.\n"
     ]
    }
   ],
   "source": [
    "for w_message in set([str(w.message) for w in wlist]):\n",
    "    print(w_message)"
   ]
  },
  {
   "cell_type": "markdown",
   "metadata": {},
   "source": [
    "As it has happened before in this notebook, the MLP may fail to converge in some ocassions. This time, it just happened once. (We have tried 18 different hyperparameters configurations, which with the NCV procedure that we have coded that results in $10*3*18$ different training configurations -- parameters and training values --  for each of the n_reps of the `best_params_NCV` function)."
   ]
  },
  {
   "cell_type": "code",
   "execution_count": 13,
   "metadata": {},
   "outputs": [
    {
     "name": "stdout",
     "output_type": "stream",
     "text": [
      "The best configuration from {'alpha': [0, 0.001, 0.01], 'hidden_layer_sizes': [(100,), (50,), (20,), (16, 16), (25, 16), (25, 25)]} for the MLP classifier is (0.01, (100,)).\n",
      "The best configuration for alpha in the MLP classifier is 0.001.\n",
      "The best configuration for hidde_layer_sizes in the MLP classifier is (100,).\n",
      "The highest accuracy achieved is: 0.8311688311688312\n"
     ]
    }
   ],
   "source": [
    "from statistics import mode\n",
    "print(f\"The best configuration from {p_grid} for the MLP classifier is {mode([tuple(i.values()) for i in mlp_best_params])}.\")\n",
    "print(f\"The best configuration for alpha in the MLP classifier is {mode([tuple(i.values())[0] for i in mlp_best_params])}.\")\n",
    "print(f\"The best configuration for hidde_layer_sizes in the MLP classifier is {mode([tuple(i.values())[1] for i in mlp_best_params])}.\")\n",
    "print(f\"The highest accuracy achieved is: {np.max(mpl_accuracy)}\")\n"
   ]
  },
  {
   "cell_type": "markdown",
   "metadata": {},
   "source": [
    "Finally, for the MLP classifier, we are changing the 'alhpa' value, which denotes the weight given to the L2 penalty (regularization) used for the error. Of course, we are also changing the configuration of the hidden layers. \n",
    "\n",
    "We have tried some configurations of one and two layers, with different sizes for each layer, but it is very tedious to execute with this classifier, as it takes a very long time, so we have not been able to test as many layer configurations as we would have wanted. There are quite a lot of values, and it appears that the best parameters out of the ones that we have tested contain the layer configuration with the highest number of neurons. Having observed this, we should try to increase the number of neurons to see if higher values could increase the accuracy; but as we have said, the tests take too much time.\n",
    "\n",
    "For the third time, the best performance of one of the best models improves quite a lot compared to the accuracies achieved in the previous sections."
   ]
  }
 ],
 "metadata": {
  "interpreter": {
   "hash": "0dbd966671c3cb64fd6fac914fef272c38137d44755e3f085c354ea95469ec22"
  },
  "kernelspec": {
   "display_name": "Python 3.10.4 ('aipr')",
   "language": "python",
   "name": "python3"
  },
  "language_info": {
   "codemirror_mode": {
    "name": "ipython",
    "version": 3
   },
   "file_extension": ".py",
   "mimetype": "text/x-python",
   "name": "python",
   "nbconvert_exporter": "python",
   "pygments_lexer": "ipython3",
   "version": "3.10.4"
  }
 },
 "nbformat": 4,
 "nbformat_minor": 1
}
