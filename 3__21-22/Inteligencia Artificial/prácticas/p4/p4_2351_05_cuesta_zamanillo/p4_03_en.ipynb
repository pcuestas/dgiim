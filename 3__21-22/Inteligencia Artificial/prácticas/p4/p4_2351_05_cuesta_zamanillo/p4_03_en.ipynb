{
 "cells": [
  {
   "cell_type": "markdown",
   "metadata": {
    "collapsed": true
   },
   "source": [
    "# AI Lab Assignment 4"
   ]
  },
  {
   "cell_type": "markdown",
   "metadata": {
    "collapsed": true
   },
   "source": [
    "# 3. Text processing and unbalanced data (4.5 points)"
   ]
  },
  {
   "cell_type": "code",
   "execution_count": 2,
   "metadata": {},
   "outputs": [
    {
     "data": {
      "text/html": [
       "<div>\n",
       "<style scoped>\n",
       "    .dataframe tbody tr th:only-of-type {\n",
       "        vertical-align: middle;\n",
       "    }\n",
       "\n",
       "    .dataframe tbody tr th {\n",
       "        vertical-align: top;\n",
       "    }\n",
       "\n",
       "    .dataframe thead th {\n",
       "        text-align: right;\n",
       "    }\n",
       "</style>\n",
       "<table border=\"1\" class=\"dataframe\">\n",
       "  <thead>\n",
       "    <tr style=\"text-align: right;\">\n",
       "      <th></th>\n",
       "      <th>SentenceId</th>\n",
       "      <th>Phrase</th>\n",
       "      <th>Sentiment</th>\n",
       "    </tr>\n",
       "    <tr>\n",
       "      <th>PhraseId</th>\n",
       "      <th></th>\n",
       "      <th></th>\n",
       "      <th></th>\n",
       "    </tr>\n",
       "  </thead>\n",
       "  <tbody>\n",
       "    <tr>\n",
       "      <th>1</th>\n",
       "      <td>1</td>\n",
       "      <td>A series of escapades demonstrating the adage that what is good for the goose is also good for the gander , some of which occasionally amuses but none of which amounts to much of a story .</td>\n",
       "      <td>1</td>\n",
       "    </tr>\n",
       "    <tr>\n",
       "      <th>2</th>\n",
       "      <td>1</td>\n",
       "      <td>A series of escapades demonstrating the adage that what is good for the goose</td>\n",
       "      <td>2</td>\n",
       "    </tr>\n",
       "  </tbody>\n",
       "</table>\n",
       "</div>"
      ],
      "text/plain": [
       "          SentenceId  \\\n",
       "PhraseId               \n",
       "1                  1   \n",
       "2                  1   \n",
       "\n",
       "                                                                                                                                                                                                Phrase  \\\n",
       "PhraseId                                                                                                                                                                                                 \n",
       "1         A series of escapades demonstrating the adage that what is good for the goose is also good for the gander , some of which occasionally amuses but none of which amounts to much of a story .   \n",
       "2                                                                                                                        A series of escapades demonstrating the adage that what is good for the goose   \n",
       "\n",
       "          Sentiment  \n",
       "PhraseId             \n",
       "1                 1  \n",
       "2                 2  "
      ]
     },
     "execution_count": 2,
     "metadata": {},
     "output_type": "execute_result"
    }
   ],
   "source": [
    "import pandas as pd\n",
    "\n",
    "df = pd.read_csv(\"train.tsv\", sep='\\t', index_col=\"PhraseId\")\n",
    "pd.set_option('display.max_colwidth', None)\n",
    "df.head(2)"
   ]
  },
  {
   "cell_type": "markdown",
   "metadata": {},
   "source": [
    "We will use a dataset to predict the sentiment of some text from tagged phrases.\n",
    "Labels for sentiments are:\n",
    "\n",
    "* 0 - negative\n",
    "* 1 - somewhat negative\n",
    "* 2 - neutral\n",
    "* 3 - somewhat positive\n",
    "* 4 - positive\n",
    "\n",
    "More information [here](https://www.kaggle.com/c/sentiment-analysis-on-movie-reviews).\n",
    "\n",
    "\n",
    "Throughout this exercise we will see different ways of processing the text and balancing the classes to be learned."
   ]
  },
  {
   "cell_type": "code",
   "execution_count": 3,
   "metadata": {},
   "outputs": [],
   "source": [
    "from sklearn.model_selection import train_test_split\n",
    "\n",
    "train, test = train_test_split(df[[\"Phrase\", \"Sentiment\"]], random_state=0)\n",
    "X_train = train.Phrase\n",
    "X_test = test.Phrase\n",
    "y_train = train.Sentiment\n",
    "y_test = test.Sentiment"
   ]
  },
  {
   "cell_type": "markdown",
   "metadata": {},
   "source": [
    "**Basic Models**"
   ]
  },
  {
   "cell_type": "markdown",
   "metadata": {},
   "source": [
    "We are going to start with a *pipe* of very basic models and see if they have any issues."
   ]
  },
  {
   "cell_type": "code",
   "execution_count": 4,
   "metadata": {},
   "outputs": [],
   "source": [
    "from sklearn.feature_extraction.text import CountVectorizer\n",
    "from sklearn.pipeline import make_pipeline\n",
    "from sklearn.tree import DecisionTreeClassifier\n",
    "\n",
    "count_vectorizer = CountVectorizer(max_features=1000)\n",
    "decision_tree = DecisionTreeClassifier(criterion='entropy', max_depth=2)\n",
    "pipe = make_pipeline(count_vectorizer,decision_tree)"
   ]
  },
  {
   "cell_type": "code",
   "execution_count": 5,
   "metadata": {},
   "outputs": [],
   "source": [
    "from sklearn.metrics import accuracy_score\n",
    "X_train_original =  train.Phrase\n",
    "y_train_original =  train.Sentiment\n",
    "\n",
    "def get_accuracy(pipe, X_train=X_train_original, y_train=y_train_original):\n",
    "    pipe.fit(X_train, y_train)\n",
    "    y_pred = pipe.predict(X_test)\n",
    "    return round(accuracy_score(y_pred, y_test),3)"
   ]
  },
  {
   "cell_type": "code",
   "execution_count": 10,
   "metadata": {},
   "outputs": [
    {
     "data": {
      "text/plain": [
       "0.515"
      ]
     },
     "execution_count": 10,
     "metadata": {},
     "output_type": "execute_result"
    }
   ],
   "source": [
    "get_accuracy(pipe)"
   ]
  },
  {
   "cell_type": "markdown",
   "metadata": {},
   "source": [
    "Let's see which classes are actually being predicted"
   ]
  },
  {
   "cell_type": "code",
   "execution_count": 8,
   "metadata": {},
   "outputs": [
    {
     "data": {
      "text/plain": [
       "2    0.51\n",
       "3    0.21\n",
       "1    0.17\n",
       "4    0.06\n",
       "0    0.04\n",
       "Name: Sentiment, dtype: float64"
      ]
     },
     "execution_count": 8,
     "metadata": {},
     "output_type": "execute_result"
    }
   ],
   "source": [
    "# Training labels\n",
    "round(pd.Series(y_train).value_counts(normalize=True),2)"
   ]
  },
  {
   "cell_type": "code",
   "execution_count": 7,
   "metadata": {},
   "outputs": [
    {
     "data": {
      "text/plain": [
       "2    79582\n",
       "3    32927\n",
       "1    27273\n",
       "4     9206\n",
       "0     7072\n",
       "Name: Sentiment, dtype: int64"
      ]
     },
     "execution_count": 7,
     "metadata": {},
     "output_type": "execute_result"
    }
   ],
   "source": [
    "df.Sentiment.value_counts()"
   ]
  },
  {
   "cell_type": "code",
   "execution_count": 11,
   "metadata": {},
   "outputs": [
    {
     "data": {
      "text/plain": [
       "2    0.97\n",
       "3    0.03\n",
       "dtype: float64"
      ]
     },
     "execution_count": 11,
     "metadata": {},
     "output_type": "execute_result"
    }
   ],
   "source": [
    "# Predicted classes\n",
    "y_pred = pipe.predict(X_test)\n",
    "round(pd.Series(y_pred).value_counts(normalize=True),2)"
   ]
  },
  {
   "cell_type": "markdown",
   "metadata": {},
   "source": [
    "That is: being an unbalanced problem, the prediction is clearly biased towards one of the classes.\n",
    "\n",
    "This can also be seen by analyzing the **confusion matrix**"
   ]
  },
  {
   "cell_type": "code",
   "execution_count": 12,
   "metadata": {},
   "outputs": [
    {
     "data": {
      "image/png": "[encoded data removed]",
      "text/plain": [
       "<Figure size 720x360 with 2 Axes>"
      ]
     },
     "metadata": {
      "needs_background": "light"
     },
     "output_type": "display_data"
    }
   ],
   "source": [
    "import numpy as np\n",
    "from sklearn.metrics import confusion_matrix\n",
    "import matplotlib.pyplot as plt\n",
    "\n",
    "def plot_confusion_matrix(pipe, title='Confusion matrix'):\n",
    "    ticks = np.unique(y_test)\n",
    "    labels = [('class '+ str(tick)) for tick in ticks]\n",
    "    y_pred = pipe.predict(X_test)\n",
    "    cm = confusion_matrix(y_test, y_pred)\n",
    "    fig = plt.figure(figsize=(10, 5))\n",
    "    ax = fig.add_subplot(111)\n",
    "    cax = ax.matshow(cm)\n",
    "    plt.title(title)\n",
    "    fig.colorbar(cax)\n",
    "    ax.set_xticks(ticks)\n",
    "    ax.set_xticklabels(labels)\n",
    "    ax.set_yticks(ticks)\n",
    "    ax.set_yticklabels(labels)\n",
    "    plt.xlabel('Predicted')\n",
    "    plt.ylabel('True')\n",
    "    plt.show()\n",
    "\n",
    "plot_confusion_matrix(pipe)"
   ]
  },
  {
   "cell_type": "markdown",
   "metadata": {},
   "source": [
    "## Changing models and data processing"
   ]
  },
  {
   "cell_type": "markdown",
   "metadata": {},
   "source": [
    "Analyze if any of the other models seen in previous exercises avoid this problem of unbalanced classes.\n",
    "\n",
    "For example, in the following cell we changed the decision tree classifier and used a KNN instead."
   ]
  },
  {
   "cell_type": "code",
   "execution_count": 10,
   "metadata": {},
   "outputs": [
    {
     "data": {
      "text/plain": [
       "0.564"
      ]
     },
     "execution_count": 10,
     "metadata": {},
     "output_type": "execute_result"
    }
   ],
   "source": [
    "from sklearn.neighbors import KNeighborsClassifier\n",
    "\n",
    "knn = KNeighborsClassifier(n_neighbors=1)\n",
    "pipe_knn = make_pipeline(count_vectorizer,knn)\n",
    "get_accuracy(pipe_knn)"
   ]
  },
  {
   "cell_type": "code",
   "execution_count": 11,
   "metadata": {},
   "outputs": [
    {
     "data": {
      "image/png": "[encoded data removed]",
      "text/plain": [
       "<Figure size 720x360 with 2 Axes>"
      ]
     },
     "metadata": {
      "needs_background": "light"
     },
     "output_type": "display_data"
    }
   ],
   "source": [
    "plot_confusion_matrix(pipe_knn)"
   ]
  },
  {
   "cell_type": "markdown",
   "metadata": {},
   "source": [
    "When analyzing this confussion matrix, we can rapidly say that these results are better than the ones obtained with the decision tree. The reason behind this statement is that this time, the matrix has higher values in the diagonal.\n",
    "\n",
    "Each tile located in the diagonal correspond to correct predictions of a class. Therefore, the higher the values in the diagonal, the better the classifier is predicting. \n",
    "\n",
    "In these plots, higher values are represented with lighter colors."
   ]
  },
  {
   "cell_type": "markdown",
   "metadata": {
    "collapsed": true
   },
   "source": [
    "### Explore multiple models and reply to the following questions:"
   ]
  },
  {
   "cell_type": "markdown",
   "metadata": {},
   "source": [
    "* Which model gives better results?\n",
    "* Are there any parameters of the models that are particularly effective in avoiding imbalance?\n",
    "\n",
    "Note: include as many cells as you need to show the code you used to answer these questions."
   ]
  },
  {
   "cell_type": "code",
   "execution_count": 13,
   "metadata": {},
   "outputs": [
    {
     "data": {
      "text/plain": [
       "0.588"
      ]
     },
     "execution_count": 13,
     "metadata": {},
     "output_type": "execute_result"
    }
   ],
   "source": [
    "from sklearn.linear_model import LogisticRegression\n",
    "\n",
    "log = LogisticRegression(max_iter=1000,)\n",
    "pipe_log = make_pipeline(count_vectorizer,log)\n",
    "get_accuracy(pipe_log)\n"
   ]
  },
  {
   "cell_type": "code",
   "execution_count": 14,
   "metadata": {},
   "outputs": [
    {
     "data": {
      "image/png": "[encoded data removed]",
      "text/plain": [
       "<Figure size 720x360 with 2 Axes>"
      ]
     },
     "metadata": {
      "needs_background": "light"
     },
     "output_type": "display_data"
    }
   ],
   "source": [
    "plot_confusion_matrix(pipe_log)"
   ]
  },
  {
   "cell_type": "markdown",
   "metadata": {},
   "source": [
    "The confussion matrix shows better results than the ones obtained with the decision tree and with the Knn classifier, although the difference is just a 2%. Running MLPClasiffiers is not feasible because it takes too long for making a (reduced) search in its parameter space."
   ]
  },
  {
   "cell_type": "markdown",
   "metadata": {},
   "source": [
    "We are going to try a RandomForestclassifier as proposed in https://elitedatascience.com/imbalanced-classes for unbalanced data sets"
   ]
  },
  {
   "cell_type": "code",
   "execution_count": 13,
   "metadata": {},
   "outputs": [
    {
     "data": {
      "text/plain": [
       "0.606"
      ]
     },
     "execution_count": 13,
     "metadata": {},
     "output_type": "execute_result"
    }
   ],
   "source": [
    "from sklearn.ensemble import RandomForestClassifier\n",
    "\n",
    "clf = RandomForestClassifier()\n",
    "\n",
    "pipe_neuron = make_pipeline(count_vectorizer,clf)\n",
    "get_accuracy(pipe_neuron)"
   ]
  },
  {
   "cell_type": "code",
   "execution_count": 14,
   "metadata": {},
   "outputs": [
    {
     "data": {
      "image/png": "[encoded data removed]",
      "text/plain": [
       "<Figure size 720x360 with 2 Axes>"
      ]
     },
     "metadata": {
      "needs_background": "light"
     },
     "output_type": "display_data"
    }
   ],
   "source": [
    "plot_confusion_matrix(pipe_neuron)"
   ]
  },
  {
   "cell_type": "markdown",
   "metadata": {},
   "source": [
    "Once again, we do not get considerably better results. We are stuck in a 60% acurracy. Now we will try varying the depth of a decision tree."
   ]
  },
  {
   "cell_type": "code",
   "execution_count": 22,
   "metadata": {},
   "outputs": [],
   "source": [
    "x,y = [],[]\n",
    "\n",
    "for depth in range(5,200,5):\n",
    "    clf = DecisionTreeClassifier(max_depth=depth)\n",
    "    pipe_neuron = make_pipeline(count_vectorizer,clf)\n",
    "    x.append(depth)\n",
    "    y.append(get_accuracy(pipe_neuron))"
   ]
  },
  {
   "cell_type": "code",
   "execution_count": 23,
   "metadata": {},
   "outputs": [
    {
     "data": {
      "image/png": "[encoded data removed]",
      "text/plain": [
       "<Figure size 432x288 with 1 Axes>"
      ]
     },
     "metadata": {
      "needs_background": "light"
     },
     "output_type": "display_data"
    }
   ],
   "source": [
    "import matplotlib.pyplot as plt\n",
    "plt.scatter(x, y)\n",
    "plt.show()"
   ]
  },
  {
   "cell_type": "markdown",
   "metadata": {},
   "source": [
    "We see that as we increase the depth, the success rate grows but never above the 60%. As it has happened with other classifiers, 60% seems a barrier. Moreover, increasing the depth of a decision tree is in general a bad choice as it leads to overfitting. "
   ]
  },
  {
   "cell_type": "markdown",
   "metadata": {},
   "source": [
    "Just to try a few more things, let's vary the hyper-parameters `criterion` and `splitter` for a depth of d=25."
   ]
  },
  {
   "cell_type": "code",
   "execution_count": 27,
   "metadata": {},
   "outputs": [
    {
     "name": "stdout",
     "output_type": "stream",
     "text": [
      " Difference of scores: -0.04599999999999993\n"
     ]
    }
   ],
   "source": [
    "score = y[24]\n",
    "clf = DecisionTreeClassifier(max_depth=25, splitter='random')\n",
    "pipe = make_pipeline(count_vectorizer,clf)\n",
    "print(f\" Difference of scores: {get_accuracy(pipe)-score}\")"
   ]
  },
  {
   "cell_type": "code",
   "execution_count": 28,
   "metadata": {},
   "outputs": [
    {
     "name": "stdout",
     "output_type": "stream",
     "text": [
      " Difference of scores: -0.04499999999999993 better\n"
     ]
    }
   ],
   "source": [
    "clf = DecisionTreeClassifier(max_depth=25, criterion='entropy')\n",
    "pipe = make_pipeline(count_vectorizer,clf)\n",
    "print(f\" Difference of scores: {get_accuracy(pipe)-score}\")"
   ]
  },
  {
   "cell_type": "markdown",
   "metadata": {},
   "source": [
    "As we see, varying those parameters results in almost no change. In the next exercise we will experiment with a few more classifiers."
   ]
  },
  {
   "cell_type": "markdown",
   "metadata": {},
   "source": [
    "### Data Processing"
   ]
  },
  {
   "cell_type": "markdown",
   "metadata": {},
   "source": [
    "The first step used in the *pipe* above is very simple: it counts how many times each term appears. Also, it has been limited to a maximum of 1000 dimensions. Try other ways of processing the text and discuss the differences. \n",
    "\n",
    "As an example, the following cell uses a method that considers the frequency of terms ([TfidfVectorizer](https://scikit-learn.org/stable/modules/generated/sklearn.feature_extraction.text.TfidfVectorizer.html) ). The documentation shows that it allows several configurations (removing accents, changing to lowercase, performing more complex transformations, removing common words, etc.)."
   ]
  },
  {
   "cell_type": "code",
   "execution_count": 26,
   "metadata": {},
   "outputs": [
    {
     "name": "stdout",
     "output_type": "stream",
     "text": [
      "0.605\n"
     ]
    },
    {
     "data": {
      "image/png": "[encoded data removed]",
      "text/plain": [
       "<Figure size 720x360 with 2 Axes>"
      ]
     },
     "metadata": {
      "needs_background": "light"
     },
     "output_type": "display_data"
    }
   ],
   "source": [
    "from sklearn.feature_extraction.text import TfidfVectorizer\n",
    "\n",
    "knn = KNeighborsClassifier(n_neighbors=1)\n",
    "tfidf_vectorizer = TfidfVectorizer()\n",
    "# tfidf_vectorizer = TfidfVectorizer(ngram_range=(1,3))\n",
    "pipe_tfidf = make_pipeline(tfidf_vectorizer, knn)\n",
    "print(get_accuracy(pipe_tfidf))\n",
    "plot_confusion_matrix(pipe_tfidf)"
   ]
  },
  {
   "cell_type": "markdown",
   "metadata": {},
   "source": [
    "Try various classifiers and settings for text processing and answer the following questions:\n",
    "\n",
    "* According to your experiments, which processing step has the greatest effect on the results: the classifier or the text processing?\n",
    "* Have you found any type of processing that always improves the results? What hypothesis would you propose to explain this behavior?"
   ]
  },
  {
   "cell_type": "markdown",
   "metadata": {},
   "source": [
    "# Varying the classifiers"
   ]
  },
  {
   "cell_type": "code",
   "execution_count": 32,
   "metadata": {},
   "outputs": [],
   "source": [
    "import numpy as np\n",
    "import pandas as pd\n",
    "import matplotlib.pyplot as plt\n",
    "from sklearn.datasets import make_blobs, make_moons, make_circles\n",
    "from sklearn.model_selection import train_test_split, cross_val_score\n",
    "from sklearn.naive_bayes import GaussianNB\n",
    "from sklearn.neighbors import KNeighborsClassifier\n",
    "from sklearn.tree import DecisionTreeClassifier\n",
    "from sklearn.linear_model import LogisticRegression\n",
    "from sklearn.neural_network import MLPClassifier\n",
    "from sklearn.naive_bayes import *"
   ]
  },
  {
   "cell_type": "code",
   "execution_count": 29,
   "metadata": {},
   "outputs": [
    {
     "name": "stdout",
     "output_type": "stream",
     "text": [
      "0.638\n"
     ]
    },
    {
     "data": {
      "image/png": "[encoded data removed]",
      "text/plain": [
       "<Figure size 720x360 with 2 Axes>"
      ]
     },
     "metadata": {
      "needs_background": "light"
     },
     "output_type": "display_data"
    }
   ],
   "source": [
    "from sklearn.feature_extraction.text import TfidfVectorizer\n",
    "\n",
    "clf = LogisticRegression(max_iter=1000,multi_class='multinomial') \n",
    "# multi_class='multinomial' because our class is not binary \n",
    "\n",
    "tfidf_vectorizer = TfidfVectorizer()\n",
    "pipe_tfidf = make_pipeline(tfidf_vectorizer, clf)\n",
    "print(get_accuracy(pipe_tfidf))\n",
    "plot_confusion_matrix(pipe_tfidf)"
   ]
  },
  {
   "cell_type": "markdown",
   "metadata": {},
   "source": [
    "The logistic classifier gives a good starting point: 63%. This score is above the barrier we had encountered in the previous exercise. Nevertheless, we will try other classifiers.\n",
    "\n",
    "We tried using a neural network, but it took more than an hour to execute. "
   ]
  },
  {
   "cell_type": "markdown",
   "metadata": {},
   "source": [
    "Based on the results from the previous exercise, we will try again Knn with different values of K. This is motivated by the fact that it gave quite better results than a decision tree and its execution time is small enough to allow us try several values for the hyperparameters."
   ]
  },
  {
   "cell_type": "code",
   "execution_count": 66,
   "metadata": {},
   "outputs": [
    {
     "name": "stdout",
     "output_type": "stream",
     "text": [
      "Trying 1 neigbours. Acurracy = 0.605\n",
      "Trying 5 neigbours. Acurracy = 0.619\n",
      "Trying 10 neigbours. Acurracy = 0.594\n",
      "Trying 15 neigbours. Acurracy = 0.557\n",
      "Trying 20 neigbours. Acurracy = 0.537\n"
     ]
    }
   ],
   "source": [
    "from sklearn.feature_extraction.text import TfidfVectorizer\n",
    "\n",
    "for k in [1,5,10,15,20]:\n",
    "    clf = KNeighborsClassifier(n_neighbors=k)\n",
    "    tfidf_vectorizer = TfidfVectorizer()\n",
    "    pipe_tfidf = make_pipeline(tfidf_vectorizer, clf)\n",
    "    print(f\"Trying {k} neigbours. Acurracy = {get_accuracy(pipe_tfidf)}\")"
   ]
  },
  {
   "cell_type": "markdown",
   "metadata": {},
   "source": [
    "Although K=5 seems to give better results, there is no much difference between the different values of K.  Now, we will try with several Naive Bayes classifiers."
   ]
  },
  {
   "cell_type": "code",
   "execution_count": 15,
   "metadata": {},
   "outputs": [
    {
     "name": "stdout",
     "output_type": "stream",
     "text": [
      "0.593\n"
     ]
    },
    {
     "data": {
      "image/png": "[encoded data removed]",
      "text/plain": [
       "<Figure size 720x360 with 2 Axes>"
      ]
     },
     "metadata": {
      "needs_background": "light"
     },
     "output_type": "display_data"
    }
   ],
   "source": [
    "from sklearn.feature_extraction.text import TfidfVectorizer\n",
    "from sklearn.naive_bayes import *\n",
    "clf = BernoulliNB()\n",
    "tfidf_vectorizer = TfidfVectorizer()\n",
    "pipe_tfidf = make_pipeline(tfidf_vectorizer, clf)\n",
    "print(get_accuracy(pipe_tfidf))\n",
    "plot_confusion_matrix(pipe_tfidf,\"BernoulliNB\")\n"
   ]
  },
  {
   "cell_type": "markdown",
   "metadata": {},
   "source": [
    "The result is does not come as a suprise: once again, a result around 60%"
   ]
  },
  {
   "cell_type": "code",
   "execution_count": 14,
   "metadata": {},
   "outputs": [
    {
     "name": "stdout",
     "output_type": "stream",
     "text": [
      "0.587\n"
     ]
    },
    {
     "data": {
      "image/png": "[encoded data removed]",
      "text/plain": [
       "<Figure size 720x360 with 2 Axes>"
      ]
     },
     "metadata": {
      "needs_background": "light"
     },
     "output_type": "display_data"
    }
   ],
   "source": [
    "from sklearn.naive_bayes import *\n",
    "clf = MultinomialNB()\n",
    "tfidf_vectorizer = TfidfVectorizer()\n",
    "pipe_tfidf = make_pipeline(tfidf_vectorizer, clf)\n",
    "print(get_accuracy(pipe_tfidf))\n",
    "plot_confusion_matrix(pipe_tfidf,\"BernoulliNB\")"
   ]
  },
  {
   "cell_type": "code",
   "execution_count": 80,
   "metadata": {},
   "outputs": [
    {
     "name": "stdout",
     "output_type": "stream",
     "text": [
      "0.579\n"
     ]
    },
    {
     "data": {
      "image/png": "[encoded data removed]",
      "text/plain": [
       "<Figure size 720x360 with 2 Axes>"
      ]
     },
     "metadata": {
      "needs_background": "light"
     },
     "output_type": "display_data"
    }
   ],
   "source": [
    "from sklearn.naive_bayes import *\n",
    "clf = ComplementNB()\n",
    "tfidf_vectorizer = TfidfVectorizer()\n",
    "pipe_tfidf = make_pipeline(tfidf_vectorizer, clf)\n",
    "print(get_accuracy(pipe_tfidf))\n",
    "plot_confusion_matrix(pipe_tfidf, \"ComplementNB\")"
   ]
  },
  {
   "cell_type": "markdown",
   "metadata": {},
   "source": [
    "This output is quite intersting. We are still around the barrier of the 60% but the confussion matrix seems to be more diagonal. That is to say, we are getting more correct predictions for instances of class 1 and 3 as we did before. Nevertheless, it is at expense of failing more times in predictions of class 2 which is the majority class. "
   ]
  },
  {
   "cell_type": "markdown",
   "metadata": {},
   "source": [
    "We are going to cary the hyperparameters of this last classifier, the ComplementNB to observe how does the confussion matrix change."
   ]
  },
  {
   "cell_type": "code",
   "execution_count": 81,
   "metadata": {},
   "outputs": [
    {
     "name": "stdout",
     "output_type": "stream",
     "text": [
      "0.54\n"
     ]
    },
    {
     "data": {
      "image/png": "[encoded data removed]",
      "text/plain": [
       "<Figure size 720x360 with 2 Axes>"
      ]
     },
     "metadata": {
      "needs_background": "light"
     },
     "output_type": "display_data"
    }
   ],
   "source": [
    "from sklearn.naive_bayes import *\n",
    "_complementNB = ComplementNB(norm=True, alpha=0.7)\n",
    "tfidf_vectorizer = TfidfVectorizer()\n",
    "pipe_tfidf = make_pipeline(tfidf_vectorizer, _complementNB)\n",
    "print(get_accuracy(pipe_tfidf))\n",
    "plot_confusion_matrix(pipe_tfidf, \"ComplementNB\")"
   ]
  },
  {
   "cell_type": "markdown",
   "metadata": {},
   "source": [
    "### Using ComplementNB and reflecting on the term \"best results\"\n",
    "\n",
    "When plotting the confussion matrix with ComplementNB as the classifiers, the first thing one notices is the green tiles. Until this point, we had not get any better than \"blue\" for classes other than class2. \n",
    "\n",
    "This classifier belongs to the Naive Bayes Classifiers. It differes from the others on how it computes the probability of an attribute given the class, that is to say, P(x_i | c). In the documentation (https://scikit-learn.org/stable/modules/naive_bayes.html#complement-naive-bayes) we find that \"ComplementNB implements the complement naive Bayes (CNB) algorithm. CNB is an adaptation of the standard multinomial naive Bayes (MNB) algorithm that is particularly suited for imbalanced data sets\". Thus it is not surprising that we get a totally different confussion matrix that with the other classifiers.\n",
    "\n",
    "Although we get more predicitons correct for classes 1 & 3, it is at the expense of getting worse results for the predominant class. Thus the total acurracy decreases.\n",
    "\n",
    "This leads to the next point which is the importance of defining a metric to evaluate results. In this examples, we just care about the ratio of correct predictions. Nonetheless, in other circustances we could be more interested in detecting without erros a specific class and therefore we would penalize mistakes made in predictions of that class, or, for instance, we could consider the distance from the predicted class to the real class as a penalization, etc.\n",
    "\n"
   ]
  },
  {
   "cell_type": "markdown",
   "metadata": {},
   "source": [
    "# Processing the text"
   ]
  },
  {
   "cell_type": "markdown",
   "metadata": {},
   "source": [
    "In this part, we will try different actions on the 'corpus' such as regulation, using a list of stop_words ... and analyze the impact on the sucess rate.\n",
    "\n",
    "We will be using MultinomialNB as our classifier because it is the fastest (although it does not give as good results as Knn)"
   ]
  },
  {
   "cell_type": "markdown",
   "metadata": {},
   "source": [
    "Our start point is an acurracy of 58%.\n",
    "\n",
    "First we will try normalizing the text. To do so, we set the parameter strip_accent='ascii' which perfoms character normalization. On the other hand, by default all the text is converted to lowercase so we do not have to modify any parameter for that."
   ]
  },
  {
   "cell_type": "code",
   "execution_count": 19,
   "metadata": {},
   "outputs": [
    {
     "name": "stdout",
     "output_type": "stream",
     "text": [
      "0.587\n"
     ]
    }
   ],
   "source": [
    "#apply character normalization\n",
    "clf = MultinomialNB()\n",
    "tfidf_vectorizer = TfidfVectorizer(strip_accents='ascii')\n",
    "pipe_tfidf = make_pipeline(tfidf_vectorizer, clf)\n",
    "print(get_accuracy(pipe_tfidf))\n"
   ]
  },
  {
   "cell_type": "markdown",
   "metadata": {},
   "source": [
    "Now we will include a list of stop_words. Stop_words are 'meaningless' words which we do not want to be taken into acoount for the analysis. We will try with the default list and with a list from https://www.ranks.nl/stopwords "
   ]
  },
  {
   "cell_type": "code",
   "execution_count": 20,
   "metadata": {},
   "outputs": [],
   "source": [
    "stop_words=[\"i\", \"me\", \"my\", \"myself\", \"we\", \"our\", \"ours\", \"ourselves\", \"you\", \"your\", \"yours\", \"yourself\",\n",
    " \"yourselves\", \"he\", \"him\", \"his\", \"himself\", \"she\", \"her\", \"hers\", \"herself\", \"it\", \"its\", \n",
    " \"itself\", \"they\", \"them\", \"their\", \"theirs\", \"themselves\", \"what\", \"which\", \"who\", \"whom\", \"this\", \n",
    " \"that\", \"these\", \"those\", \"am\", \"is\", \"are\", \"was\", \"were\", \"be\", \"been\", \"being\", \"have\", \"has\", \"had\",\n",
    "  \"having\", \"do\", \"does\", \"did\", \"doing\", \"a\", \"an\", \"the\", \"and\", \"but\", \"if\", \"or\", \"because\", \"as\", \"until\", \n",
    "  \"while\", \"of\", \"at\", \"by\", \"for\", \"with\", \"about\", \"against\", \"between\", \"into\", \"through\", \"during\", \"before\", \n",
    "  \"after\", \"above\", \"below\", \"to\", \"from\", \"up\", \"down\", \"in\", \"out\", \"on\", \"off\", \"over\", \"under\", \"again\", \"further\", \n",
    "  \"then\", \"once\", \"here\", \"there\", \"when\", \"where\", \"why\", \"how\", \"all\", \"any\", \"both\", \"each\", \"few\", \"more\", \"most\", \n",
    "  \"other\", \"some\", \"such\", \"no\", \"nor\", \"not\", \"only\", \"own\", \"same\", \"so\", \"than\", \"too\", \"very\", \"s\", \"t\", \"can\", \"will\",\n",
    "   \"just\", \"don\", \"should\", \"now\"]"
   ]
  },
  {
   "cell_type": "markdown",
   "metadata": {},
   "source": [
    "This step has no impact on the acurracy. The reason behind this is that our text was already normalized"
   ]
  },
  {
   "cell_type": "code",
   "execution_count": 21,
   "metadata": {},
   "outputs": [
    {
     "name": "stdout",
     "output_type": "stream",
     "text": [
      "0.59\n"
     ]
    }
   ],
   "source": [
    "tfidf_vectorizer = TfidfVectorizer(strip_accents='ascii', stop_words='english')\n",
    "pipe_tfidf = make_pipeline(tfidf_vectorizer, clf)\n",
    "print(get_accuracy(pipe_tfidf))"
   ]
  },
  {
   "cell_type": "code",
   "execution_count": 22,
   "metadata": {},
   "outputs": [
    {
     "name": "stdout",
     "output_type": "stream",
     "text": [
      "0.589\n"
     ]
    }
   ],
   "source": [
    "tfidf_vectorizer = TfidfVectorizer(strip_accents='ascii', stop_words=stop_words)\n",
    "pipe_tfidf = make_pipeline(tfidf_vectorizer, clf)\n",
    "print(get_accuracy(pipe_tfidf))"
   ]
  },
  {
   "cell_type": "markdown",
   "metadata": {},
   "source": [
    "Including a list of stop words just result on an improvement of a 1%. The last thing we will change is the n_gram parameter.\n",
    "\n",
    "By default, TfidVectorizer analyzes words independently. If we fix ngram_range=(1,2), we will also consider pairs of sequent words. We will try:\n",
    "-  ngram_range=(1,1) ; default one, we have already tried it\n",
    "-  ngram_range=(1,2)\n",
    "-  ngram_range=(1,3)\n",
    "-  ngram_range=(2,3)\n",
    "-  ngram_range=(2,2)\n"
   ]
  },
  {
   "cell_type": "code",
   "execution_count": 37,
   "metadata": {},
   "outputs": [
    {
     "name": "stdout",
     "output_type": "stream",
     "text": [
      "Trying ngrams=(1, 2): acurracy=0.615\n",
      "Trying ngrams=(1, 3): acurracy=0.614\n",
      "Trying ngrams=(2, 3): acurracy=0.604\n",
      "Trying ngrams=(2, 2): acurracy=0.603\n"
     ]
    }
   ],
   "source": [
    "values =[(1,2),(1,3),(2,3),(2,2)]\n",
    "for val in values:\n",
    "    tfidf_vectorizer = TfidfVectorizer(strip_accents='ascii', stop_words='english', ngram_range=val)\n",
    "    pipe_tfidf = make_pipeline(tfidf_vectorizer, clf)\n",
    "    print(f\"Trying ngrams={val}: acurracy={get_accuracy(pipe_tfidf)}\")"
   ]
  },
  {
   "cell_type": "markdown",
   "metadata": {},
   "source": [
    "The best results are obtained with ngram_range=(1,2), howver, we only get an improvement of a 2,5%. To sum up, with the three techniques we tried, we only got an improvement near to a 4%. This results encourage to try a different approach. "
   ]
  },
  {
   "cell_type": "markdown",
   "metadata": {},
   "source": [
    "# Processing the data set\n",
    "\n",
    "In this part, we will not explore specific methods for text analysis but for unbalanced data frames in general. We will focus in resampling."
   ]
  },
  {
   "cell_type": "markdown",
   "metadata": {},
   "source": [
    "## Resampling\n",
    "\n",
    "We are going to try to resample in order to get a more balanced data. \n",
    "\n",
    "Firstly we will perfom upsampling. That is to say, we will generate new data for the minority classes until all our classes have the same frequency. We will fit our classifier with this balanced data and measure the acurracy with the same tests as before. \n",
    "\n",
    "Secondly, we will perform downsampling. That is to say, we will generate new data for the majority class but a smaller amount than the initial; which means that the proportion of this class becomes lower in comparison with the original one.\n",
    "\n",
    "In both cases, we need to generate new samples. For this purpose, the probability distribution function of the samples (vector of variables) is estimated using the empirical distribution function (plug-in).\n",
    "\n",
    "Note that we change the data for fitting but we keep the same data for the validation.\n"
   ]
  },
  {
   "cell_type": "markdown",
   "metadata": {},
   "source": [
    "### Upsampling"
   ]
  },
  {
   "cell_type": "code",
   "execution_count": 3,
   "metadata": {},
   "outputs": [],
   "source": [
    "#Resample\n",
    "from sklearn.utils import resample\n",
    "\n",
    "df_majority = df[df.Sentiment==2]\n",
    "n = len(df_majority)\n",
    "values =[0,1,3,4]\n",
    "\n",
    "df_upsampled = df_majority\n",
    "\n",
    "for val in values:\n",
    "    df_minority = df[df.Sentiment==val]\n",
    "    df_minority_upsampled = resample(df_minority, \n",
    "                                 replace=True,     \n",
    "                                 n_samples=n) \n",
    "\n",
    "    df_upsampled = pd.concat([df_upsampled, \n",
    "                            df_minority_upsampled])\n",
    " \n"
   ]
  },
  {
   "cell_type": "markdown",
   "metadata": {},
   "source": [
    "We have created a new data frame where all 5 classes have the same frequency (20%)"
   ]
  },
  {
   "cell_type": "code",
   "execution_count": 8,
   "metadata": {},
   "outputs": [
    {
     "name": "stdout",
     "output_type": "stream",
     "text": [
      "2    0.51\n",
      "3    0.21\n",
      "1    0.17\n",
      "4    0.06\n",
      "0    0.05\n",
      "Name: Sentiment, dtype: float64\n",
      "2    0.2\n",
      "0    0.2\n",
      "1    0.2\n",
      "3    0.2\n",
      "4    0.2\n",
      "Name: Sentiment, dtype: float64\n"
     ]
    }
   ],
   "source": [
    "# We print the relative frequencies for the original data and for the upsampled\n",
    "print(round(df.Sentiment.value_counts(normalize=True),2))\n",
    "print(round(df_upsampled.Sentiment.value_counts(normalize=True),2))"
   ]
  },
  {
   "cell_type": "markdown",
   "metadata": {},
   "source": [
    "Now, we will measure the acurracy of a MultinomialNB classifier  fitted in this new dataframe. (The test set does not change). \n",
    "\n",
    "Note: we use MultinomialNB as our classifier because it does not take long to execute and we can compare the results with the ones obtained for the same classifier fitted with the original data"
   ]
  },
  {
   "cell_type": "code",
   "execution_count": 62,
   "metadata": {},
   "outputs": [
    {
     "name": "stdout",
     "output_type": "stream",
     "text": [
      "0.51\n"
     ]
    }
   ],
   "source": [
    "#Fit with the resample\n",
    "from sklearn.feature_extraction.text import TfidfVectorizer\n",
    "\n",
    "clf = MultinomialNB()\n",
    "tfidf_vectorizer = TfidfVectorizer(ngram_range=(1,3),strip_accents='ascii')\n",
    "pipe_tfidf = make_pipeline(tfidf_vectorizer, clf)\n",
    "\n",
    "train, test = train_test_split(df[[\"Phrase\", \"Sentiment\"]], random_state=0)\n",
    "X_train = df_upsampled[\"Phrase\"]\n",
    "X_test = df[\"Phrase\"]\n",
    "y_train = df_upsampled[\"Sentiment\"]\n",
    "y_test = df[\"Sentiment\"]\n",
    "\n",
    "#Test with the original sample\n",
    "print(get_accuracy(pipe_tfidf,X_train,y_train))"
   ]
  },
  {
   "cell_type": "markdown",
   "metadata": {},
   "source": [
    "The acurracy obtained is 7% worse than what we got for the same classifier being fitted with the original data frame. Possibly, this is due to the fact that we have balanced the data in excess (all classes are equally represented). Now we will try downsampling, which will prevent this (having all classess equally represented in the training set) from happening again. "
   ]
  },
  {
   "cell_type": "markdown",
   "metadata": {},
   "source": [
    "### DownSampling"
   ]
  },
  {
   "cell_type": "code",
   "execution_count": 30,
   "metadata": {},
   "outputs": [
    {
     "data": {
      "text/plain": [
       "2    0.42\n",
       "3    0.25\n",
       "1    0.21\n",
       "4    0.07\n",
       "0    0.05\n",
       "Name: Sentiment, dtype: float64"
      ]
     },
     "execution_count": 30,
     "metadata": {},
     "output_type": "execute_result"
    }
   ],
   "source": [
    "#Resample\n",
    "from sklearn.utils import resample\n",
    "\n",
    "df_majority = df[df.Sentiment==2]\n",
    "n = int((1.8*len(df))//5) #To decrease by ~10% the frecuency of class Sentiment = 2\n",
    "\n",
    "df_majority_downsampled = resample(df_majority, \n",
    "                                 replace=False,     \n",
    "                                 n_samples=n) \n",
    "df_downsampled = df_majority_downsampled\n",
    "\n",
    "for val in [0,1,3,4]:\n",
    "    df_downsampled = pd.concat([df_downsampled, \n",
    "                            df[df.Sentiment==val]])\n",
    " \n",
    "# Display new class counts\n",
    "round(df_downsampled.Sentiment.value_counts(normalize=True),2)"
   ]
  },
  {
   "cell_type": "markdown",
   "metadata": {},
   "source": [
    "Again, we will measure the acurracy for a MultinomialNB classifier."
   ]
  },
  {
   "cell_type": "code",
   "execution_count": 33,
   "metadata": {},
   "outputs": [
    {
     "name": "stdout",
     "output_type": "stream",
     "text": [
      "0.726\n"
     ]
    }
   ],
   "source": [
    "#Fit with the resample\n",
    "from sklearn.feature_extraction.text import TfidfVectorizer\n",
    "\n",
    "clf = MultinomialNB()\n",
    "tfidf_vectorizer = TfidfVectorizer(ngram_range=(1,3),strip_accents='ascii')\n",
    "pipe_tfidf = make_pipeline(tfidf_vectorizer, clf)\n",
    "\n",
    "train, test = train_test_split(df[[\"Phrase\", \"Sentiment\"]], random_state=0)\n",
    "X_train = df_downsampled[\"Phrase\"]\n",
    "X_test = df[\"Phrase\"]\n",
    "y_train = df_downsampled[\"Sentiment\"]\n",
    "y_test = df[\"Sentiment\"]\n",
    "\n",
    "#Test with the original sample\n",
    "print(get_accuracy(pipe_tfidf,X_train,y_train))"
   ]
  },
  {
   "cell_type": "code",
   "execution_count": 76,
   "metadata": {},
   "outputs": [
    {
     "data": {
      "image/png": "[encoded data removed]",
      "text/plain": [
       "<Figure size 720x360 with 2 Axes>"
      ]
     },
     "metadata": {
      "needs_background": "light"
     },
     "output_type": "display_data"
    }
   ],
   "source": [
    "plot_confusion_matrix(pipe_tfidf,\"Downsampling with MultinomialNB\")"
   ]
  },
  {
   "cell_type": "markdown",
   "metadata": {},
   "source": [
    "The acurracy has been improved a 15%. This good results, encourage us to try downsampling with a Knn classifier (the one that got best results with the original data train)"
   ]
  },
  {
   "cell_type": "code",
   "execution_count": 78,
   "metadata": {},
   "outputs": [
    {
     "name": "stdout",
     "output_type": "stream",
     "text": [
      "0.902\n"
     ]
    }
   ],
   "source": [
    "# We measure the acurracy using Knn as our classifier\n",
    "from sklearn.feature_extraction.text import TfidfVectorizer\n",
    "\n",
    "clf = KNeighborsClassifier(n_neighbors=1)\n",
    "tfidf_vectorizer = TfidfVectorizer(ngram_range=(1,3),strip_accents='ascii')\n",
    "pipe_tfidf = make_pipeline(tfidf_vectorizer, clf)\n",
    "\n",
    "print(get_accuracy(pipe_tfidf,X_train,y_train))"
   ]
  },
  {
   "cell_type": "markdown",
   "metadata": {},
   "source": [
    "The result obtained is quite outstanding compared to the one obtained before with the original data (60%). If we plot the matrix, we clearly see a diagonal shape (which was our goal, tiles in the diagonal correspond to correct predictions).\n",
    "\n",
    "It is worth mentioning that although the global acurracy has improved, the specific results for class 1 and 3 are quite worse than the ones obtained with a ComplementNB classifier and the original data set. We recall what we discussed about the importance of identifying the goal for each particular problem and building a metric to measure it."
   ]
  },
  {
   "cell_type": "code",
   "execution_count": 79,
   "metadata": {},
   "outputs": [
    {
     "data": {
      "image/png": "[encoded data removed]",
      "text/plain": [
       "<Figure size 720x360 with 2 Axes>"
      ]
     },
     "metadata": {
      "needs_background": "light"
     },
     "output_type": "display_data"
    }
   ],
   "source": [
    "plot_confusion_matrix(pipe_tfidf,\"Downsampling with Kneigbours\")"
   ]
  },
  {
   "cell_type": "markdown",
   "metadata": {},
   "source": [
    "### Conclussion on resampling\n",
    "\n",
    "Downsampling gave better results than upsampling, possibly due to the fact that we balanced the data too much. On the other hand, we could not try downsampling with many classifiers because they took to long to execute. From the ones we tried (Naive bayes, Decision Trees, KNeighborsClassifer), KNeighborsClassifer was withouth a shadow of doubt the one that gave best results (an acurracy of 90%).\n",
    "\n",
    "On the other hand, the execution time of such classifier was roughly 100 times what MultinomialNB (70% acurracy) took. As it usually happens, there is a trade-off between time and performance."
   ]
  },
  {
   "cell_type": "markdown",
   "metadata": {},
   "source": [
    "# Final conclussion\n",
    "\n",
    "After varying the classifier, trying different ways of processing the test and resampling, we can conclude that the most effective techique for this particular problem was resampling. Indeed, resampling (downsampling) improved the results for all the classifiers we tried.\n",
    "\n",
    "Having said this, we do not feel confident enough to extrapolate this conclussion to any other, even similar, problem. This was an open search where we tested different classifiers, hyperparameters configurations and techniques with one goal in mind: to obtain the highest possible accuracy."
   ]
  }
 ],
 "metadata": {
  "interpreter": {
   "hash": "0dbd966671c3cb64fd6fac914fef272c38137d44755e3f085c354ea95469ec22"
  },
  "kernelspec": {
   "display_name": "Python 3.10.4 ('aipr')",
   "language": "python",
   "name": "python3"
  },
  "language_info": {
   "codemirror_mode": {
    "name": "ipython",
    "version": 3
   },
   "file_extension": ".py",
   "mimetype": "text/x-python",
   "name": "python",
   "nbconvert_exporter": "python",
   "pygments_lexer": "ipython3",
   "version": "3.10.4"
  }
 },
 "nbformat": 4,
 "nbformat_minor": 1
}
