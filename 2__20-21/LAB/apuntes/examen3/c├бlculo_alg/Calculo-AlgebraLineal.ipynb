{
 "cells": [
  {
   "cell_type": "markdown",
   "metadata": {},
   "source": [
    "\n",
    "En esta sesión vamos a ver dos formas distintas de aproximar una función: polinomios de Taylor y series (parciales) de Fourier. Esto nos servirá como excusa para practicar con algunas de las herramientas de Cálculo y de representación gráfica de Sage que se introdujeron en la primera hoja de referencia rápida."
   ]
  },
  {
   "cell_type": "markdown",
   "metadata": {},
   "source": [
    "**Ejemplo 1 (Gráficas).** Como calentamiento vamos a dibujar la funcion $\\displaystyle f(x)=\\frac{x^2+1}{|x-4|}$ junto con sus asíntotas oblicuas. Empezamos dibujando la función, para lo que será útil la función $\\texttt{plot}$."
   ]
  },
  {
   "cell_type": "code",
   "execution_count": 1,
   "metadata": {},
   "outputs": [],
   "source": [
    "##Descomenta, ejecuta, infórmate y vuelve a comentar\n",
    "#plot?"
   ]
  },
  {
   "cell_type": "markdown",
   "metadata": {},
   "source": [
    "Representa la función en el intervalo $[-10,10]$ (intervalo que contiene al punto de discontinuidad)."
   ]
  },
  {
   "cell_type": "code",
   "execution_count": null,
   "metadata": {},
   "outputs": [],
   "source": [
    "#f(x)=(x^2+1)/abs(x-4) #Empezamos definiendo la función\n",
    "#plot(f,-10,10) #Uso sencillo de plot"
   ]
  },
  {
   "cell_type": "markdown",
   "metadata": {},
   "source": [
    "Observará cómo el gran tamaño de la función cerca de la asíntota vertical $x=4$ hace que no se aprecie la función lejos de esta. \n",
    "Se pueden unir varias imágenes en una utilizando la \"suma o unión\" de imágenes. La sintaxis es sencilla, se utiliza la operación \"+\":"
   ]
  },
  {
   "cell_type": "code",
   "execution_count": null,
   "metadata": {},
   "outputs": [],
   "source": [
    "##Descomenta y ejecuta.\n",
    "#dibujo=plot(f,-40,3.7)+plot(f,4.4,40) # ¡Las gráficas se pueden sumar!\n",
    "#dibujo"
   ]
  },
  {
   "cell_type": "markdown",
   "metadata": {},
   "source": [
    "Da la sensación de que la función tiene dos asíntotas oblicuas. Calculamos sus pendientes y sus ordenadas en el origen. \n",
    "La sintaxis de ${\\tt limit}$ es muy intuitiva:"
   ]
  },
  {
   "cell_type": "code",
   "execution_count": 2,
   "metadata": {},
   "outputs": [],
   "source": [
    "##Descomenta y ejecuta\n",
    "#m1=limit(f(x)/x,x=oo) #pendiente de la asíntota en +infty\n",
    "#n1=limit(f(x)-m1*x,x=oo) #ordenada en el origen de la asíntota en -infty\n",
    "#m2=limit(f(x)/x,x=-oo) #pendiente de la asíntota en +infty\n",
    "#n2=limit(f(x)-m2*x,x=-oo) #ordenada en el origen de la asíntota en -infty"
   ]
  },
  {
   "cell_type": "markdown",
   "metadata": {},
   "source": [
    "Representa la gráfica de $f$ junto con sus asíntotas, incluyendo la vertical. Utiliza la imagen ya guardada como ${\\tt dibujo}$ y la instrucción ${\\tt line}$. Para distinguir marca las asíntotas en tres colores diferentes, por ejemplo rojo, verde y gris (utiliza color y/o rgbcolor)."
   ]
  },
  {
   "cell_type": "code",
   "execution_count": null,
   "metadata": {},
   "outputs": [],
   "source": []
  },
  {
   "cell_type": "markdown",
   "metadata": {},
   "source": [
    "**Ejemplo 2 (Animaciones).**  Una cicloide es una curva plana descrita por un punto de una circunferencia que  rueda sobre una línea recta.\n",
    "\n",
    "Si la cicloide se genera mediante una circunferencia de radio r que se apoya sobre el eje de abscisas en el origen, su descripción en forma paramétrica viene dada por:\n",
    "$$\n",
    "x=r\\left(t-\\sin {t}\\right)\\qquad y=r\\left(1-\\cos {t}\\right),\n",
    "$$\n",
    "donde $t$ es un parámetro real, correspondiente al ángulo girado por el círculo rodante. Para un  $t$ dado, el centro del círculo está en $x = r t$, $y = r$. \n",
    "\n",
    "Veamos un ejemplo con $r=1$ y $t\\in [0,10]$."
   ]
  },
  {
   "cell_type": "markdown",
   "metadata": {},
   "source": [
    "<center>\n",
    "<img src=\"Cicloide.gif\">\n",
    "</center>"
   ]
  },
  {
   "cell_type": "markdown",
   "metadata": {},
   "source": [
    "¿Cómo hemos hecho este \"dibujo animado\"? La idea es sencilla: se trata de crear una **lista (ordenada) de gráficos**, y usar la instrucción **\"animate\"** para mostrarla en forma de película. Hemos usado también las instrucciones $\\texttt{circle}$ (para dibujar círculos), $\\texttt{line}$ (para dibujar líneas) y $\\texttt{points}$ (para dibujar puntos).  Tomamos tiempos de la forma $t=i*0.05$ para $i=0,\\dots,200$.\n",
    "\n",
    "Consigue el .gif de arriba, modificando el color de los puntos de la cicloide en un degradado de rojos. Averigua el uso del método ${\\tt .save}()$."
   ]
  },
  {
   "cell_type": "code",
   "execution_count": null,
   "metadata": {},
   "outputs": [],
   "source": []
  },
  {
   "cell_type": "markdown",
   "metadata": {},
   "source": [
    "## **El polinomio de Taylor** ##\n",
    "\n",
    "Recordemos que el polinomio de Taylor de orden $n$ centrado en $a$ para la función $f$ viene dado por $\\displaystyle\\sum_{j=0}^n \\frac{f^{(j)}(a)}{j!}(x-a)^j$.\n",
    "\n",
    "**Ejercicio 1.1**.- Programa una función ${\\tt Tay}(f,a,n)$ que tome como argumentos una función $f$, un punto $a$ y un entero $n\\ge 0$ y nos devuelva como resultado el polinomio de Taylor de orden $n$ para la función, centrado en $ x= a$. Recuerda que tienes a tu disposición las funciones $\\texttt{diff}$ y $\\texttt{derivative}$ para calcular derivadas."
   ]
  },
  {
   "cell_type": "markdown",
   "metadata": {},
   "source": []
  },
  {
   "cell_type": "markdown",
   "metadata": {},
   "source": [
    "**Ejercicio 1.2**.- Halla el polinomio de Taylor de quinto orden, alrededor del 0, para la funci&oacute;n $ f(x)= x (\\cos(x) + \\sin(x))$. Representa gr&aacute;ficamente (con distintos colores) el polinomio y la funci&oacute;n en el intervalo $[-3,5]$."
   ]
  },
  {
   "cell_type": "code",
   "execution_count": null,
   "metadata": {},
   "outputs": [],
   "source": []
  },
  {
   "cell_type": "markdown",
   "metadata": {},
   "source": [
    "Podemos representar simultáneamente varias aproximaciones de distintos órdenes.\n",
    "Para distinguir los diferentes polinomios de Taylor podemos intentar varias cosas:\n",
    "- Cambiar los colores o el tipo de línea (hay que hacerlo automáticamente)\n",
    "- Hacer una animación\n",
    "- Colocar etiquetas en los gráficos (buscar esta opción en la ayuda de ${\\tt plot}$."
   ]
  },
  {
   "cell_type": "markdown",
   "metadata": {},
   "source": [
    "**Ejercicio 1.3**.- Representa en el intervalo $[-3,5]$ la función $ f $ (en color verde)  y sus aproximaciones de Taylor alrededor de $ x=0 $ de ordenes entre 1 y 5, con colores que van variando del rojo para orden 1 al verde para orden 5. Puede ser útil usar las opciones ${\\tt ymin}=-6$, ${\\tt ymax}=5$ de ${\\tt plot}$ para que los dos ejes tengan escalas similares."
   ]
  },
  {
   "cell_type": "code",
   "execution_count": null,
   "metadata": {},
   "outputs": [],
   "source": []
  },
  {
   "cell_type": "markdown",
   "metadata": {},
   "source": [
    "En realidad, el cálculo de polinomios de Taylor ya lo incorpora Sage de forma automática con el comando ${\\tt taylor}$.\n",
    "\n",
    "**Ejercicio 1.4**.- Busca la información sobre este comando, experimenta con su uso y compara los resultados con los obtenidos con tu función ${\\tt Tay}$.\n",
    "\n"
   ]
  },
  {
   "cell_type": "code",
   "execution_count": null,
   "metadata": {},
   "outputs": [],
   "source": []
  },
  {
   "cell_type": "code",
   "execution_count": null,
   "metadata": {},
   "outputs": [],
   "source": []
  },
  {
   "cell_type": "markdown",
   "metadata": {},
   "source": [
    "## **Series trigonométricas (series de Fourier)** ##\n",
    "\n",
    "Los polinomios de Taylor son una herramienta muy eficaz, pero presentan desventajas importantes:\n",
    "\n",
    "- Si queremos calcular el polinomio de grado $K$, necesitamos que la función tenga derivadas de orden $K$, por lo que muchas funciones muy interesantes e importantes en las aplicaciones quedan fuera de su alcance. Por ejemplo, en los experimentos aparecen muy frecuentemente funciones discontinua (nada más simple que encender y apagar varias veces un interruptor).\n",
    "\n",
    "- El resultado que se obtiene es **local**: el polinomio de Taylor nos da una buena aproximación de la función **cuando estamos cerca del punto en el que hemos hecho los cálculos**. Si queremos encontrar una aproximación que sea válida en todo un intervalo, el problema se complica. \n",
    "\n",
    "Hay una herramienta alternativa que funciona muy bien en estos casos (funciones con menos regularidad, o búsqueda de aproximaciones uniformes en un intervalo): las series trigonométricas o series de Fourier. Aunque la teoría matemática que las justifica requiere técnicas  propias de cursos más avanzados (en particular, el curso de ecuaciones en derivadas parciales de tercero), su descripción es bastante simple: *dada una función $f(x)$, buscamos una aproximación como suma de funciones trigonométricas por ejemplo del tipo $\\sin(nx)$*.\n",
    "\n",
    "Para ser un poco más precisos: supongamos que tenemos una función $f(x)$ definida en el intervalo $(0, \\pi)$. Queremos aproximarla por sumas trigonométricas de la forma\n",
    "$$ f(x) \\approx \\sum_{k=1}^N a_k \\sin(kx)=F_{f,N}(x)$$\n",
    "Sorprendentemente, hay una fórmula bastante sencilla para calcular los coeficientes $a_k$:\n",
    "$$a_k = \\frac 2 \\pi \\int_0^{\\pi} f(x) \\sin(kx) \\, dx .$$\n",
    "\n",
    "**Ejercicio 2.1.**.- Vamos a aplicar lo anterior al caso de una función imposible de aproximar por Taylor: $f(x)=x$ si $x\\in(0, \\pi/2)$, $f(x)=\\pi-x$ si $x\\in(\\pi/2, \\pi)$. Calcula $F_{f,5}(x)$, y represéntala gráficamente junto a la función $f$. Recuerda que tienes a tu disposición la función ${\\tt integral}$ para calcular integrales. \n",
    "\n",
    "(**Pregunta:** ¿Por qué es imposible la aproximación por Taylor?)"
   ]
  },
  {
   "cell_type": "code",
   "execution_count": null,
   "metadata": {},
   "outputs": [],
   "source": []
  },
  {
   "cell_type": "markdown",
   "metadata": {},
   "source": [
    "**Ejercicio 2.2**.- (*Convergencia puntual*)\n",
    "\n",
    "La idea es que $F_{f,N}(x)$ aproxima a $f(x)$ para $N$ suficientemente grande.\n",
    "\n",
    "Podemos investigar cómo aproximan los desarrollos de Fourier el valor de la función en el punto $x=\\pi /2$, que según la gráfica anterior parece ser el peor de todos. Para ello,  Encuentra el número $N$ de términos que debemos añadir en la serie para que el error cometido en el punto $ \\pi/2 $ sea menor que 0.005. Repite el cálculo para un valor $x$ *aleatorio entre $0$ y $1$* (consulta ${\\tt random}$). "
   ]
  },
  {
   "cell_type": "code",
   "execution_count": null,
   "metadata": {},
   "outputs": [],
   "source": []
  },
  {
   "cell_type": "code",
   "execution_count": null,
   "metadata": {},
   "outputs": [],
   "source": []
  },
  {
   "cell_type": "markdown",
   "metadata": {},
   "source": [
    "**Ejercicio 2.3**.- Otra función imposible de tratar con el polinomio de Taylor: consideramos la función **impar** que vale $h(x)=1$ si $x \\in (0, \\pi)$ (y por tanto, $h(x)=-1 $ si $ x \\in (-\\pi, 0 )$. )\n",
    "\n",
    "a) Encuentra el desarrollo de Fourier de orden 20 de $h$.\n",
    "\n",
    "b) Representa gráficamente, en el intervalo $(-\\pi, \\pi)$, la función $h$ y el desarrollo de Fourier anterior."
   ]
  },
  {
   "cell_type": "code",
   "execution_count": null,
   "metadata": {},
   "outputs": [],
   "source": []
  },
  {
   "cell_type": "markdown",
   "metadata": {},
   "source": [
    "En este caso, las sumas de Fourier siempre valen $0$ en el punto $x=0$. Además, la oscilación más brusca siempre es la primera, la que está más próxima a $ x= 0$. Esta particularidad se conoce con el nombre de **fenómeno de Gibbs**."
   ]
  },
  {
   "cell_type": "code",
   "execution_count": null,
   "metadata": {},
   "outputs": [],
   "source": []
  },
  {
   "cell_type": "markdown",
   "metadata": {},
   "source": [
    "**Ejercicio 2.4**.- Hacer una **animación** en la que aparezcan la función $h$ (en color verde)  y sus desarrollos de Fourier de orden 10, 15, 20, 25, ..., 60 con colores que van pasando del azul para orden 10 al rojo para orden 60."
   ]
  },
  {
   "cell_type": "code",
   "execution_count": null,
   "metadata": {},
   "outputs": [],
   "source": []
  },
  {
   "cell_type": "markdown",
   "metadata": {},
   "source": [
    "## Dinámica de poblaciones\n",
    "\n",
    "En esta segunda parte vamos a aplicar Álgebra Lineal elemental para estudiar modelos sencillos que describen cómo evoluciona una población."
   ]
  },
  {
   "cell_type": "markdown",
   "metadata": {},
   "source": [
    "**Ejercicio 3.1**.- Estamos interesados en estudiar la población de cierta especie en un hábitat. Para ello se dividen los individuos en dos clases de edad:\n",
    "- Clase $X$: individuos jóvenes de menos de $1$ año. Estos individuos no tiene descendencia y sobrevive un $60\\%$ al cabo de un año.\n",
    "- Clase $Y$: individuos adultos de más de $1$ año. Cada uno de estos individuos tiene, en promedio, $3.5$ crías cada año. Al final del año, solo un $20\\%$ consigue sobrevivir una temporada más.\n",
    "\n",
    "Denotamos por $X_n$, $Y_n$ la población de la clase $X$ y de la clase $Y$, respectivamente, en el año $n$. A la vista de los datos, la población de dos años consecutivos está relacionada por una expresión de la forma\n",
    "$$\n",
    "\\begin{array}{l}\n",
    "X_{n+1}=AX_n+BY_n\\\\\n",
    "Y_{n+1}=CX_n+DY_n\n",
    "\\end{array}\n",
    "\\quad\\Longleftrightarrow\\quad\n",
    "\\begin{pmatrix}X_{n+1}\\\\Y_{n+1}\\end{pmatrix}=\n",
    "\\begin{pmatrix}A&B\\\\C&D\\end{pmatrix}\\begin{pmatrix}X_n\\\\Y_n\\end{pmatrix}\n",
    "$$\n",
    "Sabiendo que en el instante inicial $X_0=10$, $Y_0=15$, se pide:\n",
    "\n",
    "a) Escribe una matriz $M$ con los valores correctos de $A,B,C$ y $D$ y los vectores $(X_0,Y_0)$ y $(X_1,Y_1)$.\n",
    "\n",
    "<p><span style=\"color: #ff0000;\"><strong>Para evitar problemas con los cálculos que haremos más adelante, tendremos en cuenta la siguiente advertencia de SAGE:</strong></span>&nbsp;\n",
    "\n",
    "\n",
    "For computing eigenvalues and eigenvectors of matrices over floating point real or complex numbers, the matrix should be defined over RDF (Real Double Field) or CDF (Complex Double Field), respectively. If no ring is specified and floating point real or complex numbers are used then by default the matrix is defined over the RR or CC fields, respectively, which do not support these computations for all the cases."
   ]
  },
  {
   "cell_type": "code",
   "execution_count": null,
   "metadata": {},
   "outputs": [],
   "source": []
  },
  {
   "cell_type": "markdown",
   "metadata": {},
   "source": [
    "b) Calcula una lista con los valores de $ X_n$ y de $ Y_n$ para $n= 0, 1, \\dots, 50$, y represéntalos gráficamente en un diagrama de puntos, con un color distinto para cada una de las dos clases de edad."
   ]
  },
  {
   "cell_type": "code",
   "execution_count": null,
   "metadata": {},
   "outputs": [],
   "source": []
  },
  {
   "cell_type": "markdown",
   "metadata": {},
   "source": [
    "c) Representa gráficamente las listas con  los cocientes $CX_n=\\frac{X_{n+1}}{X_n}$ , $CY_n=\\frac{Y_{n+1}}{Y_n}$, para $n=0,1,\\dots, 49$. ¿Qué se aprecia?"
   ]
  },
  {
   "cell_type": "code",
   "execution_count": null,
   "metadata": {},
   "outputs": [],
   "source": []
  },
  {
   "cell_type": "markdown",
   "metadata": {},
   "source": [
    "Si lo has hecho bien, deberías haber observado que el ritmo de crecimiento (proporción respecto al año anterior) tiende a hacerse constante, e idéntico en ambas clases. Asintóticamente tendremos por tanto un comportamiento exponencial, con la misma base para ambas componentes, \n",
    "$X_n\\approx C \\lambda^n$, $Y_n\\approx D\\lambda^n$.  Compruébalo representando los puntos en escalas semilogarítmicas. Los puntos se dispondrán asintóticamente sobre rectas de pendiente $\\log\\lambda$."
   ]
  },
  {
   "cell_type": "code",
   "execution_count": null,
   "metadata": {},
   "outputs": [],
   "source": []
  },
  {
   "cell_type": "markdown",
   "metadata": {},
   "source": [
    "Nuestro siguiente objetivo es comprobar que el ritmo de crecimiento (de ambas clases) no depende del dato inicial. Puesto que el problema es lineal, basta con que comprobemos esta conjetura para datos iniciales en la intersección de la circunferencia unidad con el primer cuadrante (en el caso de poblaciones solo tienen sentido los datos no negativos). \n"
   ]
  },
  {
   "cell_type": "markdown",
   "metadata": {},
   "source": [
    "d) Calcula el cociente $ CX_{50}(\\theta)=\\frac{X_{50}(\\theta)}{X_{49}(\\theta)}$ para $\\theta=i\\frac\\pi{100}$ con $i=0,\\dots,50$, siendo $X_n(\\theta)$ e $Y_n(\\theta)$ las poblaciones en tiempo $n$ en las clases $X$ e $Y$ cuando los datos iniciales son $(X_0,Y_0)=(\\cos\\theta,\\sin\\theta)$. Representa la función $CX_{50}(\\theta)$ así obtenida.\n",
    "    \n",
    "Haz lo mismo para el cociente $CY_{50}(\\theta)$."
   ]
  },
  {
   "cell_type": "code",
   "execution_count": null,
   "metadata": {},
   "outputs": [],
   "source": []
  },
  {
   "cell_type": "markdown",
   "metadata": {},
   "source": [
    "e) Representa en otra gr&aacute;fica los cocientes $ TX_n=\\frac{X_{n}}{X_n+Y_n }$, $TY_n=\\frac{Y_{n}}{X_n+Y_n}$, que nos indican la **proporción** de individuos en cada clase de edad, para una población inicial $ X_0=10$, $Y_0=15$. ¿Qué se aprecia?"
   ]
  },
  {
   "cell_type": "code",
   "execution_count": null,
   "metadata": {},
   "outputs": [],
   "source": []
  },
  {
   "cell_type": "code",
   "execution_count": null,
   "metadata": {},
   "outputs": [],
   "source": []
  },
  {
   "cell_type": "markdown",
   "metadata": {},
   "source": [
    "f) Programa una animación en la que se vea cómo va cambiando con $n$ el vector con la proporción de individuos en cada clase de edad en el tiempo $n$,\n",
    "$$ \\left(\\frac{X(n)}{X(n)+Y(n)}, \\frac{Y(n)}{X(n)+Y(n)}\\right).$$"
   ]
  },
  {
   "cell_type": "code",
   "execution_count": null,
   "metadata": {},
   "outputs": [],
   "source": []
  },
  {
   "cell_type": "markdown",
   "metadata": {},
   "source": [
    "e) Repite los apartados anteriores con otros valores iniciales distintos $X_0$, $Y_0$."
   ]
  },
  {
   "cell_type": "code",
   "execution_count": null,
   "metadata": {},
   "outputs": [],
   "source": []
  },
  {
   "cell_type": "markdown",
   "metadata": {},
   "source": [
    "Nuestro siguiente objetivo es comprobar que la proporción límite de individuos en cada clase de edad no depende del dato inicial.  \n",
    "\n",
    "g) Calcula las proporciones $ TX_{50}(\\theta)=\\frac{X_{50}(\\theta)}{X_{50}(\\theta)+Y_{50}(\\theta)}$ y $TY_{50}(\\theta)=\\frac{Y_{50}(\\theta)}{X_{50}(\\theta)+Y_{50}(\\theta)}$ para $\\theta=i\\frac\\pi{100}$ con $i=0,\\dots,50$, donde $X_n(\\theta)$ e $Y_n(\\theta)$ tienen el mismo significado que en el apartado d).  Representa las función $TX_{50}(\\theta)$ y $TY_{50}(\\theta)$ así obtenidas en una misma gráfica, usando para cada una un color. "
   ]
  },
  {
   "cell_type": "code",
   "execution_count": null,
   "metadata": {},
   "outputs": [],
   "source": []
  },
  {
   "cell_type": "markdown",
   "metadata": {},
   "source": [
    "h) Calcula el autovalor de la matriz $M$ de mayor valor absoluto, conocido como el  *autovalor dominante*, y comprueba que es positivo.  Utiliza un bucle while para obtener el primer cociente $CX_n$ tal que la diferencia $|CX_{n} - CX_{n-1}| < 10^{-6}$ y comprueba que dicho cociente, que aproxima al límite común de $CX_n$ y $CY_n$, difiere del autovalor dominante en una cantidad menor que $10^{-6}$."
   ]
  },
  {
   "cell_type": "code",
   "execution_count": null,
   "metadata": {},
   "outputs": [],
   "source": []
  },
  {
   "cell_type": "markdown",
   "metadata": {},
   "source": [
    "i) Calcula los autovectores de la matriz $M$. Comprueba que el vector límite de las proporciones obtenido en e) y f) es (aproximadamente) un autovector de $M$ asociado al autovalor dominante. "
   ]
  },
  {
   "cell_type": "code",
   "execution_count": null,
   "metadata": {},
   "outputs": [],
   "source": []
  },
  {
   "cell_type": "markdown",
   "metadata": {},
   "source": [
    "Se puede comprobar con otras matrices cuadradas  $M$, de distintos tamaños, con sentido biol&oacute;gico (no se admiten tasas de supervivencia mayores del 100%, ni n&uacute;meros negativos de descendientes) que en todos los casos el autovalor dominante da la tasa de crecimiento asintótica de todas las clases, independientemente del dato inicial, y que el correspondiente autovalor (estandarizado) da la proporción asintótica de individuos en cada clase, también independientemente del dato inicial."
   ]
  },
  {
   "cell_type": "code",
   "execution_count": null,
   "metadata": {},
   "outputs": [],
   "source": []
  },
  {
   "cell_type": "code",
   "execution_count": null,
   "metadata": {},
   "outputs": [],
   "source": []
  },
  {
   "cell_type": "markdown",
   "metadata": {},
   "source": [
    "**Ejercicio 3.2.-** En una granja de cría de cerdos, los animales son clasificados según sus edades de la siguiente forma:\n",
    "- Cochinillos: De 0 a 1 a&ntilde;o.\n",
    "- Lechones: De 1 a 2 años.\n",
    "- Jóvenes: De 2 a 3 años.\n",
    "- Adultos: De 3 a 4 años.\n",
    "\n",
    "El procedimiento de gestión de las hembras de la granja es el siguiente:\n",
    "- Se sacrifica al $60\\%$ de las que van naciendo para su consumo como cochinillos.\n",
    "- Se sacrifica para su consumo a todas las hembras cuando llegan a los 4 años. No se sacrifica a ninguna de las demás, y se supone que ningún animal muere por otras causas.\n",
    "- Se dedica a todas las hembras jóvenes y adultas a la cría. Se sabe que, en media, cada hembra joven tendrá $0.5$ camadas de $5$ cochinillos, cada hembra adulta tendrá $0.8$ camadas de $5$ cochinillos, y que el $50\\%$ de todos los nuevos nacidos serán hembras.\n",
    "\n",
    "a) Formula el modelo apropiado para describir la evolución de la población de las hembras.\n"
   ]
  },
  {
   "cell_type": "code",
   "execution_count": null,
   "metadata": {},
   "outputs": [],
   "source": []
  },
  {
   "cell_type": "markdown",
   "metadata": {},
   "source": [
    "b) Comprueba que el autovalor dominante es mayor que 1, y que por tanto la población crece sin límite, por lo que la granja no es sostenible con la tasa de sacrificio dada.  "
   ]
  },
  {
   "cell_type": "code",
   "execution_count": null,
   "metadata": {},
   "outputs": [],
   "source": []
  },
  {
   "cell_type": "markdown",
   "metadata": {},
   "source": [
    "c) Se aumenta la tasa de sacrificio al 80%. Comprobar que el autovalor dominante pasa a ser menor que 1, y que por tanto la población tiende a 0 asintóticamente, de forma que la granja tampoco es sostenible. "
   ]
  },
  {
   "cell_type": "code",
   "execution_count": null,
   "metadata": {},
   "outputs": [],
   "source": []
  },
  {
   "cell_type": "markdown",
   "metadata": {},
   "source": [
    "d) Determinar una tasa de sacrificio que haga que la granja sea sostenible, esto es, que tenga autovalor dominante igual a 1. *Indicación.* Poner la tasa de sacrificio $t$ como un parámetro, calcular el polinomio característico y calcular $t$ que haga que 1 sea autovalor. Asegúrate de que 1 no solo es autovalor, sino que además es el autovalor dominante."
   ]
  },
  {
   "cell_type": "code",
   "execution_count": null,
   "metadata": {},
   "outputs": [],
   "source": []
  },
  {
   "cell_type": "markdown",
   "metadata": {},
   "source": [
    "e) Comprobar que con la tasa de sacrificio obtenida en d) la explotación es sostenible, con una población total que se estabiliza a una cantidad no nula y una proporción de individuos por clase dada por el autovector estandarizado asociado al autovalor dominante."
   ]
  },
  {
   "cell_type": "code",
   "execution_count": null,
   "metadata": {},
   "outputs": [],
   "source": []
  }
 ],
 "metadata": {
  "kernelspec": {
   "display_name": "SageMath 9.0",
   "language": "sage",
   "name": "sagemath"
  },
  "language_info": {
   "codemirror_mode": {
    "name": "ipython",
    "version": 3
   },
   "file_extension": ".py",
   "mimetype": "text/x-python",
   "name": "python",
   "nbconvert_exporter": "python",
   "pygments_lexer": "ipython3",
   "version": "3.8.5"
  }
 },
 "nbformat": 4,
 "nbformat_minor": 4
}
