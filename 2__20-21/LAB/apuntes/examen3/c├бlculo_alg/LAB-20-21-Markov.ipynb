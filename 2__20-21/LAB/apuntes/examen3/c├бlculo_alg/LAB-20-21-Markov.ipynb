{
 "cells": [
  {
   "cell_type": "markdown",
   "metadata": {},
   "source": [
    "# ** Laboratorio 2020-21 ** #\n",
    "\n",
    "## Dinámica de poblaciones: matrices de Markov ##\n",
    "\n",
    "\n",
    "**EJERCICIO 1.**\n",
    "Estamos diseñando el sistema de ascensores de un rascacielos.\n",
    "\n",
    "La empresa que los fabrica nos dice que cada día tendrán que parar, por avería o mantenimiento, el $10\\%$ de los ascensores que estuviesen funcionando el día anterior, y que el $70\\%$ de los ascensores que estén parados en un día dado volverán a estar operativos al día siguiente.\n",
    "\n",
    "**a)**  Tras el periodo inicial de ajuste, ¿llegaremos a un régimen estable de funcionamiento de los ascensores? (*Sugerencia:* Estudiar la evolución del modelo matricial para este problema.)\n",
    "\n",
    "**b)** ¿Cuántos ascensores tendremos que instalar en el rascacielos si queremos que haya habitualmente 15 en condiciones de funcionar?\n",
    "\n",
    "*Comentario:* Las matrices con todas las entradas $\\ge 0$ y  tales que la suma de los elementos de cada columna es 1 se llaman **matrices de Markov**. Como vas a ver en este ejemplo, los problemas de dinámica de poblaciones que tienen una matriz de Markov como *matriz de transición* tienen la propiedad adicional de que **la población total es constante**.\n"
   ]
  },
  {
   "cell_type": "code",
   "execution_count": null,
   "metadata": {},
   "outputs": [],
   "source": []
  },
  {
   "cell_type": "code",
   "execution_count": null,
   "metadata": {},
   "outputs": [],
   "source": []
  },
  {
   "cell_type": "markdown",
   "metadata": {},
   "source": [
    "<p><span style=\"color: #ff0000;\"><strong>EJERCICIO 2.</strong></span>&nbsp;<strong>Otra matriz de Markov.&nbsp;</strong></p>\n",
    "<p>En una parcela dedicada a la explotaci&oacute;n forestal, los &aacute;rboles se clasifican seg&uacute;n su tama&ntilde;o en tres tipos: Peque&ntilde;os, Medianos y Grandes.&nbsp;</p>\n",
    "<p>Cada periodo de 5 a&ntilde;os, la evoluci&oacute;n del bosque es la siguiente:&nbsp;</p>\n",
    "<ul>\n",
    "<li>El 20% de los &aacute;rboles Peque&ntilde;os no han crecido lo suficiente, y siguen siendo Peque&ntilde;os. El 70% han pasado a la categor&iacute;a de Medianos, y un 10% ha tenido un crecimiento excepcional que les hace pasar a la categor&iacute;a de Grandes.&nbsp;</li>\n",
    "<li>El 10% de los &aacute;rboles Medianos siguen siendo Medianos, y el 90 % restante pasan a ser Grandes.&nbsp;</li>\n",
    "<li>Se tala el 80% de los &aacute;rboles Grandes.</li>\n",
    "<li>Se plantan tantos &aacute;rboles Peque&ntilde;os como &aacute;rboles Grandes han sido talados.&nbsp;</li>\n",
    "<li>Se considera que ning&uacute;n &aacute;rbol muere por ninguna otra causa que no sea la tala.</li>\n",
    "</ul>\n",
    "<p>&nbsp;<strong>Comentario:</strong> Observa que, de nuevo,&nbsp;como se plantan tantos &aacute;rboles como son talados, el n&uacute;mero total de &aacute;rboles es constante en cada periodo de 5 a&ntilde;os. Estamos de nuevo ante una matriz de Markov.&nbsp;</p>\n",
    "<p><strong><span style=\"color: #ff0000;\">a)</span></strong> Denotando por $P_N, M_N, G_N $ el n&uacute;mero de &aacute;rboles en cada categor&iacute;a en el <strong>lustro</strong> $N$ (lustro = 5 años), formula matricialmente el sistema y estudia su evoluci&oacute;n a largo plazo, para determinar qu&eacute; porcentaje de &aacute;rboles estar&aacute; en cada una de las clases.</p>\n"
   ]
  },
  {
   "cell_type": "code",
   "execution_count": null,
   "metadata": {},
   "outputs": [],
   "source": []
  },
  {
   "cell_type": "code",
   "execution_count": null,
   "metadata": {},
   "outputs": [],
   "source": []
  },
  {
   "cell_type": "markdown",
   "metadata": {},
   "source": [
    "<p><strong><span style=\"color: #ff0000;\">b)</span></strong> Por consideraciones de tipo paisaj&iacute;stico, se desea que a largo plazo el porcentaje de &aacute;rboles grandes sea del 50%. Ajusta *a mano* el porcentaje de tala para cumplir este objetivo.&nbsp;</p>\n",
    "\n"
   ]
  },
  {
   "cell_type": "code",
   "execution_count": null,
   "metadata": {},
   "outputs": [],
   "source": []
  },
  {
   "cell_type": "code",
   "execution_count": null,
   "metadata": {},
   "outputs": [],
   "source": []
  },
  {
   "cell_type": "markdown",
   "metadata": {},
   "source": [
    "<p><strong><span style=\"color: #ff0000;\">c)</span></strong> Calcula el porcentaje de tala correcto hallado en el apartado anterior de otro modo que no sea *a ojo*.&nbsp;</p>\n",
    "\n"
   ]
  },
  {
   "cell_type": "code",
   "execution_count": null,
   "metadata": {},
   "outputs": [],
   "source": []
  },
  {
   "cell_type": "code",
   "execution_count": null,
   "metadata": {},
   "outputs": [],
   "source": []
  },
  {
   "cell_type": "markdown",
   "metadata": {},
   "source": [
    "**SI QUIERES PRACTICAR MÁS**\n",
    "\n",
    "*Resuelve usando Sage los problemas 7, 8 y 9 de la Hoja 10 de problemas de Álgebra Lineal (puedes descargarlos en el moodle de Laboratorio).*"
   ]
  },
  {
   "cell_type": "code",
   "execution_count": null,
   "metadata": {},
   "outputs": [],
   "source": []
  }
 ],
 "metadata": {
  "kernelspec": {
   "display_name": "SageMath 8.7",
   "language": "",
   "name": "sagemath"
  },
  "language_info": {
   "codemirror_mode": {
    "name": "ipython",
    "version": 2
   },
   "file_extension": ".py",
   "mimetype": "text/x-python",
   "name": "python",
   "nbconvert_exporter": "python",
   "pygments_lexer": "ipython2",
   "version": "2.7.15"
  }
 },
 "nbformat": 4,
 "nbformat_minor": 2
}
