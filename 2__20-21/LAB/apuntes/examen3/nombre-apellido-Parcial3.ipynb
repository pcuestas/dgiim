{
 "cells": [
  {
   "cell_type": "markdown",
   "id": "express-three",
   "metadata": {},
   "source": [
    "## Instrucciones para esta prueba\n",
    "- Renombra esta hoja sustituyendo *nombre-apellido* con tus datos.\n",
    "- Explicar en cada paso, con cuadros de texto, la estrategia seguida para resolverlo.\n",
    "- Subir a la <a href=\"https://moodle.uam.es/mod/assign/view.php?id=1726572\">tarea de moodle</a> el resultado final."
   ]
  },
  {
   "cell_type": "code",
   "execution_count": null,
   "id": "oriented-anaheim",
   "metadata": {},
   "outputs": [],
   "source": []
  },
  {
   "cell_type": "markdown",
   "id": "ongoing-mortgage",
   "metadata": {},
   "source": [
    "**Problema 1 (hasta 3 puntos).** Se sabe que para cualesquiera reales $\\mu,\\sigma$ con $\\sigma>0$, la función $$f(x)=\\frac{1}{\\sigma\\sqrt{2\\pi}}\\,\\exp\\big\\{\\frac{-1}2\\big(\\frac{x-\\mu}\\sigma\\big)^2\\big\\}$$\n",
    "verifica que $\\int_{-\\infty}^{\\infty}f(x)\\,dx=1$."
   ]
  },
  {
   "cell_type": "markdown",
   "id": "available-viewer",
   "metadata": {},
   "source": [
    "Queremos aprovechar que esta _área_ es $1$ para _repartirla_ en $2m+1$ intervalos disjuntos, los $2m-1$ centrales de igual amplitud, digamos $2a$, y dos extremos, o _colas_, definidos como:\n",
    "$$\\begin{array}{l}I_{-m}=(-\\infty,\\mu-(2m-1)a),\\,\\,\\dots,I_{-1}=[\\mu-3a,\\mu-a),\\,\\,I_0=[\\mu-a,\\mu+a),\\\\\n",
    "{I_1=[\\mu+a,\\mu+3a)},\\,\\,\\dots,I_m=[\\mu+(2m+1)a,\\infty)\n",
    "\\end{array}$$\n",
    "asignando para cada uno de ellos el área bajo la curva sobre el intervalo:\n",
    "$$p_j=\\int_{I_j}f(x)\\,dx\\quad j\\in\\{-m,\\dots,-1,0,1,\\dots m\\}.$$\n",
    "Puesto que son números no negativos y $\\sum\\limits_{-m}^m p_j=1$, podemos tomarlos como probabilidades asociadas a estos $2m+1$ intervalos, en el siguiente sentido: \n",
    "$$P(\\text{ tomar al azar un real en el intervalo }I_k)=p_k,\\qquad k\\in\\{-m,\\dots,-1,0,1,\\dots,m\\}.$$\n",
    "Pero tenemos un problema, **no nos permiten utilizar ninguna herramienta de integración para calcularlos**, de manera que vamos a tener que **aproximar** con el **método de Monte Carlo**."
   ]
  },
  {
   "cell_type": "markdown",
   "id": "regular-millennium",
   "metadata": {},
   "source": [
    "_Considera $2m+1=9$ intervalos como los descritos, los $7$ centrales de amplitud $2a=10$, para \n",
    "$$\\mu=100+(\\text{dos últimas cifras de tu dni}),\\quad \\sigma=\\mu/10,$$\n",
    "y aproxima las $p_j$ utilizando el método de Monte Carlo para los $7$ intervalos centrales, y repartiendo por igual lo que falte para tener el área completa, $1$, entre las áreas a asignar a los dos intervalos extremos._"
   ]
  },
  {
   "cell_type": "code",
   "execution_count": null,
   "id": "overhead-establishment",
   "metadata": {},
   "outputs": [],
   "source": []
  },
  {
   "cell_type": "code",
   "execution_count": null,
   "id": "narrow-background",
   "metadata": {},
   "outputs": [],
   "source": []
  },
  {
   "cell_type": "code",
   "execution_count": null,
   "id": "cutting-james",
   "metadata": {},
   "outputs": [],
   "source": []
  },
  {
   "cell_type": "code",
   "execution_count": null,
   "id": "alive-gardening",
   "metadata": {},
   "outputs": [],
   "source": []
  },
  {
   "cell_type": "markdown",
   "id": "front-aquatic",
   "metadata": {},
   "source": [
    "**Problema 2 (hasta 4 puntos).** En un campamento de verano tienen montadas 8 carpas para actividades diferentes, numeraradas del 1 al 8, alrededor de una carpa, numerada con 0, dedicada a descanso y organización.\n",
    "\n",
    "Cada día antes de las 08:00, la hora de comienzo de las actividades, los campistas acuden a la carpa central donde cada uno sortea en qué carpa va a comenzar sus actividades, tomando una bola, de una urna con 8 bolas numeradas del 1 al 8, y devolviéndola a la urna.\n",
    "\n",
    "Cada participante va a la carpa que le corresponde, realiza la actividad y a la media hora han de cambiar de carpa tomando, unos minutos antes de salir, una bola de una urna con bolas numeradas que hay en cada carpa, y devolviéndola. Sobre la composición de las urnas se tiene que:\n",
    "\n",
    "- En todas hay una bola numerada con el 0, si la cogen, vuelven a la carpa central y permanecen en ella media hora descansando. \n",
    "- En cada una hay una bola con el número de la carpa anterior y otra con la de la posterior (a la 8 le sigue la 1, y a la 1 le precede la 8). \n",
    "- Para los sorteos de las horas en punto, las carpas 1, 2, 5 y 6 añaden a la urna una bola con el número de la propia carpa, que retiran para los de las horas y media. \n",
    "- En las carpas 3, 4, 7 y 8, se añade una bola con el número de la propia carpa en los sorteos de las horas y media, y se retira en los de las horas en punto.\n",
    "\n",
    "A las 13:30 paran la actividad por las carpas."
   ]
  },
  {
   "cell_type": "markdown",
   "id": "italic-geometry",
   "metadata": {},
   "source": [
    "_a) Construye dos matrices de sage, $P$ y $Q$, tales que\n",
    "$$\\begin{array}{l} P[i,j]=\\text{ probabilidad de extraer en la carpa }i\\text{ la bola }j\n",
    "\\text{ en una hora en punto}\\\\\n",
    "Q[i,j]=\\text{ probabilidad de extraer en la carpa }i\\text{ la bola }j\n",
    "\\text{ en las horas y media.}\n",
    "\\end{array}\n",
    "$$_\n",
    "\n",
    "_b) Utilìzalas para responder a las **dos preguntas** que te han correspondido en el <a href=\"https://moodle.uam.es/mod/quiz/view.php?id=1726452\">Cuestionario para el parcial 3</a> habilitado en moodle._"
   ]
  },
  {
   "cell_type": "code",
   "execution_count": null,
   "id": "preliminary-canon",
   "metadata": {},
   "outputs": [],
   "source": []
  },
  {
   "cell_type": "code",
   "execution_count": null,
   "id": "included-germany",
   "metadata": {},
   "outputs": [],
   "source": []
  },
  {
   "cell_type": "code",
   "execution_count": null,
   "id": "norwegian-translation",
   "metadata": {},
   "outputs": [],
   "source": []
  },
  {
   "cell_type": "code",
   "execution_count": null,
   "id": "necessary-wallet",
   "metadata": {},
   "outputs": [],
   "source": []
  },
  {
   "cell_type": "markdown",
   "id": "tropical-magnitude",
   "metadata": {},
   "source": [
    "**Problema 3 (hasta 3 puntos).** El planeta \"Vasque\" describe la trayectoria de ecuación\n",
    "$$c(t)=(\\cos t\\,\\cos(3t),\\sin t\\,\\cos(3t),\\cos^2(3t)$$\n",
    "completando una vuelta completa durante cada intervalo de amplitud $2\\pi$.\n",
    "\n",
    "Su satélite \"LunaVasque\" orbita a su alrededor, a distancia fija $r$, en un plano perpedicular, en cada momento $t_0$, al vector $c'(t_0)$. Por cada vuelta completa del planeta, su luna da $4$. El resultado se puede ver en el fichero \"Vasque.gif\"."
   ]
  },
  {
   "cell_type": "markdown",
   "id": "together-helmet",
   "metadata": {},
   "source": [
    "_Emula un fichero como el gif del ejemplo, tomando para el planeta la trayectoria que te ha correspondido en el <a href=\"https://moodle.uam.es/mod/quiz/view.php?id=1726452\">Cuestionario para el parcial 3</a>, y con una luna que describa $4$ vueltas por cada vuelta completa de su planeta. (Nombra al planeta, y el gif, con el nombre de la trayectoria.)_\n",
    "\n",
    "Ten en cuenta que, en cada momento, los tres vectores\n",
    "$$\\begin{array}{ll}T(t)=\\dfrac{c'(t)}{\\|c'(t)\\|} &\\quad \\text{ vector tangente}\\\\\n",
    "B(t)=\\dfrac{c'(t)\\times c''(t)}{\\|c'(t)\\times c''(t)\\|}&\\quad \\text{ vector binormal}\\\\\n",
    "N(t)=B(t)\\times T(t)&\\quad\\text{ vector normal}\n",
    "\\end{array}$$\n",
    "\n",
    "son tres vectores unitarios y ortogonales, y conforman el conocido como Triedro de Frênet, un _sistema de referencia ortonormal local_ en cada punto de la trayectoria $c(t)$. En particular, cualquier vector $v(t)=r_1\\cos(\\lambda t)N(t)+r_1\\sin(\\lambda t)B(t)$ es de norma $r_1$ y está en un plano perpendicular a $T(t)$.\n",
    "\n",
    "_Indicación_: En sage, si $v_1$ y $v_2$ son dos vectores, $v_1$.cross_product($v_2$) calcula el vector $v_1\\times v_2$.\n",
    "\n",
    "_Atención_: si vas a utilizar el vector normal, **evita el nombre N**, reservado en sage para la función _numerical$\\_$approx_."
   ]
  },
  {
   "cell_type": "code",
   "execution_count": null,
   "id": "happy-exploration",
   "metadata": {},
   "outputs": [],
   "source": []
  },
  {
   "cell_type": "code",
   "execution_count": null,
   "id": "forced-musician",
   "metadata": {},
   "outputs": [],
   "source": []
  },
  {
   "cell_type": "code",
   "execution_count": null,
   "id": "dramatic-header",
   "metadata": {},
   "outputs": [],
   "source": []
  }
 ],
 "metadata": {
  "kernelspec": {
   "display_name": "SageMath 8.7",
   "language": "",
   "name": "sagemath"
  },
  "language_info": {
   "codemirror_mode": {
    "name": "ipython",
    "version": 2
   },
   "file_extension": ".py",
   "mimetype": "text/x-python",
   "name": "python",
   "nbconvert_exporter": "python",
   "pygments_lexer": "ipython2",
   "version": "2.7.15"
  }
 },
 "nbformat": 4,
 "nbformat_minor": 5
}
