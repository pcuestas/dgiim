{
 "cells": [
  {
   "cell_type": "markdown",
   "metadata": {},
   "source": [
    "## Cálculo II## \n",
    "\n",
    "En esta práctica veremos algunas herramientas de SAGE que te pueden ayudar a entender las funciones $f:\\mathbb{R}^N\\to\\mathbb{R}^M$ que estás estudiando en Cálculo II. Además de aprender a calcular derivadas parciales, gradientes, jacobianos, hessianos, etc., veremos cómo representar curvas en el plano y en el espacio, y superficies en el espacio. Concretamente, veremos cómo representar:\n",
    "\n",
    "- Curvas planas dadas en forma paramétrica.\n",
    "- Curvas planas dadas en coordenadas polares.\n",
    "- Curvas planas dadas en forma implícita.\n",
    "- Curvas de nivel de una función de dos variables.\n",
    "- Curvas en el espacio tridimensional dadas en forma paramétrica. \n",
    "- Superficies de nivel de una función de tres variables.\n",
    "- Superficies dadas en forma paramétrica."
   ]
  },
  {
   "cell_type": "markdown",
   "metadata": {},
   "source": [
    "**Parte 1. Curvas parametrizadas en el plano.** \n",
    "\n",
    "Consideramos curvas parametrizadas en el plano, $(x(t),y(t))$, con $t \\in (a,b)$. Por ejemplo, si\n",
    "$$x(t)= \\cos (t) , \\, y(t)= \\hbox{sen}(t),\\quad \\text{con } t \\in (0, \\pi),$$\n",
    "estaremos representando la mitad superior de la circunferencia unidad. Podemos entender la curva como la trayectoria de un objeto y $t$ como la variable tiempo. La derivada respecto a $t$ es el vector velocidad en el instante $t$.\n",
    "\n",
    "Veamos como manejar estas funciones de una variable con valores en $\\mathbb{R}^2$ con un ejemplo. "
   ]
  },
  {
   "cell_type": "code",
   "execution_count": null,
   "metadata": {},
   "outputs": [],
   "source": [
    "var('t')\n",
    "r(t)=(cos(t), sin(t))\n",
    "r"
   ]
  },
  {
   "cell_type": "code",
   "execution_count": null,
   "metadata": {},
   "outputs": [],
   "source": [
    "r(pi/4)"
   ]
  },
  {
   "cell_type": "code",
   "execution_count": null,
   "metadata": {},
   "outputs": [],
   "source": [
    "velocidad=r.diff(t) # velocidad=diff(r,t) hace exactamente lo mismo\n",
    "velocidad"
   ]
  },
  {
   "cell_type": "code",
   "execution_count": null,
   "metadata": {},
   "outputs": [],
   "source": [
    "velocidad(1)"
   ]
  },
  {
   "cell_type": "code",
   "execution_count": null,
   "metadata": {},
   "outputs": [],
   "source": [
    "T=velocidad/velocidad.norm() #El vector velocidad \"normalizado\" (es decir, de norma 1)\n",
    "#(dividir entre su norma la hace de norma 1)\n",
    "T(1).n()"
   ]
  },
  {
   "cell_type": "code",
   "execution_count": null,
   "metadata": {},
   "outputs": [],
   "source": [
    "N(T(1)[0]^2+T(1)[1]^2)"
   ]
  },
  {
   "cell_type": "markdown",
   "metadata": {},
   "source": [
    "La instrucción de SAGE para representar este tipo de curvas es el comando *parametric_plot*.\n",
    "\n",
    "**Ejercicio 1.-** Usa la ayuda de Sage ver cómo funciona este comando, y representa el ejemplo anterior, la circunferencia (completa) de radio 5 y otras curvas (elegidas por ti) dadas en forma paramétrica.\n",
    "\n",
    "Busca en la red las ecuaciones paramétricas de las siguientes curvas: cicloide, cardioide, astroide, tractriz,  y **haz las representaciones gráficas respectivas**."
   ]
  },
  {
   "cell_type": "code",
   "execution_count": null,
   "metadata": {},
   "outputs": [],
   "source": []
  },
  {
   "cell_type": "markdown",
   "metadata": {},
   "source": [
    "Podemos utilizar la parametrización de una curva y su _velocidad_ para ver cómo se _recorre_ al ir avanzando el valor de su parámetro en un intervalo. En la siguiente celda incluimos una manera de visualizar cómo se movería un punto sobre una cicloide cuando su parámetro varía entre $0$ y $6\\pi$ (acompaña a cada punto el vector velocidad)."
   ]
  },
  {
   "cell_type": "code",
   "execution_count": null,
   "metadata": {},
   "outputs": [],
   "source": [
    "#CICLOIDE. PARAMÉTRICAS x=R*(t-sin(t)), y=R*(1-cos(t)), DONDE R ES EL RADIO DE LA CIRCUNFERENCIA QUE GIRA\n",
    "var('t')\n",
    "R=1##Para la cicloide\n",
    "cicloide(t)=(R*(t-sin(t)),R*(1-cos(t)))\n",
    "V_cicloide=cicloide.diff(t)\n",
    "Cicloide=parametric_plot(cicloide,(t,0,6*pi),axes=False)##Común a todos los fotogramas\n",
    "Cicloide+=line([(0,2.6*R),(6.2*pi*R,2.6*R)],color='white',figsize=8)##Común, para evitar feos efectos por los cambios de tamaño\n",
    "peli=[]\n",
    "M=60##Número de fotogramas\n",
    "for t0 in [1..M]:\n",
    "    angulo=t0/M*6*pi\n",
    "    punto=cicloide(angulo)\n",
    "    velocidad=V_cicloide(angulo)\n",
    "    peli.append(Cicloide+point(punto,pointsize=20)+arrow2d(punto,punto+velocidad))\n",
    "movie=animate(peli)\n",
    "movie.show(delay=16)"
   ]
  },
  {
   "cell_type": "markdown",
   "metadata": {},
   "source": [
    "**Ejercicio 2.-** Haz animaciones análogas a la anterior que muestren cómo se _recorren_ algunas de las curvas que hayas considerado en el ejercicio 1. "
   ]
  },
  {
   "cell_type": "code",
   "execution_count": null,
   "metadata": {},
   "outputs": [],
   "source": []
  },
  {
   "cell_type": "markdown",
   "metadata": {},
   "source": [
    "Podemos calcular la longitud de arco de la curva parametrizada dada entre dos tiempos $t=a$ y $t=b$, integrando la norma de la velocidad.\n",
    "\n",
    "Calculemos por ejemplo la longitud de la cardioide\n",
    "$$\n",
    "x(t)=4(1+ \\cos t)\\cos t,\\quad y(t)=4(1+\\cos t)\\operatorname{sen}t,\\qquad t\\in [0,2\\pi].\n",
    "$$"
   ]
  },
  {
   "cell_type": "code",
   "execution_count": null,
   "metadata": {},
   "outputs": [],
   "source": [
    "var('t')\n",
    "a,b=0,2*pi\n",
    "cardioide(t)=(4*(1+cos(t))*cos(t),4*(1+cos(t))*sin(t))\n",
    "dib_cardioide=parametric_plot(cardioide,(t,a,b))\n",
    "dib_cardioide.show()"
   ]
  },
  {
   "cell_type": "code",
   "execution_count": null,
   "metadata": {},
   "outputs": [],
   "source": [
    "velocidad_cardioide = cardioide.diff(t)\n",
    "l_exacta=integrate(velocidad_cardioide.norm(),(t,a,b)).n()\n",
    "l_exacta"
   ]
  },
  {
   "cell_type": "markdown",
   "metadata": {},
   "source": [
    "También se puede calcular numéricamente. La sintaxis para *numerical_integral* es ligeramente no estándar -solo se ponen los extremos, no la variable"
   ]
  },
  {
   "cell_type": "code",
   "execution_count": null,
   "metadata": {},
   "outputs": [],
   "source": [
    "numerical_integral(velocidad_cardioide.norm(), a,b)"
   ]
  },
  {
   "cell_type": "markdown",
   "metadata": {},
   "source": [
    "¿De dónde proviene la fórmula para la longitud de una curva? La idea es, siguiendo al gran Arquímedes, aproximarla por poligonales, cuya longitud se calcula de forma sencilla. Veámoslo en el ejemplo de la cardioide."
   ]
  },
  {
   "cell_type": "code",
   "execution_count": null,
   "metadata": {},
   "outputs": [],
   "source": [
    "M=10 #número de segmentos\n",
    "poligonal=line([cardioide(a+j*(b-a)/M) for j in xsrange(M+1)], color='red')\n",
    "(dib_cardioide+poligonal).show()"
   ]
  },
  {
   "cell_type": "code",
   "execution_count": null,
   "metadata": {},
   "outputs": [],
   "source": [
    "laprox=[]\n",
    "for M in xsrange(10,101): \n",
    "    long_aprox=sum([(cardioide(a+(j+1)*(b-a)/M)-cardioide(a+j*(b-a)/M)).norm() for j in xsrange(M)])\n",
    "    laprox.append((M,long_aprox))\n",
    "points(laprox)+line([(10,l_exacta),(100,l_exacta)],color='green')"
   ]
  },
  {
   "cell_type": "markdown",
   "metadata": {},
   "source": [
    "**Ejercicio 3.-** Calcula las longitudes de alguna de las curvas parametrizadas que has representado en el ejercicio 1 por los tres procedimientos mencionados. "
   ]
  },
  {
   "cell_type": "code",
   "execution_count": null,
   "metadata": {},
   "outputs": [],
   "source": []
  },
  {
   "cell_type": "markdown",
   "metadata": {},
   "source": [
    "**Parte 2. Representación de una curva en coordenadas polares.** \n",
    "\n",
    "En ocasiones, es más cómodo expresar una curva mediante una ecuación del tipo $r=r(\\theta)$ en coordenadas polares, $(r,\\theta)$, donde $r$ es la distancia del punto en cuestión al origen y $\\theta$ el ángulo que forman la recta que une el punto con el origen y el semieje $OX$ positivo. &nbsp; \n",
    "\n",
    "Por ejemplo, una manera muy simple de expresar la circunferencia unidad es&nbsp;$r(\\theta)=1$ para $\\theta\\in [0, 2 \\pi)$.\n",
    "\n",
    "Es inmediato pasar de la forma polar a la forma paramétrica, escribiendo\n",
    "$$(x(\\theta), y(\\theta))= (r(\\theta)\\cos(\\theta), r(\\theta)\\operatorname{sen}(\\theta)),$$\n",
    "pero SAGE permite representar directamente curvas dadas en forma polar usando el comando *polar_plot*."
   ]
  },
  {
   "cell_type": "code",
   "execution_count": null,
   "metadata": {
    "collapsed": true
   },
   "outputs": [],
   "source": [
    "polar_plot?"
   ]
  },
  {
   "cell_type": "code",
   "execution_count": null,
   "metadata": {},
   "outputs": [],
   "source": [
    "#Ejemplo 1: LA CIRCUNFERENCIA DE RADIO 1\n",
    "polar_plot(1, (t, 0, 2*pi))"
   ]
  },
  {
   "cell_type": "code",
   "execution_count": null,
   "metadata": {},
   "outputs": [],
   "source": [
    "#Ejemplo 2 \n",
    "polar_plot(cos(t)^4, (t, 0, 2*pi))"
   ]
  },
  {
   "cell_type": "code",
   "execution_count": null,
   "metadata": {},
   "outputs": [],
   "source": [
    "#Ejemplo 3 (Cardioide)\n",
    "polar_plot(1+cos(t),(t,0,2*pi))"
   ]
  },
  {
   "cell_type": "markdown",
   "metadata": {},
   "source": [
    "**Ejercicio 4 .-** Usa el comando de representación de curvas en polares para dibujar varias curvas elegidas por ti. Intenta que alguna de las curvas que dibujes tenga forma de espiral.\n",
    "\n"
   ]
  },
  {
   "cell_type": "code",
   "execution_count": null,
   "metadata": {},
   "outputs": [],
   "source": []
  },
  {
   "cell_type": "markdown",
   "metadata": {},
   "source": [
    "**Parte 3. Curvas dadas por una ecuación implícita.** \n",
    "\n",
    "En otras ocasiones, las curvas vienen dadas por una ecuación implícita $ F(x,y)=cte$. Por ejemplo, $x^2 + y^2 = R^2 $ es la ecuación de la circunferencia de radio $R$ centrada en el origen.\n",
    "\n",
    "El comando de SAGE para representar este tipo de curvas es *implicit_plot*."
   ]
  },
  {
   "cell_type": "code",
   "execution_count": null,
   "metadata": {
    "collapsed": true
   },
   "outputs": [],
   "source": [
    "implicit_plot?"
   ]
  },
  {
   "cell_type": "code",
   "execution_count": null,
   "metadata": {},
   "outputs": [],
   "source": [
    "# Ejemplo: la circunferencia\n",
    "var('x y')\n",
    "implicit_plot(x^2+y^2-2, (x,-3,3), (y,-3,3))+line([(-3,0),(3,0)],color='red')+line([(0,-3),(0,3)],color='red')"
   ]
  },
  {
   "cell_type": "markdown",
   "metadata": {},
   "source": [
    "**Ejercicio 5.-** Representa varias curvas (elegidas por ti) dadas implícitamente (**una de ellas puede ser una hipérbola**)."
   ]
  },
  {
   "cell_type": "code",
   "execution_count": null,
   "metadata": {},
   "outputs": [],
   "source": []
  },
  {
   "cell_type": "markdown",
   "metadata": {},
   "source": [
    "**Ejercicio 6.-** Busca las expresiones de algunas curvas de la geometría clásica: espiral de Arquímedes, espiral logarítmica, lemniscata, cisoide, catenaria, cicloide... y represéntalas usando el comando apropiado en cada caso."
   ]
  },
  {
   "cell_type": "code",
   "execution_count": null,
   "metadata": {},
   "outputs": [],
   "source": []
  },
  {
   "cell_type": "markdown",
   "metadata": {},
   "source": [
    "**Parte 4. Representación de conjuntos de nivel de una función de dos variables.**\n",
    "\n",
    "Podemos resolver este problema de varias maneras:\n",
    "\n",
    "- Usar un bucle *for*, junto con la instrucción *implicit_plot* (podemos añadir la opción de jugar con los colores, para cambiar el color de la curva $ F(x,y)=k $ dependiendo del valor de $k$.)\n",
    "- Usar la opción *contours=* en el comando *implicit_plot* para que dibuje automáticamente el número que le indiquemos de conjuntos de nivel. \n",
    "- Usar la ayuda de Sage para ver las distintas opciones de la instrucción *contour_plot*. Dibujar los conjuntos de nivel de $ F(x,y)=x^2-y^2$, experimentando varias de las opciones que ofrece esta instrucción."
   ]
  },
  {
   "cell_type": "markdown",
   "metadata": {},
   "source": [
    "** COMENTARIO SOBRE EL INICIO DE LISTAS DE GRÁFICOS:**\n",
    "Recordad que para iniciar variables con gráficos que luego se van a ir rellenando al pasar por un bucle, podemos utilizar la opción Graphics(). Es lo mismo que iniciar una lista vacía, cuando escribimos lista=[]"
   ]
  },
  {
   "cell_type": "code",
   "execution_count": null,
   "metadata": {},
   "outputs": [],
   "source": [
    "dibujo=Graphics()\n",
    "for k in [1..4]:\n",
    "    dibujo+=circle((0,0),k,color=[k/4,0,1-(k/4)])\n",
    "dibujo.show(figsize=3)"
   ]
  },
  {
   "cell_type": "markdown",
   "metadata": {},
   "source": [
    "**Ejercicio 7.-** Dibuja los conjuntos de nivel de $F(x,y)=x^2-y^2$ de cada una de las tres maneras anteriores (experimenta con algunas de las opciones que ofrece, en particular, el comando *contour_plot*)."
   ]
  },
  {
   "cell_type": "code",
   "execution_count": null,
   "metadata": {},
   "outputs": [],
   "source": []
  },
  {
   "cell_type": "markdown",
   "metadata": {},
   "source": [
    "**Ejercicio 8.-** Usa la ayuda de Sage para ver las distintas opciones de la instrucción *region_plot*. Utilízalo en algún ejemplo (que puedes elegir)."
   ]
  },
  {
   "cell_type": "code",
   "execution_count": null,
   "metadata": {},
   "outputs": [],
   "source": []
  },
  {
   "cell_type": "markdown",
   "metadata": {},
   "source": [
    "**Parte 5. Curvas en el espacio.** \n",
    "\n",
    "Se manejan de forma similar a las curvas en el plano. La diferencia es que para visualizarlas hay que utilizar el procedimiento *.show_(viewer='tachyon')* sobre la figura generada con *parametric_plot* o *parametric_plot3d* (existe esa instrucción, específica para curvas en el espacio)."
   ]
  },
  {
   "cell_type": "markdown",
   "metadata": {},
   "source": [
    "**Ejercicio 9.-** Una helice circular de radio $a$ y pendiente $b/a$ (o paso $2\\pi b$) se expresa en coordenadas paramétricas mediante\n",
    "$$\n",
    "x(t)=a\\cos t,\\ y(t)=a\\operatorname{sen} t,\\ z(t)=bt.\n",
    "$$\n",
    "Representa la hélice circular de radio 1 y paso $\\pi/5$  con $t$ entre $0$ y $5$ y calcula su longitud. Calcula la recta tangente a la curva en tiempo $t=\\pi$ y representala junto con la hélice. "
   ]
  },
  {
   "cell_type": "code",
   "execution_count": null,
   "metadata": {},
   "outputs": [],
   "source": []
  },
  {
   "cell_type": "markdown",
   "metadata": {},
   "source": [
    "**Parte 6. Superficies en el espacio.** \n",
    "\n",
    "Para representar superficies tenemos las opciones siguientes:\n",
    "\n",
    "- Gráficas de funciones de dos variables.\n",
    "- Conjuntos de nivel de funciones de dos o tres variables.\n",
    "- Superficies parametrizadas $ (x(t,s),y(t,s),z(t,s))$, $(t,s) \\in D \\subset \\mathbb{R}^2 $. (*Esta tercera opción tiene un papel fundamental a la hora de calcular integrales sobre superficies*.)\n",
    "\n",
    "Las instrucciones de SAGE que hay que utilizar para representar superficies dadas como gráficas o conjuntos de nivel son:\n",
    "- *plot3d*,\n",
    "- *implicit_plot3d*,\n",
    "- *parametric_plot3d*."
   ]
  },
  {
   "cell_type": "code",
   "execution_count": null,
   "metadata": {},
   "outputs": [],
   "source": [
    "#mira las páginas de ayuda de esos comandos"
   ]
  },
  {
   "cell_type": "markdown",
   "metadata": {},
   "source": [
    "<p><span style=\"font-size: large;\">Veamos algún ejemplo.</span></p>"
   ]
  },
  {
   "cell_type": "code",
   "execution_count": null,
   "metadata": {},
   "outputs": [],
   "source": [
    "#EJEMPLO DE GRÁFICA DE UNA FUNCIÓN DE 2 VARIABLES\n",
    "\n",
    "reset()\n",
    "var('x y')\n",
    "f=cos(x**2 +y**2)\n",
    "\n",
    "plot3d(f,(x,-3,3),(y,-3,3)).show(viewer='tachyon')"
   ]
  },
  {
   "cell_type": "code",
   "execution_count": null,
   "metadata": {},
   "outputs": [],
   "source": [
    "#PARA COMPARAR, USAMOS CONJUNTOS DE NIVEL EN 2 VARIABLES\n",
    "\n",
    "contour_plot(f,(x,-3,3),(y,-3,3)).show()\n",
    "implicit_plot(f,(x,-3,3),(y,-3,3),contours=10).show()"
   ]
  },
  {
   "cell_type": "code",
   "execution_count": null,
   "metadata": {},
   "outputs": [],
   "source": [
    "#EJEMPLO DE SUPERFICIES DE NIVEL EN 3 VARIABLES.\n",
    "\n",
    "reset()\n",
    "var('x y z')\n",
    "f=x**2 +y**2+z**2-4\n",
    "\n",
    "implicit_plot3d(f,(x,-3,3),(y,-3,3), (z,-3,3)).show(viewer='tachyon')"
   ]
  },
  {
   "cell_type": "code",
   "execution_count": null,
   "metadata": {},
   "outputs": [],
   "source": [
    "# Un paraboloide parametrizado\n",
    "u, v = var('u,v')\n",
    "parametric_plot3d([u*cos(v), u*sin(v), u^2], (u,0,1), (v,0,2*pi+0.4), plot_points=[50,50]).show(viewer='tachyon')\n"
   ]
  },
  {
   "cell_type": "markdown",
   "metadata": {},
   "source": [
    "**Ejercicio 10.-** Usa los comandos anteriores en otros ejemplos de tu elección (una buena idea es incluir el *paraboloide hiperbólico* o *silla de montar*)."
   ]
  },
  {
   "cell_type": "code",
   "execution_count": null,
   "metadata": {},
   "outputs": [],
   "source": []
  },
  {
   "cell_type": "markdown",
   "metadata": {},
   "source": [
    "**Ejercicio 11.-** Explica qué es lo que hace el siguiente código."
   ]
  },
  {
   "cell_type": "code",
   "execution_count": null,
   "metadata": {},
   "outputs": [],
   "source": [
    "var('x y z')\n",
    "peli=[]\n",
    "for k in [-6..6]:\n",
    "    peli.append(implicit_plot3d(x^2+y^2-z^2==k, (x, -3, 3), (y, -3,3), (z, -3,3), color=(abs(k)/6,0,1-abs(k)/6)))\n",
    "movie=animate(peli)\n",
    "movie.show(delay=50)"
   ]
  },
  {
   "cell_type": "code",
   "execution_count": null,
   "metadata": {},
   "outputs": [],
   "source": []
  },
  {
   "cell_type": "markdown",
   "metadata": {},
   "source": [
    "**Parte 7. Derivadas parciales. Planos tangentes.**\n",
    "\n",
    "Calcular derivadas parciales es fácil."
   ]
  },
  {
   "cell_type": "code",
   "execution_count": null,
   "metadata": {},
   "outputs": [],
   "source": [
    "f(x, y) = x^2 + x*y + y^2 - 6*x + 2\n",
    "fx(x,y)= f.diff(x)\n",
    "fy(x,y) = f.diff(y)\n",
    "show(fx)\n",
    "show(fy)"
   ]
  },
  {
   "cell_type": "markdown",
   "metadata": {},
   "source": [
    "Se pueden calcular gradientes con la instrucción *gradient* y hessianos con la instrucción *hessian*.\n",
    "\n",
    "**Ejercicio 12.-** Demuestra con la ayuda de Sage que la función $f$ del ejemplo tiene un mínimo en el punto $(4,-2)$."
   ]
  },
  {
   "cell_type": "code",
   "execution_count": null,
   "metadata": {},
   "outputs": [],
   "source": []
  },
  {
   "cell_type": "markdown",
   "metadata": {},
   "source": [
    "**Ejercicio 13.-** Comprueba que el límite de la función \n",
    "$$\n",
    "f(x,y)=\\begin{cases}\\frac{xy^3}{x^2+y^6}&\\text{si }(x,y)\\neq(0,0),\\\\\n",
    "0&\\text{si }(x,y)=(0,0),\n",
    "\\end{cases}\n",
    "$$\n",
    "cuando $(x,y)$ tiende a $(0,0)$ a lo largo de rectas es 0, y que sin embargo, cuando nos acercamos a lo largo de la curva $x=y^3$ el límite es $1/2$. Representa la función gráficamente."
   ]
  },
  {
   "cell_type": "code",
   "execution_count": null,
   "metadata": {},
   "outputs": [],
   "source": []
  },
  {
   "cell_type": "markdown",
   "metadata": {},
   "source": [
    "**Ejercicio 14.-** Calcula el plano tangente a la gráfica de la función $f(x,y)=x^2+y^4+e^{xy}$ en el punto $(1,0,2)$. Representa simultáneamente la gráfica de la función y dicho plano tangente. "
   ]
  },
  {
   "cell_type": "code",
   "execution_count": null,
   "metadata": {},
   "outputs": [],
   "source": []
  },
  {
   "cell_type": "markdown",
   "metadata": {},
   "source": [
    "**Ejercicio 15.-** Es fácil comprobar que si la gráfica de la función \n",
    "$$\n",
    "f(x,y)=\\begin{cases}\\frac{xy}{\\sqrt{x^2+y^2}}&\\text{si }(x,y)\\neq(0,0),\\\\\n",
    "0&\\text{si }(x,y)=(0,0),\n",
    "\\end{cases}\n",
    "$$\n",
    "tiene un plano tangente en $(0,0,0)$, este tiene que ser el plano $z=0$. Dibuja simultáneamente la gráfica de la función y el plano $z=0$. ¿Dirías que la función es diferenciable en $(0,0)$?"
   ]
  },
  {
   "cell_type": "code",
   "execution_count": null,
   "metadata": {},
   "outputs": [],
   "source": []
  }
 ],
 "metadata": {
  "kernelspec": {
   "display_name": "SageMath 8.7",
   "language": "",
   "name": "sagemath"
  },
  "language_info": {
   "codemirror_mode": {
    "name": "ipython",
    "version": 2
   },
   "file_extension": ".py",
   "mimetype": "text/x-python",
   "name": "python",
   "nbconvert_exporter": "python",
   "pygments_lexer": "ipython2",
   "version": "2.7.15"
  }
 },
 "nbformat": 4,
 "nbformat_minor": 2
}
