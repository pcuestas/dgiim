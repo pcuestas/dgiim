{
 "cells": [
  {
   "cell_type": "markdown",
   "metadata": {},
   "source": [
    "**Ejercicio 1.-** Se introduce una rata en el siguiente laberinto: \n",
    "    \n",
    "![Laberinto](laberinto.png)\n",
    "    \n",
    "La rata no aprende por dónde ha pasado, de manera que se mueve por el recinto aleatoriamente. En la\n",
    "celda 8 hay un aparato que produce descargas eléctricas que llevan a la muerte inmediata de la rata en\n",
    "caso de que llegue a ella. En la celta 7 hay comida. Cada vez que llega a ella, la rata come, dirigiéndose a\n",
    "continuación a la celda 1, pues la puerta de conexión de las celdas 4 y 7 tiene un mecanismo antipánico\n",
    "que sólo permite atravesarla desde la 4 hacia la 7.\n",
    "\n",
    "<ul>\n",
    "<li>Determinar experimentalmente el número medio de pasos que da una rata antes de morir,\n",
    "suponiendo que empieza en la celda 4.</li>\n",
    "<li>Calcular experimentalmente la probabilidad de que una rata coma al menos tres veces\n",
    "antes de morir, suponiendo que empieza en la celda 0.</li>\n",
    "<li>Determinar experimentalmente el número medio de comidas que realiza una rata antes de\n",
    "morir, suponiendo que es introducida al azar en una de las celdas de la fila superior del laberinto\n",
    "(celdas 0, 1 y 7).</li>\n",
    "</ul>"
   ]
  },
  {
   "cell_type": "code",
   "execution_count": 2,
   "metadata": {},
   "outputs": [
    {
     "data": {
      "text/html": [
       "<html><script type=\"math/tex; mode=display\">\\newcommand{\\Bold}[1]{\\mathbf{#1}}\\left(\\begin{array}{rrrrrrrrr}\n",
       "0 & \\frac{1}{2} & \\frac{1}{2} & 0 & 0 & 0 & 0 & 0 & 0 \\\\\n",
       "\\frac{1}{3} & 0 & 0 & \\frac{1}{3} & 0 & 0 & 0 & \\frac{1}{3} & 0 \\\\\n",
       "\\frac{1}{3} & 0 & 0 & \\frac{1}{3} & 0 & 0 & 0 & 0 & \\frac{1}{3} \\\\\n",
       "0 & \\frac{1}{4} & \\frac{1}{4} & 0 & \\frac{1}{4} & \\frac{1}{4} & 0 & 0 & 0 \\\\\n",
       "0 & 0 & 0 & \\frac{1}{3} & 0 & 0 & \\frac{1}{3} & \\frac{1}{3} & 0 \\\\\n",
       "0 & 0 & 0 & \\frac{1}{3} & 0 & 0 & \\frac{1}{3} & 0 & \\frac{1}{3} \\\\\n",
       "0 & 0 & 0 & 0 & \\frac{1}{2} & \\frac{1}{2} & 0 & 0 & 0 \\\\\n",
       "0 & 1 & 0 & 0 & 0 & 0 & 0 & 0 & 0 \\\\\n",
       "0 & 0 & 0 & 0 & 0 & 0 & 0 & 0 & 1\n",
       "\\end{array}\\right)</script></html>"
      ],
      "text/plain": [
       "[  0 1/2 1/2   0   0   0   0   0   0]\n",
       "[1/3   0   0 1/3   0   0   0 1/3   0]\n",
       "[1/3   0   0 1/3   0   0   0   0 1/3]\n",
       "[  0 1/4 1/4   0 1/4 1/4   0   0   0]\n",
       "[  0   0   0 1/3   0   0 1/3 1/3   0]\n",
       "[  0   0   0 1/3   0   0 1/3   0 1/3]\n",
       "[  0   0   0   0 1/2 1/2   0   0   0]\n",
       "[  0   1   0   0   0   0   0   0   0]\n",
       "[  0   0   0   0   0   0   0   0   1]"
      ]
     },
     "metadata": {},
     "output_type": "display_data"
    }
   ],
   "source": []
  },
  {
   "cell_type": "markdown",
   "metadata": {},
   "source": [
    "**Ejercicio 2.-** Repetir el ejercicio 2 de la semana anterior (urnas de Ehrenfest) considerando el modelo como una cadena de Markov."
   ]
  },
  {
   "cell_type": "code",
   "execution_count": null,
   "metadata": {},
   "outputs": [],
   "source": []
  },
  {
   "cell_type": "markdown",
   "metadata": {},
   "source": [
    "**Ejercicio 3 (4 matemáticos quieren colaborar).-** *(Presentado por Javier Sanz-Cruzado y Pablo Angulo en las III Jornadas Sage/Python celebradas en la Universidade de Vigo los d&iacute;as 21 y 22 de Junio de 2012).*\n",
    "\n",
    "<ul>\n",
    "<li>4 matemáticos en un departamento.</li>\n",
    "<li>Cada uno trabaja en un área <em>distinta</em> (Geometría, Análisis, Topología, Estadística).</li>\n",
    "<li>Deciden seguir el siguiente esquema:\n",
    "<ul>\n",
    "<li>Cada noche juegan a las cartas, y como resultado hay un ganador y un perdedor.</li>\n",
    "<li>El <em>perdedor</em> se pasa al área del <em>ganador</em>.</li>\n",
    "<li>Cuando los cuatro trabajen en el mismo área, escriben un artículo y vuelven a empezar.</li>\n",
    "</ul>\n",
    "</ul>\n",
    "\n",
    "<p>Ref: <em>Markov Chains for Collaboration</em> (Robert Mena y Will Murray), Mathematics Magazine</p>\n",
    "\n",
    "\n",
    "Determinar experimentalmente el tiempo medio que emplearán hasta trabajar en la misma área, es decir el promedio de noches que pasarán jugando hasta llegar a esta situación.\n",
    "\n",
    "\n",
    "*Ejemplo:*\n",
    "\n",
    "<p>(<strong>Fulano</strong>) Geometr&iacute;a, (<strong>Mengano</strong>) An&aacute;lisis, (<strong>Zutano</strong>) Topolog&iacute;a, (<strong>Renano</strong>) Estad&iacute;stica</p>\n",
    "<p>Noche 1: <strong>Fulano</strong> gana, Renano <strong>pierde</strong></p>\n",
    "<p>(<strong>Fulano</strong> y <strong>Renano</strong>) Geometr&iacute;a, (<strong>Mengano</strong>) An&aacute;lisis, (<strong>Zutano</strong>) Topolog&iacute;a, <span style=\"text-decoration: line-through;\">Estad&iacute;stica</span></p>\n",
    "<p>Noche 2: <strong>Mengano</strong> gana, <strong>Fulano</strong> pierde</p>\n",
    "<p>(<strong>Fulano</strong> y <strong>Mengano</strong>) An&aacute;lisis, (<strong>Renano</strong>) Geometr&iacute;a, (<strong>Zutano</strong>) Topolog&iacute;a, <span style=\"text-decoration: line-through;\">Estad&iacute;stica</span></p>\n",
    "<p>Noche 3: <strong>Mengano</strong> gana, <strong>Zutano</strong> pierde</p>\n",
    "<p>(<strong>Fulano</strong>, <strong>Mengano</strong> y <strong>Zutano</strong>) An&aacute;lisis, (<strong>Renano</strong>) Geometr&iacute;a, <span style=\"text-decoration: line-through;\">Topolog&iacute;a,</span> <span style=\"text-decoration: line-through;\">Estad&iacute;stica</span></p>\n",
    "<p>Noche 4: <strong>Mengano</strong> gana, <strong>Fulano</strong> pierde</p>\n",
    "<p>(<strong>Fulano</strong>, <strong>Mengano</strong> y <strong>Zutano</strong>) An&aacute;lisis, (<strong>Renano</strong>) Geometr&iacute;a, <span style=\"text-decoration: line-through;\">Topolog&iacute;a</span><span style=\"text-decoration: line-through;\">,</span> <span style=\"text-decoration: line-through;\">Estad&iacute;stica</span></p>\n",
    "<p>Noche 5: <strong>Zutano</strong> gana, <strong>Renano</strong> pierde</p>\n",
    "<p>(<strong>Fulano</strong>, <strong>Mengano</strong>, <strong>Zutano</strong> y <strong>Renano</strong>) An&aacute;lisis, <span style=\"text-decoration: line-through;\">Geometr&iacute;a,</span> <span style=\"text-decoration: line-through;\">Topolog&iacute;a</span><span style=\"text-decoration: line-through;\">,</span> <span style=\"text-decoration: line-through;\">Estad&iacute;stica</span></p>\n",
    "\n",
    "*Sugerencia:* Modelizar el proceso con una <strong>cadena de Markov</strong>. Fijarse solo en cuántas áreas distintas quedan, y <em>cuántas personas trabajan en cada área</em>: particiones de 4. \n",
    "\n",
    "<p>Ejemplo: En el estado <strong>(2,1,1)</strong> tenemos cuatro matemáticos trabajando en tres áreas: <strong>((1,2), (3), (4))</strong></p>\n",
    "<ul>\n",
    "<li>Escogemos un ganador y un perdedor: $4\\cdot(4 -1)$ posibilidades (equiprobables). Por ejemplo, gana <strong>4</strong> y pierde <strong>2</strong>.</li>\n",
    "<li>Sumamos 1 miembro al equipo del ganador y restamos 1 al del perdedor. Por ejemplo, pasamos a <strong>(1,1,2)</strong></li>\n",
    "<li>Ordenamos y eliminamos los equipos vac&iacute;os. En el ejemplo, pasamos a <strong>(2,1,1)</strong></li>\n",
    "</ul>"
   ]
  },
  {
   "cell_type": "code",
   "execution_count": null,
   "metadata": {},
   "outputs": [],
   "source": []
  },
  {
   "cell_type": "markdown",
   "metadata": {},
   "source": [
    "**Ejercicio 4 (lanzamiento de monedas).-** \n",
    "<ul>\n",
    "<li>Tenemos una moneda equilibrada</li>\n",
    "<li>Lanzamos la moneda hasta obtener cuatro caras</li>\n",
    "</ul>\n",
    "<p>Utilizar una cadena de Markov para averiguar <em>cu&aacute;ntas veces hay que lanzar la moneda para obtener cuatro caras.</em></p>\n",
    "<p><strong>Variante</strong><em><strong>.-</strong> Resolver el mismo enunciado para monedas con distintas probabilidades de obtener cara.<br /></em></p>"
   ]
  },
  {
   "cell_type": "code",
   "execution_count": null,
   "metadata": {},
   "outputs": [],
   "source": []
  }
 ],
 "metadata": {
  "kernelspec": {
   "display_name": "SageMath 8.7",
   "language": "",
   "name": "sagemath"
  },
  "language_info": {
   "codemirror_mode": {
    "name": "ipython",
    "version": 2
   },
   "file_extension": ".py",
   "mimetype": "text/x-python",
   "name": "python",
   "nbconvert_exporter": "python",
   "pygments_lexer": "ipython2",
   "version": "2.7.15"
  }
 },
 "nbformat": 4,
 "nbformat_minor": 2
}
