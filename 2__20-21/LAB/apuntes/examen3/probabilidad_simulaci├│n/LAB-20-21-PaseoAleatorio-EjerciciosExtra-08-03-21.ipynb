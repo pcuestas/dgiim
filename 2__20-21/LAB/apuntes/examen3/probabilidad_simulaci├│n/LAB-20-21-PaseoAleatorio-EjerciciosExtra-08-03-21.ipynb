{
 "cells": [
  {
   "cell_type": "markdown",
   "metadata": {},
   "source": [
    "# ** Semana 20 **\n",
    "\n",
    "## Modelos aleatorios ##\n",
    "\n",
    "## Urnas de Polya ## \n",
    "\n",
    "Vamos a trabajar con modelos de las llamadas **Urnas de Polya**, en las que la probabilidad de sacar bolas blancas o negras varía en función de las extracciones anteriores. Usaremos dos modelos.\n",
    "\n",
    "**Urna de Polya fuerte**: *si sacamos una bola de un color, la devolvemos a la urna junto a otras (en número fijo)* **del mismo color**.\n",
    "\n",
    "**Urna de Polya débil**: *si sacamos una bola de un color, la devolvemos a la urna junto a otras (en número fijo)* **del otro color**.\n",
    "\n",
    "Lo habitual es empezar con $1$ bola blanca y $1$ bola negra y que tras cada extracción se meta en la urna $1$ bola adicional (del color que toque), pero nosotros, para experimentar mejor, vamos a escribir programas con estos datos como parámetros.\n",
    "\n",
    "**URNA FUERTE**\n",
    "\n",
    "a) Escribe un programa que, dados el número inicial de bolas blancas y negras, la cantidad de bolas añadidas tras cada extracción, y el número de extracciones sucesivas que hacemos, nos devuelva un gráfico con la proporción de bolas blancas **tras cada extracción**.\n",
    "\n",
    "¿Qué esperarás que pase? ¿Quizás que, tras unos momentos iniciales de oscilación, las bolas tiendan a concentrarse en un solo color?\n",
    "\n",
    "Repite varias veces el experimento empezando con $1$ bola blanca y $1$ negra, añadiendo $1$ bola cada vez y realizando $1000$ extracciones y mira a ver si se confirma tu intuición."
   ]
  },
  {
   "cell_type": "code",
   "execution_count": 1,
   "metadata": {},
   "outputs": [],
   "source": []
  },
  {
   "cell_type": "markdown",
   "metadata": {},
   "source": [
    "b) Para ver cuáles son los resultados posibles, dibuja un histograma que recoja el número final de blancas en $1000$ repeticiones del experimento anterior. ¿Qué distribución obtienes?\n",
    "\n",
    "**NOTA**: te puede interesar modificar ligeramente el programa anterior para que, en lugar del gráfico, te dé el número de bolas blancas."
   ]
  },
  {
   "cell_type": "code",
   "execution_count": null,
   "metadata": {},
   "outputs": [],
   "source": []
  },
  {
   "cell_type": "code",
   "execution_count": null,
   "metadata": {},
   "outputs": [],
   "source": []
  },
  {
   "cell_type": "markdown",
   "metadata": {},
   "source": [
    "**URNA DÉBIL**\n",
    "\n",
    "c) Repite el apartado a) para la Urna de Polya débil.\n",
    "\n",
    "d) Repite el apartado b) para la Urna de Polya débil.\n",
    "\n",
    "¿Qué observas ahora?"
   ]
  },
  {
   "cell_type": "code",
   "execution_count": null,
   "metadata": {},
   "outputs": [],
   "source": []
  },
  {
   "cell_type": "markdown",
   "metadata": {},
   "source": [
    "e) Considera otros juegos de valores, por ejemplo blancas=2, negras=1, remplazo=1; o blancas=1, negras=1, remplazo=5; o blancas=2, negras=1, remplazo=5, y dibuja los correspondientes histogramas para las urnas fuerte y débil. ¿Qué observas?\n",
    "\n",
    "**SUGERENCIA**: Para no tener que teclear (o copiar) el código cada vez, puedes escribir una función que devuelva el histograma para la urna fuerte y otra que devuelva el histograma para la urna débil."
   ]
  },
  {
   "cell_type": "markdown",
   "metadata": {},
   "source": [
    "<p><span style=\"font-size: large;\"><strong>Primero las urnas fuertes</strong></span></p>"
   ]
  },
  {
   "cell_type": "code",
   "execution_count": null,
   "metadata": {},
   "outputs": [],
   "source": []
  },
  {
   "cell_type": "markdown",
   "metadata": {},
   "source": [
    "<p><span style=\"font-size: large;\"><strong>Ahora las urnas débiles.</strong></span></p>"
   ]
  },
  {
   "cell_type": "code",
   "execution_count": null,
   "metadata": {},
   "outputs": [],
   "source": []
  },
  {
   "cell_type": "markdown",
   "metadata": {},
   "source": [
    "## El juego de la ruleta ##\n",
    "\n",
    "Vamos a jugar a **la ruleta**, haciendo solo una apuesta sencilla: a rojo. Si sale un número rojo, nos devuelven la apuesta doblada, en otro caso, perdemos lo apostado. En una ruleta \"justa\", habría 18 números rojos y 18 números negros. En una ruleta (europea) real, hay además un 0. Si sale 0, la casa se queda todas las apuestas (y de ahí sale su beneficio)\n",
    "\n",
    "Vamos a jugar de dos maneras.\n",
    "\n",
    "**PRIMERA FORMA DE JUGAR**\n",
    "\n",
    "Empezamos con un capital inicial y en cada ronda apostamos 1&euro;. Salvo que nos arruinemos antes, jugamos un número máximo de veces y luego nos retiramos.\n",
    "\n",
    "a) Escribe un programa que, dadas la probabilidad de que salga rojo, el capital inicial, y el número máximo de jugadas, nos devuelva el capital que tenemos al retirarnos (bien por ruina o bien por haber hecho el máximo de jugadas).\n",
    "\n",
    "b) Observa que jugar así con un capital inicial mayor que el máximo de jugadas es un paseo aleatorio, empezando en una posición igual al capital inicial, pero si jugamos 100 veces empezando con 10&euro;, hay riesgo de arruinarse y la situación cambia. \n",
    "\n",
    "Utiliza la función anterior para simular 1000 veces sobre una ruleta justa la situación que acabamos de describir y dibuja un histograma con las ganancias en las 1000 repeticiones. ¿Cuál sería la ganancia media en los 1000 intentos? ¿Cuál el número de veces que nos arruinamos?\n",
    "\n",
    "c) Repite el apartado b), pero jugando ahora con una ruleta real. ¿Ves alguna diferencia notable?"
   ]
  },
  {
   "cell_type": "code",
   "execution_count": null,
   "metadata": {},
   "outputs": [],
   "source": []
  },
  {
   "cell_type": "markdown",
   "metadata": {},
   "source": [
    "<p><span style=\"font-size: large;\"><strong>Vamos ahora con la ruleta real.</strong></span></p>"
   ]
  },
  {
   "cell_type": "code",
   "execution_count": null,
   "metadata": {},
   "outputs": [],
   "source": []
  },
  {
   "cell_type": "markdown",
   "metadata": {},
   "source": [
    "**SEGUNDA FORMA DE JUGAR** \n",
    "\n",
    "Empezamos con un capital inicial. En la primera ronda apostamos 1&euro;. Si ganamos, nos retiramos, si perdemos, doblamos la apuesta: 2&euro;. Si perdemos, seguimos doblando la apuesta (4&euro;, 8&euro;, ...) hasta que ganamos una vez, momento en que nos retiramos. Por supuesto, también nos retiramos (forzados) si nos arruinamos, que ahora significa que nos queda menos dinero del que nos tocaría apostar.\n",
    "\n",
    "**Observa** que, si ganamos en la jugada $n$, el capital invertido será $1+2+2^2+\\dots+2^{n-1}=2^n-1$, y lo que nos pagarían sería $2\\cdot 2^{n-1}=2^n$. Por tanto, las posibilidades son arruinarnos o ganar 1&euro;.\n",
    "\n",
    "**Observa** también que si tuviésemos capital infinito no nos arruinaríamos, y \"casi seguramente\" ganaríamos 1&euro;. La única posibilidad de no ganar sería que nunca saliese rojo, lo que es posible pero (salvo que la probabilidad de negro fuese 1) sucede con probabilidad 0 (más adelante aprenderás que se dice que ganamos 1&euro; \"casi seguramente\").\n",
    "\n",
    "Así, lo que nos interesa es considerar un capital inicial $2^n-1$ y ver cuál es la probabilidad de ganar 1&euro; (la opción alternativa es, ahora literalmente, arruinarnos). Por ejemplo, para $n=1$ (tenemos 1&euro; y, o ganamos a la primera o dejamos de jugar), la probabilidad de ganar 1&euro; coincide exactamente con la de que salga rojo.\n",
    "\n",
    "d) Escribe un programa que, dados la probabilidad de que salga rojo y el capital inicial, simule la segunda manera de jugar y devuelva 1 si gano (1&euro;) y 0 si me arruino.\n",
    "\n",
    "e) Utiliza lo anterior para escribir un programa que, dadas la probabilidad de que salga rojo, el capital inicial, y un número de repeticiones de esta segunda forma de jugar, calcule la proporción de veces que ganamos. **Este es un ejemplo donde usamos un programa que ya tenemos como *subrutina* en otro programa.**\n",
    "\n",
    "f) Dibuja, sobre unos mismos ejes y con colores distintos, dos gráficas que representen la proporción de veces que ganamos en 1000 repeticiones para capitales iniciales $2^n-1$ con $n\\in\\{1,\\dots,15\\}$, una gráfica jugando con una ruleta \"justa\" y la otra con una ruleta real. ¿Qué observas? ¿Qué pasa si lo haces con una ruleta con probabilidad de rojo más pequeña?"
   ]
  },
  {
   "cell_type": "code",
   "execution_count": null,
   "metadata": {},
   "outputs": [],
   "source": []
  }
 ],
 "metadata": {
  "kernelspec": {
   "display_name": "SageMath 8.7",
   "language": "",
   "name": "sagemath"
  },
  "language_info": {
   "codemirror_mode": {
    "name": "ipython",
    "version": 2
   },
   "file_extension": ".py",
   "mimetype": "text/x-python",
   "name": "python",
   "nbconvert_exporter": "python",
   "pygments_lexer": "ipython2",
   "version": "2.7.15"
  }
 },
 "nbformat": 4,
 "nbformat_minor": 2
}
