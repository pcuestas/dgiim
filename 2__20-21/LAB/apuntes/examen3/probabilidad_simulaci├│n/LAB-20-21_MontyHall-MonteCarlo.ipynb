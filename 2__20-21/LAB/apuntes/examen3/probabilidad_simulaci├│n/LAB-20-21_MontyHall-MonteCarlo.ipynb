{
 "cells": [
  {
   "cell_type": "markdown",
   "metadata": {},
   "source": [
    "## El problema de las tres puertas o <a href=\"https://es.wikipedia.org/wiki/Problema_de_Monty_Hall\" target=\"_blank\">problema de Monty Hall</a>\n",
    "\n",
    "En un concurso se ofrece al concursante la posibilidad de elegir entre tres puertas cerradas. El premio consiste en llevarse lo que se encuentra detrás de la elegida, y se sabe con certeza que tras una de ellas se oculta un coche y tras las otras dos sendas cabras.\n",
    "\n",
    "Una vez que el concursante haya elegido una puerta, el presentador, que sabe lo que hay detrás de cada puerta, abrirá una de las otras dos en la que haya (seguro) una cabra. A continuación, le da la opción al concursante de cambiar, si lo desea, de puerta (**tiene dos opciones: cambiar o no**).\n",
    "\n",
    "> **La cuestión es si es ventajoso para el concursante mantener su elección original, si es mejor cambiar de puerta, o si da lo mismo**."
   ]
  },
  {
   "cell_type": "markdown",
   "metadata": {},
   "source": [
    "*La respuesta es que, **bajo las condiciones indicadas** (es importante que el presentador sepa dónde está el coche, y por tanto *siempre* abrirá una puerta \"con cabra\") la estrategia de **cambiar de puerta multiplica por dos** la probabilidad de llevarse el coche.*\n",
    "\n",
    "Esto puede parecer paradójico, y cuando el problema se hizo popular <a href=\"https://priceonomics.com/the-time-everyone-corrected-the-worlds-smartest/\" target=\"_blank\">dio lugar a intensas discusiones</a>.\n",
    "\n",
    "Simulemos las dos estrategias posibles para ver que éste es, efectivamente, el resultado. Para aprender más sobre el problema, tomaremos un número arbitrario ($\\ge 3$) de puertas."
   ]
  },
  {
   "cell_type": "code",
   "execution_count": null,
   "metadata": {},
   "outputs": [],
   "source": []
  },
  {
   "cell_type": "markdown",
   "metadata": {},
   "source": [
    "**Ejercicio 1.-** a) Define una función que, dado un número ${\\tt npuertas}\\ge 3$, de puertas con el que jugar, y suponiendo que detrás de una de ellas hay un coche y detrás de todas las demás una cabra, simule la estrategia **\"cuando me ofrecen cambiar, cambio\"** y devuelva como respuesta ${\\tt True}$ si al final gano el coche y ${\\tt False}$ si al final gano una cabra. Aunque matemáticamente se podría simplificar, queremos hacer una simulación completa. Para ello **debes**:\n",
    "- Colocar el coche en una puerta al azar.\n",
    "- Seleccionar una puerta al azar.\n",
    "- Abrir al azar una puerta que no sea ni la del coche ni la seleccionada.\n",
    "- Cambiar al azar a otra puerta que no sea ni la abierta ni la seleccionada inicialmente.\n",
    "- Comprobar si el coche está o no tras esta última puerta.\n",
    "\n",
    "Define también una función similar para la estrategia \"**cuando me ofrecen cambiar, NO cambio**\"."
   ]
  },
  {
   "cell_type": "code",
   "execution_count": null,
   "metadata": {},
   "outputs": [],
   "source": []
  },
  {
   "cell_type": "markdown",
   "metadata": {},
   "source": [
    "b) Utilizando lo anterior, escribe sendas funciones que, dados un número ${\\tt npuertas}\\ge 3$ de puertas y un número ${\\tt nrep}$ de repeticiones, realicen ese número de repeticiones de las estrategias cambio/no cambio respectivamente y nos den como resultado la proporción de veces que nos llevaríamos el coche con cada una de las dos estrategias.\n",
    "\n",
    "Utilízalas para comprobar que, efectivamente, para $3$ puertas la probabilidad de éxito con la estrategia \"cambio\" es $2/3$ mientras que con la estrategia \"no cambio\" es de $1/3$."
   ]
  },
  {
   "cell_type": "code",
   "execution_count": null,
   "metadata": {},
   "outputs": [],
   "source": []
  },
  {
   "cell_type": "markdown",
   "metadata": {},
   "source": [
    "**Observación**: Si $P$ es el número de puertas, la probabilidad de llevarse el coche con la estrategia \"no cambiar\" es $\\frac 1P$ (¿por qué?), mientras que con la estrategia \"cambiar\" es\n",
    "$$\\frac{P-1}P\\frac{1}{P-2}$$\n",
    "(elegir una puerta sin coche en la primera y la del coche al cambiar). Vemos así que la probabilidad de llevarse el coche es siempre superior con la estrategia \"cambiar\" que con la de \"no cambiar\".\n",
    "\n",
    "Pero la diferencia entre ambas, $\\frac1{P(P-2)}$, se va rápido a $0$ cuando crece el número de puertas $P$. Así, al realizar simulaciones con pocas repeticiones, puede ocurrir que el error de la simulación sea mayor a esta y producir simulaciones en que parezca mejor la estrategia de \"no cambiar\"."
   ]
  },
  {
   "cell_type": "code",
   "execution_count": null,
   "metadata": {},
   "outputs": [],
   "source": []
  },
  {
   "cell_type": "markdown",
   "metadata": {},
   "source": [
    "## El método de Monte Carlo\n",
    "\n",
    "En esta sesión vamos a usar métodos probabilísticos (eligiendo puntos aleatoriamente) para calcular áreas (y por tanto, indirectamente, integrales)."
   ]
  },
  {
   "cell_type": "markdown",
   "metadata": {},
   "source": [
    "Consideramos el cuadrado $[0,1]\\times [0,1]$ y su intersección con la circunferencia de centro el origen y\n",
    "radio 1. Sabemos que el área del sector circular es $\\pi/4$. Podemos calcular una aproximación de esta área generando puntos con coordenadas aleatorias en el cuadrado y contando cuántos caen dentro del sector. La fracción de los que caen dentro multiplicada por el área del cuadrado, 1, debe ser aproximadamente igual al área del sector. "
   ]
  },
  {
   "cell_type": "code",
   "execution_count": null,
   "metadata": {},
   "outputs": [],
   "source": []
  },
  {
   "cell_type": "markdown",
   "metadata": {},
   "source": [
    "Como hemos visto,  podemos aproximar el área de una región limitada del plano eligiendo puntos aleatoriamente, mirando la\n",
    "proporción entre el número de puntos dentro de la región y el total, y multiplicando por el área total (la de la región sobre la que se efectúan los\n",
    "lanzamientos). Estamos implícitamente aceptando que la probabilidad de caer aleatoriamente en una región es proporcional a su área."
   ]
  },
  {
   "cell_type": "markdown",
   "metadata": {},
   "source": [
    "En los siguientes ejercicios aprovechamos este hecho para aproximar áreas, delimitándolas en una región rectangular adecuada, $[a,b]\\times[c,d]$, y\n",
    "generando coordenadas $x\\in[a,b]$, $y\\in[c,d]$ de forma aleatoria.\n",
    "\n",
    "¿Cómo podemos producir números \"reales\" aleatorios con distribución uniforme en un intervalo cualquiera? Con la instrucción *random()* y un poco de astucia."
   ]
  },
  {
   "cell_type": "code",
   "execution_count": null,
   "metadata": {},
   "outputs": [],
   "source": []
  },
  {
   "cell_type": "markdown",
   "metadata": {},
   "source": [
    "**Ejercicio 2.-** Aproximar el área entre las funciones $f(x)=x^2+x$ y $g(x)=x^3+x^2-2x-2$ en el intervalo $[-2,3]$, generando puntos aleatorios en el rectángulo adecuado."
   ]
  },
  {
   "cell_type": "code",
   "execution_count": null,
   "metadata": {},
   "outputs": [],
   "source": []
  },
  {
   "cell_type": "markdown",
   "metadata": {},
   "source": [
    "**Ejercicio 3.-** Usar el método de Monte Carlo para determinar el área de la region sombreada de la siguiente figura,\n",
    "\n",
    "![Grafica_Montecarlo](region.png)\n",
    "\n",
    "formada por los puntos que están en la intersección del círculo de centro $(-1,2)$ y radio 2, el triángulo de vértices $(0,3)$, $(-2,0)$, $(2,0)$ y el interior de la elipse de ecuación $$x^2+2x(y-1)+8(y-1)^2+(y-1)=3$$\n",
    "que están\n",
    "bajo la gráfica de la función $f(x)=\\frac32+\\frac12\\cos(5x+2)$."
   ]
  },
  {
   "cell_type": "markdown",
   "metadata": {},
   "source": [
    "*Solución.* Podemos encuadrar la región de la que nos piden aproximar el área con el rectángulo (de área 6):\n",
    "$$[-2,1)\\times[0,2)=\\{(x,y)\\in\\mathbb{R}^2: -2\\le x<1, 0\\le y<2\\}.$$"
   ]
  },
  {
   "cell_type": "code",
   "execution_count": null,
   "metadata": {},
   "outputs": [],
   "source": []
  },
  {
   "cell_type": "code",
   "execution_count": null,
   "metadata": {},
   "outputs": [],
   "source": []
  },
  {
   "cell_type": "code",
   "execution_count": null,
   "metadata": {},
   "outputs": [],
   "source": []
  }
 ],
 "metadata": {
  "kernelspec": {
   "display_name": "SageMath 8.7",
   "language": "",
   "name": "sagemath"
  },
  "language_info": {
   "codemirror_mode": {
    "name": "ipython",
    "version": 2
   },
   "file_extension": ".py",
   "mimetype": "text/x-python",
   "name": "python",
   "nbconvert_exporter": "python",
   "pygments_lexer": "ipython2",
   "version": "2.7.15"
  }
 },
 "nbformat": 4,
 "nbformat_minor": 2
}
