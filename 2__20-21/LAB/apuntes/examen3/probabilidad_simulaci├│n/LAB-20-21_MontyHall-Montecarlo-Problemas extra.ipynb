{
 "cells": [
  {
   "cell_type": "markdown",
   "metadata": {},
   "source": [
    "**Ejercicio 1.-** Consideremos la región encerrada por las gráficas de las funciones:\n",
    "\n",
    "$$\n",
    "\\begin{aligned}\n",
    "f(x)&=2\\tan(1-x^3)\\cos(1-x^2)\\quad &\\text{ en el intervalo }[0, 0.5],\\\\\n",
    "g(x)&=f(1-x)\\quad&\\text{ en el intervalo }[0.5, 0.8],\n",
    "\\end{aligned}\n",
    "$$\n",
    "y la poligonal que une los puntos $(0, f(0))$, $(0, 0.5 f(0))$, $(0.5, 0)$, $(0.8, 0.6 f(0))$ y $(0.8, g(0.8))$.\n",
    "\n",
    "(a) Representar la región y encuadrarla, adecuadamente, para aproximar, por el método de Monte\n",
    "Carlo, su área.\n",
    "\n",
    "(b) Desarrollar el cálculo con  $M = 10^4$ lanzamientos aleatorios sobre la región rectangular.\n",
    "\n",
    "(c) Hacer un gráfico que ilustre el método."
   ]
  },
  {
   "cell_type": "code",
   "execution_count": null,
   "metadata": {},
   "outputs": [],
   "source": []
  },
  {
   "cell_type": "markdown",
   "metadata": {},
   "source": [
    "**Ejercicio 2.-** La curva descrita en coordenadas polares por $r=1-\\cos \\theta$, $\\theta\\in [0,2\\pi)$ recibe el nombre de *cardioide*. Ejecuta la celda siguiente para ver qué forma tiene."
   ]
  },
  {
   "cell_type": "code",
   "execution_count": null,
   "metadata": {},
   "outputs": [],
   "source": []
  },
  {
   "cell_type": "markdown",
   "metadata": {},
   "source": [
    "(a) Estima el área encerrada por la cardioide mediante una simulación de Monte Carlo."
   ]
  },
  {
   "cell_type": "code",
   "execution_count": null,
   "metadata": {},
   "outputs": [],
   "source": []
  },
  {
   "cell_type": "markdown",
   "metadata": {},
   "source": [
    "(b) El área encerrada por una curva dada en coordenadas polares por la fórmula $r = f(\\theta)$, $\\theta\\in [0, 2\\pi)$, es\n",
    "$$\n",
    "\\text{Área} =\\frac12\\int_0^{2\\pi}f^2(\\theta)\\,{\\rm d}\\theta.\n",
    "$$\n",
    "\n",
    "Estimar mediante el método de Montencarlo esta integral con $f(\\theta)=1-\\cos\\theta$ y comprobar que coincide aproximadamente con el área encerrada por la cardioide obtenida en el apartado anterior. "
   ]
  },
  {
   "cell_type": "code",
   "execution_count": null,
   "metadata": {},
   "outputs": [],
   "source": []
  },
  {
   "cell_type": "markdown",
   "metadata": {},
   "source": [
    "(c) Calcula el área encerrada por la cardioide de manera \"exacta\" mediante la fórmula del apartado (b) usando alguna de las fórmulas para cálculo de integrales de Sagemath."
   ]
  },
  {
   "cell_type": "code",
   "execution_count": null,
   "metadata": {},
   "outputs": [],
   "source": []
  },
  {
   "cell_type": "markdown",
   "metadata": {},
   "source": [
    "**Ejercicio 3.** Estimar mediante el método de Monte Carlo el volumen de\n",
    "$$\n",
    "V=\\{(x,y,z)\\in\\mathbb{R}^3: 5(x^4 + y^4 + z^4) - 5(x^2 + y^2 + z^2) +2\\le0\\}.\n",
    "$$\n",
    "\n",
    "*Sugerencia:* Ejecuta la celda siguiente para hacerte una idea de cómo es $V$.  "
   ]
  },
  {
   "cell_type": "code",
   "execution_count": null,
   "metadata": {},
   "outputs": [],
   "source": [
    "var('x y z')\n",
    "implicit_plot3d(5*(x^4 + y^4 + z^4) - 5*(x^2 + y^2 + z^2) +2==0, (x,-1.2,1.2), (y,-1.2,1.2), (z,-1.2,1.2)).show(viewer='tachyon')"
   ]
  },
  {
   "cell_type": "code",
   "execution_count": null,
   "metadata": {},
   "outputs": [],
   "source": []
  },
  {
   "cell_type": "markdown",
   "metadata": {},
   "source": [
    "## La Paradoja de Bertrand ## \n",
    "\n",
    "<span style=\"font-size: large;\">Joseph Bertrand propuso en su libro *Calcul des probabilités* (1899) el siguiente problema: <span style=\"color: #0000ff;\"><b>si elegimos al azar una cuerda del círculo de radio 1, ¿cuál es la probabilidad de que la longitud de dicha cuerda sea mayor que la longitud del lado del triángulo equilátero inscrito en el círculo?</b></span> La idea de Bertrand era mostrar con este ejemplo que las probabilidades pueden no estar bien definidas si no se determina con precisión el procedimiento que produce el valor de la variable aleatoria.</span>\n",
    "\n",
    "<span style=\"font-size: large;\">Observemos que dar un una cuerda del círculo es equivalente a dar su punto medio. No tienes que demostrar esto pero la siguiente figura debería convencerte: lo que acabamos de afirmar se sigue de que la mediatriz de la cuerda es siempre un radio del círculo.</span>\n",
    "\n",
    "![DibujoMdeH](Ilustracion_Bertrand.png)\n",
    "\n",
    "<span style=\"font-size: large;\">Teniendo en cuenta lo anterior, vamos a considerar cuatro procedimientos para elegir al azar una cuerda. <span style=\"color: #ff0000;\"><b>Todas las elecciones aleatorias serán uniformes en los intervalos correspondientes, es decir, se haran utilizando de manera adecuada la función <span style=\"font-family: terminal, monaco;\">random()</span>.</b></span></span>\n",
    "\n",
    "<ul>\n",
    "<li><span style=\"font-size: large;\"><span style=\"color: #0000ff;\"><b>a) EXTREMOS ALEATORIOS.</b></span> Elegimos al azar, y de manera independiente, dos puntos en la circunferencia de radio 1 (es decir, dos ángulos). Esos puntos serán los extremos de la cuerda.</span></li>\n",
    "$$ $$\n",
    "<li><span style=\"font-size: large;\"><span style=\"color: #0000ff;\"><b>b) RADIOS ALEATORIOS.</b></span> Elegimos primero al azar un radio del círculo (es decir, un ángulo), y después elegimos al azar un punto sobre ese radio. Ese punto será el punto medio de la cuerda.</span>\n",
    "$$ $$\n",
    "<li><span style=\"font-size: large;\"><span style=\"color: #0000ff;\"><b>c) PUNTOS MEDIOS ALEATORIOS CON ELECCIÓN SIMULTÁNEA DE COORDENADAS.</b></span> Elegimos al azar, y de manera independiente, dos números reales $-1\\le x, y < 1$ (que un signo sea $\\le$ y otro $<$ es por el funcionamiento de <span style=\"font-family: terminal, monaco;\">random()</span>, pero no tiene ninguna importancia). Si el punto $(x,y)$ no está dentro del círculo de radio 1, lo descartamos y sacamos otro. Si está dentro del círculo, $(x,y)$ será el punto medio de la cuerda. </span>\n",
    "$$ $$\n",
    "<li><span style=\"font-size: large;\"><span style=\"color: #0000ff;\"><b>d) PUNTOS MEDIOS ALEATORIOS CON ELECCIÓN ORDENADA DE COORDENADAS:</b></span> Elegimos primero al azar un número real $-1\\le x < 1$. Después elegimos al azar otro número real $y$ en el intervalo más grande, que depende de $x$, que garantice que el punto $(x,y)$ está dentro del círculo de radio 1. Este punto $(x,y)$ será el punto medio de la cuerda. </span>\n",
    "</ul>\n",
    "\n",
    "<span style=\"color: #0000ff;\"><span style=\"font-size: large;\">Utilizando estos cuatro procedimientos para seleccionar las cuerdas, las respuestas a la pregunta de Bertrand son, respectivamente:</span></span>\n",
    "\n",
    "<ul>\n",
    "<li><span style=\"font-size: large;\"><b>a) 1/3 (=0.3333...)</b></span></li>\n",
    "$$ $$\n",
    "<li><span style=\"font-size: large;\"><b>b) 1/2 (=0.5)</b></span></li>\n",
    "$$ $$\n",
    "<li><span style=\"font-size: large;\"><b>c) 1/4 (=0.25)</b></span></li>\n",
    "$$ $$\n",
    "<li><span style=\"font-size: large;\"><b>d) $\\frac 12 \\int_{0}^{1/2} \\sqrt{\\frac{1-4x^2}{1-x^2}}\\, dx$ (=0.2031...)</b></span>\n",
    "</ul>\n",
    "\n",
    "\n",
    "<span style=\"color: #ff0000;\"><span style=\"font-size: large;\"><b>Para cada uno de los cuatro ejercicios siguientes, haz lo que se pide utilizando los cuatro métodos indicados. Observa que en los ejercicios 4 y 5 tienes que generar al azar puntos que sean los puntos medios de la cuerda, mientras que en los ejercicios 6 y 7 tienes que generar las cuerdas propiamente dichas.</b></span></span>"
   ]
  },
  {
   "cell_type": "markdown",
   "metadata": {},
   "source": [
    "<p><span style=\"font-size: large;\"><span style=\"color: #ff0000;\"><b>Ejercicio 4.-</b></span> Dibuja en rojo la circunferencia de radio 1 y, dentro de ella, en azul, 10.000 puntos elegidos aleatoriamente (por cada uno de los métodos).</span>"
   ]
  },
  {
   "cell_type": "code",
   "execution_count": null,
   "metadata": {},
   "outputs": [],
   "source": []
  },
  {
   "cell_type": "code",
   "execution_count": null,
   "metadata": {},
   "outputs": [],
   "source": []
  },
  {
   "cell_type": "code",
   "execution_count": null,
   "metadata": {},
   "outputs": [],
   "source": []
  },
  {
   "cell_type": "code",
   "execution_count": null,
   "metadata": {},
   "outputs": [],
   "source": []
  },
  {
   "cell_type": "markdown",
   "metadata": {},
   "source": [
    "<p><span style=\"font-size: large;\"><span style=\"color: #ff0000;\"><b>Ejercicio 5.-</b></span> Los dibujos anteriores no muestran todos la misma distribución de puntos. Esto es ya una primera aparición de la paradoja de Bertrand: la cuerda es mayor que el lado del triángulo inscrito $\\iff$ su punto medio cae dentro del círculo de radio $1/2$, y la probabilidad de que esto suceda depende del método elegido para encontrar las cuerdas o, lo que es equivalente, sus puntos medios.</span>\n",
    "\n",
    "<span style=\"font-size: large;\"> Genera al azar (por cada uno de los métodos) 1.000 puntos dentro del círculo de radio 1 y encuentra, dando el resultado en forma decimal, qué proporción de ellos caen dentro del círculo de radio 1/2. </span>\n",
    "\n",
    "<span style=\"font-size: large;\"> **Nota.** Los resultados deberían ser próximos a las probabilidades dadas en la introducción. </span>"
   ]
  },
  {
   "cell_type": "code",
   "execution_count": null,
   "metadata": {},
   "outputs": [],
   "source": []
  },
  {
   "cell_type": "code",
   "execution_count": null,
   "metadata": {},
   "outputs": [],
   "source": []
  },
  {
   "cell_type": "code",
   "execution_count": null,
   "metadata": {},
   "outputs": [],
   "source": []
  },
  {
   "cell_type": "code",
   "execution_count": null,
   "metadata": {},
   "outputs": [],
   "source": []
  },
  {
   "cell_type": "markdown",
   "metadata": {},
   "source": [
    "<p><span style=\"font-size: large;\"><span style=\"color: #ff0000;\"><b>Ejercicio 6.-</b></span> Dibuja en rojo la circunferencia de radio 1 y, dentro de ella, en azul, 500 cuerdas elegidas aleatoriamente (por cada uno de los métodos).</span>"
   ]
  },
  {
   "cell_type": "code",
   "execution_count": null,
   "metadata": {},
   "outputs": [],
   "source": []
  },
  {
   "cell_type": "code",
   "execution_count": null,
   "metadata": {},
   "outputs": [],
   "source": []
  },
  {
   "cell_type": "code",
   "execution_count": null,
   "metadata": {},
   "outputs": [],
   "source": []
  },
  {
   "cell_type": "code",
   "execution_count": null,
   "metadata": {},
   "outputs": [],
   "source": []
  },
  {
   "cell_type": "markdown",
   "metadata": {},
   "source": [
    "<p><span style=\"font-size: large;\"><span style=\"color: #ff0000;\"><b>Ejercicio 7.-</b></span> Como era de esperar, tampoco en el ejercicio anterior muestran todos los dibujos la misma distribución de cuerdas. Vamos ahora a estudiar directamente la Paradoja de Bertrand, es decir, a comparar la longitud de las cuerdas con $\\sqrt{3}$, que es la longitud del lado del triángulo equilátero inscrito en el círculo.</span>\n",
    "\n",
    "<span style=\"font-size: large;\"> Genera al azar (por cada uno de los métodos) los extremos de 1.000 cuerdas del círculo de radio 1, calcula la distancia entre dichos extremos para cada cuerda, y encuentra, dando el resultado en forma decimal, qué proporción de estas distancias son $\\ge\\sqrt{3}$. </span>\n",
    "\n",
    "<span style=\"font-size: large;\"> **Nota.** De nuevo, los resultados deberían ser próximos a las probabilidades dadas en la introducción. </span>"
   ]
  },
  {
   "cell_type": "code",
   "execution_count": null,
   "metadata": {},
   "outputs": [],
   "source": []
  },
  {
   "cell_type": "code",
   "execution_count": null,
   "metadata": {},
   "outputs": [],
   "source": []
  },
  {
   "cell_type": "code",
   "execution_count": null,
   "metadata": {},
   "outputs": [],
   "source": []
  },
  {
   "cell_type": "code",
   "execution_count": null,
   "metadata": {},
   "outputs": [],
   "source": []
  }
 ],
 "metadata": {
  "kernelspec": {
   "display_name": "SageMath 8.7",
   "language": "",
   "name": "sagemath"
  },
  "language_info": {
   "codemirror_mode": {
    "name": "ipython",
    "version": 2
   },
   "file_extension": ".py",
   "mimetype": "text/x-python",
   "name": "python",
   "nbconvert_exporter": "python",
   "pygments_lexer": "ipython2",
   "version": "2.7.15"
  }
 },
 "nbformat": 4,
 "nbformat_minor": 2
}
