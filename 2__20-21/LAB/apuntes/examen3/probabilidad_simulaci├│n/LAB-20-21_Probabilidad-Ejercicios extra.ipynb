{
 "cells": [
  {
   "cell_type": "markdown",
   "metadata": {},
   "source": [
    "**Ejercicio 1.-** Calcula, experimentalmente, la probabilidad de obtener a lo más $300$ caras en $1000$ lanzamientos de una moneda para la que la probabilidad de cara es $\\frac{k}{10}$, para distintos valores $k=1,2,\\dots,9$."
   ]
  },
  {
   "cell_type": "code",
   "execution_count": null,
   "metadata": {},
   "outputs": [],
   "source": []
  },
  {
   "cell_type": "markdown",
   "metadata": {},
   "source": [
    "**Ejercicio 2.-** Queremos saber cuántas veces tenemos que repetir un experimento con probabilidad de **fracaso** $p$ hasta tener éxito. La respuesta teórica es $\\frac{1}{1-p}$ (observa que esta fórmula es coherente en los casos extremos: si $p=0$, tendremos éxito en el primer intento; si $p=1$ \"necesitamos infinitos intentos\", porque siempre fracasaremos). Se pide que simules esta situación.\n",
    "\n",
    "**a)** Escribe un procedimiento que, dada $p$ repita el experimento hasta tener éxito y nos diga cuántos intentos hemos necesitado."
   ]
  },
  {
   "cell_type": "code",
   "execution_count": null,
   "metadata": {},
   "outputs": [],
   "source": []
  },
  {
   "cell_type": "markdown",
   "metadata": {},
   "source": [
    "**b)** Escribe un procedimiento que, dada $p$, repita $M=1000$ veces lo hecho en a) y nos dé el número medio de intentos necesitados en las $M$ repeticiones."
   ]
  },
  {
   "cell_type": "code",
   "execution_count": null,
   "metadata": {},
   "outputs": [],
   "source": []
  },
  {
   "cell_type": "markdown",
   "metadata": {},
   "source": [
    "**c)** Escribe un procedimiento que haga lo indicado en el apartado b) para los valores de $p=\\frac{n}{100}$ con $n\\in[50,99]$, y compare gráficamente los valores obtenidos para cada $p$ con la función $f(p)=\\frac{1}{1-p}$."
   ]
  },
  {
   "cell_type": "code",
   "execution_count": null,
   "metadata": {},
   "outputs": [],
   "source": []
  },
  {
   "cell_type": "markdown",
   "metadata": {},
   "source": [
    "**Ejercicio 3.-** En cada apartado, escribe una función para simular un lanzamiento del tipo de dado descrito. Simula experimentos aleatorios adecuados para aproximar las probabilidades pedidas.\n",
    "\n",
    "**a)** Se tira un dado perfecto. ¿Cuál será la probabilidad de conseguir salir antes del cuarto turno en una partida de parchís? Recuerda que en el parchís  se sale cuando el dado marca un 5."
   ]
  },
  {
   "cell_type": "code",
   "execution_count": null,
   "metadata": {},
   "outputs": [],
   "source": []
  },
  {
   "cell_type": "markdown",
   "metadata": {},
   "source": [
    "**b)** Se juega al parchís con un dado trucado en el $6$: este sale el doble de veces que los demás. Si se saca $6$ en un turno, el jugador repite turno; pero si saca tres seises seguidos, la ficha vuelve a la casilla de inicio. Sin tener en cuenta otras reglas que permitan volver a tirar, aproxima la probabilidad de regresar al inicio en un turno del parchís si se juega con este dado trucado."
   ]
  },
  {
   "cell_type": "code",
   "execution_count": null,
   "metadata": {},
   "outputs": [],
   "source": []
  },
  {
   "cell_type": "markdown",
   "metadata": {},
   "source": [
    "**c)** Se tiran dos dados perfectos. ¿Cuál es la probabilidad de conseguir al menos un $7$ (como suma de los dos) en tres tiradas consecutivas de estos dos dados?"
   ]
  },
  {
   "cell_type": "code",
   "execution_count": null,
   "metadata": {},
   "outputs": [],
   "source": []
  },
  {
   "cell_type": "markdown",
   "metadata": {},
   "source": [
    "**d)** Se tienen dos dados trucados. En el primero, se consigue $6$ el doble de veces que los demás resultados. En el segundo, el $5$ se obtiene la mitad de veces que los demás. Calcula, por fuerza bruta (es decir, recorriendo todas las posibilidades) y también simulando, la probabilidad de conseguir un $11$ al lanzar estos dos dados.\n",
    "\n",
    "*Nota:* Quizás resulte sorprendente que, aun no siendo muchos los resultados posibles, recorrerlos todos no resulta más rápido que simular $10^5$ repeticiones del lanzamiento.\n",
    "\n",
    "*Observación:*  ¿Cuántas caras tendrá un dado \"físico\" que se comporte como el segundo? ¿Cuál es el número total de posibles (pares de) resultados al lanzar los dos dados? ¿Cuáles de esos resultados dan suma 11?"
   ]
  },
  {
   "cell_type": "code",
   "execution_count": null,
   "metadata": {},
   "outputs": [],
   "source": []
  },
  {
   "cell_type": "markdown",
   "metadata": {},
   "source": [
    "**Ejercicio 4.-**\n",
    "\n",
    "<span style=\"font-size: medium;\">\n",
    "Todo este ejercicio trata sobre la siguiente situación. Tenemos 4 dados iguales con forma de icosaedro regular. En cada uno de ellos las caras están marcadas como sigue:\n",
    "\n",
    "\n",
    "* <span style=\"font-size: medium;\">Dos caras tienen un 2.\n",
    "* <span style=\"font-size: medium;\">Tres caras tienen un 3.\n",
    "* <span style=\"font-size: medium;\">Cuatro caras tienen un 4.\n",
    "* <span style=\"font-size: medium;\">Cinco caras tienen un 5.\n",
    "* <span style=\"font-size: medium;\">Seis caras tienen un 6.\n",
    "\n",
    "<span style=\"font-size: medium;\">\n",
    "<span style=\"color: #ff0000;\">**Lanzamos los cuatro dados y apuntamos la suma de las caras que muestran (tendremos así un número entre 8 y 24).**</span>\n",
    "\n",
    "<span style=\"font-size: medium;\">\n",
    "**a)** Calcula la probabilidad de que, al lanzar los cuatro dado, **la suma sea 20 o más**. <span style=\"color: #ff0000;\"> En este apartado debes calcular el valor **exacto** de esta probabilidad recorriendo exhaustivamente los $20^4$ posibles resultados del lanzamiento de los dados.</span> (Es mejor que des la probabilidad en forma decimal)."
   ]
  },
  {
   "cell_type": "code",
   "execution_count": null,
   "metadata": {},
   "outputs": [],
   "source": []
  },
  {
   "cell_type": "markdown",
   "metadata": {},
   "source": [
    "<span style=\"font-size: medium;\">\n",
    "**b)** Se trata ahora de estimar la probabilidad anterior <span style=\"color: #ff0000;\"> simulando lanzamientos.</span>\n",
    "\n",
    "<span style=\"font-size: medium;\">\n",
    "**Simula 100.000 lanzamientos de los cuatro dados y usa los resultados para dar un valor aproximado de la probabilidad de que la suma de las caras que muestran sea 20 o más.** ¿En cuanto se diferencia este valor estimado de la probabilidad real?"
   ]
  },
  {
   "cell_type": "code",
   "execution_count": null,
   "metadata": {},
   "outputs": [],
   "source": []
  },
  {
   "cell_type": "markdown",
   "metadata": {},
   "source": [
    "<span style=\"font-size: medium;\">\n",
    "**c)** Recorre de nuevo los $20^4$ posibles resultados del lanzamiento de los dados y <span style=\"color: #ff0000;\">apunta en la lista *suma_dados* (**no cambies el nombre**) la suma de los valores que muestran los 4 dados</span>. Utiliza el código que se da para crear un histograma que muestre con que frecuencia aparece cada suma (que, como hemos dicho, estará entre 8 y 24)."
   ]
  },
  {
   "cell_type": "code",
   "execution_count": null,
   "metadata": {},
   "outputs": [],
   "source": [
    "suma_dados=[]\n",
    "#COMPLETAR\n",
    "\n",
    "import matplotlib.pyplot as plt\n",
    "plt.title(u\"Cuatro Dados Icosaédricos\")\n",
    "plt.xlabel(u\"Suma Caras\")\n",
    "plt.ylabel(u\"Frecuencia\")\n",
    "plt.grid(True)\n",
    "marcas=[j for j in [7..25]]\n",
    "plt.hist(suma_dados,bins=marcas)\n",
    "titulo='Dados.png'\n",
    "plt.savefig(titulo)\n",
    "plt.close()\n",
    "\n",
    "html('<img src=Dados.png/>')"
   ]
  },
  {
   "cell_type": "markdown",
   "metadata": {},
   "source": [
    "**Ejercicio 5.-**\n",
    "\n",
    "<span style=\"font-size: medium;\">\n",
    "Tenemos diez cartas, numeradas del 1 al 10. El juego consiste en barajarlas (=permutarlas) e <span style=\"color: #ff0000;\">ir sacándolas de una en una hasta que la suma de las cartas extraídas sea 25 o más</span>. En ese momento miramos cuántas cartas llevamos extraídas y **ese es el resultado del juego**.\n",
    "\n",
    "<span style=\"font-size: medium;\">\n",
    "Por ejemplo, si tras barajar el orden de las cartas es 3,5,1,8,6,9,4,2,10,7, el resultado del juego será 6 ($3+5+1+8+6=23$; $3+5+1+8+6+9=32$).\n",
    "\n",
    "<span style=\"font-size: medium;\">\n",
    "**Crea un diccionario que tenga como claves los posibles resultados del juego y como valores la frecuencia con que se da cada resultado cuando recorremos las $10!$ permutaciones de las diez cartas.**\n"
   ]
  },
  {
   "cell_type": "code",
   "execution_count": null,
   "metadata": {},
   "outputs": [],
   "source": []
  },
  {
   "cell_type": "markdown",
   "metadata": {},
   "source": [
    "**Ejercicio 6 (un poco más complicado que los anteriores).-**  En este ejercicio vamos a realizar la simulación de un problema clásico de probabilidades, conocido como **\"el problema de la aguja de Buffon\"**.\n",
    "\n",
    "El problema es el siguiente:\n",
    "\n",
    "Tenemos una hoja de papel en la que hay dibujadas unas líneas paralelas horizontales, con una separación $L$ entre cada dos consecutivas. Sobre esta hoja de papel lanzamos una aguja, de longitud $L$. Queremos calcular la probabilidad de que la aguja corte a alguna de las rectas dibujadas en el papel. \n",
    "\n",
    "Una vez ha caído la aguja, la posibilidad de cortar o no una línea horizontal viene determinada por dos factores:\n",
    "\n",
    "<ol>\n",
    "<li>La posición del extremo de la aguja que está más abajo, y su cercanía a la primera línea horizontal que tiene por debajo.</li>\n",
    "<li>El ángulo que forma la aguja con la horizontal.</li>\n",
    "</ol>\n",
    "\n",
    "Puesto que nos da igual cual es la línea concreta que se corte con la aguja, podemos suponer sin pérdida de generalidad que el extremo inferior de la aguja está en un punto de coordenadas $(X,h),$ con $ h \\in (0,L)$ un número aleatorio (el valor de $X $ es irrelevante: nos da igual que la aguja esté más a la derecha o más a la izquierda). Supongamos que $ \\alpha$ es el ángulo que la aguja forma con la horizontal, $ \\alpha \\in [0, \\pi]$.\n",
    "\n",
    "1. Simula el lanzamiento de una aguja, definiendo una función *Lanzamiento(L)* que genere aleatoriamente la posición de la aguja, y devuelva *True* si la aguja corta a una línea horizontal, y *False* en caso contrario.\n",
    "\n",
    "2. Repite la simulación varias veces para $L=1$, y calcula el número medio de casos en los que la aguja corta alguna línea horizontal. Una vez que el programa que hace las iteraciones funcione correctamente, simula 1000 lanzamientos y compara el resultado con el valor teórico, que resulta ser $ 2/\\pi$.\n",
    "\n",
    "3. Haz una simulación gráfica dibujando dos líneas horizontales $ y=0, \\, y=1$, y 200 agujas aleatorias de longitud 1 (recuerda el comando gráfico *line*), dibujando de color azul las que corten una recta horizontal, y de color rojo las que no lo hagan. Para evitar amontonamientos, y puesto que estamos interesados en la altura e inclinación de la aguja, y no tanto en su posición exacta respecto al eje $OX$, podemos suponer que los extremos inferiores son $(X,h)$ con $X=0.1, 0.2,...19.9, 20$ y $ h $ un valor aleatorio entre 0 y 1. (Al igual que en el caso anterior, es recomendable empezar simulando unos pocos lanzamientos, por ejemplo 5, y ejecutar la simulación con 200 lanzamientos tras comprobar que el programa funciona correctamente)."
   ]
  },
  {
   "cell_type": "code",
   "execution_count": null,
   "metadata": {},
   "outputs": [],
   "source": []
  }
 ],
 "metadata": {
  "kernelspec": {
   "display_name": "SageMath 8.7",
   "language": "",
   "name": "sagemath"
  },
  "language_info": {
   "codemirror_mode": {
    "name": "ipython",
    "version": 2
   },
   "file_extension": ".py",
   "mimetype": "text/x-python",
   "name": "python",
   "nbconvert_exporter": "python",
   "pygments_lexer": "ipython2",
   "version": "2.7.15"
  }
 },
 "nbformat": 4,
 "nbformat_minor": 2
}
