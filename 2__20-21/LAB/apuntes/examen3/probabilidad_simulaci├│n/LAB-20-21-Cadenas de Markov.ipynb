{
 "cells": [
  {
   "cell_type": "markdown",
   "metadata": {},
   "source": [
    "## Cadenas de Markov ##\n",
    "\n",
    "Una cadena de Markov es un sistema matemático que experimenta transiciones aleatorias en un conjunto de posibles estados, *sin memoria*: el siguiente estado depende solo del estado actual. El paseo aleatorio y las urnas de Polya o de Ehrenfest son ejemplos de cadenas de Markov.\n",
    "\n",
    "En lo que sigue consideraremos cadenas de Markov discretas (un conjunto discreto de posibles estados) y homogéneas en el tiempo (las probabilidades de transición entre estados no dependen del tiempo). Cuando la cadena es finita (un conjunto finito de posibles estados) se puede describir su evolución por medio de su *matriz de transición* $P$, cuyas entradas son $p_{ij}=$ *probabilidad de transición del estado $i$ al estado $j$*. Nótese que la suma de las entradas de cualquier fila tiene que ser igual a 1. Obsérvese también que si $v^k$ es el vector fila que da las probabilidades de estar en cada estado en tiempo $k$ entonces $v^{k+1}=v^kP$, de forma que si trasponemos tenemos $(v^{k+1})^{\\rm t}=P^{\\rm t}(v^k)^{\\rm t}$ y nos encontramos en una situación análoga a la considerada al estudiar modelos de dinámica de poblaciones. "
   ]
  },
  {
   "cell_type": "markdown",
   "metadata": {},
   "source": [
    "Queremos simular la evolución de sistemas descritos por cadenas de Markov. Para ello tendremos que ser capaces de, desde un estado $i$,  *sortear* a qué estado llegaremos en el paso siguiente, de acuerdo con las probabilidades dadas por la fila $i$ de la matriz $P$. \n",
    "\n",
    "\n",
    "**Ejercicio 1.-** De un cine, con tres salidas, $1/3$ de los espectadores sale por la salida $0$, $1/5$ por la $1$ y el resto, $7/15$, por la $2$. Se elige, al azar, un espectador, ¿por qué puerta saldrá? Esta situación se puede simular decidiendo conforme a la siguiente regla:\n",
    "- se divide el intervalo $[0,1)$ en tres subintervalos de longitudes $1/3$, $1/5$ y $7/15$ respectivamente, es decir:\n",
    "$$[0,1)= I_0\\cup I_1\\cup I_2=[0,\\tfrac13)\\cup [\\tfrac 13,\\tfrac13+\\tfrac15) \\cup [\\tfrac13+\\tfrac15,1)$$\n",
    "- se decide la puerta de salida por el subintervalo en que se sitúe el número $t={\\tt random}()$: si $t\\in I_0$, la salida $0$; si $t\\in I_1$, la $1$; por la $2$ en otro caso.\n",
    "\n",
    "Es claro que de esta manera, se decidirá cada puerta de salida conforme a las probabilidades que nos han referido. La misma estrategia es válida para cualquier **vector** de probabilidades.\n",
    "\n",
    "Codifica un programa *paso(v)* que dado un vector (fila) $v$ de probabilidad (es decir, de coordenadas no negativas y con suma igual a 1) genere de manera aleatoria un número entre $0$ y *len(v)-1*, teniendo cada uno de estos números una probabilidad *v[k]*.\n",
    "\n",
    "*Sugerencia.-* Construye un vector $F$ con elementos $F[k]=\\sum_{j=0}^k v[k]$. Genera un número aleatorio $a$ entre 0 y 1. La salida será el primer $k$ tal que $a<F[k]$."
   ]
  },
  {
   "cell_type": "code",
   "execution_count": null,
   "metadata": {},
   "outputs": [],
   "source": []
  },
  {
   "cell_type": "markdown",
   "metadata": {},
   "source": [
    "**Ejercicio 2.-** Supongamos que una cadena de Markov con estados $0,1,2$ tiene matriz $P$ de transición \n",
    "\n",
    "$$\\begin{array}{|c|c|c|c|}& 0 & 1 & 2\\\\ \\hline 0 & 0.1 & 0.2 & 0.7 \\\\ 1 & 0.9 & 0.1 & 0\\\\ 2 & 0.1 & 0.8 & 0.1\\end{array}.$$\n",
    "\n",
    "Sea $X_j=$ *el estado de la cadena en el tiempo $j$.* \n",
    "\n",
    "\n",
    "**a)** Simula la evolución del sistema durante $1000$ pasos suponiendo que incialmente está en el estado $1$. Contabiliza, por medio de un diccionario, el número de veces que el sistema ha estado en cada estado (*sugerencia.-* recuerda que el método * .row()* extrae una fila de una matriz).  Compara las proporciones del tiempo total que el sistema pasó en cada estado, que acabas de calcular,  con el autovector por la izquierda de la matriz $P$ correspondiente al autovalor 1, normalizado de forma que sea un vector de probabilidad. "
   ]
  },
  {
   "cell_type": "code",
   "execution_count": null,
   "metadata": {},
   "outputs": [],
   "source": []
  },
  {
   "cell_type": "markdown",
   "metadata": {},
   "source": [
    "**b)** Simula la evolución del sistema durante $1000$ pasos si se parte de un estado inicial elegido aleatoriamente según la distribución de probabilidades  siguiente: $P(X_0=0)=0.3$, $P(X_0=1)=0.4$ y $P(X_0=2)=0.3$. Contabiliza las veces que el sistema está en cada estado. ¿Ves alguna diferencia significativa con el caso anterior, en el que se partía de un estado determinado? *Sugerencia.-* Para el \"sorteo\" del estado inicial puedes usar también la funcion $paso$ del Ejercicio 1."
   ]
  },
  {
   "cell_type": "code",
   "execution_count": null,
   "metadata": {},
   "outputs": [],
   "source": []
  },
  {
   "cell_type": "markdown",
   "metadata": {},
   "source": [
    "**c)** Estima experimentalmente la probabilidad de, partiendo del estado $0$ acabar en $5$ pasos en el estado $2$. Compara con el elemento $(0,2)$ de la matriz $P^5$."
   ]
  },
  {
   "cell_type": "code",
   "execution_count": null,
   "metadata": {},
   "outputs": [],
   "source": []
  },
  {
   "cell_type": "markdown",
   "metadata": {},
   "source": [
    "**d)** Estima experimentalmente la probabilidad de que el sistema empiece en el estado 0 y llegue al estado 2 en cinco pasos, suponiendo que el estado inicial se elige aleatoriamente como en el apartado **b)**. Compara el valor obtenido con el producto de $P(X_0=0)$ con el elemento $(0,2)$ de la matriz $P^5$."
   ]
  },
  {
   "cell_type": "code",
   "execution_count": null,
   "metadata": {},
   "outputs": [],
   "source": []
  },
  {
   "cell_type": "markdown",
   "metadata": {},
   "source": [
    "**Ejercicio 3 (Un modelo simple de fecundidad).- **Se tienen 6 estados:</p>\n",
    "<table border=\"0\" cellspacing=\"5\" cellpadding=\"12\">\n",
    "<tbody>\n",
    "<tr>\n",
    "<td>$E_0$: Ni&ntilde;as</td>\n",
    "<td>$E_3$: Divorciadas</td>\n",
    "</tr>\n",
    "<tr>\n",
    "<td>$E_1$: Solteras</td>\n",
    "<td>$E_4$: Viudas</td>\n",
    "</tr>\n",
    "<tr>\n",
    "<td>$E_2$: Casadas</td>\n",
    "<td>$E_5$: $\\Delta$</td>\n",
    "</tr>\n",
    "</tbody>\n",
    "</table>\n",
    "\n",
    "El último correspondería a la muerte o emigración, y se supone un *estado absorbente* (un estado del que no se puede salir). Se supone que la matriz de probabilidades de transición entre estados  es</p>\n",
    "<p>$$\\begin{array}{l|rrrrrr} & E_0&E_1&E_2&E_3&E_4&E_5\\\\ \\hline E_0& 0.0 & 0.9 & 0.0 & 0.0 & 0.0 & 0.1 \\\\ E_1 &0.0 & 0.5 & 0.4 & 0.0 & 0.0 & 0.1 \\\\ E_2 &0.0 & 0.0 & 0.6 & 0.2 & 0.1 & 0.1 \\\\ E_3&0.0 & 0.0 & 0.4 & 0.5 & 0.0 & 0.1 \\\\ E_4&0.0 & 0.0 & 0.4 &0.0 &0.5 &0.1 \\\\ E_5 &0.0 &0.0 &0.0 &0.0 &0.0 & 1.0 \\end{array}$$</p>\n",
    "\n",
    "**a)** Estamos interesados en la duración media esperada en el estado $E_2$: Casadas, pues este corresponde al de máxima fecundidad.  Estima este valor experimentalmente simulando la línea de vida de $10^3$ mujeres desde el estado $E_0$ hasta el estado absorbente $E_5$, y calculando el tiempo medio transcurrido en el estado $E_2$."
   ]
  },
  {
   "cell_type": "code",
   "execution_count": null,
   "metadata": {},
   "outputs": [],
   "source": []
  },
  {
   "cell_type": "markdown",
   "metadata": {},
   "source": [
    "** b)** Otra cuestión de interés es el tiempo medio transcurrido hasta llegar al estado terminal (algo así como la *esperanza de vida*). Estima este valor experimentalmente simulando la vida de $10^3$ mujeres y calculando el tiempo medio transcurrido fuera del estado $E_5$."
   ]
  },
  {
   "cell_type": "code",
   "execution_count": null,
   "metadata": {},
   "outputs": [],
   "source": []
  },
  {
   "cell_type": "markdown",
   "metadata": {},
   "source": [
    "**Ejercicio 4 (laberinto).-**  Se introduce una rata en el siguiente laberinto:\n",
    "    \n",
    "![Laberinto](laberinto.png)\n",
    "\n",
    "En la celda $7$ se encuentra la comida y en la $8$ recibe una descarga eléctrica. Al recibir la descarga o encontrar la comida, la rata deja de moverse (ambos se consideran estados absorbentes). Se supone, además, que la rata no aprende por dónde ha pasado de manera que se mueve por el recinto aleatoriamente.</p>\n",
    "\n",
    "Se pide estimar experimentalmente: \n",
    "<ul>\n",
    "<li>la probabilidad de encontrar la comida suponiendo que empieza en la celda $2$;</li>\n",
    "<li>la probabilidad de sufrir una descarga suponiendo que se introduce al azar en el laberinto;</li>\n",
    "<li>el tiempo medio empleado en llegar a la comida por una rata que empieza en $6$ y es capaz de llegar a la comida.</li>\n",
    "</ul>"
   ]
  },
  {
   "cell_type": "code",
   "execution_count": null,
   "metadata": {},
   "outputs": [],
   "source": []
  }
 ],
 "metadata": {
  "kernelspec": {
   "display_name": "SageMath 8.7",
   "language": "",
   "name": "sagemath"
  },
  "language_info": {
   "codemirror_mode": {
    "name": "ipython",
    "version": 2
   },
   "file_extension": ".py",
   "mimetype": "text/x-python",
   "name": "python",
   "nbconvert_exporter": "python",
   "pygments_lexer": "ipython2",
   "version": "2.7.15"
  }
 },
 "nbformat": 4,
 "nbformat_minor": 2
}
