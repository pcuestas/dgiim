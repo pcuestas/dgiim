{
 "cells": [
  {
   "cell_type": "markdown",
   "metadata": {},
   "source": [
    "## Experimentos aleatorios ## \n",
    "\n",
    "La teoría de la probabilidad se encarga de estudiar *experimentos aleatorios*, es decir, experimentos cuyo resultado no consideramos predecible con certeza. Por ejemplo, cuando lanzamos una moneda al aire es imposible predecir si el resultado va a ser *cara* o *cruz*. Es cierto que, en principio, podríamos argumentar que las leyes de la mecánica deben permitir calcular de manera exacta la trayectoria de la moneda una vez se sabe cómo ha sido lanzada, de forma que sería posible predecir de antemano el resultado. Sin embargo, en la práctica tal cálculo es imposible, ya que pequeñísimas variaciones en las condiciones del lanzamiento afectan drásticamente al resultado. \n",
    "\n",
    "En el caso de una moneda *normal*, es de suponer que los dos posibles resultados pueden ocurrir con la misma probabilidad (hablamos de una moneda *equilibrada*, y en caso contrario decimos que la moneda está *trucada* o *cargada*).\n",
    "\n",
    "Si se tiran tres monedas, pueden darse ocho resultados: CCC, CCX, CXC, XCC, CXX, XCX, XXC, XXX. Si las monedas están equilibradas, cada uno de esos resultados se dará, en promedio, una de cada 8 veces que tiremos las monedas. Por tanto, la probabilidad de sacar exactamente dos caras al tirar las tres monedas es 3/8. Esto es un ejemplo de la famosa regla de Laplace: la probabilidad de que se dé un cierto suceso $A$ es  $$p(A)=\\frac{\\text{casos favorables a }A}{\\text{casos totales}},$$ fórmula que es de aplicación siempre\n",
    "que todos los resultados del experimento realizado pueden darse con la misma probabilidad.\n",
    "\n",
    "## Frecuencia y probabilidad. ##\n",
    "\n",
    "Si realizamos el experimento aleatorio un número grande de veces, $M$, y denotamos por $M_A$ al número de   ocasiones en que se ha producido un cierto suceso $A$, la *frecuencia relativa*\n",
    "$$\n",
    "f(A)=\\frac{M_A}{M}\n",
    "$$\n",
    "dará un valor, lógicamente, cercano a la probabilidad teórica $p(A)$: es de esperar que si $M$ es pequeño haya dado la casualidad de que se hayan dado resultados poco probables, pero para $M$ grande este efecto se verá mitigado. De hecho, el límite de la frecuencia relativa $f(A)$ debe tender a $p(A)$ cuando el número de repeticiones $M$ del experimento  tiende a infinito.\n",
    "\n"
   ]
  },
  {
   "cell_type": "markdown",
   "metadata": {},
   "source": [
    "En esta sesión calcularemos probabilidades teóricas de sucesos sencillos contando casos favorables y casos posibles, y también *simularemos experimentos aleatorios* a partir de generadores de *números aleatorios* como ${\\tt randint}()$ y ${\\tt random}()$, que nos permitirán dar aproximaciones experimentales de probabilidades (simularemos con SAGE que hemos repetido un número grande de veces el experimento). Ser capaces de hacer esta simulación es especialmente útil cuando el cálculo teórico de $p(A)$ es difícil, o incluso imposible. Empezaremos por dar algunas herramientas útiles para estos cálculos."
   ]
  },
  {
   "cell_type": "markdown",
   "metadata": {},
   "source": [
    "### Generadores\n",
    "#### Combinaciones\n",
    "\n",
    "Dado un conjunto de tamaño $m$, las combinaciones de $j$ elementos del conjunto son todos los posibles subconjuntos con $j$ elementos extraídos del conjunto (para $j=0$ se tiene un único subconjunto de tamaño $0$, el vacío).\n",
    "\n",
    "En SAGE, podemos recorrer las combinaciones con el generador ${\\tt Combinations}()$ aplicado a un contenedor (lista, tupla, cadena, conjunto, ...) con todos los elementos disponibles para escoger. Si se indica un segundo argumento, $j$, (un entero no negativo), genera las combinaciones de $j$ elementos."
   ]
  },
  {
   "cell_type": "code",
   "execution_count": null,
   "metadata": {},
   "outputs": [],
   "source": [
    "##Descomenta y ejecuta\n",
    "#T='123'\n",
    "#print([combi for combi in Combinations(T)])\n",
    "#print([combi2 for combi2 in Combinations(T,2)])"
   ]
  },
  {
   "cell_type": "markdown",
   "metadata": {},
   "source": [
    ">Observa que los elementos que genera Combinations() son subconjuntos, no listas ordenadas \n",
    "(en el ejemplo anterior una combinación es ['1','2'], y no hay que contar ['2', '1'] como diferente)."
   ]
  },
  {
   "cell_type": "markdown",
   "metadata": {},
   "source": [
    "En Matemáticas el número combinatorio $\\binom mj$ es la cantidad de combinaciones de $j$ elementos de un conjunto de tamaño $m$: en SAGE se calcula este número combinatorio como ${ \\tt binomial(m,j)}$. Como generador, ${\\tt Combinations}()$ no se puede medir con ${\\tt len}()$, pero sí con el método ${\\tt .cardinality}()$, o construyendo una lista con todas las combinaciones y utilizando ${\\tt len}()$."
   ]
  },
  {
   "cell_type": "code",
   "execution_count": null,
   "metadata": {},
   "outputs": [],
   "source": [
    "##Descomenta, ejecuta y analiza\n",
    "#m, j=6,2\n",
    "#LL=[1..m]\n",
    "#t=0\n",
    "#for comb in Combinations(LL):\n",
    "#    print comb##Si añades una coma la salida se ve diferente\n",
    "#    t+=(len(comb)==j)## Esta línea es vacilona: el booleano suma 0 si es falso y suma 1 si es verdadero\n",
    "#print(t, binomial(m,j))"
   ]
  },
  {
   "cell_type": "markdown",
   "metadata": {},
   "source": [
    "### Permutaciones\n",
    "En el caso anterior (combinaciones) agrupaciones con los mismos elementos pero en distinto orden no se consideran como distintas. Las variaciones sí se distinguen por el orden. El generador de Sage para este caso es ${\\tt Permutations}()$. Como con el generador anterior, si se indica como segundo parámetro un entero no negativo $j$, nos restringimos a las variaciones con $j$ elementos.\n",
    "En matemáticas, el cardinal de las permutaciones se calcula con el factorial."
   ]
  },
  {
   "cell_type": "code",
   "execution_count": null,
   "metadata": {},
   "outputs": [],
   "source": [
    "##Descomenta, ejecuta y analiza\n",
    "#m=3\n",
    "#LL=[1..m]\n",
    "#t=0\n",
    "#for pp in Permutations(LL):\n",
    "#    t+=1\n",
    "#    print pp\n",
    "#t, factorial(3)"
   ]
  },
  {
   "cell_type": "code",
   "execution_count": null,
   "metadata": {},
   "outputs": [],
   "source": [
    "##Descomenta, ejecuta y analiza\n",
    "#m,j=4,2\n",
    "#LL=[1..m]\n",
    "#t=0\n",
    "#for pp in Permutations(LL, j):\n",
    "#    t+=1\n",
    "#    print pp,\n",
    "#t, factorial(m)/factorial(m-j)"
   ]
  },
  {
   "cell_type": "markdown",
   "metadata": {},
   "source": [
    "#### Repeticiones\n",
    "Podemos investigar qu&eacute; ocurre al aplicar estos generadores a contenedores (pueden ser listas, como antes, cadenas de caracteres, conjuntos,..) con elementos repetidos."
   ]
  },
  {
   "cell_type": "code",
   "execution_count": null,
   "metadata": {},
   "outputs": [],
   "source": [
    "##Descomenta, ejecuta y analiza\n",
    "#LL='abcaab'\n",
    "#print(LL)\n",
    "#m,j,t=len(LL),4,0\n",
    "#for comb in Combinations(LL,j):\n",
    "#    t+=1\n",
    "#    print comb, ''.join(comb)\n",
    "#print t"
   ]
  },
  {
   "cell_type": "markdown",
   "metadata": {},
   "source": [
    "**Ejercicio 1.-** **a)** Calcula mediante la regla de Laplace la probabilidad de que al tirar $10$ veces una moneda equilibrada se obtengan $8$ caras.\n",
    "*Observación:* Si ${\\tt ntiradas}$ es el número de tiradas, ¿qué se genera con ${\\tt Permutations}({\\tt'CX'*ntiradas, ntiradas})$?"
   ]
  },
  {
   "cell_type": "code",
   "execution_count": null,
   "metadata": {},
   "outputs": [],
   "source": []
  },
  {
   "cell_type": "markdown",
   "metadata": {},
   "source": [
    "**b)** Se puede simular el experimento aleatorio de tirar una moneda con ayuda de ${\\tt randint}({\\tt a,b})$, que genera un entero en el intervalo cerrado $[a,b]$. Puedes hacer que cada resultado de ejecutar ${\\tt randint}({\\tt 0,1})$ corresponda a una tirada de moneda (y que 0 signifique cruz y 1 cara, por ejemplo).\n",
    "\n",
    "Simula 10000 veces el experimento de tirar 10 veces la moneda y apuntar el número de caras, y calcula la frecuencia con la que se han obtenido exactamente 8 caras."
   ]
  },
  {
   "cell_type": "code",
   "execution_count": 1,
   "metadata": {},
   "outputs": [],
   "source": []
  },
  {
   "cell_type": "markdown",
   "metadata": {},
   "source": [
    "**Ejercicio 2.-** **a)** ¿Cuál es la probabilidad (obtenida por la regla de Laplace) de que dos números distintos elegidos *al azar* entre $2$ y 1000 sean primos entre sí?"
   ]
  },
  {
   "cell_type": "code",
   "execution_count": null,
   "metadata": {},
   "outputs": [],
   "source": []
  },
  {
   "cell_type": "markdown",
   "metadata": {},
   "source": [
    "**b)** Simula la realización de 10000 repeticiones del experimento de elegir dos números aleatorios distintos entre 2 y 1000, y calcula con qué frecuencia los dos números elegidos son primos entre sí."
   ]
  },
  {
   "cell_type": "code",
   "execution_count": null,
   "metadata": {},
   "outputs": [],
   "source": []
  },
  {
   "cell_type": "markdown",
   "metadata": {},
   "source": [
    "**Ejercicio 3.-** Repite el ejercicio anterior (ambos apartados) pero sin considerar que los números tengan que ser obligatoriamente distintos. (*Observación*: podemos pensar que en este ejercicio se elige un primer número de una bolsa y se devuelve antes de elegir el segundo. En el anterior, el número elegido en primer lugar no se devuelve.)"
   ]
  },
  {
   "cell_type": "code",
   "execution_count": null,
   "metadata": {},
   "outputs": [],
   "source": []
  },
  {
   "cell_type": "code",
   "execution_count": null,
   "metadata": {},
   "outputs": [],
   "source": []
  },
  {
   "cell_type": "markdown",
   "metadata": {},
   "source": [
    "____________\n",
    "\n",
    "En el segundo apartado de cada ejercicio hemos ilustrado cómo en lugar de calcular \"todos los casos favorables/todos los casos posibles\", podemos hacer un *muestreo aleatorio* y calcular la frecuencia relativa (esto se llama **método de Monte Carlo**).\n",
    "\n",
    "Para simular tales muestreos conviene utilizar los generadores de números aleatorios:\n",
    "- La instrucción ${\\tt randint}({\\tt a,b})$ produce un **entero** en el intervalo cerrado $[a, b]$ (es decir, los extremos están incluidos) que es *aleatorio*, en el sentido de que todos los enteros del intervalo son igualmente probables.\n",
    "- La instrucción ${\\tt random}()$ produce un **decimal** perteneciente al intervalo $[0, 1)$ (incluye el $0$, pero no el $1$). Por supuesto, el resultado es siempre un número racional: los reales no racionales no existen para la máquina.\n",
    "\n",
    "Como dijjimos arriba podemos, por ejemplo, simular el lanzamiento de una moneda equilibrada ejecutando ${\\tt randint}(0,1)$ y decidiendo que $1$ significa 'cara' (con lo que $0$ será 'cruz'). Alternativamente, podemos sortear con ${\\tt random}()$ y decidir que ha salido 'cara' si ${\\tt random}()<0.5$ (y 'cruz' en caso contrario)."
   ]
  },
  {
   "cell_type": "code",
   "execution_count": null,
   "metadata": {},
   "outputs": [],
   "source": [
    "##Descomenta, ejecuta y analiza\n",
    "#print([randint(0,1) for _ in xrange(10)])##\n",
    "#print(''.join(['CX'[randint(0,1)] for _ in xrange(10)]))##"
   ]
  },
  {
   "cell_type": "markdown",
   "metadata": {},
   "source": [
    "Si la moneda estuviese trucada, hay que cambiar la estrategia. Supongamos que tenemos una moneda con el doble de predilección por las caras que por las cruces. Es fácil simularla con un ${\\tt randint}()$ de tres resultados posibles, que devuelva 'cara' por dos de ellos. El mismo generador ${\\tt randint}() $ se puede utilizar para situaciones similares en que la probabilidad, $p$, de 'cara' sea un racional.\n",
    "\n",
    "Si $p=\\frac{a}{a+b}$ es la probabilidad de 'cara', por lo que $q=\\frac{b}{a+b}$ será la de cruz, podemos tomar la lista $\\text{S=[1]*a+[0]*b}$ y elegir uno de sus elementos al azar con la instrucción *choice* (esta instrucción también se puede aplicar a cadenas de caracteres y tuplas)."
   ]
  },
  {
   "cell_type": "code",
   "execution_count": null,
   "metadata": {},
   "outputs": [],
   "source": [
    "##Descomenta, ejecuta y analiza\n",
    "#def moneda_trucada(a,b):\n",
    "#    S=[1]*a+[0]*b\n",
    "#    return choice(S)\n",
    "#[moneda_trucada(7,2) for j in xrange(18)]"
   ]
  },
  {
   "cell_type": "markdown",
   "metadata": {},
   "source": [
    "El generador de números aleatorios ${\\tt random}()$ nos permite cubrir situaciones más generales. Si $p$ (racional o no) fuese la probabilidad de sacar 'cara' al tirar una moneda, el test '${\\tt random}()<p$' devolverá 'True' con una probabilidad $p$."
   ]
  },
  {
   "cell_type": "markdown",
   "metadata": {},
   "source": [
    "**Ejercicio 4.-** Utiliza ${\\tt random}()$ para generar $M=100$ tiradas sucesivas de una moneda con probabilidad $p=\\frac{\\sqrt 2}2$ de sacar 'cara' y compara el resultado observado con el esperado. Haz lo mismo con $M=10^3$ y $p=0.4$."
   ]
  },
  {
   "cell_type": "code",
   "execution_count": null,
   "metadata": {},
   "outputs": [],
   "source": []
  },
  {
   "cell_type": "code",
   "execution_count": null,
   "metadata": {},
   "outputs": [],
   "source": []
  },
  {
   "cell_type": "markdown",
   "metadata": {},
   "source": [
    "**Ejercicio 5.-** a) Simula el siguiente experimento: lanza monedas cargadas, que dan cara con probabilidad $p$, hasta obtener la primera cara, y anota el número de cruces que has obtenido.\n",
    "\n",
    "*Sugerencia:* Codifica una función de propósito general (para diferentes monedas cargadas), que lance consecutivamente la moneda hasta obtener la primera cara y devuelva el número de cruces obtenidas."
   ]
  },
  {
   "cell_type": "code",
   "execution_count": null,
   "metadata": {},
   "outputs": [],
   "source": []
  },
  {
   "cell_type": "markdown",
   "metadata": {},
   "source": [
    "b) Repite $M=10000$ veces el experimento del apartado anterior con una moneda con probabilidad $p=0.3$ de obtener cara. Construye un diccionario $F$ (de frecuencias) que anote los números de cruces hasta la primera cara de cada experimento (como claves del diccionario) y el total de ocasiones en que se dieron ese número de cruces en el total de repeticiones del experimento (como valores de cada clave).\n",
    "\n",
    "Muestra un gráfico que ilustre el resultado del experimento."
   ]
  },
  {
   "cell_type": "code",
   "execution_count": null,
   "metadata": {},
   "outputs": [],
   "source": []
  },
  {
   "cell_type": "markdown",
   "metadata": {},
   "source": [
    "c) A la vista del experimento anterior, ¿cuál parece la probabilidad de que haya que tirar **exactamente** $6$ veces esa moneda para obtener la primera cara. Compárala con la probabilidad teórica que es $p\\cdot(1-p)^5$ para $p=0.3$ (¿por qué?)."
   ]
  },
  {
   "cell_type": "code",
   "execution_count": null,
   "metadata": {},
   "outputs": [],
   "source": []
  },
  {
   "cell_type": "markdown",
   "metadata": {},
   "source": [
    "d) ¿Cuál es el número medio de cruces observadas en las $M=1000$ repeticiones del experimento? Compáralo con el valor teórico, que es $\\frac{1-p}p$ para $p=0.3$."
   ]
  },
  {
   "cell_type": "code",
   "execution_count": null,
   "metadata": {},
   "outputs": [],
   "source": []
  }
 ],
 "metadata": {
  "kernelspec": {
   "display_name": "SageMath 8.7",
   "language": "",
   "name": "sagemath"
  },
  "language_info": {
   "codemirror_mode": {
    "name": "ipython",
    "version": 2
   },
   "file_extension": ".py",
   "mimetype": "text/x-python",
   "name": "python",
   "nbconvert_exporter": "python",
   "pygments_lexer": "ipython2",
   "version": "2.7.15"
  }
 },
 "nbformat": 4,
 "nbformat_minor": 2
}
