{
 "cells": [
  {
   "cell_type": "markdown",
   "metadata": {},
   "source": [
    "Pregunta 4: \n",
    "    \n",
    "Primero hacemos una función que nos dice si un número es creciente, otra que nos diga si es decreciente, y una última que nos dice si es muelle (todas bastante sencillas, siguiendo las definiciones):"
   ]
  },
  {
   "cell_type": "code",
   "execution_count": 4,
   "metadata": {},
   "outputs": [],
   "source": [
    "def creciente(k):\n",
    "    num=list(str(k))\n",
    "    return all([(num[j]<=num[j+1]) for j in range(len(num)-1)])"
   ]
  },
  {
   "cell_type": "code",
   "execution_count": 12,
   "metadata": {},
   "outputs": [],
   "source": [
    "def decreciente(k):\n",
    "    num=list(str(k))\n",
    "    return all([(num[j]>=num[j+1]) for j in range(len(num)-1)])"
   ]
  },
  {
   "cell_type": "code",
   "execution_count": 13,
   "metadata": {},
   "outputs": [],
   "source": [
    "def muelle(k):\n",
    "    return (not creciente(k)) and (not decreciente(k))"
   ]
  },
  {
   "cell_type": "markdown",
   "metadata": {},
   "source": [
    "Hacemos una función que nos muestra el número conel que se alcanza el porcentaje de muelle que entra como argumento:"
   ]
  },
  {
   "cell_type": "code",
   "execution_count": 49,
   "metadata": {},
   "outputs": [],
   "source": [
    "def porcentaje_muelle(k):\n",
    "    if k<=0 or k>100:\n",
    "        return -1\n",
    "    cuenta=0\n",
    "    #podemos empezar en 100, porque no hay muelles menores\n",
    "    j=100\n",
    "    while (100*(cuenta/j))<k:\n",
    "        if muelle(j):\n",
    "            cuenta+=1\n",
    "        j+=1\n",
    "    return j"
   ]
  },
  {
   "cell_type": "markdown",
   "metadata": {},
   "source": [
    "Ahora respondemos a las preguntas:"
   ]
  },
  {
   "cell_type": "code",
   "execution_count": 50,
   "metadata": {},
   "outputs": [
    {
     "data": {
      "text/plain": [
       "540"
      ]
     },
     "execution_count": 50,
     "metadata": {},
     "output_type": "execute_result"
    }
   ],
   "source": [
    "#comprobación:\n",
    "porcentaje_muelle(50)"
   ]
  },
  {
   "cell_type": "code",
   "execution_count": 51,
   "metadata": {},
   "outputs": [
    {
     "name": "stdout",
     "output_type": "stream",
     "text": [
      "1. La proporción alcanza el 75 por ciento para el número: \n",
      "3092\n",
      "2. La proporción alcanza el 85 por ciento para el número: \n",
      "13094\n"
     ]
    }
   ],
   "source": [
    "print \"1. La proporción alcanza el 75 por ciento para el número: \"\n",
    "print \"%d\"%(porcentaje_muelle(75))\n",
    "print \"2. La proporción alcanza el 85 por ciento para el número: \"\n",
    "print \"%d\"%(porcentaje_muelle(85))"
   ]
  },
  {
   "cell_type": "markdown",
   "metadata": {},
   "source": [
    "Ahora calculamos la suma de los números crecientes menores que la cota anterior: porcentaje_muelle(85):\n",
    "    "
   ]
  },
  {
   "cell_type": "code",
   "execution_count": 52,
   "metadata": {},
   "outputs": [
    {
     "data": {
      "text/plain": [
       "4954533"
      ]
     },
     "execution_count": 52,
     "metadata": {},
     "output_type": "execute_result"
    }
   ],
   "source": [
    "sum([j for j in xrange(porcentaje_muelle(85)) if creciente(j)])"
   ]
  },
  {
   "cell_type": "code",
   "execution_count": null,
   "metadata": {},
   "outputs": [],
   "source": []
  }
 ],
 "metadata": {
  "kernelspec": {
   "display_name": "SageMath 8.7",
   "language": "",
   "name": "sagemath"
  },
  "language_info": {
   "codemirror_mode": {
    "name": "ipython",
    "version": 2
   },
   "file_extension": ".py",
   "mimetype": "text/x-python",
   "name": "python",
   "nbconvert_exporter": "python",
   "pygments_lexer": "ipython2",
   "version": "2.7.15"
  }
 },
 "nbformat": 4,
 "nbformat_minor": 2
}
