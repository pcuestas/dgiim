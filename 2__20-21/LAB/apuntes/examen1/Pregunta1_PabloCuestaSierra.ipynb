{
 "cells": [
  {
   "cell_type": "markdown",
   "metadata": {},
   "source": [
    "Problema 1. Conjetura de Collatz\n",
    "\n",
    "Para el primer apartado, creamos una función en la que se inicializa una lista que será donde se guarden los números de la secuencia, el primero será $k$ y los siguientes, hasta llegar a $1$, se guardarán en la lista según la regla:"
   ]
  },
  {
   "cell_type": "code",
   "execution_count": 1,
   "metadata": {},
   "outputs": [],
   "source": [
    "def collatz(k):\n",
    "    s=[k]\n",
    "    while s[-1]!=1:\n",
    "        if s[-1]%2==0:\n",
    "            s+=[s[-1]//2]\n",
    "        else:\n",
    "            s+=[3*s[-1]+1]\n",
    "    return s"
   ]
  },
  {
   "cell_type": "markdown",
   "metadata": {},
   "source": [
    "Para el segundo apartado, solo tenemos que llamar a la anterior función y quitarle uno a la longitud de la lista calculada en la función `collatz`"
   ]
  },
  {
   "cell_type": "code",
   "execution_count": 6,
   "metadata": {},
   "outputs": [],
   "source": [
    "def collatz_long(k):\n",
    "    lista=collatz(k)\n",
    "    return (len(lista)-1)"
   ]
  },
  {
   "cell_type": "markdown",
   "metadata": {},
   "source": [
    "Ahora tenemos que coger un índice, el cual iremos aumentando hasta que cosigamos llegar a un número lo suficientemente grande como para que su lista sea de longitud mayor o igual que 250:"
   ]
  },
  {
   "cell_type": "code",
   "execution_count": 12,
   "metadata": {},
   "outputs": [
    {
     "name": "stdout",
     "output_type": "stream",
     "text": [
      "'6171' es un número con el cual la secuencia tarda al menos 250 pasos en alcanzar 1\n"
     ]
    }
   ],
   "source": [
    "j=1\n",
    "while collatz_long(j)<250:\n",
    "    j+=1\n",
    "print \"'%d' es un número con el cual la secuencia tarda al menos 250 pasos en alcanzar 1\"%j"
   ]
  },
  {
   "cell_type": "markdown",
   "metadata": {},
   "source": [
    "En este caso, hacemos lo mismo, pero hasta que encontremos una lista que tarde 250 pasos exactamente."
   ]
  },
  {
   "cell_type": "code",
   "execution_count": 14,
   "metadata": {},
   "outputs": [
    {
     "name": "stdout",
     "output_type": "stream",
     "text": [
      "'23435' es un número con el cual la secuencia tarda exactamente 250 pasos en alcanzar 1\n"
     ]
    }
   ],
   "source": [
    "j=1\n",
    "while collatz_long(j)!=250:\n",
    "    j+=1\n",
    "print \"'%d' es un número con el cual la secuencia tarda exactamente 250 pasos en alcanzar 1\"%j"
   ]
  },
  {
   "cell_type": "code",
   "execution_count": null,
   "metadata": {},
   "outputs": [],
   "source": []
  }
 ],
 "metadata": {
  "kernelspec": {
   "display_name": "SageMath 8.7",
   "language": "",
   "name": "sagemath"
  },
  "language_info": {
   "codemirror_mode": {
    "name": "ipython",
    "version": 2
   },
   "file_extension": ".py",
   "mimetype": "text/x-python",
   "name": "python",
   "nbconvert_exporter": "python",
   "pygments_lexer": "ipython2",
   "version": "2.7.15"
  }
 },
 "nbformat": 4,
 "nbformat_minor": 2
}
