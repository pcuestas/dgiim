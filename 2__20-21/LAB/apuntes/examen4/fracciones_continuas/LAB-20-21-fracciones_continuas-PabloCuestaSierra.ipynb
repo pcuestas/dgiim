{
 "cells": [
  {
   "cell_type": "markdown",
   "id": "detailed-defense",
   "metadata": {},
   "source": [
    "# Pablo Cuesta Sierra"
   ]
  },
  {
   "cell_type": "markdown",
   "id": "lesbian-inventory",
   "metadata": {},
   "source": [
    "# ** Laboratorio 2020-21 ** #\n",
    "\n",
    "## **Fracciones continuas** ##\n"
   ]
  },
  {
   "cell_type": "markdown",
   "id": "round-acrylic",
   "metadata": {},
   "source": [
    "**Ejercicio 1.-** Escribe una función que tome como argumento una lista $[a_0,\\ldots, a_k]$ y devuelva el número racional descrito por la fracción continua \n",
    "$[a_0; a_1, \\ldots, a_k]$."
   ]
  },
  {
   "cell_type": "code",
   "execution_count": 2,
   "id": "twenty-dispute",
   "metadata": {},
   "outputs": [],
   "source": [
    "def convergente(a):\n",
    "    '''\n",
    "    a es el vector a0,..,ak (naturales) que describe el núero racional\n",
    "    '''\n",
    "    res = a[len(a)-1]\n",
    "    for k in [0..len(a)-2][::-1]:\n",
    "        res = a[k] + 1/res\n",
    "    return res"
   ]
  },
  {
   "cell_type": "code",
   "execution_count": 3,
   "id": "fifteen-headline",
   "metadata": {},
   "outputs": [
    {
     "name": "stdout",
     "output_type": "stream",
     "text": [
      "55/43\n",
      "(1.61803399852180, 1.61803398874989)\n"
     ]
    }
   ],
   "source": [
    "print (convergente([1, 3, 1, 1, 2, 2]))\n",
    "print (convergente([1]*20).n(), golden_ratio().n())"
   ]
  },
  {
   "cell_type": "code",
   "execution_count": 4,
   "id": "chronic-acoustic",
   "metadata": {},
   "outputs": [
    {
     "data": {
      "text/plain": [
       "(3/2, 5/3, 315/136)"
      ]
     },
     "execution_count": 4,
     "metadata": {},
     "output_type": "execute_result"
    }
   ],
   "source": [
    "convergente([1,2]), convergente([1,1,2]), convergente([2,3,6,7])"
   ]
  },
  {
   "cell_type": "code",
   "execution_count": 7,
   "id": "unlimited-lottery",
   "metadata": {},
   "outputs": [],
   "source": [
    "def Convergente(a):\n",
    "    u'''\n",
    "    Dada una lista a, devuelve la fracción continua que \n",
    "    representa usando las relaciones de recurrencia de \n",
    "    Wallis-Euler\n",
    "    '''\n",
    "    if len(a) == 1: \n",
    "        return a[0]\n",
    "    p0, q0, p1, q1 = a[0], 1, (a[0]*a[1] + 1), a[1]\n",
    "    for k in [2..(len(a)-1)]:\n",
    "        p0, q0, p1, q1 = p1, q1, (a[k]*p1 + p0), (a[k]*q1 + q0)\n",
    "    return p1/q1"
   ]
  },
  {
   "cell_type": "code",
   "execution_count": 12,
   "id": "instructional-conflict",
   "metadata": {},
   "outputs": [
    {
     "name": "stdout",
     "output_type": "stream",
     "text": [
      "55/43\n",
      "(1.61803399852180, 1.61803398874989)\n",
      "(2, 315/136)\n",
      "(233/144, 233/144)\n",
      "(1.61803398874999, 1.61803398874989)\n",
      "(1.61803398874965, 1.61803398874989)\n"
     ]
    }
   ],
   "source": [
    "print (Convergente([1, 3, 1, 1, 2, 2]))\n",
    "print (Convergente([1]*20).n(), golden_ratio().n())\n",
    "print (Convergente([2]), Convergente([2,3,6,7]))\n",
    "print(Convergente([1]*10+[2]), fibonacci(13)/fibonacci(12))\n",
    "print(Convergente([1]*30+[2]).n(),golden_ratio().n())\n",
    "print(Convergente([1]*29+[2]).n(),golden_ratio().n())"
   ]
  },
  {
   "cell_type": "markdown",
   "id": "confirmed-headset",
   "metadata": {},
   "source": [
    "____________\n",
    "\n",
    "**Ejercicio 2.-** Escribe un código que, tomando un r > 1 y un número dado k de pasos, halle\n",
    "los $[a_0;a_1, \\ldots , a_k]$ de la fracción continua de r.\n",
    "\n"
   ]
  },
  {
   "cell_type": "code",
   "execution_count": 13,
   "id": "technical-pension",
   "metadata": {},
   "outputs": [],
   "source": [
    "def Fcontinua(r, k):\n",
    "    fr = []\n",
    "    for j in range(k+1):\n",
    "        d = floor(r)\n",
    "        fr.append(d)\n",
    "        if r == d: \n",
    "            return fr\n",
    "        r = 1 / (r - d)\n",
    "    return fr"
   ]
  },
  {
   "cell_type": "code",
   "execution_count": 18,
   "id": "thermal-penguin",
   "metadata": {},
   "outputs": [
    {
     "name": "stdout",
     "output_type": "stream",
     "text": [
      "[2, 3, 4, 5]\n",
      "[1, 1, 1, 1, 1, 1, 1, 1, 1, 1, 1, 1, 1, 1, 1, 1, 1, 1, 1, 1, 1]\n",
      "[1, 2, 2, 2, 2, 2, 2, 2, 2, 2, 2]\n",
      "[1, 3, 1, 5, 1, 1, 4, 1, 1, 8, 1]\n",
      "[0, 1, 7]\n"
     ]
    }
   ],
   "source": [
    "print (Fcontinua(157/68, 6))\n",
    "print (Fcontinua(golden_ratio(), 20))\n",
    "print(Fcontinua(sqrt(2),10))\n",
    "print(Fcontinua(2^(1/3),10))\n",
    "print(Fcontinua(7/8,12))"
   ]
  },
  {
   "cell_type": "markdown",
   "id": "addressed-correlation",
   "metadata": {},
   "source": [
    "____________\n",
    "\n",
    "**Ejercicio 3.-** Para el caso de un racional $r = \\frac nm > 1$, realiza una variante del código\n",
    "anterior que tome los enteros $n, m$ como datos y devuelva la lista completa $[a_0;a_1, \\ldots , a_n]$ hasta el fin del desarrollo.\n"
   ]
  },
  {
   "cell_type": "code",
   "execution_count": 19,
   "id": "rotary-dallas",
   "metadata": {},
   "outputs": [],
   "source": [
    "def Fcontinuapq(p,q):\n",
    "    u'''Dados p y q enteros, se calcula la fracción continua (finita)\n",
    "    de p/q con el algoritmo de Euclides.'''\n",
    "    L = []\n",
    "    while q > 0:\n",
    "        L.append(p // q) #división entera\n",
    "        p, q = q, (p % q)\n",
    "    return L"
   ]
  },
  {
   "cell_type": "code",
   "execution_count": 20,
   "id": "fundamental-liberia",
   "metadata": {},
   "outputs": [
    {
     "data": {
      "text/plain": [
       "[1, 3, 1, 1, 2, 2]"
      ]
     },
     "execution_count": 20,
     "metadata": {},
     "output_type": "execute_result"
    }
   ],
   "source": [
    "Fcontinuapq(55,43)"
   ]
  },
  {
   "cell_type": "code",
   "execution_count": 21,
   "id": "decent-uncle",
   "metadata": {},
   "outputs": [
    {
     "name": "stdout",
     "output_type": "stream",
     "text": [
      "[1, 1, 1, 1, 1, 1, 1, 1, 1, 1, 1, 1, 1, 1, 1, 1, 1, 1, 1, 1, 1, 1, 1, 1, 1, 1, 1, 1, 1, 1, 1, 1, 1, 1, 1, 1, 1, 1, 1, 1, 1, 1, 1, 1, 1, 1, 1, 1, 1, 1, 1, 1, 1, 1, 1, 1, 1, 1, 1, 1, 1, 1, 1, 1, 1, 1, 1, 1, 1, 1, 1, 1, 1, 1, 1, 1, 1, 1, 1, 1, 1, 1, 1, 1, 1, 1, 2]\n"
     ]
    }
   ],
   "source": [
    "##Términos consecutivos de la sucesión de Fibonacci generan fracciones\n",
    "#continuas \"largas\"\n",
    "print(Fcontinuapq(fibonacci(89),fibonacci(88)))"
   ]
  },
  {
   "cell_type": "markdown",
   "id": "hundred-reasoning",
   "metadata": {},
   "source": [
    "____________\n",
    "\n",
    "**Ejercicio 4.-**  Escribe otra función que tome los $[a_0;a_1, \\ldots , a_k]$ y produzca las fracciones\n",
    "(convergentes) $c_n = p_n/q_n$, $n = 0, \\ldots ,  k$."
   ]
  },
  {
   "cell_type": "code",
   "execution_count": 22,
   "id": "canadian-generic",
   "metadata": {},
   "outputs": [],
   "source": [
    "def Convergentes(a):\n",
    "    u'''\n",
    "    Dada una lista a, devuelve la fracción continua que \n",
    "    representa usando las relaciones de recurrencia de \n",
    "    Wallis-Euler\n",
    "    '''\n",
    "    if len(a) <= 1: \n",
    "        return a\n",
    "    p0, q0, p1, q1 = a[0], 1, (a[0]*a[1] + 1), a[1]\n",
    "    conv = [p0/q0, p1/q1]\n",
    "    for k in [2..(len(a)-1)]:\n",
    "        p0, q0, p1, q1 = p1, q1, (a[k]*p1 + p0), (a[k]*q1 + q0)\n",
    "        conv.append(p1/q1)\n",
    "    return conv"
   ]
  },
  {
   "cell_type": "code",
   "execution_count": 24,
   "id": "mighty-petroleum",
   "metadata": {},
   "outputs": [
    {
     "name": "stdout",
     "output_type": "stream",
     "text": [
      "([1, 2, 3/2, 5/3, 8/5, 13/8, 21/13, 34/21, 55/34, 89/55, 144/89, 233/144, 377/233, 610/377, 987/610, 1597/987, 2584/1597, 4181/2584, 6765/4181], -2.55831884565794e-8)\n",
      "[1, 3/2, 7/5, 17/12, 41/29, 99/70, 239/169, 577/408, 1393/985]\n"
     ]
    }
   ],
   "source": [
    "L__1 = Convergentes([1] * 19)\n",
    "print (L__1, L__1[-1]-golden_ratio().n() )\n",
    "print(Convergentes(Fcontinua(sqrt(2),8)))"
   ]
  },
  {
   "cell_type": "code",
   "execution_count": 25,
   "id": "defined-explanation",
   "metadata": {},
   "outputs": [
    {
     "data": {
      "text/plain": [
       "[0.414213562373095,\n",
       " 0.0857864376269049,\n",
       " 0.0142135623730952,\n",
       " 0.00245310429357160,\n",
       " 0.000420458924819345,\n",
       " 0.0000721519126192227,\n",
       " 0.0000123789411425879,\n",
       " 2.12390141474117e-6,\n",
       " 3.64403552000070e-7]"
      ]
     },
     "execution_count": 25,
     "metadata": {},
     "output_type": "execute_result"
    }
   ],
   "source": [
    "##Las convergentes se van acercando al real que las genera\n",
    "[abs(sqrt(2)-conv).n()for conv in Convergentes(Fcontinua(sqrt(2),8))]"
   ]
  },
  {
   "cell_type": "markdown",
   "id": "varied-straight",
   "metadata": {},
   "source": [
    "____________\n",
    "\n",
    "**Ejercicio 5.-** Escribe una función que tome un $r > 1$ y una tolerancia $\\texttt{tol}$, y devuelva una\n",
    "fracción que aproxime $r$ con un error menor que $\\texttt{tol}$."
   ]
  },
  {
   "cell_type": "code",
   "execution_count": 26,
   "id": "demographic-audit",
   "metadata": {},
   "outputs": [],
   "source": [
    "def FcontinuaAprox(r, tol):\n",
    "    if r <= 1: \n",
    "        return None\n",
    "    if r == floor(r):\n",
    "        return r\n",
    "    a0 = floor(r)\n",
    "    rr = 1 / (r - a0)\n",
    "    a1 = floor(rr)\n",
    "    rr = 1 / (rr - a1)\n",
    "    p0, q0, p1, q1 = a0, 1, (a0*a1 + 1), a1\n",
    "    while abs(p1/q1 - r) >= tol:\n",
    "        a1 = floor(rr)\n",
    "        rr = 1 / (rr - a1)\n",
    "        p0, q0, p1, q1 = p1, q1, (a1*p1 + p0), (a1*q1 + q0)\n",
    "    return p1/q1"
   ]
  },
  {
   "cell_type": "code",
   "execution_count": 27,
   "id": "indie-sector",
   "metadata": {},
   "outputs": [
    {
     "data": {
      "text/plain": [
       "(22/7, 3.14285714285714)"
      ]
     },
     "execution_count": 27,
     "metadata": {},
     "output_type": "execute_result"
    }
   ],
   "source": [
    "w = FcontinuaAprox(pi, 0.01)\n",
    "w,w.n()"
   ]
  },
  {
   "cell_type": "code",
   "execution_count": 29,
   "id": "abstract-simon",
   "metadata": {},
   "outputs": [
    {
     "data": {
      "text/plain": [
       "(17/12, 0.00245310429357160)"
      ]
     },
     "execution_count": 29,
     "metadata": {},
     "output_type": "execute_result"
    }
   ],
   "source": [
    "FcontinuaAprox(sqrt(2),10^(-2)), abs(17/12-sqrt(2)).n()"
   ]
  },
  {
   "cell_type": "code",
   "execution_count": 95,
   "id": "formal-technician",
   "metadata": {},
   "outputs": [
    {
     "data": {
      "text/plain": [
       "(333/106, 3.14150943396226)"
      ]
     },
     "execution_count": 95,
     "metadata": {},
     "output_type": "execute_result"
    }
   ],
   "source": [
    "w = FcontinuaAprox(pi, 0.001)\n",
    "w,w.n()"
   ]
  },
  {
   "cell_type": "markdown",
   "id": "young-arrest",
   "metadata": {},
   "source": [
    "____________\n",
    "\n",
    "**Ejercicio 6.-** Comprueba que las convergentes $c_k$ de $r$ tienen la siguiente propiedad: el error\n",
    "de la aproximación que de $r$ es $c_k$, es menor que el error de cualquier aproximación con\n",
    "un denominador menor que el de $c_k$. Efectúa la comprobación con\n",
    "al menos un número algebraico y otro trascendente, para al menos las cuatro\n",
    "primeras aproximaciones $c_k$.\n",
    "\n",
    "(Si no sabes qué quiere decir que un número sea algebraico o trascendente, deberás buscar qué quiere decir eso)."
   ]
  },
  {
   "cell_type": "code",
   "execution_count": 128,
   "id": "affiliated-presentation",
   "metadata": {},
   "outputs": [],
   "source": [
    "def aprox_den(r, k):\n",
    "    '''mejor aproximación de r con el denominador k'''\n",
    "    return round(r*k)/k\n",
    "\n",
    "def comprobar_(r, ck):\n",
    "    den = ck.denominator()\n",
    "    for k in [1..den-1]:\n",
    "        if abs(aprox_den(r, k) - r) <= abs(ck - r):\n",
    "            return False\n",
    "    return True"
   ]
  },
  {
   "cell_type": "code",
   "execution_count": 136,
   "id": "religious-cincinnati",
   "metadata": {},
   "outputs": [
    {
     "data": {
      "text/plain": [
       "(22/7, 28/9, True, True)"
      ]
     },
     "execution_count": 136,
     "metadata": {},
     "output_type": "execute_result"
    }
   ],
   "source": [
    "aprox_den(pi, 7), aprox_den(pi,9), comprobar_(21/8, 5/2), comprobar_(35/90, 6/15)"
   ]
  },
  {
   "cell_type": "code",
   "execution_count": 131,
   "id": "extra-device",
   "metadata": {},
   "outputs": [
    {
     "name": "stdout",
     "output_type": "stream",
     "text": [
      "True\n"
     ]
    }
   ],
   "source": [
    "s = pi\n",
    "L = Convergentes(F_continua(s, 4))\n",
    "print (all([comprobar_(s, j) for j in L]))"
   ]
  },
  {
   "cell_type": "code",
   "execution_count": 100,
   "id": "nervous-tracy",
   "metadata": {},
   "outputs": [
    {
     "data": {
      "text/plain": [
       "([3, 22/7, 333/106, 355/113, 103993/33102], 106)"
      ]
     },
     "execution_count": 100,
     "metadata": {},
     "output_type": "execute_result"
    }
   ],
   "source": [
    "L, L[2].denominator()"
   ]
  },
  {
   "cell_type": "code",
   "execution_count": 137,
   "id": "labeled-establishment",
   "metadata": {},
   "outputs": [
    {
     "name": "stdout",
     "output_type": "stream",
     "text": [
      "True\n"
     ]
    }
   ],
   "source": [
    "s = 234789827956348/4354737896345\n",
    "L = Convergentes(F_continua(s, 4))\n",
    "print (all([comprobar_(s, j) for j in L]))"
   ]
  },
  {
   "cell_type": "code",
   "execution_count": 133,
   "id": "painful-munich",
   "metadata": {},
   "outputs": [
    {
     "data": {
      "text/plain": [
       "1.17241379310345"
      ]
     },
     "execution_count": 133,
     "metadata": {},
     "output_type": "execute_result"
    }
   ],
   "source": []
  },
  {
   "cell_type": "code",
   "execution_count": null,
   "id": "minor-death",
   "metadata": {},
   "outputs": [],
   "source": []
  },
  {
   "cell_type": "code",
   "execution_count": null,
   "id": "altered-science",
   "metadata": {},
   "outputs": [],
   "source": []
  }
 ],
 "metadata": {
  "kernelspec": {
   "display_name": "SageMath 8.7",
   "language": "",
   "name": "sagemath"
  },
  "language_info": {
   "codemirror_mode": {
    "name": "ipython",
    "version": 2
   },
   "file_extension": ".py",
   "mimetype": "text/x-python",
   "name": "python",
   "nbconvert_exporter": "python",
   "pygments_lexer": "ipython2",
   "version": "2.7.15"
  }
 },
 "nbformat": 4,
 "nbformat_minor": 5
}
