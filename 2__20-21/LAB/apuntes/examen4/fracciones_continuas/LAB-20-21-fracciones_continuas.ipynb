{
 "cells": [
  {
   "cell_type": "markdown",
   "id": "compound-knife",
   "metadata": {},
   "source": [
    "# ** Laboratorio 2020-21 ** #\n",
    "\n",
    "## **Fracciones continuas** ##\n"
   ]
  },
  {
   "cell_type": "markdown",
   "id": "seeing-doctrine",
   "metadata": {},
   "source": [
    "**Ejercicio 1.-** Escribe una función que tome como argumento una lista $[a_0,\\ldots, a_k]$ y devuelva el número racional descrito por la fracción continua \n",
    "$[a_0; a_1, \\ldots, a_k]$."
   ]
  },
  {
   "cell_type": "code",
   "execution_count": null,
   "id": "square-differential",
   "metadata": {},
   "outputs": [],
   "source": []
  },
  {
   "cell_type": "markdown",
   "id": "superb-steal",
   "metadata": {},
   "source": [
    "____________\n",
    "\n",
    "**Ejercicio 2.-** Escribe un código que, tomando un r > 1 y un número dado k de pasos, halle\n",
    "los $[a_0;a_1, \\ldots , a_k]$ de la fracción continua de r.\n",
    "\n"
   ]
  },
  {
   "cell_type": "code",
   "execution_count": null,
   "id": "fitting-edinburgh",
   "metadata": {},
   "outputs": [],
   "source": []
  },
  {
   "cell_type": "markdown",
   "id": "stock-dream",
   "metadata": {},
   "source": [
    "____________\n",
    "\n",
    "**Ejercicio 3.-** Para el caso de un racional $r = \\frac nm > 1$, realiza una variante del código\n",
    "anterior que tome los enteros $n, m$ como datos y devuelva la lista completa $[a_0;a_1, \\ldots , a_n]$ hasta el fin del desarrollo.\n"
   ]
  },
  {
   "cell_type": "code",
   "execution_count": null,
   "id": "elegant-jaguar",
   "metadata": {},
   "outputs": [],
   "source": []
  },
  {
   "cell_type": "markdown",
   "id": "duplicate-duplicate",
   "metadata": {},
   "source": [
    "____________\n",
    "\n",
    "**Ejercicio 4.-**  Escribe otra función que tome los $[a_0;a_1, \\ldots , a_k]$ y produzca las fracciones\n",
    "(convergentes) $c_n = p_n/q_n$, $n = 0, \\ldots ,  k$."
   ]
  },
  {
   "cell_type": "code",
   "execution_count": null,
   "id": "monetary-thomson",
   "metadata": {},
   "outputs": [],
   "source": []
  },
  {
   "cell_type": "markdown",
   "id": "white-growth",
   "metadata": {},
   "source": [
    "____________\n",
    "\n",
    "**Ejercicio 5.-** Escribe una función que tome un $r > 1$ y una tolerancia $\\texttt{tol}$, y devuelva una\n",
    "fracción que aproxime $r$ con un error menor que $\\texttt{tol}$."
   ]
  },
  {
   "cell_type": "code",
   "execution_count": null,
   "id": "novel-involvement",
   "metadata": {},
   "outputs": [],
   "source": []
  },
  {
   "cell_type": "markdown",
   "id": "naval-activity",
   "metadata": {},
   "source": [
    "____________\n",
    "\n",
    "**Ejercicio 6.-** Comprueba que las convergentes $c_k$ de $r$ tienen la siguiente propiedad: el error\n",
    "de la aproximación que de $r$ es $c_k$, es menor que el error de cualquier aproximación con\n",
    "un denominador menor que el de $c_k$. Efectúa la comprobación con\n",
    "al menos un número algebraico y otro trascendente, para al menos las cuatro\n",
    "primeras aproximaciones $c_k$.\n",
    "\n",
    "(Si no sabes qué quiere decir que un número sea algebraico o trascendente, deberás buscar qué quiere decir eso)."
   ]
  },
  {
   "cell_type": "code",
   "execution_count": null,
   "id": "copyrighted-stake",
   "metadata": {},
   "outputs": [],
   "source": []
  }
 ],
 "metadata": {
  "kernelspec": {
   "display_name": "SageMath 8.7",
   "language": "",
   "name": "sagemath"
  },
  "language_info": {
   "codemirror_mode": {
    "name": "ipython",
    "version": 2
   },
   "file_extension": ".py",
   "mimetype": "text/x-python",
   "name": "python",
   "nbconvert_exporter": "python",
   "pygments_lexer": "ipython2",
   "version": "2.7.15"
  }
 },
 "nbformat": 4,
 "nbformat_minor": 5
}
