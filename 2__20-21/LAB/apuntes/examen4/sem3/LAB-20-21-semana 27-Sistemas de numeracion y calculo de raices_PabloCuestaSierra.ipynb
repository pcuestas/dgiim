{
 "cells": [
  {
   "cell_type": "markdown",
   "id": "close-supervision",
   "metadata": {},
   "source": [
    "# Pablo Cuesta Sierra"
   ]
  },
  {
   "cell_type": "markdown",
   "id": "irish-making",
   "metadata": {},
   "source": [
    "# ** Laboratorio 2020-21 ** #\n",
    "\n",
    "# ** Semana 27 ** #\n",
    "\n",
    "## **Números naturales en distintas bases** ##"
   ]
  },
  {
   "cell_type": "markdown",
   "id": "realistic-population",
   "metadata": {},
   "source": [
    "____________\n",
    "\n",
    "**Ejercicio 1.-** Implementar, utilizando el algoritmo del documento que se os ha proporcionado (no se puede usar el método *digits*), una función de Sagemath, *DigitosN()*, que espere dos naturales, $z,b$ con $b\\ge2$ y devuelva la lista de los valores de los dígitos de $z$ en el sistema de numeración de base $b$, leídos de izquierda a derecha. Por ejemplo, *DigitosN(41531,16)* devolverá la lista $[10,2,3,11]$."
   ]
  },
  {
   "cell_type": "code",
   "execution_count": 9,
   "id": "surgical-briefs",
   "metadata": {},
   "outputs": [],
   "source": [
    "def DigitosN(z, b):# suponemos que z y b son naturales\n",
    "    if b not in NN or b<=1:\n",
    "        print'La base tiene que ser un natural mayor a 1.'\n",
    "        return None\n",
    "    L = []\n",
    "    while z:\n",
    "        L.insert(0, z%b) # lo ponemos al principio de la lista, \n",
    "        z = z//b         # porque es más significativo\n",
    "    return L if len(L) else [0]"
   ]
  },
  {
   "cell_type": "code",
   "execution_count": 10,
   "id": "center-apollo",
   "metadata": {},
   "outputs": [
    {
     "data": {
      "text/plain": [
       "([10, 2, 3, 11], [0])"
      ]
     },
     "execution_count": 10,
     "metadata": {},
     "output_type": "execute_result"
    }
   ],
   "source": [
    "DigitosN(41531, 16), DigitosN(0, 16)"
   ]
  },
  {
   "cell_type": "markdown",
   "id": "vertical-lingerie",
   "metadata": {},
   "source": [
    "____________\n",
    "\n",
    "**Ejercicio 2.-**  Implementar, siguiendo el algoritmo de Horner, una función *DecimalN()* que a partir de una lista $L$ y un natural $b\\ge2$ devuelva el natural resultado de calcular:\n",
    "$$\n",
    "\\sum_{j=0}^{k}L[j]\\cdot b^{k-j} \\quad \\text{ con }k=\\mathrm{len}(L)-1.\n",
    "$$\n",
    "En particular, *DecimalN(DigitosN(z,b),b)* devolverá $z$."
   ]
  },
  {
   "cell_type": "code",
   "execution_count": 11,
   "id": "banned-coalition",
   "metadata": {},
   "outputs": [],
   "source": [
    "def DecimalN(L, b): # b es x_0, r representa los b_j y a, los a_j\n",
    "    r = 0           #  (en referencia al algoritmo del pdf)\n",
    "    for a in L:\n",
    "        r = r*b + a\n",
    "    return r"
   ]
  },
  {
   "cell_type": "code",
   "execution_count": 12,
   "id": "tender-english",
   "metadata": {},
   "outputs": [
    {
     "data": {
      "text/plain": [
       "41531"
      ]
     },
     "execution_count": 12,
     "metadata": {},
     "output_type": "execute_result"
    }
   ],
   "source": [
    "z,b = 41531,16\n",
    "DecimalN(DigitosN(z,b),b)"
   ]
  },
  {
   "cell_type": "code",
   "execution_count": 13,
   "id": "cardiac-specification",
   "metadata": {},
   "outputs": [
    {
     "data": {
      "text/plain": [
       "True"
      ]
     },
     "execution_count": 13,
     "metadata": {},
     "output_type": "execute_result"
    }
   ],
   "source": [
    "b=randint(2,16)\n",
    "all([DecimalN(DigitosN(z,b),b) for z in [randint(10^3,10^6) for _ in [1..10^3]]])"
   ]
  },
  {
   "cell_type": "markdown",
   "id": "common-outline",
   "metadata": {},
   "source": [
    "____________\n",
    "\n",
    "**Ejercicio 3.-** \n",
    "Los números racionales tienen desarrollos decimales finitos o infinitos pero periódicos. Ejemplos:\n",
    "$$\n",
    "\\frac{31}{14}= 2.21428571428571\\qquad\n",
    "\\frac{12901}{10100}=1.27\\overline{7326}.\n",
    "$$\n",
    "Si $p,q\\in\\mathbb N$ son dos naturales (se pueden considerar coprimos), el racional $p/q$ se puede descomponer como una suma\n",
    "$$\n",
    "\\frac pq=z+\\frac{p'}q\\quad\\text{ con }0\\le p'<q \\text{ y }z\\in\\mathbb N.\n",
    "$$\n",
    "El natural $z$, que es $\\ge0$, se dice la parte entera y $\\frac{p'}q$ la parte  fraccionaria, un racional no negativo y menor que $1$.\n",
    "\n",
    "Sea $r$ un racional positivo y menor que $1$, $0<r<1$. Sea $\\mathbf{b}\\ge 2$ una base de numeración. Existen únicos enteros $0\\le d_{-j}<\\mathbf{b}$, los dígitos decimales en base $\\mathbf b$ de $r$, tales que\n",
    "$$\n",
    "r=d_{-1}\\mathbf{b}^{-1}+d_{-2}\\mathbf{b}^{-2}+\\dots+d_{-k}\\mathbf{b}^{-k}+\\dots\n",
    "$$\n",
    "Denotaremos $r=0.d_{-1}d_{-2}\\dots d_{-k}\\dots\\hskip-2pt \\lrcorner_{\\mathbf{b}}$.\n",
    "Este desarrollo puede ser:\n",
    "\n",
    "- finito:  $r=0.d_{-1}\\dots d_{-j}\\hskip-1pt\\lrcorner_{\\mathbf{b}}\\quad  (d_{-j}\\neq0)$;  ocurre si $r\\cdot\\mathbf{b}^j\\in\\mathbb N$;\n",
    "\n",
    "- periódico: $r=\n",
    "0.d_{-1}\\dots d_{-\\ell}\n",
    "\\overline{d_{-\\ell+1}\\dots d_{-k}}\\hskip-1pt\\lrcorner_{\\mathbf{b}}$;  ocurre si $r(\\mathbf{b}^k-\\mathbf{b}^\\ell)\\in\\mathbb N$.\n",
    "\n",
    "En el segundo caso existe un valor mínimo de $k$ para el que se verifica la condición. Ejemplos, en base $2$:\n",
    "- $\\frac{9}{16}=\\frac12+\\frac1{16}=0.1001\\hskip-2pt\\lrcorner_{2}$.\n",
    "- $\\frac{7}{12}=\\frac12+\\frac1{12}=0.10\\overline{01}\\hskip-2pt\\lrcorner_{2}$. Obsérvese que $\\tfrac{7}{12}(2^4-2^2)=7\\in\\mathbb N$.\n",
    "\n",
    "**a)** Describir, en pseudocódigo, un algoritmo que dado un racional $r$ positivo menor que $1$ y una base de numeración $\\mathbf b$ encuentre el desarrollo decimal de $r$ en base $\\mathbf{b}$, en el menor número de pasos posible. En el caso periódico parará cuando vaya a empezar a repetirse el periodo.\n",
    "\n",
    "**b)** Implementar una función *DigitosF( )* de sage para el algoritmo recién descrito.\n",
    "\n",
    "Por ejemplo, *DigitosF(9/16,2)* devolvería $[1,0,0,1]$, al igual que *DigitosF(7/12,2)* (ver el siguiente apartado).\n",
    "\n",
    "**c)** Especializar la función *DigitosF( )* implementando una función *DigitosFX()* que devuelva la lista de dígitos decimales en una base $b\\ge 2$ de un racional $r$ positivo menor que $1$, indicando, si existe, el inicio y el final de la parte periódica con el caracter '$|$'. Por ejemplo, *DigitosFX(7/12,2)* devolvería $[\\text{1,0,'$|$'},0,1,\\text{'$|$'}]$, y *DigitosFX(9/16,2)* devolvería $[1,0,0,1]$.\n",
    "\n",
    "**d)** Implementar una función *Digitos( )* de Sagemath que dados un racional $p/q$ positivo y un natural $b\\ge 2$ devuelva la lista de todos los dígitos, parte entera y parte fraccionaria, del racional en la base dada. En la lista, indicar dónde empieza, si la hay, la parte fraccionaria con el caracter '.', y dónde, si la hay, empieza y acaba la parte periódica con el caracter '$|$'."
   ]
  },
  {
   "cell_type": "markdown",
   "id": "global-console",
   "metadata": {},
   "source": [
    "```C\n",
    "// algoritmo:\n",
    "Lista DigitosF(r, b){\n",
    "    L = R = lista_vacía()\n",
    "    mientras r no esté en R{\n",
    "        insertar(R, r)\n",
    "        insertar_al_final(L, floor(r*b))\n",
    "        r = r*b - floor(r*b)\n",
    "    }\n",
    "    return L\n",
    "}\n",
    "```"
   ]
  },
  {
   "cell_type": "code",
   "execution_count": 14,
   "id": "bridal-restaurant",
   "metadata": {},
   "outputs": [],
   "source": [
    "def DigitosF(r, b):\n",
    "    if r >= 1 or r < 0:\n",
    "        return None #no válido\n",
    "    L, R = [], [0]\n",
    "    while not r in R:\n",
    "        R.insert(0, r)\n",
    "        d = floor(r*b)\n",
    "        L.append(d)\n",
    "        r = r*b - d\n",
    "    return L"
   ]
  },
  {
   "cell_type": "code",
   "execution_count": 15,
   "id": "crucial-evolution",
   "metadata": {},
   "outputs": [
    {
     "name": "stdout",
     "output_type": "stream",
     "text": [
      "[1, 0, 0, 1]\n",
      "[1, 0, 0, 1]\n"
     ]
    }
   ],
   "source": [
    "print DigitosF(9/16,2)\n",
    "print DigitosF(7/12,2)"
   ]
  },
  {
   "cell_type": "code",
   "execution_count": 16,
   "id": "temporal-lover",
   "metadata": {},
   "outputs": [],
   "source": [
    "def DigitosFX(r, b):\n",
    "    if r >= 1 or r < 0:\n",
    "        return None #no válido\n",
    "    L, R = [], [0]\n",
    "    while not r in R:\n",
    "        R.append(r)\n",
    "        d = floor(r*b)\n",
    "        L.append(d)\n",
    "        r = r*b - d\n",
    "    if not r: \n",
    "        return L\n",
    "    d = R.index(r) - 1 #por el 0 de R, hay que restar 1\n",
    "    return L[:d] + ['|'] + L[d:] + ['|']"
   ]
  },
  {
   "cell_type": "code",
   "execution_count": 17,
   "id": "functioning-tracy",
   "metadata": {},
   "outputs": [
    {
     "name": "stdout",
     "output_type": "stream",
     "text": [
      "[1, 0, '|', 0, 1, '|']\n",
      "[1, 0, 0, 1]\n"
     ]
    }
   ],
   "source": [
    "print  DigitosFX(7/12,2)\n",
    "print DigitosFX(9/16,2)"
   ]
  },
  {
   "cell_type": "code",
   "execution_count": 18,
   "id": "complete-maryland",
   "metadata": {
    "scrolled": true
   },
   "outputs": [
    {
     "name": "stdout",
     "output_type": "stream",
     "text": [
      "([1, 0, 0, 1], [], [0])\n"
     ]
    }
   ],
   "source": [
    "print(DigitosFX(9/16, 2) , DigitosFX(0,2), DigitosN(0, 2))"
   ]
  },
  {
   "cell_type": "code",
   "execution_count": 19,
   "id": "opening-score",
   "metadata": {},
   "outputs": [],
   "source": [
    "def Digitos(r, b):\n",
    "    d = floor(r)\n",
    "    L1 = DigitosN(d, b)\n",
    "    if r == d: \n",
    "        return L1\n",
    "    return L1 + ['.'] + DigitosFX(r-d, b) "
   ]
  },
  {
   "cell_type": "code",
   "execution_count": 20,
   "id": "tutorial-milan",
   "metadata": {},
   "outputs": [
    {
     "name": "stdout",
     "output_type": "stream",
     "text": [
      "([2], [1, 0, 1, '.', 1, 0, '|', 0, 1, '|'], [1, 0, 0, '.', 0, 0, 1, 1])\n",
      "[1, 0, 0, '.', 1, 0, '|', 0, 1, '|']\n"
     ]
    }
   ],
   "source": [
    "print(Digitos(4/2, 5), Digitos(5 + 7/12, 2), Digitos(4 + 3/16, 2))\n",
    "print (Digitos(55/12,2))"
   ]
  },
  {
   "cell_type": "markdown",
   "id": "catholic-lobby",
   "metadata": {},
   "source": [
    "____________\n",
    "\n",
    "**Ejercicio 4.-** Quizás has visto en tu asignatura de Conjuntos y Números un criterio distinto para averiguar cuándo empieza, de existir, el periodo: *la primera vez que el denominador se hace coprimo con la base*.\n",
    "\n",
    "Modifica el algoritmo anterior para seguir este criterio."
   ]
  },
  {
   "cell_type": "code",
   "execution_count": 21,
   "id": "local-burst",
   "metadata": {},
   "outputs": [],
   "source": [
    "def DigitosFXX(r, b):\n",
    "    if r >= 1 or r < 0:\n",
    "        return None #no válido\n",
    "    L, end, rr, first = [], False, 0, 0\n",
    "    while True: \n",
    "        if not r: \n",
    "            return L\n",
    "        if (gcd(r.denominator(), b) == 1):\n",
    "            if rr == r: \n",
    "                return L + ['|']\n",
    "            elif not first:\n",
    "                first = 1\n",
    "                rr = r\n",
    "                L.append('|')\n",
    "        d = floor(r*b)\n",
    "        L.append(d)\n",
    "        r = r*b - d"
   ]
  },
  {
   "cell_type": "code",
   "execution_count": 22,
   "id": "gothic-extra",
   "metadata": {},
   "outputs": [
    {
     "name": "stdout",
     "output_type": "stream",
     "text": [
      "[1, 0, 0, '.', 1, 0, '|', 0, 1, '|']\n",
      "True\n"
     ]
    }
   ],
   "source": [
    "(DigitosFXX(7/12, 2), 0.denominator(), Digitos(41/10, 3), DecimalN([],2))\n",
    "print (Digitos(55/12,2))\n",
    "print (DigitosFXX(7/12,2)==DigitosFX(7/12,2))"
   ]
  },
  {
   "cell_type": "markdown",
   "id": "final-berlin",
   "metadata": {},
   "source": [
    "____________\n",
    "\n",
    "**Ejercicio 5.-**  Implementar una función, *Decimal( )*, inversa de alguno de las dos anteriores; es decir que encuentre la fracción irreducible correspondiente a un desarrollo decimal, finito o periódico, en una base dada."
   ]
  },
  {
   "cell_type": "code",
   "execution_count": 23,
   "id": "short-invention",
   "metadata": {},
   "outputs": [],
   "source": [
    "def DecimalPeriodo(L, b):\n",
    "    '''devuelve el número 0,'|' L[0] ... L[len(L)-1] '|'      (priódico en base b)'''\n",
    "    return DecimalN(L, b) / (b^len(L) - 1)\n",
    "def DecimalF(L, b):\n",
    "    '''L es como la obtenida por DigitosFX'''\n",
    "    if '|' not in L: return DecimalN(L, b) * b^-len(L)\n",
    "    d = L.index('|')\n",
    "    return (DecimalN(L[:d], b) + DecimalPeriodo(L[d+1:len(L)-1], b)) * b^-d\n",
    "def Decimal(L, b):\n",
    "    '''L es como la obtenida desde Digitos(xx, b)'''\n",
    "    if '.' not in L: return DecimalN(L, b)\n",
    "    d = L.index('.')\n",
    "    return DecimalN(L[:d], b) + DecimalF(L[d+1:], b)"
   ]
  },
  {
   "cell_type": "code",
   "execution_count": 24,
   "id": "hungarian-jimmy",
   "metadata": {},
   "outputs": [
    {
     "name": "stdout",
     "output_type": "stream",
     "text": [
      "[0, '.', 0, 0, '|', 0, 1, '|']\n",
      "1/12\n"
     ]
    }
   ],
   "source": [
    "z=1/12\n",
    "print Digitos(z,2)\n",
    "print Decimal(Digitos(z,2),2)"
   ]
  },
  {
   "cell_type": "code",
   "execution_count": 25,
   "id": "palestinian-junction",
   "metadata": {},
   "outputs": [
    {
     "name": "stdout",
     "output_type": "stream",
     "text": [
      "377/16\n",
      "[1, 0, 1, 1, 1, '.', 1, 0, 0, 1]\n",
      "377/16\n"
     ]
    }
   ],
   "source": [
    "z=9/16+23\n",
    "print z\n",
    "print Digitos(z,2)\n",
    "print Decimal(Digitos(z,2),2)"
   ]
  },
  {
   "cell_type": "code",
   "execution_count": 26,
   "id": "intensive-finnish",
   "metadata": {},
   "outputs": [
    {
     "name": "stdout",
     "output_type": "stream",
     "text": [
      "2927/57\n",
      "[1, 2, 3, 4, 5, 6, '.', 6, 5, 4, 3, 2, 1, '|', 3, 2, 2, '|']\n",
      "[1, 2, 3, 4, 5, 6, '.', 6, 5, 4, 3, 2, 1, 0, 6]\n",
      "[1, 2, 3, 4, 5, 6, '.', '|', 2, 4, 0, 0, 0, 0, '|']\n"
     ]
    }
   ],
   "source": [
    "print(Decimal(Digitos(2927/57, 13), 13))\n",
    "print(Digitos(Decimal([1,2,3,4,5,6,'.',6,5,4,3,2,1,'|',3,2,2,'|'], 7), 7))\n",
    "print(Digitos(Decimal([1,2,3,4,5,6,'.',6,5,4,3,2,1,0,6], 8), 8))\n",
    "print(Digitos(Decimal([1,2,3,4,5,6,'.','|', 2, 4, 0, 0, 0, 0, '|'], 43), 43))"
   ]
  },
  {
   "cell_type": "markdown",
   "id": "terminal-remains",
   "metadata": {},
   "source": [
    "____________\n",
    "\n",
    "**Ejercicio 6.-** Encontrar todos los naturales de entre $7$ y $10$ cifras decimales que sean capicúas en bases $3$ y $5$.\n",
    "\n",
    "*Sugerencia:* Implementar un programa que devuelva la lista de capicúas de una cierta longitud en una base dada."
   ]
  },
  {
   "cell_type": "code",
   "execution_count": 27,
   "id": "labeled-rochester",
   "metadata": {},
   "outputs": [],
   "source": [
    "def Capicuas(l, b):\n",
    "    '''lista de capicúas de longitud l en la base b'''\n",
    "    L = [[]]\n",
    "    for j in range(l//2 + (l%2)):\n",
    "        LL = []\n",
    "        for lista in L:\n",
    "            if not j: LL += [(lista+[k]) for k in [1..b-1]]\n",
    "            else:     LL += [(lista+[k]) for k in range(b)]\n",
    "        L = LL\n",
    "    L = [(lista + lista[len(lista)-1-(l%2) : : -1]) for lista in L]\n",
    "    return L"
   ]
  },
  {
   "cell_type": "code",
   "execution_count": 28,
   "id": "revised-equality",
   "metadata": {},
   "outputs": [
    {
     "data": {
      "text/plain": [
       "[[1, 0, 0, 1],\n",
       " [1, 1, 1, 1],\n",
       " [1, 2, 2, 1],\n",
       " [1, 3, 3, 1],\n",
       " [1, 4, 4, 1],\n",
       " [2, 0, 0, 2],\n",
       " [2, 1, 1, 2],\n",
       " [2, 2, 2, 2],\n",
       " [2, 3, 3, 2],\n",
       " [2, 4, 4, 2],\n",
       " [3, 0, 0, 3],\n",
       " [3, 1, 1, 3],\n",
       " [3, 2, 2, 3],\n",
       " [3, 3, 3, 3],\n",
       " [3, 4, 4, 3],\n",
       " [4, 0, 0, 4],\n",
       " [4, 1, 1, 4],\n",
       " [4, 2, 2, 4],\n",
       " [4, 3, 3, 4],\n",
       " [4, 4, 4, 4]]"
      ]
     },
     "execution_count": 28,
     "metadata": {},
     "output_type": "execute_result"
    }
   ],
   "source": [
    "Capicuas(4,5)"
   ]
  },
  {
   "cell_type": "code",
   "execution_count": 29,
   "id": "portable-appendix",
   "metadata": {},
   "outputs": [
    {
     "data": {
      "text/plain": [
       "([[1, 1], [2, 2]], [[1, 1], [2, 2], [3, 3], [4, 4]])"
      ]
     },
     "execution_count": 29,
     "metadata": {},
     "output_type": "execute_result"
    }
   ],
   "source": [
    "Capicuas(2,3),Capicuas(2,5)"
   ]
  },
  {
   "cell_type": "code",
   "execution_count": 30,
   "id": "ceramic-protest",
   "metadata": {},
   "outputs": [
    {
     "data": {
      "text/plain": [
       "([[1, 0, 0, 1],\n",
       "  [1, 1, 1, 1],\n",
       "  [1, 2, 2, 1],\n",
       "  [2, 0, 0, 2],\n",
       "  [2, 1, 1, 2],\n",
       "  [2, 2, 2, 2]],\n",
       " False,\n",
       " False)"
      ]
     },
     "execution_count": 30,
     "metadata": {},
     "output_type": "execute_result"
    }
   ],
   "source": [
    "Capicuas(4, 3), len(Capicuas(10, 6))==6^(10//2), bool(len(Capicuas(11, 6))==6^(11//2 + 1))"
   ]
  },
  {
   "cell_type": "code",
   "execution_count": 31,
   "id": "fatal-terror",
   "metadata": {},
   "outputs": [
    {
     "ename": "KeyboardInterrupt",
     "evalue": "",
     "output_type": "error",
     "traceback": [
      "\u001b[0;31m---------------------------------------------------------------------------\u001b[0m",
      "\u001b[0;31mKeyboardInterrupt\u001b[0m                         Traceback (most recent call last)",
      "\u001b[0;32m<ipython-input-31-33297a27485c>\u001b[0m in \u001b[0;36m<module>\u001b[0;34m()\u001b[0m\n\u001b[1;32m      5\u001b[0m     \u001b[0mall3\u001b[0m \u001b[0;34m=\u001b[0m \u001b[0mall3\u001b[0m\u001b[0;34m.\u001b[0m\u001b[0munion\u001b[0m\u001b[0;34m(\u001b[0m\u001b[0mset\u001b[0m\u001b[0;34m(\u001b[0m\u001b[0;34m[\u001b[0m\u001b[0mDecimal\u001b[0m\u001b[0;34m(\u001b[0m\u001b[0mnum\u001b[0m\u001b[0;34m,\u001b[0m \u001b[0mInteger\u001b[0m\u001b[0;34m(\u001b[0m\u001b[0;36m3\u001b[0m\u001b[0;34m)\u001b[0m\u001b[0;34m)\u001b[0m \u001b[0;32mfor\u001b[0m \u001b[0mnum\u001b[0m \u001b[0;32min\u001b[0m \u001b[0mCapicuas\u001b[0m\u001b[0;34m(\u001b[0m\u001b[0mk\u001b[0m\u001b[0;34m,\u001b[0m \u001b[0mInteger\u001b[0m\u001b[0;34m(\u001b[0m\u001b[0;36m3\u001b[0m\u001b[0;34m)\u001b[0m\u001b[0;34m)\u001b[0m\u001b[0;34m]\u001b[0m\u001b[0;34m)\u001b[0m\u001b[0;34m)\u001b[0m\u001b[0;34m\u001b[0m\u001b[0m\n\u001b[1;32m      6\u001b[0m     \u001b[0mL\u001b[0m\u001b[0;34m[\u001b[0m\u001b[0mk\u001b[0m\u001b[0;34m-\u001b[0m\u001b[0mInteger\u001b[0m\u001b[0;34m(\u001b[0m\u001b[0;36m7\u001b[0m\u001b[0;34m)\u001b[0m\u001b[0;34m]\u001b[0m \u001b[0;34m=\u001b[0m \u001b[0mL\u001b[0m\u001b[0;34m[\u001b[0m\u001b[0mk\u001b[0m\u001b[0;34m-\u001b[0m\u001b[0mInteger\u001b[0m\u001b[0;34m(\u001b[0m\u001b[0;36m7\u001b[0m\u001b[0;34m)\u001b[0m\u001b[0;34m]\u001b[0m\u001b[0;34m.\u001b[0m\u001b[0munion\u001b[0m\u001b[0;34m(\u001b[0m\u001b[0mset\u001b[0m\u001b[0;34m(\u001b[0m\u001b[0;34m[\u001b[0m\u001b[0mDecimal\u001b[0m\u001b[0;34m(\u001b[0m\u001b[0mnum\u001b[0m\u001b[0;34m,\u001b[0m \u001b[0mInteger\u001b[0m\u001b[0;34m(\u001b[0m\u001b[0;36m3\u001b[0m\u001b[0;34m)\u001b[0m\u001b[0;34m)\u001b[0m \u001b[0;32mfor\u001b[0m \u001b[0mnum\u001b[0m \u001b[0;32min\u001b[0m \u001b[0mCapicuas\u001b[0m\u001b[0;34m(\u001b[0m\u001b[0mk\u001b[0m\u001b[0;34m,\u001b[0m \u001b[0mInteger\u001b[0m\u001b[0;34m(\u001b[0m\u001b[0;36m3\u001b[0m\u001b[0;34m)\u001b[0m\u001b[0;34m)\u001b[0m\u001b[0;34m]\u001b[0m\u001b[0;34m)\u001b[0m\u001b[0;34m)\u001b[0m\u001b[0;34m\u001b[0m\u001b[0m\n\u001b[0;32m----> 7\u001b[0;31m     \u001b[0mL\u001b[0m\u001b[0;34m[\u001b[0m\u001b[0mk\u001b[0m\u001b[0;34m-\u001b[0m\u001b[0mInteger\u001b[0m\u001b[0;34m(\u001b[0m\u001b[0;36m7\u001b[0m\u001b[0;34m)\u001b[0m\u001b[0;34m]\u001b[0m\u001b[0;34m.\u001b[0m\u001b[0mintersection\u001b[0m\u001b[0;34m(\u001b[0m\u001b[0mset\u001b[0m\u001b[0;34m(\u001b[0m\u001b[0;34m[\u001b[0m\u001b[0mDecimal\u001b[0m\u001b[0;34m(\u001b[0m\u001b[0mnum\u001b[0m\u001b[0;34m,\u001b[0m \u001b[0mInteger\u001b[0m\u001b[0;34m(\u001b[0m\u001b[0;36m5\u001b[0m\u001b[0;34m)\u001b[0m\u001b[0;34m)\u001b[0m \u001b[0;32mfor\u001b[0m \u001b[0mnum\u001b[0m \u001b[0;32min\u001b[0m \u001b[0mCapicuas\u001b[0m\u001b[0;34m(\u001b[0m\u001b[0mk\u001b[0m\u001b[0;34m,\u001b[0m \u001b[0mInteger\u001b[0m\u001b[0;34m(\u001b[0m\u001b[0;36m5\u001b[0m\u001b[0;34m)\u001b[0m\u001b[0;34m)\u001b[0m\u001b[0;34m]\u001b[0m\u001b[0;34m)\u001b[0m\u001b[0;34m)\u001b[0m\u001b[0;34m\u001b[0m\u001b[0m\n\u001b[0m\u001b[1;32m      8\u001b[0m \u001b[0mresultado\u001b[0m \u001b[0;34m=\u001b[0m \u001b[0mset\u001b[0m\u001b[0;34m(\u001b[0m\u001b[0;34m)\u001b[0m\u001b[0;34m\u001b[0m\u001b[0m\n\u001b[1;32m      9\u001b[0m \u001b[0;32mfor\u001b[0m \u001b[0msset\u001b[0m \u001b[0;32min\u001b[0m \u001b[0mL\u001b[0m\u001b[0;34m:\u001b[0m\u001b[0;34m\u001b[0m\u001b[0m\n",
      "\u001b[0;32m<ipython-input-23-43151785c947>\u001b[0m in \u001b[0;36mDecimal\u001b[0;34m(L, b)\u001b[0m\n\u001b[1;32m      9\u001b[0m \u001b[0;32mdef\u001b[0m \u001b[0mDecimal\u001b[0m\u001b[0;34m(\u001b[0m\u001b[0mL\u001b[0m\u001b[0;34m,\u001b[0m \u001b[0mb\u001b[0m\u001b[0;34m)\u001b[0m\u001b[0;34m:\u001b[0m\u001b[0;34m\u001b[0m\u001b[0m\n\u001b[1;32m     10\u001b[0m     \u001b[0;34m'''L es como la obtenida desde Digitos(xx, b)'''\u001b[0m\u001b[0;34m\u001b[0m\u001b[0m\n\u001b[0;32m---> 11\u001b[0;31m     \u001b[0;32mif\u001b[0m \u001b[0;34m'.'\u001b[0m \u001b[0;32mnot\u001b[0m \u001b[0;32min\u001b[0m \u001b[0mL\u001b[0m\u001b[0;34m:\u001b[0m \u001b[0;32mreturn\u001b[0m \u001b[0mDecimalN\u001b[0m\u001b[0;34m(\u001b[0m\u001b[0mL\u001b[0m\u001b[0;34m,\u001b[0m \u001b[0mb\u001b[0m\u001b[0;34m)\u001b[0m\u001b[0;34m\u001b[0m\u001b[0m\n\u001b[0m\u001b[1;32m     12\u001b[0m     \u001b[0md\u001b[0m \u001b[0;34m=\u001b[0m \u001b[0mL\u001b[0m\u001b[0;34m.\u001b[0m\u001b[0mindex\u001b[0m\u001b[0;34m(\u001b[0m\u001b[0;34m'.'\u001b[0m\u001b[0;34m)\u001b[0m\u001b[0;34m\u001b[0m\u001b[0m\n\u001b[1;32m     13\u001b[0m     \u001b[0;32mreturn\u001b[0m \u001b[0mDecimalN\u001b[0m\u001b[0;34m(\u001b[0m\u001b[0mL\u001b[0m\u001b[0;34m[\u001b[0m\u001b[0;34m:\u001b[0m\u001b[0md\u001b[0m\u001b[0;34m]\u001b[0m\u001b[0;34m,\u001b[0m \u001b[0mb\u001b[0m\u001b[0;34m)\u001b[0m \u001b[0;34m+\u001b[0m \u001b[0mDecimalF\u001b[0m\u001b[0;34m(\u001b[0m\u001b[0mL\u001b[0m\u001b[0;34m[\u001b[0m\u001b[0md\u001b[0m\u001b[0;34m+\u001b[0m\u001b[0mInteger\u001b[0m\u001b[0;34m(\u001b[0m\u001b[0;36m1\u001b[0m\u001b[0;34m)\u001b[0m\u001b[0;34m:\u001b[0m\u001b[0;34m]\u001b[0m\u001b[0;34m,\u001b[0m \u001b[0mb\u001b[0m\u001b[0;34m)\u001b[0m\u001b[0;34m\u001b[0m\u001b[0m\n",
      "\u001b[0;32m<ipython-input-11-2dc863c8d3b1>\u001b[0m in \u001b[0;36mDecimalN\u001b[0;34m(L, b)\u001b[0m\n\u001b[1;32m      2\u001b[0m     \u001b[0mr\u001b[0m \u001b[0;34m=\u001b[0m \u001b[0mInteger\u001b[0m\u001b[0;34m(\u001b[0m\u001b[0;36m0\u001b[0m\u001b[0;34m)\u001b[0m           \u001b[0;31m#  (en referencia al algoritmo del pdf)\u001b[0m\u001b[0;34m\u001b[0m\u001b[0m\n\u001b[1;32m      3\u001b[0m     \u001b[0;32mfor\u001b[0m \u001b[0ma\u001b[0m \u001b[0;32min\u001b[0m \u001b[0mL\u001b[0m\u001b[0;34m:\u001b[0m\u001b[0;34m\u001b[0m\u001b[0m\n\u001b[0;32m----> 4\u001b[0;31m         \u001b[0mr\u001b[0m \u001b[0;34m=\u001b[0m \u001b[0mr\u001b[0m\u001b[0;34m*\u001b[0m\u001b[0mb\u001b[0m \u001b[0;34m+\u001b[0m \u001b[0ma\u001b[0m\u001b[0;34m\u001b[0m\u001b[0m\n\u001b[0m\u001b[1;32m      5\u001b[0m     \u001b[0;32mreturn\u001b[0m \u001b[0mr\u001b[0m\u001b[0;34m\u001b[0m\u001b[0m\n",
      "\u001b[0;32msrc/cysignals/signals.pyx\u001b[0m in \u001b[0;36mcysignals.signals.python_check_interrupt\u001b[0;34m()\u001b[0m\n",
      "\u001b[0;31mKeyboardInterrupt\u001b[0m: "
     ]
    }
   ],
   "source": [
    "# solución del ejercicio :\n",
    "L = [set()]*(21-7+1)\n",
    "all3 = set()\n",
    "for k in [7..21]:\n",
    "    all3 = all3.union(set([Decimal(num, 3) for num in Capicuas(k, 3)]))\n",
    "    L[k-7] = L[k-7].union(set([Decimal(num, 3) for num in Capicuas(k, 3)]))\n",
    "    L[k-7].intersection(set([Decimal(num, 5) for num in Capicuas(k, 5)]))\n",
    "resultado = set()\n",
    "for sset in L:\n",
    "    resultado = resultado.union(sset)\n",
    "resultado = list(resultado) #no se especifica, por lo que he dejado el resultado como la lista de los \n",
    "resultado.sort()            #números naturales correspondientes\n",
    "print(resultado)\n",
    "print('Capicuas en ambos respecto a en la base 3 (%): ',(float(len(resultado))/len(all3)))"
   ]
  },
  {
   "cell_type": "code",
   "execution_count": 60,
   "id": "genuine-passing",
   "metadata": {},
   "outputs": [
    {
     "name": "stdout",
     "output_type": "stream",
     "text": [
      " El mayor número de 10 cifras en base 10\n",
      "\t tiene 21 cifras en base 3.\n",
      "4 11 4\n",
      "4 11 4\n",
      "26 222 101\n",
      "52 1221 202\n",
      "1066 1110111 13231\n",
      "1667 2021202 23132\n",
      "2188 10000001 32223\n",
      "32152 1122002211 2012102\n",
      "67834 10110001101 4132314\n",
      "423176 210111111012 102020201\n",
      "437576 211020020112 103000301\n",
      "14752936 1000202112020001 12234043221\n",
      "26513692 1211220000221121 23241414232\n",
      "27711772 1221010220101221 24043234042\n",
      "33274388 2022121111212202 32004240023\n",
      "320785556 211100121121001112 1124110114211\n",
      "1065805109 2202021111111202022 4140321230414\n",
      "9012701786 212021002222200120212 121424222424121\n",
      "9256436186 212220002121200022212 122424121424221\n",
      "De los números menores o iguales que 10460353202,\n",
      "\t hay 19 capicúas a la vez en bases 3 y 5.\n",
      "(El 0.008044 por ciento de los encontrados en base 3 lo son en base 5).\n"
     ]
    },
    {
     "data": {
      "text/plain": [
       "15.728441953659058"
      ]
     },
     "execution_count": 60,
     "metadata": {},
     "output_type": "execute_result"
    }
   ],
   "source": [
    "t0=walltime()\n",
    "def Decora(NN):\n",
    "    return str(Decimal(NN, 10))\n",
    "contador,Capis=0,[]\n",
    "b1,b2=3,5\n",
    "topcifras=10\n",
    "print'El mayor número de %d cifras en base 10'%topcifras\n",
    "print'\\t tiene %d cifras en base %d.'%(len(DigitosN(10^topcifras-1,b1)),b1)\n",
    "c1=ceil(topcifras*log(10,b1))\n",
    "for k in [1..c1]:\n",
    "    for num in Capicuas(k,b1):\n",
    "        contador+=1\n",
    "        numero=DecimalN(num,b1)\n",
    "        if capicua(numero,b2):\n",
    "            print numero, Decora(num), Decora(DigitosN(numero,b2))\n",
    "            Capis.append((numero, num, DigitosN(numero,b2) ))\n",
    "print'De los números menores o iguales que %d,'%numero\n",
    "print'\\t hay %d capicúas a la vez en bases %d y %d.'%(len(Capis),b1,b2)\n",
    "print'(El %f por ciento de los encontrados en base %d lo son en base %d).'%((10^2*len(Capis)/contador).n(),b1,b2)\n",
    "walltime(t0)"
   ]
  },
  {
   "cell_type": "code",
   "execution_count": 61,
   "id": "polyphonic-monroe",
   "metadata": {},
   "outputs": [],
   "source": [
    "def capicua(N,base=10):\n",
    "    '''Test de capicuidad.'''\n",
    "    cifras=DigitosN(N,base)\n",
    "    return all([cifras[j]==cifras[-(j+1)] for j in [0..len(cifras)//2-1]])"
   ]
  },
  {
   "cell_type": "markdown",
   "id": "united-snapshot",
   "metadata": {},
   "source": [
    "## **Cálculo de raíces** ##\n",
    "\n",
    "____________\n",
    "\n",
    "**Ejercicio 7.-** (Cálculo de raíces cuadradas)\n",
    "\n",
    "**a)** (Paso 0 del algoritmo) Definir una función de Sagemath, *deAdos(M)*, que espere un número entero, *M*, y devuelva una lista resultado de dividirlo, de derecha a izquierda, en bloques de dos cifras (el primer elemento de la lista puede ser de una cifra). Por ejemplo, *deAdos(21316)* debería devolver la lista $[2,13,16]$.\n",
    "\n",
    "**b)** (Optativo, pero fácil y recomendable) Definir una función de Sagemath, $Poli(p,q)$, que, dados dos naturales, *p* y *q*, devuelva $q*(2*p*10+q)$. Por ejemplo, *Poli(1,4)* devolvería $96$; *Poli(1,5)*, $125$; *Poli(14,7)*, $2009$; ...\n",
    "\n",
    "**c)** (Paso 2b del algoritmo) Definir una función de Sagemath, *encuentrab(s,t)*, que, dados dos naturales, *s* y *t*, encuentre y devuelva, el primer valor de *b* entre 9, 8, 7, ..., 2, 1, 0, tal que *b*(2*s*10+b)*$\\le$*t*. Por ejemplo, *encuentrab(1,113)* devolvería $4$; *encuentrab(14,1716)*, $6$; ... \n",
    "\n",
    "*Sugerencia:*  *Poli(s,b)* es...\n",
    "\n",
    "**d)** (Algoritmo completo) Definir una función *Raiz(M,d=0)* que, dados un natural *M*, y, de manera optativa, un número, *d*, de decimales ($0$ por defecto) devuelva, realizando los pasos del algoritmo *profesionalizado* para el cálculo de raíces cuadradas, la raíz cuadrada de *M* con sus primeros *d* decimales. Por ejemplo, *Raiz(5,3)* debería devolver $2.236$."
   ]
  },
  {
   "cell_type": "code",
   "execution_count": 40,
   "id": "underlying-spectrum",
   "metadata": {},
   "outputs": [],
   "source": [
    "def deAdos(M):\n",
    "    return Digitos(M, 100)\n",
    "\n",
    "def Poli(p, q):\n",
    "    return q*(2*p*10 + q)\n",
    "\n",
    "def encuentrab(s, t):\n",
    "    for b in [0..9][::-1]:\n",
    "        if Poli(s, b) <= t:\n",
    "            return b\n",
    "    return None\n",
    "\n",
    "def Raiz(M, d=0):\n",
    "    M *= 10^(2*d)\n",
    "    L = deAdos(M)\n",
    "    raiz = resto = 0\n",
    "    for j in L:\n",
    "        resto = resto*100 + j\n",
    "        b = encuentrab(raiz, resto)\n",
    "        resto -= Poli(raiz, b)\n",
    "        raiz = raiz*10 + b\n",
    "    return (raiz*10^-d).n(digits=len(L))"
   ]
  },
  {
   "cell_type": "code",
   "execution_count": 41,
   "id": "latter-apartment",
   "metadata": {},
   "outputs": [
    {
     "name": "stdout",
     "output_type": "stream",
     "text": [
      "[2, 13, 16]\n",
      "(96, 125, 2009)\n",
      "(4, 6)\n",
      "(2.236, 35.128)\n"
     ]
    }
   ],
   "source": [
    "print(deAdos(21316))\n",
    "print(Poli(1,4),Poli(1,5), Poli(14,7))\n",
    "print(encuentrab(1,113), encuentrab(14,1716))\n",
    "print(Raiz(5,3),Raiz(1234,3))"
   ]
  },
  {
   "cell_type": "markdown",
   "id": "cognitive-pharmacy",
   "metadata": {},
   "source": [
    "____________\n",
    "\n",
    "**Ejercicio 8.-** (Cálculo de raíces $m$-ésimas)\n",
    "\n",
    "**a)** (Paso 0 del algoritmo) Definir una función de Sagemath, *deAm(M,m)*, que espere dos naturales, *M* y *m*, y devuelva una lista resultado de dividir *M*, de derecha a izquierda, en bloques de *m* cifras (el primer elemento de la lista puede ser de menos de *m* cifras). Por ejemplo, *deAm(3421316,3)* debería devolver la lista $[3,421,316]$.\n",
    "\n",
    "**b)** Definir una función de Sagemath, $Polim(p,q,m)$, que, dados tres naturales, *p*, *q* y *m*, devuelva $(p\\cdot10+q)^m-p^m\\cdot10^m$. Por ejemplo, *Polim(1,4,2)* devolvería $96$; *Polim(2,5,3)*, $7625$; ...\n",
    "\n",
    "**c)** (Paso 2b del algoritmo) Definir una función de Sagemath, *encuentrabm(s,t,m)*, que, dados tres naturales, *s*, *t* y *m*, encuentre, y devuelva, el primer valor de *b*, entre 9, 8, 7, ..., 2, 1, 0, tal que *Polim(s,b,m)*$\\le$*t*. Por ejemplo, *encuentrabm(1,113,2)* devolvería $4$;... \n",
    "\n",
    "**d)** (Algoritmo completo para la raíz $m$-ésima) Definir una función *Raizm(M,m,d=0)* que, dados un natural *M*, un índice para la raíz *m*, y, de manera optativa, un número, *d*, de decimales ($0$ por defecto) devuelva, con sus primeros *d* decimales y siguiendo los pasos del algoritmo para el cálculo de raíces $m$-ésimas,  la raíz de índice *m* del natural *M*. Por ejemplo, *Raizm(5,2,3)* debería devolver $2.236$."
   ]
  },
  {
   "cell_type": "code",
   "execution_count": 47,
   "id": "diverse-oakland",
   "metadata": {},
   "outputs": [],
   "source": [
    "def deAm(M, m=2):\n",
    "    return Digitos(M, 10^m)\n",
    "\n",
    "def Polim(p, q, m=2):\n",
    "    return (p*10 + q)^m - (p*10)^m\n",
    "\n",
    "def encuentrabm(s, t, m=2):\n",
    "    for b in [0..9][::-1]:\n",
    "        if Polim(s, b, m) <= t:\n",
    "            return b\n",
    "    return None#esto nunca debe pasar\n",
    "\n",
    "def Raizm(M, m=2, d=0):\n",
    "    M *= 10^(m*d)\n",
    "    L = deAm(M, m);\n",
    "    raiz = resto = 0\n",
    "    for j in L:\n",
    "        resto = resto*10^(m) + j\n",
    "        b = encuentrabm(raiz, resto, m)\n",
    "        resto -= Polim(raiz, b, m)\n",
    "        raiz = raiz*10 + b\n",
    "    return (raiz*10^-d).n(digits=len(L))"
   ]
  },
  {
   "cell_type": "code",
   "execution_count": 50,
   "id": "usual-hamilton",
   "metadata": {},
   "outputs": [
    {
     "name": "stdout",
     "output_type": "stream",
     "text": [
      "([3, 421, 316], [1, 23, 45], [1, 23, 45])\n",
      "(96, 96, 7625)\n",
      "(4, 4)\n",
      "(41., 2.236, 2.236)\n"
     ]
    }
   ],
   "source": [
    "print(deAm(3421316,3), deAm(12345,2), deAm(12345))\n",
    "print(Polim(1,4,2), Polim(1,4), Polim(2,5,3))\n",
    "print(encuentrabm(1,113,2), encuentrabm(1,113))\n",
    "print(Raizm(1716),Raizm(5,2,3),Raizm(5,d=3))"
   ]
  },
  {
   "cell_type": "code",
   "execution_count": null,
   "id": "sophisticated-extraction",
   "metadata": {},
   "outputs": [],
   "source": []
  }
 ],
 "metadata": {
  "kernelspec": {
   "display_name": "SageMath 8.7",
   "language": "",
   "name": "sagemath"
  },
  "language_info": {
   "codemirror_mode": {
    "name": "ipython",
    "version": 2
   },
   "file_extension": ".py",
   "mimetype": "text/x-python",
   "name": "python",
   "nbconvert_exporter": "python",
   "pygments_lexer": "ipython2",
   "version": "2.7.15"
  }
 },
 "nbformat": 4,
 "nbformat_minor": 5
}
