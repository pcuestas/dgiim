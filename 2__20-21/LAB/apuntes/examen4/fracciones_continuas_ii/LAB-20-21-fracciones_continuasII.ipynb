{
 "cells": [
  {
   "cell_type": "markdown",
   "id": "explicit-boundary",
   "metadata": {},
   "source": [
    "# ** Laboratorio 2020-21 ** #\n",
    "\n",
    "## **Fracciones continuas II** ##\n"
   ]
  },
  {
   "cell_type": "markdown",
   "id": "searching-domain",
   "metadata": {},
   "source": [
    "**Ejercicio 1.-** Resolver, con ayuda de SageMath, la ecuación $x=[4;1,2,1,x]$. _Sugerencia_: estudiar y utilizar la función $\\texttt{solve}()$."
   ]
  },
  {
   "cell_type": "code",
   "execution_count": null,
   "id": "plastic-amateur",
   "metadata": {},
   "outputs": [],
   "source": []
  },
  {
   "cell_type": "markdown",
   "id": "fitted-invitation",
   "metadata": {},
   "source": [
    "____________\n",
    "\n",
    "**Ejercicio 2.-** Encontrar, con ayuda de SageMath, el irracional cuadrático con fracción continua $[7; \\overline{2, 1, 3, 1, 2, 8}]$.\n"
   ]
  },
  {
   "cell_type": "code",
   "execution_count": null,
   "id": "empirical-singing",
   "metadata": {},
   "outputs": [],
   "source": []
  },
  {
   "cell_type": "markdown",
   "id": "handled-cheat",
   "metadata": {},
   "source": [
    "____________\n",
    "\n",
    "**Ejercicio 3.-** Se puede demostrar  que si $p_k$ y $q_k$ son respectivamente el numerador y el denominador de la $k$-ésima convergente de $\\sqrt d$, con $k\\in \\{n-1, 2n-1,3n-1 \\ldots\\}$, siendo $n$ el periodo de la fracción continua de $\\sqrt d$, entonces\n",
    "$$\n",
    "p_k^2-dq_k^2=\\pm 1\\,.\n",
    "$$\n",
    "1. Construye una función que tome como argumento de entrada un entero no negativo $d$ que no sea un cuadrado y devuelva el valor de $p_{n-1}^2-dq_{n-1}^2$.\n",
    "2.  Construye una tabla que muestre para cada entero $d$ entre $1$ y $100$ que no sea un cuadrado el valor de $p_{n-1}^2-dq_{n-1}^2$ y la paridad del periodo de la fracción continua para $\\sqrt{d}$.\n"
   ]
  },
  {
   "cell_type": "code",
   "execution_count": null,
   "id": "paperback-lexington",
   "metadata": {},
   "outputs": [],
   "source": []
  },
  {
   "cell_type": "markdown",
   "id": "connected-porcelain",
   "metadata": {},
   "source": [
    "**Observación.-** Si has hecho bien el ejercicio, habrás comprobado que $p_{n-1}^2-dq_{n-1}^2=(-1)^n$ en todos los casos considerados. Se puede demostrar que esto es cierto siempre."
   ]
  },
  {
   "cell_type": "markdown",
   "id": "brown-skiing",
   "metadata": {},
   "source": [
    "____________\n",
    "\n",
    "**Ejercicio 4.-**  Si $p^2-dq^2=- 1$ y definimos el número $a+b\\sqrt{d}=(p+q\\sqrt{d})^2$, entonces $a=p^2 +dq^2$ y $b=2pq$. Se deduce en particular que $a$ y $b$ están sujetos a la relación $a^2-db^2 =1$, puesto que\n",
    "$$\n",
    "\\begin{array}{rl}\n",
    "a^2-db^2&=(p^2 +dq^2)^2-4dp^2 q^2\\\\\n",
    "&=p^4-2dp^2q^2+d^2q^4\\\\\n",
    "&=(p^2 -dq^2)^2=(-1)^2=1.\n",
    "\\end{array}\n",
    "$$\n",
    "Combinando esta observación con la del ejercicio anterior se deduce el siguiente algoritmo para encontrar una solución particular a la ecuación de Pell $x^2-dy^2=1$.\n",
    "\n",
    "----------\n",
    "**Resolviendo $\\mathbf{x^2-dy^2=1}$**\n",
    "1. Calcular $a_0=\\lfloor\\sqrt d\\rfloor$.\n",
    "2. Calcular términos de la fracción continua de $\\sqrt{d}$ hasta encontrar el primero, $a_n$, tal que $a_n=2a_0$. \n",
    "3. Calcular el numerador $p_{n-1}$ y el denominador $q_{n-1}$ de la convergente $n-1$ de $\\sqrt{d}$.\n",
    "4. Si el periodo $n$ es par, tomar $x=p_{n-1}$ e $y=q_{n-1}$ y parar.\n",
    "5. Si el periodo $n$ es impar, tomar $x=p_{n-1}^2 +dq_{n-1}^2$ y $y=2p_{n-1}q_{n-1}$ y parar.\n",
    "----------\n",
    "\n",
    "**Observación.-**  Los pasos 2 y 3 se pueden combinar, gracias a la recurrencia de Wallis Euler.\n",
    "\n",
    "a. Elabora una función que encuentre una solución particular de la ecuación de Pell mediante este algoritmo.\n",
    "\n",
    "b. Encontrar la fracción continua de $\\sqrt 7$ y una solución no trivial de $x^2-7y^2=1$.\n",
    "\n",
    "c. Encontrar una solución no trivial de $x^2-109y^2=1$."
   ]
  },
  {
   "cell_type": "code",
   "execution_count": null,
   "id": "static-bonus",
   "metadata": {},
   "outputs": [],
   "source": []
  },
  {
   "cell_type": "markdown",
   "id": "forward-schedule",
   "metadata": {},
   "source": [
    "____________\n",
    "\n",
    "**Ejercicio 5.-** Elabora una función que dado un entero no negativo $d$ que no sea un cuadrado devuelva la solución fundamental de la correspondiente ecuación de Pell siguiendo el procedimiento descrito en el documento. Úsala para encontrar la solución fundamental de $x^2-13y^2=1$."
   ]
  },
  {
   "cell_type": "code",
   "execution_count": null,
   "id": "vocational-ivory",
   "metadata": {},
   "outputs": [],
   "source": []
  },
  {
   "cell_type": "markdown",
   "id": "owned-token",
   "metadata": {},
   "source": [
    "____________\n",
    "\n",
    "**Ejercicio 6.-** Construye una tabla que muestre para cada entero $d$ entre 1 y 100 que no sea un cuadrado, la solución particular de la correspondiente ecuación de Pell proporcionada por el algoritmo del ejercicio  4 y la solución fundamental."
   ]
  },
  {
   "cell_type": "code",
   "execution_count": null,
   "id": "mature-diameter",
   "metadata": {},
   "outputs": [],
   "source": []
  },
  {
   "cell_type": "markdown",
   "id": "arbitrary-journey",
   "metadata": {},
   "source": [
    "**Observación importante.-** Si has hecho bien el ejercicio, habrás comprobado que las dos soluciones, la particular y la fundamental, coinciden en todos los casos considerados. Se puede demostrar que esto es cierto siempre. Por consiguiente, para construir la solución fundamental se puede (y se debe, pues es menos costoso) usar el algoritmo para construir la solución particular del ejercicio 4."
   ]
  },
  {
   "cell_type": "markdown",
   "id": "arabic-vertex",
   "metadata": {},
   "source": [
    "---------------\n",
    "**Ejercicio 7.- (Problema 94 del proyecto Euler)**\n",
    "\n",
    "Es fácil probar que no hay ningún triángulo equilátero con lados y área enteros. Sin embargo, el triángulo casi equilátero $5$-$5$-$6$ tiene área $12$.\n",
    "\n",
    "Diremos que un triángulo es casi equilátero si tiene dos lados iguales y el tercero difiere de los anteriores en no más de una unidad.\n",
    "\n",
    "_Encontrar las longitudes de los lados de todos los triángulos casi equiláteros con lados y área enteros cuyo perímetro sea menor que mil millones._\n",
    "\n",
    "Sugerencia: Si $a$, $b$ y $h$ son como en la figura, y $b=a+1$, entonces $x=(3a -1)/2$ e $y=h$  satisfacen la ecuación de Pell $x^2-3y^2=1$. Análogamente, si $b=a-1$, entonces $x=(3a +1)/2$ e $y=h$ satisfacen la misma ecuación.\n",
    "\n",
    "![triangulo](triangle2.png)\n"
   ]
  },
  {
   "cell_type": "code",
   "execution_count": null,
   "id": "lightweight-softball",
   "metadata": {},
   "outputs": [],
   "source": []
  },
  {
   "cell_type": "code",
   "execution_count": null,
   "id": "military-algorithm",
   "metadata": {},
   "outputs": [],
   "source": []
  }
 ],
 "metadata": {
  "kernelspec": {
   "display_name": "SageMath 8.7",
   "language": "",
   "name": "sagemath"
  },
  "language_info": {
   "codemirror_mode": {
    "name": "ipython",
    "version": 2
   },
   "file_extension": ".py",
   "mimetype": "text/x-python",
   "name": "python",
   "nbconvert_exporter": "python",
   "pygments_lexer": "ipython2",
   "version": "2.7.15"
  }
 },
 "nbformat": 4,
 "nbformat_minor": 5
}
