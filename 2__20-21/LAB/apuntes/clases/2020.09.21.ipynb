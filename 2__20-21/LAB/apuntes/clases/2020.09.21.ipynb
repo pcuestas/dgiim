{
 "cells": [
  {
   "cell_type": "markdown",
   "metadata": {},
   "source": [
    "ESTRUCTURAS DE DATOS:\n",
    "\n",
    "1)LISTAS"
   ]
  },
  {
   "cell_type": "code",
   "execution_count": 5,
   "metadata": {},
   "outputs": [
    {
     "data": {
      "text/plain": [
       "<type 'list'>"
      ]
     },
     "execution_count": 5,
     "metadata": {},
     "output_type": "execute_result"
    }
   ],
   "source": [
    "##asignación: \n",
    "    \n",
    "L = [1, 'a', 5, 3+2]\n",
    "type(L)"
   ]
  },
  {
   "cell_type": "code",
   "execution_count": 7,
   "metadata": {},
   "outputs": [
    {
     "name": "stdout",
     "output_type": "stream",
     "text": [
      "[]\n"
     ]
    },
    {
     "data": {
      "text/plain": [
       "[1, 2, 3, 6, 6]"
      ]
     },
     "execution_count": 7,
     "metadata": {},
     "output_type": "execute_result"
    }
   ],
   "source": [
    "##otra forma: constructor\n",
    "\n",
    "L = list()\n",
    "print(L)\n",
    "L1 = list((1,2,3,6,6))\n",
    "L1"
   ]
  },
  {
   "cell_type": "code",
   "execution_count": 12,
   "metadata": {},
   "outputs": [
    {
     "name": "stdout",
     "output_type": "stream",
     "text": [
      "[1, 2, 3, 4, 5, 6, 7]\n",
      "[0, 1, 2, 3, 4, 5, 6]\n",
      "[3, 4, 5, 6, 7]\n",
      "[1, 4, 7, 10]\n"
     ]
    },
    {
     "data": {
      "text/plain": [
       "[11, 10, 9, 8, 7, 6]"
      ]
     },
     "execution_count": 12,
     "metadata": {},
     "output_type": "execute_result"
    }
   ],
   "source": [
    "##listas predeterminadas:\n",
    "\n",
    "print [1..7]\n",
    "print range(7)\n",
    "print range(3,8)\n",
    "print range(1,11,3)\n",
    "range(11,5,-1)"
   ]
  },
  {
   "cell_type": "code",
   "execution_count": 18,
   "metadata": {},
   "outputs": [
    {
     "name": "stdout",
     "output_type": "stream",
     "text": [
      "[0, 1, 4, 9, 16, 25, 36, 49, 64, 81, 100]\n"
     ]
    },
    {
     "data": {
      "text/plain": [
       "[4, 9, 25, 49]"
      ]
     },
     "execution_count": 18,
     "metadata": {},
     "output_type": "execute_result"
    }
   ],
   "source": [
    "##con patrón:\n",
    "\n",
    "cuadrados = [j**2 for j in range(11)]\n",
    "print cuadrados\n",
    "\n",
    "cuadradosPrimos = [j**2 for j in srange(11) if j.is_prime()]\n",
    "cuadradosPrimos"
   ]
  },
  {
   "cell_type": "code",
   "execution_count": 32,
   "metadata": {},
   "outputs": [
    {
     "data": {
      "text/plain": [
       "25"
      ]
     },
     "execution_count": 32,
     "metadata": {},
     "output_type": "execute_result"
    }
   ],
   "source": [
    "len(L) ##longiud de la lista"
   ]
  },
  {
   "cell_type": "markdown",
   "metadata": {},
   "source": [
    "Notación $slice$:\n",
    "\n",
    "$L[i]$ nos da el i-ésimo elemento (0....len(L)-1) \n",
    "\n",
    "$L[a:b]$ la sublista desde el elemento a hasta el b-1\n",
    "\n",
    "$L[a:b:c]$ nos da la sublista con los elementos de índices a hasta el b-1 pero de c en c\n",
    "\n",
    "\n",
    "**OPERACIONES CON LISTAS**\n",
    "\n",
    "* L1+L2 (concatenación) devuelve la lista con los datos de ambas, en el orden dado;\n",
    "\n",
    "* k∗L1 devuelve la lista resultado de concatenar k veces la lista L1; \n",
    "\n",
    "* L1.count(dat), contabiliza el número de apariciones de dat;\n",
    "\n",
    "* L1.index(dat), que devuelve el índice de la primera aparición de dat;\n",
    "\n",
    "* L1.append(dat) añade dat al final de la lista L1;\n",
    "\n",
    "* L1.remove(dat) elimina la primera aparición de dat en L1. Genera un error si dat no está en L1;\n",
    "\n",
    "* L1.extend(contenedor) amplía la lista L1 añadiendo, uno a uno, cada elemento del contenedor;\n",
    "\n",
    "* L1.insert(k,dat), cambia $L[k]$ por dat, equivale a $L[k]=dat$;\n",
    "\n",
    "* L1.pop(k), devuelve y quita el elemento con índice k en la lista. Si no se especifica, se considerak=−1;\n",
    "\n",
    "* L.reverse() da la vuelta a la lista;\n",
    "\n",
    "* L.sort(), ordena los elementos de la lista, de menor a mayor. Con L.sort(reverse=True), lo hace demayor a menor.\n",
    "\n",
    "Los métodos que transforman listas, salvo .pop(), no devuelven nada al evaluarse. En particular, unaasignación como M=L.reverse() no asigna una lista a M, simplemente modifica L"
   ]
  },
  {
   "cell_type": "code",
   "execution_count": null,
   "metadata": {},
   "outputs": [],
   "source": []
  },
  {
   "cell_type": "code",
   "execution_count": null,
   "metadata": {},
   "outputs": [],
   "source": []
  },
  {
   "cell_type": "code",
   "execution_count": null,
   "metadata": {},
   "outputs": [],
   "source": []
  },
  {
   "cell_type": "code",
   "execution_count": null,
   "metadata": {},
   "outputs": [],
   "source": []
  },
  {
   "cell_type": "code",
   "execution_count": null,
   "metadata": {},
   "outputs": [],
   "source": []
  }
 ],
 "metadata": {
  "kernelspec": {
   "display_name": "SageMath 8.7",
   "language": "",
   "name": "sagemath"
  },
  "language_info": {
   "codemirror_mode": {
    "name": "ipython",
    "version": 2
   },
   "file_extension": ".py",
   "mimetype": "text/x-python",
   "name": "python",
   "nbconvert_exporter": "python",
   "pygments_lexer": "ipython2",
   "version": "2.7.15"
  }
 },
 "nbformat": 4,
 "nbformat_minor": 2
}
