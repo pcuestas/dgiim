{
 "cells": [
  {
   "cell_type": "markdown",
   "metadata": {},
   "source": [
    "## Criptografía\n",
    "El objeto de la criptografía es el de transmitir un mensaje de tal modo que si este es interceptado no se pueda leer, pero que si llega a su destino, el mensaje original se pueda recuperar. Las biyecciones a la hora de encriptar constituyen una buena herramienta. Si se pretende que la descodificación (la biyección inversa) no sea sencilla de averiguar, sólo tendremos que elegir bien la biyección directa."
   ]
  },
  {
   "cell_type": "markdown",
   "metadata": {},
   "source": [
    "**Cifrados por sustitución**\n",
    "\n",
    "Un **cifrado por sustitución** es un método de cifrado por el que unidades del texto original son sustituidas con texto cifrado siguiendo un sistema regular; las \"unidades\" pueden ser una sola letra (el caso más común), pares de letras, tríos de letras, mezclas de lo anterior, entre otros. El receptor descifra el texto realizando la sustitución inversa.\n",
    "\n",
    "Compárese con los **cifrados por transposición**, en los que las unidades del texto original son cambiadas usando una ordenación diferente y normalmente bastante compleja, pero las unidades en sí mismas no son modificadas. Por el contrario, en un cifrado por sustitución, las unidades del texto plano mantienen el mismo orden, lo que se hace es sustituir las propias unidades del texto original.\n",
    "\n",
    "**Sustitución simple**\n",
    "\n",
    "En los cifrados de **sustitución simple** un carácter en el texto original es reemplazado por un carácter determinado del alfabeto de sustitución. Es decir, se establecen parejas de caracteres donde el segundo elemento de la pareja establece el carácter que sustituye al primer elemento de la pareja.\n",
    "\n",
    "A veces el sistema usa el mismo alfabeto para el texto en claro y para el texto cifrado. Esto permite aprovechar el orden definido por los alfabetos para así facilitar la descripción de los algoritmos."
   ]
  },
  {
   "cell_type": "markdown",
   "metadata": {},
   "source": [
    "## Cifrado de César\n",
    "\n",
    "El ejemplo más sencillo de cifrado de sustitución simple es el cifrado de César. El **cifrado César con clave $k$** utiliza $T_k(j)=(j+k)\\,\\mathrm{mod}\\,L$, como biyección en el conjunto de caracteres del alfabeto (estrictamente, en el conjunto de índices), siendo $L$ la longitud del alfabeto. En términos de índices, se usa la permutación:\n",
    "$$\n",
    "(0,1,2,\\dots,L-1)\\mapsto\n",
    "(k,k+1,\\dots,L-1,0,1,2,\\dots,k-1)\n",
    "$$\n",
    "Así, el _alfabeto de sustitución_ es simplemente una _traslación_ (módulo la longitud del alfabeto) del _alfabeto original_."
   ]
  },
  {
   "cell_type": "markdown",
   "metadata": {},
   "source": [
    "**Ejercicio 1.** Consideremos, por defecto, la siguiente cadena\n",
    "\n",
    "alfabeto=u' ABCDEFGHIJKLMNÑOPQRSTUVWXYZabcdefghijklmnñopqrstuvwxyz'\n",
    "\n",
    "que tiene un espacio en blanco como primer caracter. Para este primer ejercicio, tomaremos textos que contengan solo este juego de caracteres.\n",
    "\n",
    "Definir una función Sage, cifradoCesar(texto,clave,alfabeto),  que espere un texto y una clave, y considere el anterior como alfabeto por defecto. La función devolverá el texto cambiando cada caracter por el que en el alfabeto ocupa k posiciones a su derecha (si el alfabeto se queda corto, se vuelve a empezar). Así cifradoCesar('Calzado',5) devolverá 'HfpDfit'."
   ]
  },
  {
   "cell_type": "code",
   "execution_count": 15,
   "metadata": {
    "collapsed": false
   },
   "outputs": [
    {
     "name": "stdout",
     "output_type": "stream",
     "text": [
      "27\n",
      "54\n",
      "41\n",
      "ABCEDFGHIJKLMNÑOPQRSTUVWXYZabcedfghijklmnñopqrstuvwxyz\n"
     ]
    },
    {
     "data": {
      "text/plain": [
       "u'ABCEDFGHIJKLMN\\xd1OPQRSTUVWXYZabcedfghijklmn\\xf1opqrstuvwxyz'"
      ]
     },
     "execution_count": 15,
     "metadata": {},
     "output_type": "execute_result"
    }
   ],
   "source": [
    "### Tratamiento de cadenas\n",
    "##Descomenta y ejecuta\n",
    "alfabeto=u'ABCEDFGHIJKLMNÑOPQRSTUVWXYZ'\n",
    "print len(alfabeto)\n",
    "alfabeto=alfabeto+alfabeto.lower()\n",
    "print len(alfabeto)\n",
    "print alfabeto.index(u'ñ')\n",
    "print(alfabeto)\n",
    "alfabeto #no muestra las ñÑ (porque son unicode)"
   ]
  },
  {
   "cell_type": "code",
   "execution_count": 16,
   "metadata": {},
   "outputs": [
    {
     "name": "stdout",
     "output_type": "stream",
     "text": [
      "HfpDfjt\n"
     ]
    }
   ],
   "source": [
    "##Definición de la función cifradoCesar()\n",
    "def cifradoCesar(texto, k, alfabeto):\n",
    "    longalf=len(alfabeto)\n",
    "    textocif=u''\n",
    "    for letra in texto:\n",
    "        if letra in alfabeto:\n",
    "            j=alfabeto.index(letra)\n",
    "            letra=alfabeto[(j+k)%longalf]\n",
    "        textocif+=letra\n",
    "    return textocif\n",
    "print cifradoCesar('Calzado', 5, alfabeto)"
   ]
  },
  {
   "cell_type": "markdown",
   "metadata": {},
   "source": [
    "## Descifrar el cifrado César\n",
    "Para **descifrar** un texto cifrado a la César basta conocer, el número de lugares elegidos para desplazar cada letra (la clave) y el alfabeto utilizado. Así cifradoCesar('HfpDfit',-5) devolverá 'Calzado'."
   ]
  },
  {
   "cell_type": "markdown",
   "metadata": {},
   "source": [
    "Si conocemos el alfabeto, es fácil averiguar la clave: _basta utilizar cifradoCesar() con el texto cifrado, el alfabeto y probar distintas claves (no más de la longitud del alfabeto de ellas)'._ Este método de descifrado es lo que llamaremos **por fuerza bruta**.\n",
    "\n",
    "**Ejercicio 2.** Averiguar por fuerza bruta el texto original que produce el guardado en la cadena ${\\tt texto1}$ del siguiente cuadro, cifrado a la César con el juego de caracteres 'abcdefghijklmnopqrstuvwxyz' y respetando (esto es, no encriptando) espacios en blanco y signos de puntuación."
   ]
  },
  {
   "cell_type": "code",
   "execution_count": 11,
   "metadata": {
    "collapsed": false
   },
   "outputs": [
    {
     "data": {
      "text/html": [
       "<html><script type=\"math/tex; mode=display\">\\newcommand{\\Bold}[1]{\\mathbf{#1}}\\begin{array}{l}\n",
       "\\verb|uz|\\phantom{\\verb!x!}\\verb|fmnqdzm|\\phantom{\\verb!x!}\\verb|cgmzpa|\\phantom{\\verb!x!}\\verb|egyge,|\\\\\n",
       "\\phantom{\\verb!x!}\\verb|zaz|\\phantom{\\verb!x!}\\verb|ogdmyge|\\phantom{\\verb!x!}\\verb|cgup|\\phantom{\\verb!x!}\\verb|euf|\\phantom{\\verb!x!}\\verb|tgyge,|\\\\\n",
       "\\phantom{\\verb!x!}\\verb|eqp|\\phantom{\\verb!x!}\\verb|mp|\\phantom{\\verb!x!}\\verb|xgpgy|\\phantom{\\verb!x!}\\verb|bdabqdmyge,|\\\\\n",
       "\\phantom{\\verb!x!}\\verb|ogu|\\phantom{\\verb!x!}\\verb|eqybqd|\\phantom{\\verb!x!}\\verb|uzegpmyge.|\\\\\n",
       "\\phantom{\\verb!x!}\\verb|cgup|\\phantom{\\verb!x!}\\verb|msmfgd|\\phantom{\\verb!x!}\\verb|uz|\\phantom{\\verb!x!}\\verb|fmnqdzm|\\\\\n",
       "\\phantom{\\verb!x!}\\verb|gnu|\\phantom{\\verb!x!}\\verb|zgyyge|\\phantom{\\verb!x!}\\verb|qef|\\phantom{\\verb!x!}\\verb|buzoqdzm,|\\\\\n",
       "\\phantom{\\verb!x!}\\verb|tao|\\phantom{\\verb!x!}\\verb|qef|\\phantom{\\verb!x!}\\verb|abge|\\phantom{\\verb!x!}\\verb|gf|\\phantom{\\verb!x!}\\verb|cgmqdmfgd;|\\\\\n",
       "\\phantom{\\verb!x!}\\verb|eu|\\phantom{\\verb!x!}\\verb|cgup|\\phantom{\\verb!x!}\\verb|xacgmd,|\\phantom{\\verb!x!}\\verb|mgpumfgd.|\n",
       "\\end{array}</script></html>"
      ],
      "text/plain": [
       "u'uz fmnqdzm cgmzpa egyge,\\n zaz ogdmyge cgup euf tgyge,\\n eqp mp xgpgy bdabqdmyge,\\n ogu eqybqd uzegpmyge.\\n cgup msmfgd uz fmnqdzm\\n gnu zgyyge qef buzoqdzm,\\n tao qef abge gf cgmqdmfgd;\\n eu cgup xacgmd, mgpumfgd.'"
      ]
     },
     "metadata": {},
     "output_type": "display_data"
    }
   ],
   "source": [
    "##Descomenta y ejecuta\n",
    "load('Cesar.py')\n",
    "show(texto1)"
   ]
  },
  {
   "cell_type": "code",
   "execution_count": 36,
   "metadata": {},
   "outputs": [
    {
     "name": "stdout",
     "output_type": "stream",
     "text": [
      "(1, 'va gnorean dhna')\n",
      "(2, 'wb hopsfbo eiob')\n",
      "(3, 'xc ipqtgcp fjpc')\n",
      "(4, 'yd jqruhdq gkqd')\n",
      "(5, 'ze krsvier hlre')\n",
      "(6, 'af lstwjfs imsf')\n",
      "(7, 'bg mtuxkgt jntg')\n",
      "(8, 'ch nuvylhu kouh')\n",
      "(9, 'di ovwzmiv lpvi')\n",
      "(10, 'ej pwxanjw mqwj')\n",
      "(11, 'fk qxybokx nrxk')\n",
      "(12, 'gl ryzcply osyl')\n",
      "(13, 'hm szadqmz ptzm')\n",
      "(14, 'in taberna quan')\n",
      "(15, 'jo ubcfsob rvbo')\n",
      "(16, 'kp vcdgtpc swcp')\n",
      "(17, 'lq wdehuqd txdq')\n",
      "(18, 'mr xefivre uyer')\n",
      "(19, 'ns yfgjwsf vzfs')\n",
      "(20, 'ot zghkxtg wagt')\n",
      "(21, 'pu ahilyuh xbhu')\n",
      "(22, 'qv bijmzvi yciv')\n",
      "(23, 'rw cjknawj zdjw')\n",
      "(24, 'sx dklobxk aekx')\n",
      "(25, 'ty elmpcyl bfly')\n",
      "(26, 'uz fmnqdzm cgmz')\n",
      "in taberna quando sumus,\n",
      " non curamus quid sit humus,\n",
      " sed ad ludum properamus,\n",
      " cui semper insudamus.\n",
      " quid agatur in taberna\n",
      " ubi nummus est pincerna,\n",
      " hoc est opus ut quaeratur;\n",
      " si quid loquar, audiatur.\n"
     ]
    }
   ],
   "source": [
    "alfabeto_corto=u'abcdefghijklmnopqrstuvwxyz'\n",
    "LL=len(alfabeto_corto)\n",
    "for contraclave in [1..LL]:\n",
    "    print (contraclave,(str((cifradoCesar(texto1, contraclave, alfabeto_corto))[0:15])))\n",
    "print (cifradoCesar(texto1, 14, alfabeto_corto))"
   ]
  },
  {
   "cell_type": "code",
   "execution_count": null,
   "metadata": {},
   "outputs": [],
   "source": []
  },
  {
   "cell_type": "markdown",
   "metadata": {},
   "source": [
    "## Otros cifrados de sustitución simple\n",
    "Veamos otro ejemplo de cifrado de sustitución simple que usa el orden definido por el alfabeto para describir el algoritmo.\n",
    "\n",
    "**Ejercicio 3. (Cifrado afín)** Implementa una función para cifrar y descifrar textos usando como clave una pareja $(a,b)$ de enteros $0\\le a,b\\le L$ según la regla:\n",
    "\"Cambia el carácter de índice $j$ por el carácter de índice $a*j+b\\pmod{L}$, con $L={{\\tt len}}$(alfabeto).\n",
    "\n",
    "_Nota_: Puesto que se quiere que el encriptado se pueda deshacer, ¿qué parejas $(a,b)$ son aceptables como claves del cifrado?"
   ]
  },
  {
   "cell_type": "code",
   "execution_count": null,
   "metadata": {},
   "outputs": [],
   "source": []
  },
  {
   "cell_type": "markdown",
   "metadata": {},
   "source": [
    "## Cifrado de permutación\n",
    "\n",
    "En el cifrado de permutación, se usa una biyección arbitraria del conjunto de letras del alfabeto elegido.\n",
    "\n",
    "**Ejercicio 4.-** Fijado un alfabeto, se pide crear una función ${\\tt cifradoPermutacion}()$ con dos argumentos obligatorios\n",
    "un ${\\tt texto}$ y una ${\\tt clave}$ que será una permutación del conjunto de caracteres de un ${\\tt alfabeto}$ previamente fijado (indicar uno por defecto en la definición de la función). La función devolverá el texto resultado de cambiar, en ${\\tt texto}$, cada letra por su imagen por la permutación  (la ${\\tt clave}$) dada. \n",
    "\n",
    "Recursos de ayuda: ${\\tt Permutations}()$ y $.{\\tt random}\\_{\\tt element}()$."
   ]
  },
  {
   "cell_type": "code",
   "execution_count": 37,
   "metadata": {
    "collapsed": false
   },
   "outputs": [
    {
     "name": "stdout",
     "output_type": "stream",
     "text": [
      "JDgcATUItQbompYWyqanGESfdZlH ñMjÑkCVwKxRrizvhXusLeFOPBN\n"
     ]
    }
   ],
   "source": [
    "##Descomenta y ejecuta\n",
    "abc_corto=u' ABCDEFGHIJKLMNÑOPQRSTUVWXYZabcdefghijklmnñopqrstuvwxyz'\n",
    "G0=Permutations(abc_corto)\n",
    "b1=G0.random_element()\n",
    "cadenaPermutacion=''.join(b1)\n",
    "print cadenaPermutacion"
   ]
  },
  {
   "cell_type": "code",
   "execution_count": 185,
   "metadata": {},
   "outputs": [],
   "source": [
    "##Definición de cifradoPermutacion(texto,clave,alfabeto=' ABC...')\n",
    "def cifradoPermutacion(texto, clave, alfabeto):\n",
    "    u'''\n",
    "    clave es un diccionario\n",
    "    '''\n",
    "    encriptado=u''\n",
    "    for letra in texto:\n",
    "        if letra.upper() in alfabeto:\n",
    "            letra=clave[letra.upper()]\n",
    "        encriptado+=letra\n",
    "    return encriptado"
   ]
  },
  {
   "cell_type": "markdown",
   "metadata": {},
   "source": [
    "Prueba tu función ${\\tt cifradoPermutacion}()$ con la cadena ${\\tt ejemplar}$, que se genera al ejecutar la siguiente celda, con una permutacion, un diccionario ${\\tt F}$, tomada al azar de entre las permutaciones del diccionario del alfabeto\n",
    "> u' ABCDEFGHIJKLMNÑOPQRSTUVWXYZabcdefghijklmnñopqrstuvwxyz'"
   ]
  },
  {
   "cell_type": "code",
   "execution_count": 57,
   "metadata": {},
   "outputs": [
    {
     "name": "stdout",
     "output_type": "stream",
     "text": [
      "111924\n",
      "LA ILUSTRE FREGONA\n",
      " \n",
      " En Búrgos, ciudad ilustre y famosa, no ha muchos años que \n"
     ]
    }
   ],
   "source": [
    "##Descomenta y ejecuta\n",
    "load('novela.py')\n",
    "print len(ejemplar)\n",
    "print ejemplar[0:80]"
   ]
  },
  {
   "cell_type": "code",
   "execution_count": 83,
   "metadata": {},
   "outputs": [
    {
     "name": "stdout",
     "output_type": "stream",
     "text": [
      "cU vcgÑMYj rYjIbñU\n",
      " \n",
      " jB DúiTJq, WzwKsK zZwqEiX u fspJqs, BJ ds pwWdJq sCJq owX XB XZZs\n",
      " OzOzsB KJq \n"
     ]
    }
   ],
   "source": [
    "alfabeto=u'ABCDEFGHIJKLMNÑOPQRSTUVWXYZabcdefghijklmnñopqrstuvwxyz'\n",
    "G1=Permutations(alfabeto)\n",
    "f1=G1.random_element()\n",
    "F=dict(zip(alfabeto,f1))\n",
    "\n",
    "ENC=cifradoPermutacion(ejemplar, F, alfabeto)\n",
    "print ENC[0:100]"
   ]
  },
  {
   "cell_type": "markdown",
   "metadata": {},
   "source": [
    "Conocida la permutación para encriptar, el diccionario ${\\tt F}$, sabemos desencriptar, basta construir el diccionario inverso, ${\\tt G}$ tal que ${\\tt G}[{\\tt F}[{\\tt letra}]]=={\\tt letra}$ para cualquier ${\\tt letra}$ en el ${\\tt alfabeto}$. Recupera la cadena original."
   ]
  },
  {
   "cell_type": "code",
   "execution_count": 84,
   "metadata": {},
   "outputs": [
    {
     "name": "stdout",
     "output_type": "stream",
     "text": [
      "True\n",
      "True\n"
     ]
    }
   ],
   "source": [
    "##inverso de F:\n",
    "G=dict(zip(F.values(), F.keys()))\n",
    "\n",
    "print all([G[F[x]]==x for x in alfabeto])\n",
    "\n",
    "print cifradoPermutacion(ENC, G, alfabeto)==ejemplar"
   ]
  },
  {
   "cell_type": "markdown",
   "metadata": {},
   "source": [
    "## Descifrado del cifrado de permutación. Análisis de frecuencias\n",
    "En este caso no es recomendable usar el método de fuerza bruta (intentar descodificar con todas las posibles permutaciones del alfabeto) para intentar averiguar el texto original. Pero podemos hacer un _análisis de frecuencias_, si el texto codificado es suficientemente largo (o tenemos varios textos codificados por el mismo método). Se comparan entonces las frecuencias de los caracteres del alfabeto de sustitución con un modelo de las frecuencias que los caracteres suelen presentar en los textos del idioma en el que se sospecha está escrito el mensaje original. Se apuesta a que la más frecuente en el encriptado vino de la más frecuente en el modelo, la segunda, de la segunda, ... Antes de realizar esta tarea, entrenemos las herramientas necesarias para el análisis de frecuencias para cadenas de caracteres.\n",
    "\n",
    "**Ejercicio 5.**\n",
    "1. Escribe una función ${\\tt Frecuencias}\\_{\\tt texto}()$, que a partir de un ${\\tt texto}$  y un ${\\tt alfabeto}$ nos devuelva una lista (o un diccionario) de pares $({\\tt caracter, frecuencia})$ para cada ${\\tt caracter}$ del ${\\tt alfabeto}$ (poner uno por defecto en la definición). La función no debe tomar como distintos el mismo carácter en mayúsculas o en minúsculas (utilizar el método ${\\tt .lower}()$).\n",
    "2. Utilízalo con algún texto suficientemente largo, y ordena las parejas $({\\tt caracter, frecuencia})$ de mayor a menor por las frecuencias. \n",
    "3. Compara los $6$ caracteres más frecuentes con los del modelo de frecuencias de un texto típico en español (ver [Frecuencia de aparición de letras](https://es.wikipedia.org/wiki/Frecuencia_de_aparici%C3%B3n_de_letras)). \n"
   ]
  },
  {
   "cell_type": "code",
   "execution_count": 165,
   "metadata": {
    "collapsed": false
   },
   "outputs": [],
   "source": [
    "def Frecuencias_texto(texto, alfabeto):\n",
    "    frecuencias=dict(zip(alfabeto,[0]*len(alfabeto)))\n",
    "    for letra in texto:\n",
    "        if letra.upper() in alfabeto:\n",
    "            frecuencias[letra.upper()]+=1\n",
    "    return frecuencias"
   ]
  },
  {
   "cell_type": "code",
   "execution_count": 167,
   "metadata": {},
   "outputs": [
    {
     "name": "stdout",
     "output_type": "stream",
     "text": [
      "[(12.4518165172979, u'A'), (3.69808229738846, u'C'), (1.46839163534740, u'B'), (13.5094439626096, u'E'), (5.50375831165077, u'D'), (1.19735954514792, u'G'), (0.455333911535126, u'F'), (5.06408403199383, u'I'), (1.30215862002506, u'H'), (0.000000000000000, u'K'), (0.597475185506408, u'J'), (2.73802640454852, u'M'), (5.93620506890238, u'L'), (9.36807362436157, u'O'), (6.44574539847740, u'N'), (1.86590536763997, u'Q'), (2.33810349812084, u'P'), (7.88161318300087, u'S'), (6.29758118916835, u'R'), (4.93639780283319, u'U'), (3.59207863544377, u'T'), (0.000000000000000, u'W'), (1.10822010214898, u'V'), (1.40575310783463, u'Y'), (0.000000000000000, u'X'), (0.519177026115448, u'Z'), (0.319215572901609, u'\\xd1')]\n",
      "[(13.5094439626096, u'E'), (12.4518165172979, u'A'), (9.36807362436157, u'O'), (7.88161318300087, u'S'), (6.44574539847740, u'N'), (6.29758118916835, u'R'), (5.93620506890238, u'L'), (5.50375831165077, u'D'), (5.06408403199383, u'I'), (4.93639780283319, u'U'), (3.69808229738846, u'C'), (3.59207863544377, u'T'), (2.73802640454852, u'M'), (2.33810349812084, u'P'), (1.86590536763997, u'Q'), (1.46839163534740, u'B'), (1.40575310783463, u'Y'), (1.30215862002506, u'H'), (1.19735954514792, u'G'), (1.10822010214898, u'V'), (0.597475185506408, u'J'), (0.519177026115448, u'Z'), (0.455333911535126, u'F'), (0.319215572901609, u'\\xd1'), (0.000000000000000, u'X'), (0.000000000000000, u'W'), (0.000000000000000, u'K')]\n"
     ]
    }
   ],
   "source": [
    "ALFA=u'ABCDEFGHIJKLMNÑOPQRSTUVWXYZ'\n",
    "frec=Frecuencias_texto(ejemplar, ALFA)\n",
    "total=sum(frec.values())\n",
    "lista=[(frec[a]/total*100.) for a in ALFA]\n",
    "dicc=dict(zip(ALFA,lista))\n",
    "LL=list([(f,l) for (l,f) in dicc.items()])\n",
    "print LL\n",
    "LL.sort(reverse=True)\n",
    "print LL"
   ]
  },
  {
   "cell_type": "markdown",
   "metadata": {},
   "source": [
    "**Ejercicio 6.** Hemos interceptado cierto texto, cifrado mediante un método de sustitución simple (aparece en la siguiente celda de código). Sabemos que el texto original estaba escrito en español, todo en letras mayúsculas y solo se han sustituido las letras. Intentar averiguar el texto original usando un análisis de frecuencias. Las frecuencias con las que suelen aparecer las distintas letras del alfabeto en textos escritos en español se puede consultar por ejemplo en: \n",
    "\n",
    "[Frecuencia de aparición de letras](https://es.wikipedia.org/wiki/Frecuencia_de_aparición_de_letras)\n",
    "\n",
    "_Nota_: al evaluar la siguiente casilla quedará guardado el texto interceptado en la variable encriptado (una cadena larga de caracteres)."
   ]
  },
  {
   "cell_type": "code",
   "execution_count": 168,
   "metadata": {
    "collapsed": false
   },
   "outputs": [
    {
     "data": {
      "text/plain": [
       "24065"
      ]
     },
     "execution_count": 168,
     "metadata": {},
     "output_type": "execute_result"
    }
   ],
   "source": [
    "##Descomenta y ejecuta\n",
    "load('Secreto.py')\n",
    "len(encriptado)"
   ]
  },
  {
   "cell_type": "markdown",
   "metadata": {},
   "source": [
    "### **Propuesta de estrategia para descifrar**\n",
    "Seguir los siguientes pasos:\n",
    "- Sea ${\\tt original}$ la cadena de letras del ${\\tt alfabeto}$ que se encripta, ordenadas de mayor a menor aparición en el texto original. Como no la conocemos en su orden real cogemos la de un texto típico en español (ver la referencia sobre [Frecuencia de letras](https://es.wikipedia.org/wiki/Frecuencia_de_aparición_de_letras)).\n",
    "- Llamemos $F$ al diccionario (la permutación o biyección) del encriptado, y $G$ a su inverso. Obsérvese que conocido uno se conoce el otro.\n",
    "- Llamemos ${\\tt cifrado}$ a la cadena que hubiera resultado de aplicar $F$ a ${\\tt original}$. Obsérvese que ${\\tt cifrado}$ se averigua del texto ${\\tt encriptado}$, mirando los caracteres encriptados y sus frecuencias, sin más que ordenarlos de mayor a menor número de apariciones.\n",
    "- Con ${\\tt original}$ y ${\\tt cifrado}$, construir $G$.\n",
    "    - Desencriptar ${\\tt encriptado}$ utilizando $G$, digamos que ${\\tt texto}$ es el resultado. \n",
    "    - A la vista de ${\\tt texto}$, o de una parte manejable del mismo (por ejemplo los primeros 200 caracteres, ${\\tt texto}[:200]$), si vemos alguna letra que no es correcta, cambiamos $G$  por la composición $\\tau\\circ G$ con $\\tau$ la _trasposición_ entre la letra incorrecta localizada y la que debería aparecer. \n",
    "    - Repetir estos dos últimos pasos hasta que no aparezcan letras incorrectas. (Sugerencia: para acciones que vayas a repetir varias veces, quizás sea conveniente definir funciones auxiliares que te faciliten la tarea).\n",
    "- Para asegurarnos de que todas las letras han vuelto a su estado original ($G$ está completa), podemos mirar sobre la primera parte del texto que contenga, al menos una vez, todos y cada uno de los caracteres que aparecen.\n"
   ]
  },
  {
   "cell_type": "code",
   "execution_count": 279,
   "metadata": {},
   "outputs": [
    {
     "name": "stdout",
     "output_type": "stream",
     "text": [
      "MTEICE EN RA NDEBRA  EN RA OSUTIDLAL SONO ER CDMBIE LE TN CEREJONO. LESPTES LE HTE VTBO SONALO CIES YEUES, SE OGO ER UVDIIDLO LE ROS MTERRES LE TNA UAMA; TNOS LELOS PARPAION SOBIE RA MALEIA, ARQO PEHT\n"
     ]
    }
   ],
   "source": [
    "alfabeto=u'ABCDEFGHIJKLMNÑOPQRSTUVWXYZ'\n",
    "T=u'E A O S R N I D L C T U M P B G V Y Q H F Z J Ñ X K W'\n",
    "original=''.join(T.split(' '))\n",
    "frec=Frecuencias_texto(encriptado, alfabeto)\n",
    "L=[(f,l) for (l,f) in frec.items()]\n",
    "L.sort(reverse=True)\n",
    "cifrado=[L[j][1] for j in range(len(L))]\n",
    "cifrado=''.join(cifrado)\n",
    "F=dict(zip(original, cifrado))\n",
    "G=dict(zip(cifrado, original))\n",
    "nuevo=cifradoPermutacion(encriptado, G, alfabeto)\n",
    "print nuevo[:200]"
   ]
  },
  {
   "cell_type": "code",
   "execution_count": 280,
   "metadata": {},
   "outputs": [],
   "source": [
    "def cambiar_(original, a, b):\n",
    "    new=u''\n",
    "    for letra in original:\n",
    "        if letra==a:\n",
    "            letra=b\n",
    "        elif letra==b:\n",
    "            letra=a\n",
    "        new+=letra\n",
    "    return new"
   ]
  },
  {
   "cell_type": "code",
   "execution_count": 281,
   "metadata": {},
   "outputs": [
    {
     "name": "stdout",
     "output_type": "stream",
     "text": [
      "EAOSRNIDLCTUMPBGVYQHFZJÑXKW\n",
      "EAOSRNIDLCTUMPBGVYQHFZJÑXKW\n"
     ]
    }
   ],
   "source": [
    "ORI_inicial=u''\n",
    "for l in original:\n",
    "    ORI_inicial+=l\n",
    "print ORI_inicial\n",
    "print original"
   ]
  },
  {
   "cell_type": "code",
   "execution_count": 298,
   "metadata": {},
   "outputs": [
    {
     "name": "stdout",
     "output_type": "stream",
     "text": [
      "MUERTE EN LA NIEBLA  EN LA OSCURIDAD SONO EL TIMBRE DE UN TELEFONO. DESPUES DE QUE HUBO SONADO TRES VECES, SE OYO EL CHIRRIDO DE LOS MUELLES DE UNA CAMA; UNOS DEDOS PALPARON SOBRE LA MADERA, ALGO PEQUEÑO Y DURO CAYO CON RUIDO SORDO SOBRE LA ALFOMBRA, LOS MUELLES CHIRRIARON NUEVAMENTE, Y UNA VOZ DE HOMBRE EXCLAMO:  —¿DIGA?... SI, SOY YO... ¿MUERTO?... SI... EN QUINCE MINUTOS. GRACIAS.  SONO EL RUIDILLO DE UN INTERRUPTOR, Y LA LUZ DE UN GLOBO QUE COLGABA DEL TECHO, SOSTENIDO POR TRES CADENAS DORADAS, INUNDO EL CUARTO. SPADE, DESCALZO Y CON UN PIJAMA A CUADROS VERDES Y BLANCOS, SE SENTO SOBRE EL BORDE DE LA CAMA. MIRO MALHUMORADAMENTE AL TELEFONO QUE HABIA EN LA MESILLA MIENTRAS SUS MANOS COGIAN UN ESTUCHE DE PAPEL DE FUMAR COLOR CHOCOLATE Y UNA BOLSA DE TABACO BULL DURHAM.  UN AIRE FRIO Y MOJADO ENTRABA POR DOS VENTANAS ABIERTAS, TRAYENDO CONSIGO EL BRAMIDO DE LA SIRENA CONTRA LA NIEBLA DE ALCATRAZ, MEDIA DOCENA DE VECES POR MINUTO. UN DESPERTADOR DE RUIN METAL, CON INSEGURO ACOMODO SOBRE UNA ESQUINA DE CASOS CRIMINALES FAMOSOS DE ESTADOS UNIDOS, DE DUWE, BOCA ABAJO, MARCABA LAS DOS Y CINCO.  LOS GRUESOS DEDOS DE SPADE LIARON CON CALMOSA MINUCIOSIDAD UN CIGARRILLO, ECHANDO LA JUSTA MEDIDA DE HEBRAS MORENAS SOBRE EL PAPEL COMBADO, EXTENDIENDO LAS HEBRAS POR IGUAL EN LOS EXTREMOS Y DEJANDO UNA LIGERA DEPRESION EN EL CENTRO, HACIENDO QUE LOS PULGARES CONDUJERAN CON MOVIMIENTO ROTATORIO EL FILO INTERIOR DEL PAPEL HACIA ARRIBA Y LUEGO LO PASARAN POR DEBAJO DEL BORDE SUPERIOR, EN TANTO QUE LOS DEMAS DEDOS EJERCIAN PRESION PARA LUEGO, JUNTO CON LOS PULGARES, DESLIZARSE HASTA LAS PUNTAS DEL CILINDRO DE PAPEL Y SUJETARLAS, MIENTRAS LA LENGUA HUMEDECIA EL BORDE, AL TIEMPO QUE EL INDICE Y EL PULGAR DE LA MANO IZQUIERDA PELLIZCABAN EL EXTREMO A SU CUIDADO Y LOS DEDOS CORRESPONDIENTES DE LA MANO DERECHA ALISABAN LA HUMEDA JUNTURA, TRAS LO QUE EL INDICE Y EL PULGAR DERECHO RETORCIERON LA PUNTA QUE LES CORRESPONDIA Y LLEVARON EL CIGARRILLO HASTA LA BOCA DE SPADE.  SPADE COGIO EL ENCENDEDOR DE PIEL DE CERDO Y NIQUEL QUE SE HABIA CAIDO AL SUELO, LO HIZO FUNCIONAR Y SE PUSO EN PIE, CON EL CIGARRILLO EN UNA ESQUINA DE LA BOCA. SE QUITO EL PIJAMA. LA SUAVE GORDURA DE BRAZOS, PIERNAS Y TORSO, LA CAIDA DE LOS HOMBROS PODEROSOS Y REDONDEADOS, DABAN A SU CUERPO EL ASPECTO DE UN OSO. DE UN OSO AFEITADO: NO CRECIA VELLO EN EL PECHO. TENIA LA PIEL SUAVE Y ROSADA DE UN NIÑO CHICO.  SE RASCO LA NUCA Y COMENZO A VESTIRSE. SE PUSO UNA COMBINACION DE CAMISETA Y CALZONCILLOS, CALCETINES GRISES, LIGAS NEGRAS Y ZAPATOS COLOR DE CUERO OSCURO. ASI QUE SE HUBO ATADO LOS ZAPATOS, COGIO EL TELEFONO, LLAMO AL 4500 DE GRAYSTONE Y PIDIO UN TAXI. SE PUSO LUEGO UNA CAMISA BLANCA CON RAYAS VERDES, UN BLANCO CUELLO BLANDO, UNA CORBATA VERDE, EL TRAJE GRIS QUE HABIA LLEVADO DURANTE EL DIA, UN AMPLIO ABRIGO DE TELA ESPONJOSA Y UN SOMBRERO COLOR GRIS OSCURO. EN EL MOMENTO EN QUE SE METIA EN EL BOLSILLO EL TABACO, LAS LLAVES Y EL DINERO, SONO EL TIMBRE DE LA PUERTA. EN EL LUGAR DONDE LA BUSH STREET SIRVE DE TECHUMBRE A LA STOCWTON, ANTES DE BAJAR HACIA EL BARRIO CHINO, SPADE PAGO Y DESPIDIO EL TAXI. LA NIEBLA NOCTURNA DE SAN FRANCISCO, SUTIL, PEGAJOSA Y PENETRANTE, ESFUMINABA LA CALLE. A UNAS YARDAS DE DISTANCIA DE DONDE SPADE HABIA DESPEDIDO EL TAXI, UN PEQUEÑO GRUPO DE HOMBRES MIRABA HACIA UN CALLEJON. DOS MUJERES Y UN HOMBRE ESTABAN PARADOS EN LA OTRA ACERA DE BUSH STREET, MIRANDO TAMBIEN HACIA EL CALLEJON. SE VEIAN CARAS EN LAS VENTANAS.  SPADE CRUZO LA ACERA SORTEANDO LAS ENTRADAS ENREJADAS QUE SE ABRIAN SOBRE ESCALERAS RUINES Y DESNUDAS, LLEGO HASTA EL PRETIL Y, APOYANDO LAS MANOS SOBRE EL HUMEDO CABALLETE, MIRO HACIA ABAJO, A LA STOCWTON STREET.  DEL TUNEL QUE TENIA A SUS PIES SURGIO REPENTINAMENTE UN AUTOMOVIL, CUAL RAFAGA ESTRUENDOSA, COMO SI LE HUBIERAN DISPARADO, Y SE ALEJO VELOZ. CERCA DE LA BOCA DEL TUNEL HABIA UN HOMBRE HECHO UN BURUJO SOBRE LOS TALONES, ANTE UN CARTEL QUE ANUNCIABA UNA PELICULA Y UNA MARCA DE GASOLINA, EN EL HUECO QUE QUEDABA ENTRE LAS CASAS DE DOS PISOS. EL HOMBRE ESTABA DOBLADO CASI HASTA EL SUELO PARA PODER MIRAR POR DEBAJO DE LA CARTELERA. UNA MANO ABIERTA PUESTA SOBRE LA ACERA Y OTRA QUE SE AGARRABA AL BASTIDOR VERDE DEL ANUNCIO LE MANTENIAN EN TAN GROTESCA POSTURA. OTROS DOS HOMBRES ESTABAN DE PIE, JUNTOS, EN POSTURA FORZADA, EN UN EXTREMO DEL CARTEL, OJEANDO POR LA ANGOSTURA DE POCAS PULGADAS QUE QUEDABA ENTRE EL ANUNCIO Y EL EDIFICIO CONTIGUO. LA CASA DEL OTRO LADO TENIA UN MURO LATERAL, GRIS Y SIN VENTANAS QUE DABA AL SOLAR DE DETRAS DEL ANUNCIO. UNAS LUCES PARPADEABAN EN LA ACERA, Y UNAS SOMBRAS HUMANAS SE MOVIAN ENTRE ELLAS.  SPADE DEJO EL PRETIL Y ECHO A ANDAR BUSH STREET ARRIBA, HACIA EL CALLEJON EN DONDE ESTABA EL GRUPO. UN POLICIA UNIFORMADO, QUE MASCABA GOMA DEBAJO DE UNA PLACA ESMALTADA EN LA QUE SE LEIA «BURRITT STREET» EN LETRAS BLANCAS SOBRE UN FONDO AZUL OSCURO, EXTENDIO EL BRAZO Y PREGUNTO:  —¿QUE BUSCA USTED AQUI?  —SOY SAM SPADE. TOM POLHAUS ME HA LLAMADO POR TELEFONO.  —¡CLARO QUE ES USTED SPADE! —DIJO EL GUARDIA, BAJANDO EL BRAZO—. ASI, DE GOLPE, NO LE RECONOCI... BUENO, PUES ALLI LOS TIENE USTED —AÑADIO, SEÑALANDO CON RAPIDO ADEMAN CON EL PULGAR—. MAL ASUNTO.  —SI QUE ES MALO —DIJO SPADE, AL MISMO TIEMPO QUE ECHABA A ANDAR POR EL CALLEJON.  A MEDIO CAMINO, NO LEJOS DE LA BOCA DEL CALLEJON, ESTABA PARADA UNA AMBULANCIA DE COLOR OSCURO. AL OTRO LADO DE LA AMBULANCIA, A LA IZQUIERDA, EL CALLEJON ACABABA EN UNA VALLA, FORMADA POR LISTONES HORIZONTALES SIN CEPILLAR, QUE LLEGABA HASTA LA CINTURA. EL CALLEJON DESCENDIA EN FUERTE PENDIENTE DESDE LA VALLA HASTA EL CARTEL DE ANUNCIO DE LA STOCWTON STREET.  EL LARGUERO SUPERIOR DE LA VALLA ESTABA ARRANCADO DE UNO DE LOS POSTES Y COLGABA DEL QUE HABIA EN EL EXTREMO OPUESTO. COMO A CINCO YARDAS DE LA CIMA DE LA PENDIENTE SE VEIA UNA PIEDRA ACHATADA QUE SOBRESALIA. EN EL RECOVECO QUE FORMABA CON EL PISO AL SALIR ESTABA MILES ARCHER, CAIDO, DE ESPALDAS. DOS HOMBRES SE HALLABAN DE PIE JUNTO A EL. UNO DE ELLOS DEJABA CAER SOBRE EL MUERTO EL CHORRITO LUMINOSO DE UNA LINTERNA ELECTRICA. OTROS HOMBRES PROVISTOS DE LUCES SUBIAN Y BAJABAN LA CUESTA.  UNO DE LOS HOMBRES LE SALUDO CON UN «HOLA, SAM», Y TREPO HASTA EL CALLEJON PRECEDIDO POR SU SOMBRA, QUE CORRIO DELANTE DE EL CUESTA ARRIBA. ERA UN TIPO BARRIGUDO, ALTO, DE OJILLOS SAGACES, BOCA DE LABIOS GRUESOS Y MEJILLAS EN LAS QUE AZULEABA LA BARBA AFEITADA CON DESCUIDO. TENIA MANCHADOS DE BARRO OSCURO LOS ZAPATOS, LAS RODILLAS, EL MENTON Y LAS MANOS.  —IMAGINE QUE QUERRIAS VERLO ANTES QUE NOS LO LLEVASEMOS —DIJO AL SALVAR LA VALLA ROTA.  —GRACIAS, TOM —DIJO SPADE—. ¿QUE HA OCURRIDO?  APOYO UN CODO EN EL POSTE DE LA VALLA Y MIRO HACIA LOS HOMBRES DE ABAJO, DEVOLVIENDO EL SALUDO A LOS QUE LE SALUDABAN CON LA CABEZA.  TOM POLHAUS SE PUNZO CON UN SUCIO DEDO LA TETILLA IZQUIERDA Y DIJO:  —LE ACERTARON EN EL MISMO CORAZON..., CON ESTO —Y SACO DEL BOLSILLO DEL GABAN UN REVOLVER CHATO Y SE LO ALARGO A SPADE. TENIA BARRO EMBUTIDO EN TODOS LOS ENTRANTES DE LA SUPERFICIE—. UN KEBLEY. ES INGLES, ¿NO?  SPADE QUITO EL CODO DEL POSTE Y SE INCLINO PARA EXAMINAR EL ARMA, PERO NO LA TOCO.  —SI, UN REVOLVER KEBLEY-FOSBERY, AUTOMATICO. ESO ES. CALIBRE 38, OCHO TIROS. YA NO LOS FABRICAN. ¿CUANTAS BALAS LE FALTAN?  TOM VOLVIO A PINCHARSE EL PECHO CON EL DEDO Y AÑADIO:  —UNA.  —DEBIA DE ESTAR YA MUERTO CUANDO ROMPIO LA VALLA. ¿HAS VISTO ESTO ANTES?  —PREGUNTO, ALZANDO EL REVOLVER.  SPADE AFIRMO CON LA CABEZA Y DIJO, SIN MOSTRAR INTERES:  —HE VISTO REVOLVERES KEBLEY-FOSBERY.  Y LUEGO DIJO, HABLANDO RAPIDAMENTE:  —LE MATARON AQUI, ¿EH? ESTABA DE ESPALDAS A LA VALLA, EN DONDE ESTAS TU AHORA.  EL QUE LE DISPARO ESTABA AQUI —PASO POR DELANTE DE TOM, DANDO LA VUELTA, Y ALZO UNA MANO A LA ALTURA DEL PECHO CON EL BRAZO EXTENDIDO Y EL DEDO INDICE APUNTANDO—. HACE FUEGO CONTRA EL Y MILES CAE CONTRA LA VALLA, SE LLEVA LA PARTE SUPERIOR AL CAER A TRAVES DE ELLA Y RUEDA POR LA CUESTA HASTA QUE ESA PIEDRA LE DETIENE. ¿FUE ASI?  —ASI FUE —TOM RESPONDIO MUY DESPACIO, JUNTANDO LAS CEJAS—. EL FOGONAZO LE CHAMUSCO EL ABRIGO.  —¿QUIEN LE ENCONTRO?  —EL GUARDIA DE RONDA, SHILLING. BAJABA POR BUSH STREET Y EN EL MOMENTO EN QUE LLEGO A ESTE LUGAR UN AUTOMOVIL VIRO Y ARROJO HASTA AQUI LA LUZ DE LOS FAROS. SHILLING VIO ROTA LA VALLA, SUBIO PARA INVESTIGAR Y LE ENCONTRO.  —¿Y EL COCHE QUE DIO LA VUELTA?  —NO SABEMOS NADA DE EL, SAM. SHILLING NO LE PRESTO ATENCION, PUES NO SABIA QUE HUBIESE OCURRIDO ALGO. DICE QUE POR AQUI NO PUDO SALIR NADIE MIENTRAS EL BAJABA DE POKELL, PUES LE HUBIERA VISTO. LA OTRA SALIDA ES POR DEBAJO DEL ANUNCIO DE STOCWTON. NADIE PASO POR ALLI. LA NIEBLA HA EMBARRADO EL PISO, Y LAS UNICAS SEÑALES QUE HAY SON LAS HECHAS POR MILES AL CAER Y POR EL REVOLVER AL RODAR.  —¿NADIE OYO EL TIRO?  —¡POR EL AMOR DE DIOS, SAM! ¡ACABAMOS DE LLEGAR! ALGUIEN TIENE QUE HABER OIDO EL DISPARO. YA LO ENCONTRAREMOS.  DIO MEDIA VUELTA Y PASO UNA PIERNA POR ENCIMA DE LA VALLA:  —¿BAJAS PARA VERLO ANTES DE QUE SE LO LLEVEN?  —NO —DIJO SPADE. TOM, A CABALLO SOBRE LA VALLA, SE DETUVO Y MIRO A SPADE CON OJUELOS DE EXTRAÑEZA.  —YA LO HAS VISTO TU —DIJO SPADE—. TODO LO QUE YO PUDIERA DESCUBRIR YA LO HABRAS VISTO.  SIN DEJAR DE MIRAR A SPADE, TOM ASINTIO CON EXPRESION DE DUDA Y PASO DE NUEVO LA PIERNA POR ENCIMA DE LA VALLA, EN DIRECCION CONTRARIA.  —MILES LLEVABA SU REVOLVER EN LA PISTOLERA DE LA CADERA —DIJO—. NO HA SIDO DISPARADO. TENIA ABROCHADO EL ABRIGO. LLEVABA ENCIMA CIENTO SESENTA Y TANTOS DOLARES. ¿ESTABA TRABAJANDO EN ALGO?  SPADE VACILO UN MOMENTO Y ASINTIO.  —¿BIEN? —PREGUNTO TOM.  —ESTABA SIGUIENDO A UN SUJETO LLAMADO FLOYD THURSBY —DIJO SPADE, Y DESCRIBIO A THURSBY TAL Y COMO MISS KONDERLY SE LO HABIA DESCRITO A EL.  —¿POR QUE?  SPADE METIO LAS MANOS EN LOS BOLSILLOS DEL ABRIGO Y MIRO A TOM, GUIÑANDO LOS OJOS SOÑOLIENTOS.  —¿POR QUE? —REPITIO TOM, IMPACIENTEMENTE.  —ES UN INGLES, QUIZA. NO SE EXACTAMENTE QUE SE TRAE ENTRE MANOS. ESTABAMOS TRATANDO DE AVERIGUAR EN DONDE VIVE.  SPADE SONRIO LIGERAMENTE Y SACO UNA MANO DEL BOLSILLO PARA DAR UNA PALMADA SOBRE EL HOMBRO DE TOM:  —NO ME APURES —DIJO, Y VOLVIO A METER LA MANO EN EL BOLSILLO—. VOY A DARLE LA NOTICIA A LA MUJER DE MILES.  SE DIO LA VUELTA. TOM, CON GESTO DE MAL HUMOR, ABRIO LA BOCA, LA CERRO SIN HABLAR, CARRASPEO, BORRO DE LA CARA EL MALHUMORADO GESTO, Y DIJO CON UNA ESPECIE DE RONCA DULZURA:  —ES TRISTE QUE LO MATARAN ASI. MILES TENIA DEFECTOS, COMO TODOS LOS TENEMOS, PERO SEGURO QUE TAMBIEN TENDRIA CUALIDADES.  —SEGURO QUE SI —ASINTIO SPADE EN UN TONO DE VOZ QUE NO QUERIA DECIR ABSOLUTAMENTE NADA, Y SALIO DEL CALLEJON.  SPADE UTILIZO UN TELEFONO DE UN DRUG-STORE QUE PERMANECIA ABIERTO TODA LA NOCHE EN LA ESQUINA DE LAS CALLES BUSH Y TAYLOR.  —PRECIOSA —DIJO UN POCO DESPUES DE LOGRAR LA COMUNICACION—, A MILES LE HAN PEGADO UN TIRO... SI, SI, ESTA MUERTO... BUENO, NO TE EXCITES... SI... TENDRAS QUE DARLE A IVA LA NOTICIA... NO, NO; ANTES ME ASPAN. LO TIENES QUE HACER TU... BUENA CHICA... Y NO LA DEJES QUE VAYA POR LA OFICINA... DILE QUE YA LA VERE, EN CUALQUIER MOMENTO... SI, PERO NO ME COMPROMETAS A NADA... ESO ES. ERES UN ANGEL. ADIOS.  EL DESPERTADOR BARATO MARCABA LAS TRES Y CUARENTA CUANDO SPADE VOLVIO A ENCENDER EL GLOBO SUSPENDIDO DEL TECHO. DEJO CAER EL ABRIGO Y EL SOMBRERO, FUE A LA COCINA Y REGRESO A LA ALCOBA CON UN VASO Y UNA BOTELLA GRANDE DE BACARDI. SE SIRVIO UN TRAGO Y SE LO BEBIO DE PIE. DEJO LA BOTELLA Y EL VASO SOBRE LA MESA, SE SENTO EN LA CAMA MIRANDO HACIA ELLOS Y LIO UN CIGARRO.  SE HABIA BEBIDO YA EL TERCER VASO DE BACARDI Y ESTABA ENCENDIENDO EL QUINTO CIGARRILLO CUANDO SONO EL TIMBRE DE LA PUERTA. LAS MANECILLAS DEL DESPERTADOR MARCABAN LAS CUATRO Y TREINTA MINUTOS.  SPADE SUSPIRO, SE LEVANTO DE LA CAMA Y FUE HASTA LA PUERTA DEL CUARTO DE BAÑO. APRETO EL BOTON QUE EN LA TABLA DEL TELEFONO INTERIOR ABRIA DESDE ARRIBA LA PUERTA DE LA CALLE.  —¡MALDITA SEA ESA...! —MASCULLO, MIRANDO AIRADAMENTE A LA TABLILLA NEGRA DEL TELEFONO, RESPIRANDO ENTRECORTADAMENTE MIENTRAS SU ROSTRO SE SONROJABA APAGADAMENTE.  SE OYO EN EL PASILLO EL RECHINAR Y GOLPETEO DE LA PUERTA DEL ASCENSOR AL ABRIRSE Y CERRARSE. SPADE SUSPIRO DE NUEVO Y SE DIRIGIO HACIA LA PUERTA. OYO PASOS RECIOS Y APAGADOS SOBRE LA ALFOMBRA EXTERIOR, LOS PASOS DE DOS HOMBRES. SE LE ALEGRO EL TALANTE. SUS OJOS YA NO EXPRESABAN CONTRARIEDAD ALGUNA. ABRIO LA PUERTA RAPIDAMENTE.  —HOLA, TOM —LE DIJO AL DETECTIVE ALTO Y BARRIGUDO CON QUIEN HABIA ESTADO HABLANDO EN LA BURRITT STREET—. HOLA, TENIENTE —LE DIJO AL HOMBRE QUE ACOMPAÑABA A TOM—. PASAD.  LOS DOS INCLINARON LA CABEZA AL MISMO TIEMPO SIN DECIR PALABRA Y ENTRARON EN LA HABITACION. SPADE CERRO LA PUERTA Y LOS CONDUJO A SU ALCOBA. TOM SE SENTO EN UN EXTREMO DEL SOFA, JUNTO A LAS VENTANAS. EL TENIENTE LO HIZO EN UNA SILLA AL LADO DE LA MESA.  EL TENIENTE ERA UN HOMBRE APRETADO DE CARNES, DE CABEZA REDONDA CORONADA POR CABELLO MUY CORTO Y GRIS Y DE ROSTRO CUADRADO CON UN BIGOTE MUY CORTO Y GRIS. LLEVABA UNA MONEDA DE ORO DE CINCO DOLARES COMO ALFILER DE CORBATA, Y EN LA SOLAPA, UN PEQUEÑO EMBLEMA DE ALGUNA SOCIEDAD SECRETA, ADORNADO CON DIAMANTES.  SPADE TRAJO DOS VASOS DE LA COCINA, LOS LLENO DE BACARDI, E HIZO LO MISMO CON EL SUYO; DIO UNO A CADA VISITANTE Y SE SENTO CON UN VASO SOBRE LA CAMA. LA EXPRESION DE SU ROSTRO ERA PLACIDA Y NO DENOTABA CURIOSIDAD. ALZO SU VASO Y DIJO: «POR EL BUEN EXITO DEL CRIMEN», Y LO APURO.  TOM VACIO SU VASO, LO DEJO EN EL SUELO JUNTO A SUS PIES Y SE LIMPIO LA BOCA CON UN DEDO INDICE, SUCIO DE BARRO. SE QUEDO MIRANDO A LOS PIES DE LA CAMA, COMO TRATANDO DE RECORDAR ALGO QUE LA CAMA LE TRAJESE A LA MEMORIA DE MANERA IMPRECISA.  EL TENIENTE CONTEMPLO SU VASO DURANTE UNA DOCENA DE SEGUNDOS, TOMO UN SORBITO DE LO QUE CONTENIA Y LO DEJO EN LA MESA, JUNTO A SU CODO. EXAMINO LA HABITACION DETENIDAMENTE Y LUEGO MIRO A TOM.  TOM SE REBULLO MUY POCO A GUSTO EN EL SOFA, Y PREGUNTO, SIN ALZAR LA MIRADA:  —¿LE DISTE LA NOTICIA A LA MUJER DE MILES, SAM?  SPADE DEJO OIR UN RUIDO POSIBLEMENTE AFIRMATIVO.  —¿COMO LO HA TOMADO?  —NO SE NADA DE MUJERES —DIJO SPADE, SACUDIENDO LA CABEZA.  —¡NO SABES POCO! —DIJO TOM, EN VOZ QUEDA.  EL TENIENTE PUSO LAS MANOS SOBRE LAS RODILLAS Y SE INCLINO HACIA DELANTE. TENIA LOS OJOS VERDOSOS CLAVADOS SOBRE SPADE CON UNA MIRADA DE EXTRAÑA FIJEZA, COMO SI EL ENFOCARLOS FUERA UNA CUESTION MECANICA QUE SOLO PUDIERA LOGRARSE TIRANDO DE UNA PALANCA O APRETANDO UN BOTON.  —¿QUE ARMAS SUELES LLEVAR ENCIMA? —PREGUNTO.  —NINGUNA. NO ME GUSTAN GRAN COSA. CLARO, EN EL DESPACHO HAY ALGUNAS.  —ME GUSTARIA VER UNA DE ELLAS —DIJO EL TENIENTE—. ¿NO TENDRAS AQUI ALGUNA POR CASUALIDAD?  —NO.  —¿ESTAS SEGURO?  —PUEDES BUSCAR —DIJO SPADE, SONRIENDO Y TRAZANDO UN ARCO EN EL AIRE CON EL VASO VACIO—. VUELVELO TODO PATAS ABAJO, SI QUIERES. NO VOY A PROTESTAR..., SI ES QUE TRAES UNA ORDEN JUDICIAL DE REGISTRO, CLARO.  —¡PERO, HOMBRE, SAM! —PROTESTO TOM.  SPADE DEJO EL VASO SOBRE LA MESA Y SE PUSO EN PIE, DE FRENTE AL TENIENTE.  —¿QUE BUSCAS, DUNDY? —DIJO CON VOZ TAN DURA Y FRIA COMO SUS OJOS.  LOS OJOS DEL TENIENTE DUNDY SE HABIAN MOVIDO PARA PERMANECER ENFOCADOS SOBRE SPADE. ÚNICAMENTE LOS OJOS SE HABIAN MOVIDO.  TOM CAMBIO OTRA VEZ DE POSTURA EN EL SOFA, RESPIRO CON FUERZA ECHANDO EL AIRE POR LA NARIZ Y GRUÑO EN SON DE QUEJA:  —NO QUEREMOS CREAR DIFICULTADES, SAM.  SPADE PRESCINDIO DE TOM Y LE DIJO A DUNDY:  —BUENO, ¿QUE QUIERES? HABLA CLARO. ¿QUIEN DIABLOS TE HAS CREIDO QUE ERES, VINIENDO AQUI PARA TRATAR DE LIARME?  —ESTA BIEN —DIJO DUNDY, CON VOZ HUECA—. SIENTATE Y ESCUCHA.  —ME SENTARE O ME QUEDARE DE PIE, SEGUN ME DE LA GANA —DIJO SPADE, SIN MOVERSE.  —¡POR DIOS, HOMBRE, SE RAZONABLE! —LE SUPLICO TOM—. ¿DE QUE SIRVE QUE NOS PELEEMOS? SI NO HEMOS HABLADO CLARO DESDE EL PRINCIPIO ES PORQUE CUANDO TE PREGUNTE QUE QUIEN ERA ESE THURSBY POCO MENOS QUE ME DIJISTE QUE NO ERA ASUNTO MIO. NO PUEDES TRATARNOS ASI, SAM. NO ESTA BIEN Y NO TE LLEVARA A NINGUNA PARTE. NOSOTROS TENEMOS UNA OBLIGACION QUE CUMPLIR.  EL TENIENTE SE PUSO EN PIE DE UN SALTO, SE ARRIMO A SPADE Y AVANZO EL ROSTRO HACIA EL DEL OTRO HOMBRE, MAS ALTO QUE EL.  —YA TE TENGO DICHO QUE UN BUEN DIA VAS A DAR UN TROPEZON —LE ADVIRTIO.  SPADE HIZO UNA MUECA DE DESPRECIO Y SUBIO LAS CEJAS:  —TODOS TROPEZAMOS ALGUNA VEZ —REPLICO, CON TRANQUILO DESDEN.  —ESTA VEZ ERES TU EL QUE HA TROPEZADO.  SPADE SONRIO Y NEGO CON LA CABEZA:  —NO, YA ME LAS ARREGLARE, GRACIAS.  LE TEMBLO NERVIOSAMENTE EL LABIO SUPERIOR, EN LA PARTE IZQUIERDA, POR ENCIMA DEL COLMILLO SUPERIOR. SUS OJOS SE TORNARON RENDIJAS CALENTURIENTAS. Y CUANDO HABLO, LA VOZ LE SALIO DE IGUALES HONDURAS QUE AL TENIENTE:  —NO ME GUSTA ESTO. ¿SE PUEDE SABER QUE ANDAIS HUSMEANDO? O ME LO DECIS O YA OS ESTAIS MARCHANDO PARA DEJARME VOLVER A LA CAMA.  —¿QUIEN ES THURSBY? —PREGUNTO DUNDY, CON VOZ EXIGENTE.  —YA LE DIJE A TOM LO QUE SE DE EL.  —A TOM LE HAS DICHO BIEN POCO.  —BIEN POCO ES LO QUE SE.  —¿POR QUE LE ESTABAS SIGUIENDO?  —YO NO LE ESTABA SIGUIENDO. MILES ESTABA SIGUIENDOLE, POR LA MAGNIFICA RAZON DE QUE UN CLIENTE NOS ESTABA PAGANDO BUEN DINERO DE CURSO LEGAL PARA QUE LE SIGUIERAMOS.  —¿QUIEN ES EL CLIENTE?  LA PLACIDEZ VOLVIO A LA CARA Y A LA VOZ DE SAM AL DECIR EN TONO DE AMONESTACION:  —SABES MUY BIEN QUE ESO NO PUEDO DECIRTELO HASTA QUE HAYA HABLADO CON EL CLIENTE.  —ME LO VAS A DECIR A MI O SE LO VAS A DECIR AL JUEZ —DIJO DUNDY, ACALORADAMENTE—. SE TRATA DE UN ASESINATO, NO LO OLVIDES.  —PUEDE SER. Y ESCUCHA TU, PRECIOSO, ALGO QUE TU NO DEBES OLVIDAR. TE LO DIRE O NO, SEGUN ME VENGA EN GANA. HACE YA MUCHO TIEMPO QUE NO LLORO CUANDO NO LE CAIGO SIMPATICO A UN POLICIA.  TOM SE LEVANTO DEL SOFA Y FUE A SENTARSE A LOS PIES DE LA CAMA. EL ROSTRO MAL AFEITADO Y SUCIO DE BARRO ESTABA CANSADO Y CON ARRUGAS.  —SE RAZONABLE, SAM —LE ROGO—. AYUDANOS UN POCO. ¿COMO VAMOS A DESCUBRIR ALGO ACERCA DE LA MUERTE DE MILES SI TE EMPEÑAS EN NO DECIRNOS LO QUE SABES?  —POR ESO NO OS LLEVEIS NINGUN MAL RATO —LE DIJO SPADE—. YO ME ENCARGARE DE ENTERRAR A MIS MUERTOS.  EL TENIENTE SE SENTO Y VOLVIO A COLOCAR LAS MANOS SOBRE LAS RODILLAS. SUS OJOS PARECIAN DOS DISCOS VERDES ENCENDIDOS.  —ESO ES LO QUE PENSE —DIJO, SONRIENDO CON AVIESA ALEGRIA—. HEMOS VENIDO A VERTE PRECISAMENTE POR ESO. ¿VERDAD, TOM?  TOM GIMIO, PERO NO PRONUNCIO UNA PALABRA. SPADE, ALERTA, MIRO A DUNDY.  —ESO ES, PRECISAMENTE, LO QUE LE DIJE A TOM —CONTINUO EL TENIENTE—. LE DIJE: «TOM, ME HUELO QUE SAM SPADE ES HOMBRE QUE PREFIERE QUE LOS DISGUSTOS DE FAMILIA QUEDEN EN CASA». ESO ES EXACTAMENTE LO QUE LE DIJE.  LA TRANQUILIDAD VOLVIO A LOS OJOS DE SPADE. UNA EXPRESION DE TEDIO APAGO SU MIRADA. VOLVIO LA CARA HACIA TOM Y LE PREGUNTO, CON ESTUDIADA INDIFERENCIA:  —¿SE PUEDE SABER QUE LE PREOCUPA AHORA A TU AMIGO?  DUNDY SALTO DE LA SILLA Y DIO UNOS GOLPECITOS SOBRE EL PECHO DE SPADE CON DOS DEDOS DOBLADOS.  —NADA MAS QUE ESTO —DIJO, TRATANDO DE PRONUNCIAR CADA PALABRA MUY CLARAMENTE Y SUBRAYANDO CADA UNA DE ELLAS CON GOLPES DE LA PUNTA DE LOS DEDOS—. A THURSBY LE HAN PEGADO UN TIRO, JUSTO DELANTE DE SU HOTEL, A LOS TREINTA Y CINCO MINUTOS DE IRTE TU DE LA BURRITT STREET.  SPADE CONTESTO, TOMANDOSE IGUALES MOLESTIAS CON LAS PALABRAS:  —¡QUITAME LAS MANAZAS DE ENCIMA! ¡NO ME TOQUES!  DUNDY RETIRO LOS DEDOS, PERO NO SE ADVIRTIO CAMBIO ALGUNO EN SU VOZ:  —TOM DICE QUE TENIAS TANTA PRISA QUE NI SIQUIERA TE QUEDASTE PARA VER DE CERCA A TU SOCIO.  —BUENO, SAM —DIJO TOM, REZONGANDO PARA DISCULPARSE—, ES VERDAD QUE TE LARGASTE.  —Y NO FUISTE A CASA DE ARCHER PARA DECIRSELO A SU MUJER —CONTINUO EL TENIENTE—. LLAMAMOS Y CONTESTO ESA CHICA DE TU OFICINA, Y NOS DIJO QUE TU LA HABIAS MANDADO ALLI.  SPADE ASINTIO. A FUERZA DE CALMOSA, SU EXPRESION PARECIA ESTUPIDA.  DUNDY SUBIO LOS DOS DEDOS DOBLADOS A LA ALTURA DEL PECHO DE SPADE, LOS VOLVIO A BAJAR CON RAPIDEZ Y DIJO:  —TE DOY DIEZ MINUTOS PARA LLEGAR HASTA UN TELEFONO Y HABLAR CON LA MUCHACHA. TE DOY OTROS DIEZ PARA IR AL HOTEL DE THURSBY, EN GEARY CERCA DE LEAVENKORTH. PODRIAS HACER EL RECORRIDO EN ESE TIEMPO: EN QUINCE MINUTOS COMO MUCHO. Y ESO TE DEJA DE DIEZ A QUINCE MINUTOS PARA ESPERAR A QUE LLEGARA THURSBY.  —ENTONCES —PREGUNTO SPADE—, ¿YO SABIA EN QUE HOTEL ESTABA? ¿Y SABIA TAMBIEN QUE NO HABIA VUELTO AL HOTEL INMEDIATAMENTE DESPUES DE MATAR A MILES?  —TU SABIAS LO QUE SABIAS —REPLICO DUNDY, CABEZONAMENTE—. ¿A QUE HORA VOLVISTE A CASA?  —A LAS CUATRO MENOS VEINTE. ESTUVE DANDO UN PASEO, REFLEXIONANDO.  EL TENIENTE MOVIO LENTAMENTE SU REDONDA CABEZA, VARIAS VECES.  —SABIAMOS QUE A LAS TRES Y MEDIA NO ESTABAS EN CASA. TE LLAMAMOS POR TELEFONO. ¿POR DONDE ESTUVISTE PASEANDO?  —DI UN PASEO DESDE LA BUSH STREET, Y LUEGO VOLVI.  —¿VISTE A ALGUIEN QUE...?  —NO, NO TENGO TESTIGOS —DIJO SPADE, Y SE ECHO A REIR CON BUEN HUMOR—. SIENTATE, DUNDY. NO HAS ACABADO TU COPA. TRAE TU VASO, TOM.  —NO, GRACIAS, SAM —DIJO TOM.  DUNDY SE SENTO, PERO NO PRESTO ATENCION AL VASO DE RON.  SPADE LLENO SU VASO, LO DEJO VACIO SOBRE LA MESA Y VOLVIO A SENTARSE SOBRE LA CAMA.  —AHORA YA SE CUAL ES MI SITUACION —DIJO PASEANDO LA MIRADA AMISTOSAMENTE DE UN DETECTIVE A OTRO—. SIENTO HABERME MOSTRADO DESAGRADABLE, PERO ESO DE QUE VINIERAIS A TRATAR DE SONSACARME ME PUSO NERVIOSO. LA MUERTE DE MILES ME SENTO MUY MAL, Y TAMBIEN VUESTRAS ASTUCIAS. PERO YA PASO, AHORA QUE SE LO QUE QUEREIS.  —OLVIDALO —DIJO TOM.  EL TENIENTE NO DIJO NADA.  —¿HA MUERTO THURSBY? —PREGUNTO SPADE.  MIENTRAS VACILABA EL TENIENTE, TOM DIJO QUE SI. Y ENTONCES, EL TENIENTE DIJO AIRADAMENTE:  —Y DA LO MISMO QUE SEPAS, SI ES QUE NO LO SABES YA, QUE MURIO ANTES DE PODER HABLAR.  SPADE ESTABA LIANDO UN CIGARRO. Y PREGUNTO, SIN ALZAR LA VISTA:  —¿QUE QUIERES DECIR CON ESO? ¿QUE YA LO SABIA?  —HE QUERIDO DECIR LO QUE HE DICHO —DIJO EL TENIENTE, ABIERTAMENTE.  SPADE LE MIRO Y SONRIO, CON EL CIGARRILLO YA LIADO EN UNA MANO Y CON EL MECHERO EN LA OTRA.  —TODAVIA NO ESTAS LISTO PARA DETENERME, ¿VERDAD, DUNDY? —PREGUNTO.  DUNDY LE MIRO CON OJOS DUROS Y VERDES, PERO NO RESPONDIO.  —SI NO LO ESTAS, ENTONCES NO HAY MOTIVO ALGUNO PARA QUE ME IMPORTE UN BLEDO LO QUE CREAS, ¿NO ES ASI, DUNDY?  —¡VENGA, SAM, HOMBRE! SE RAZONABLE —DIJO TOM.  SPADE SE LLEVO EL CIGARRILLO A LA BOCA, LO ENCENDIO Y DEJO ESCAPAR HUMO AL REIR.  —VOY A  SER RAZONABLE, TOM —PROMETIO—. ¿COMO MATE A THURSBY? SE ME HA OLVIDADO.  TOM MANIFESTO SU ENFADO CON UN GRUÑIDO. EL TENIENTE RESPONDIO:  —LE PEGARON CUATRO TIROS POR LA ESPALDA, CON UN ARMA DEL CUARENTA Y CUATRO O DEL CUARENTA Y CINCO, DESDE EL OTRO LADO DE LA CALLE, CUANDO IBA A ENTRAR EN EL HOTEL. NADIE LO VIO, PERO PARECE QUE OCURRIO ASI.  —Y LLEVABA UNA LUGER EN UNA PISTOLERA DE PECHO —AÑADIO TOM—. ESTABA SIN DISPARAR.  —¿QUE SABE DE EL LA GENTE DEL HOTEL? —PREGUNTO SPADE.  —NADA; SOLO QUE LLEVABA ALLI UNA SEMANA.  —¿SIN COMPAÑIA?  —SOLO.  —¿Y QUE HABEIS AVERIGUADO DE EL O ENCONTRADO EN SU CUARTO?  DUNDY SE CHUPO LOS LABIOS HACIA DENTRO Y PREGUNTO:  —¿QUE SUPONES QUE ENCONTRAMOS?  SPADE TRAZO UN CIRCULO EN EL AIRE CON EL CIGARRILLO, MOSTRANDO SOLO INDIFERENCIA.  —ALGO QUE INDICARA QUIEN ERA, SUS ACTIVIDADES. ¿LO ENCONTRASTEIS?  —CREIAMOS QUE ESO NOS LO PODRIAS DECIR TU.  SPADE FIJO SUS OJOS GRISACEOS Y AMARILLENTOS SOBRE EL TENIENTE CON UNA EXPRESION CASI EXCESIVAMENTE CANDOROSA.  —JAMAS HE VISTO A THURSBY, NI MUERTO NI VIVO.  DUNDY SE PUSO EN PIE CON CARA DE DISGUSTO. TOM SE LEVANTO BOSTEZANDO Y ESTIRANDOSE.  —TE HEMOS PREGUNTADO LO QUE VINIMOS A PREGUNTARTE —DIJO DUNDY, FRUNCIENDO EL CEÑO POR ENCIMA DE OJOS TAN DUROS COMO DOS PIEDRAS VERDES. APRETO EL LABIO SUPERIOR ADORNADO POR EL BIGOTE CONTRA LOS DIENTES Y DEJO QUE EL LABIO INFERIOR SE ENCARGARA DE DEJAR SALIR LAS PALABRAS—. TE HEMOS DICHO MAS DE LO QUE TU NOS HAS DICHO. ES IGUAL. YA ME CONOCES, SPADE. LO HAYAS HECHO O NO, TE TRATARE CON JUSTICIA ABSOLUTA Y TE DARE CASI TODA CLASE DE FACILIDADES. NO TE CULPO EXCESIVAMENTE POR LO QUE..., PERO ESO NO ME IMPEDIRIA DETENERTE IGUAL.  —BUENO, ES UNA ACTITUD JUSTA —REPLICO SPADE, CON VOZ SERENA—, PERO ME SENTIRIA MEJOR SI ACABARAS LA COPA.  DUNDY SE VOLVIO HACIA LA MESA, TOMO EL VASO Y LO VACIO LENTAMENTE. LUEGO ALARGO LA MANO Y DIJO:  —BUENAS NOCHES.  SE ESTRECHARON LOS DOS LA MANO CEREMONIOSAMENTE. TOM Y SPADE HICIERON LO MISMO. SPADE LES ABRIO LA PUERTA. LUEGO SE DESNUDO, APAGO LA LUZ Y SE ACOSTO.\n"
     ]
    }
   ],
   "source": [
    "original=cambiar_(ORI_inicial, 'L', 'R')\n",
    "original=cambiar_(original, 'I', 'D')\n",
    "original=cambiar_(original, 'T', 'C')\n",
    "original=cambiar_(original, 'R', 'D')\n",
    "original=cambiar_(original, 'U', 'C')\n",
    "original=cambiar_(original, 'Q', 'H')\n",
    "original=cambiar_(original, 'H', 'V')\n",
    "original=cambiar_(original, 'Y', 'G')\n",
    "original=cambiar_(original, u'Ñ', 'X')\n",
    "original=cambiar_(original, 'G', 'V')\n",
    "original=cambiar_(original, 'F', 'J')\n",
    "\n",
    "F,G=dict(zip(original, cifrado)),dict(zip(cifrado, original))\n",
    "nuevo=cifradoPermutacion(encriptado, G, alfabeto)\n",
    "print nuevo"
   ]
  },
  {
   "cell_type": "code",
   "execution_count": null,
   "metadata": {},
   "outputs": [],
   "source": []
  },
  {
   "cell_type": "code",
   "execution_count": null,
   "metadata": {},
   "outputs": [],
   "source": []
  }
 ],
 "metadata": {
  "kernelspec": {
   "display_name": "SageMath 8.7",
   "language": "",
   "name": "sagemath"
  },
  "language_info": {
   "codemirror_mode": {
    "name": "ipython",
    "version": 2
   },
   "file_extension": ".py",
   "mimetype": "text/x-python",
   "name": "python",
   "nbconvert_exporter": "python",
   "pygments_lexer": "ipython2",
   "version": "2.7.15"
  }
 },
 "nbformat": 4,
 "nbformat_minor": 2
}
