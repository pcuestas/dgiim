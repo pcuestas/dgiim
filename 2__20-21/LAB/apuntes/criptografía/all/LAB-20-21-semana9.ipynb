{
 "cells": [
  {
   "cell_type": "markdown",
   "metadata": {},
   "source": [
    "# **Laboratorio 2020-21** #\n",
    "\n",
    "En las próximas semanas vamos a explorar con Sage alguna de las ideas matemáticas que se usan en ciertos sistemas criptográficos. La criptografía consiste en establecer una biyección entre un conjunto de posibles mensajes y un conjunto de los mismos mensajes, esta vez codificados de manera que no se entienden.\n",
    "\n",
    "Para empezar, esta semana vamos a ver cómo se puede trabajar en Sage con aplicaciones biyectivas entre conjuntos. Haremos un uso constante de una herramienta que conocemos pero que hasta ahora hemos usado poco: los diccionarios.\n",
    "\n",
    "------\n",
    "------\n",
    "\n",
    "# **Semana 9** #\n",
    "\n"
   ]
  },
  {
   "cell_type": "markdown",
   "metadata": {},
   "source": [
    "Los diccionarios de Sage permiten codificar cómodamente funciones entre dos conjuntos finitos. Si $f:A \\to B$ es una tal función, basta crear un diccionario que tenga como claves (*keys*) cada uno de los elementos de A, y como valor (*values*) de una clave $a\\in A$ el correspondiente $f(a)\\in B$.\n",
    "\n",
    "Por ejemplo: si $A$ es el conjunto de los números enteros entre 1 y 10, y $f:A \\to A$ es la aplicación que manda un número $a$ a la cantidad de letras que tiene su nombre en castellano (el número 1 tiene 3 letras, etc), podemos hacer lo siguiente:"
   ]
  },
  {
   "cell_type": "code",
   "execution_count": 17,
   "metadata": {},
   "outputs": [
    {
     "data": {
      "text/plain": [
       "{1: 3, 2: 3, 3: 4, 4: 5, 5: 5, 6: 4, 7: 5, 8: 4, 9: 5, 10: 4}"
      ]
     },
     "execution_count": 17,
     "metadata": {},
     "output_type": "execute_result"
    }
   ],
   "source": [
    "#Ejecuta y analiza\n",
    "\n",
    "A=set([1..10]) #Defino quién es el conjunto origen A\n",
    "B=set([1..10]) #Defino quién es el conjunto imagen B\n",
    "f=dict() #crea un diccionario vacío. \n",
    "#Recuerda dict([lista de pares]) crea un diccionario, tomando de cada par (x,y) de la lista x como clave e y como valor \n",
    "\n",
    "#Voy añadiendo las claves con su correspondiente valor\n",
    "f[1]=3 #introduce la clave 1 al diccionario, y le asigna el valor 3\n",
    "f[2]=3\n",
    "f[3]=4\n",
    "f[4]=5\n",
    "f[5]=5\n",
    "f[6]=4\n",
    "f[7]=5\n",
    "f[8]=4\n",
    "f[9]=5\n",
    "f[10]=4\n",
    "f"
   ]
  },
  {
   "cell_type": "code",
   "execution_count": 16,
   "metadata": {},
   "outputs": [
    {
     "data": {
      "text/plain": [
       "({1: 3, 2: 3, 3: 4, 4: 5, 5: 5, 6: 4, 7: 5, 8: 4, 9: 5, 10: 4},\n",
       " [(1, 3),\n",
       "  (2, 3),\n",
       "  (3, 4),\n",
       "  (4, 5),\n",
       "  (5, 5),\n",
       "  (6, 4),\n",
       "  (7, 5),\n",
       "  (8, 4),\n",
       "  (9, 5),\n",
       "  (10, 4)],\n",
       " [1, 2, 3, 4, 5, 6, 7, 8, 9, 10],\n",
       " [3, 3, 4, 5, 5, 4, 5, 4, 5, 4])"
      ]
     },
     "execution_count": 16,
     "metadata": {},
     "output_type": "execute_result"
    }
   ],
   "source": [
    "#Ejecuta y analiza\n",
    "\n",
    "#recuerda lo que son .keys() y .values()\n",
    "f, f.items(), f.keys(), f.values()"
   ]
  },
  {
   "cell_type": "code",
   "execution_count": 14,
   "metadata": {},
   "outputs": [
    {
     "name": "stdout",
     "output_type": "stream",
     "text": [
      "4\n",
      "[1, 2, 3, 4, 5, 6, 7, 8, 9, 10]\n"
     ]
    }
   ],
   "source": [
    "#Ejecuta y analiza\n",
    "\n",
    "#para evaluar la función en un elemento de A, basta ver qué valor corresponde a esa clave\n",
    "print f[3]\n",
    "#Compara con qué sería f[3] si f fuese una lista en vez de un diccionario\n",
    "L=list(f)\n",
    "print L"
   ]
  },
  {
   "cell_type": "code",
   "execution_count": 15,
   "metadata": {},
   "outputs": [
    {
     "data": {
      "text/plain": [
       "True"
      ]
     },
     "execution_count": 15,
     "metadata": {},
     "output_type": "execute_result"
    }
   ],
   "source": [
    "#Ejecuta y analiza \n",
    "\n",
    "set(f.keys())==A #debe dar True si no he olvidado añadir ningún elemento de A como clave\n",
    "#Recuerda: f.keys() es una lista, no un conjunto. \n",
    "#Aunque esa lista contenga los mismos elementos que el conjunto A, f.keys()==A daría False"
   ]
  },
  {
   "cell_type": "code",
   "execution_count": null,
   "metadata": {},
   "outputs": [],
   "source": [
    "#Ejecuta y analiza\n",
    "\n",
    "#¿POR QUE DA ERROR f[11]?-------porque no está en el diccionario f\n",
    "f[11]"
   ]
  },
  {
   "cell_type": "code",
   "execution_count": 21,
   "metadata": {},
   "outputs": [
    {
     "name": "stdout",
     "output_type": "stream",
     "text": [
      "[(1, 3), (2, 3), (3, 4), (4, 5), (5, 5), (6, 4), (7, 5), (8, 4), (9, 5), (10, 4)] (1, 3) 3\n"
     ]
    }
   ],
   "source": [
    "#Ejecuta y analiza\n",
    "\n",
    "pares=f.items() \n",
    "print pares, pares[0],pares[0][1] #¡OJO A LOS ÍNDICES!"
   ]
  },
  {
   "cell_type": "markdown",
   "metadata": {},
   "source": [
    "Recuerda que una aplicación $f:A\\longrightarrow B$  entre dos conjuntos es **biyectiva** si es inyectiva y sobreyectiva. \n",
    "\n",
    "- Para cualesquiera dos elementos, $a_1,a_2\\in A$, si $f(a_1)=f(a_2)$ entonces $a_1=a_2$ (inyectividad).\n",
    "\n",
    "- Para cualquier elemento $b\\in B$ existe algún elemento $a\\in A$ tal que $f(a)=b$ (sobreyectividad.)\n",
    "\n",
    "\n",
    "Solo existen biyecciones entre conjuntos del mismo cardinal (**que quiere decir mismo número de elementos en el caso de conjuntos finitos**). De hecho, si entre dos conjuntos $A$ y $B$ existe una biyección $f$ podemos pensar en $B$ como una *copia* de $A$: cada elemento $a$ de $A$ corresponde a uno y sólo un elemento de $B$, que es precisamente $f(a)$. Toda biyección tiene su inversa, que es también una biyección, así que si conocemos *la copia* $B$ de $A$ y la biyección que la ha generado, siempre podemos recuperar el original (a cada $b$ de $B$ le corresponde el elemeto $f^{-1}(b)$ de $A$).\n",
    "\n",
    "La composición de dos aplicaciones biyectivas es biyectiva.\n"
   ]
  },
  {
   "cell_type": "code",
   "execution_count": 22,
   "metadata": {},
   "outputs": [
    {
     "data": {
      "text/plain": [
       "{3, 4, 5}"
      ]
     },
     "execution_count": 22,
     "metadata": {},
     "output_type": "execute_result"
    }
   ],
   "source": [
    "#Ejecuta y analiza \n",
    "\n",
    "#Para encontrar el conjunto imagen f(A) -elementos de B que son imagen de alguien-\n",
    "set(f.values()) "
   ]
  },
  {
   "cell_type": "code",
   "execution_count": 23,
   "metadata": {},
   "outputs": [
    {
     "data": {
      "text/plain": [
       "False"
      ]
     },
     "execution_count": 23,
     "metadata": {},
     "output_type": "execute_result"
    }
   ],
   "source": [
    "#Ejecuta y analiza\n",
    "\n",
    "#Luego la comprobación de si una función de A a B creada como diccionario es sobreyectiva es, por ejemplo\n",
    "set(f.values())==B"
   ]
  },
  {
   "cell_type": "code",
   "execution_count": 24,
   "metadata": {},
   "outputs": [
    {
     "data": {
      "text/plain": [
       "{3, 4, 5, 6, 7, 8, 9, 10}"
      ]
     },
     "execution_count": 24,
     "metadata": {},
     "output_type": "execute_result"
    }
   ],
   "source": [
    "#Ejecuta y analiza\n",
    "\n",
    "#Para encontrar la preimagen del subconjunto {4,5,6} de B\n",
    "set([k for k in A if f[k] in {4,5,6}])\n"
   ]
  },
  {
   "cell_type": "code",
   "execution_count": 28,
   "metadata": {},
   "outputs": [
    {
     "data": {
      "text/plain": [
       "({3, 4, 5, 6, 7, 8, 9, 10}, set())"
      ]
     },
     "execution_count": 28,
     "metadata": {},
     "output_type": "execute_result"
    }
   ],
   "source": [
    "#Ejecuta y analiza\n",
    "\n",
    "#En realidad 6 no es imagen de nadie...\n",
    "\n",
    "set([k for k in A if f[k] in {4,5}]), set([k for k in A if f[k] in {6}])"
   ]
  },
  {
   "cell_type": "markdown",
   "metadata": {},
   "source": [
    "-----\n",
    "\n",
    "## **Biyecciones** ##"
   ]
  },
  {
   "cell_type": "markdown",
   "metadata": {},
   "source": [
    "Ya sabemos codificar funciones por medio de diccionarios. Nos van a interesar especialmente las funciones biyectivas, así que vamos a reflexionar sobre ellas.\n",
    "\n",
    "Sean $A=\\{1,3,5\\}$ y $B=\\{a,b,c\\}$. ¿Cuántas biyecciones existen entre los conjuntos $A$ y $B$? ¿Cuántas entre $A$ y $A$ o entre $B$ y $B$?"
   ]
  },
  {
   "cell_type": "markdown",
   "metadata": {},
   "source": [
    "Pensemos en primer lugar cuántas biyecciones hay entre $A$ y $B$. Empezamos eligiendo la imagen del 1: hay tres posibilidades. Una vez decidido esto elegimos la imagen del 3: hay dos posibilidades. Hecho lo anterior, la imagen del 5 no se puede elegir, está determinada. Hay por tanto $3\\cdot 2=6$. Un razonamiento similar permite demostrar que el número de biyecciones entre dos conjuntos de cardinal $n$, no importa cuáles sean, es $n!$."
   ]
  },
  {
   "cell_type": "markdown",
   "metadata": {},
   "source": [
    "## Ejercicio 1 ##\n",
    "\n",
    "**a)**  Construye (como diccionario de sage) la biyección $f:A\\longrightarrow B$, para los conjuntos $A$ y $B$ anteriores, determinada por $f(1)=a$, $f(3)=b$ y $f(5)=c$.\n",
    "\n",
    "**b)**  Denotemos como $g$ a la biyección inversa de $f$ Constrúyela también en forma de diccionario de sage. ¿Se te ocurre cómo hacerlo sin introducir una a una cada clave de $g$ y su valor? Tendrías que crear de manera comprensiva la lista de pares (clave, valor) que quieres para $g$ y aplicarle dict( )."
   ]
  },
  {
   "cell_type": "code",
   "execution_count": 35,
   "metadata": {},
   "outputs": [
    {
     "data": {
      "text/plain": [
       "({1: 'a', 3: 'b', 5: 'c'}, {'a': 1, 'b': 3, 'c': 5})"
      ]
     },
     "execution_count": 35,
     "metadata": {},
     "output_type": "execute_result"
    }
   ],
   "source": [
    "A={1,3,5}\n",
    "B={'a','b','c'}\n",
    "d=dict([(1,'a'), (3,'b'), (5,'c')])\n",
    "g=dict([(d[k],k) for k in list(A)])\n",
    "d,g"
   ]
  },
  {
   "cell_type": "markdown",
   "metadata": {},
   "source": [
    "------\n",
    "\n",
    "## **Biyecciones dadas en forma aditiva: traslaciones** ##\n",
    "\n",
    "Encontrar todas las biyecciones entre dos conjuntos grandes puede ser muy complicado. Por ejemplo, entre dos conjuntos de 7 elementos, hay un total de 7!=5040 posibilidades. Sin embargo, hay algunas biyecciones que son particularmente simples porque se describen según una regla fija. \n",
    "\n",
    "Dado un número natural $m$, hay un conjunto de $m$ elementos especialmente útil para analizar esto: el conjunto $\\mathbb{Z}/m \\mathbb{Z} =\\{ 0,1,2,..., m-1 \\}$ de los restos de dividir números enteros entre $m$ (también denotado $\\mathbb{Z}_m$). \n",
    "\n",
    "En $\\mathbb{Z}_m$  las operaciones de suma y multiplicación se definen tomando el resto de dividir entre $m$ el resultado: por ejemplo, el resultado de sumar 6 y 5 en $\\mathbb{Z}_7$ es (6+5)%7=4, el resultado de multiplicar 4 y 3 en $\\mathbb{Z}_7$ es (4·3)%7=5, y -3 es lo mismo que 4 en $\\mathbb{Z}_7$. Se suele decir que \"6 más 5 es 4 *módulo 7*\", que \"4 por 3 es 5 *módulo 7*\" o que \"-3 es igual a 4 *módulo 7*\", lo que se escribe de forma abreviada como\n",
    "$\\quad 6+5=4\\pmod7$,   $\\quad 4\\cdot 3 = 5 \\pmod7\\quad $ o $\\quad -3=4\\pmod 7 \\quad$ respectivamente.\n",
    "\n",
    "Usando esta notación, una traslación en $\\mathbb{Z}_m$ es una aplicación $f$ de $\\mathbb{Z}_m$ en sí mismo dada como $f(x)=x+k\\pmod m$, donde $k$ está fijo y determina de qué traslación se trata."
   ]
  },
  {
   "cell_type": "markdown",
   "metadata": {},
   "source": [
    "## Ejercicio 2 ##\n",
    "\n",
    "Define una función de Sage, llamada $Tras(k,m)$, que devuelva el diccionario correspondiente a la traslación $T:\\mathbb Z_m\\longrightarrow\\mathbb Z_m$ determinada por $T_k(x)=x+k \\pmod m$. Comprueba, con algún valor concreto de $m$ y $k$, que $T$ es una aplicación biyectiva. ¿Qué puedes decir de la inversa de $T$?"
   ]
  },
  {
   "cell_type": "code",
   "execution_count": 42,
   "metadata": {},
   "outputs": [
    {
     "name": "stdout",
     "output_type": "stream",
     "text": [
      "{0: 3, 1: 4, 2: 5, 3: 6, 4: 0, 5: 1, 6: 2} \n",
      "{0: 4, 1: 5, 2: 6, 3: 0, 4: 1, 5: 2, 6: 3}\n"
     ]
    }
   ],
   "source": [
    "def Tras(k,m):\n",
    "    d=dict([(j,(j+k)%m) for j in xrange(m)])\n",
    "    return d\n",
    "##la inversa se definiría similarmente:\n",
    "def TrasINV(k,m):\n",
    "    d=dict([(j,(j-k)%m) for j in xrange(m)])\n",
    "    return d\n",
    "print Tras(3,7), \"\\n\", TrasINV(3,7)"
   ]
  },
  {
   "cell_type": "markdown",
   "metadata": {},
   "source": [
    "_______\n",
    "\n",
    "## **Biyecciones dadas en forma multiplicativa: homotecias** ##\n",
    "\n",
    "Una idea posible es construir otras biyecciones multiplicando por un factor constante $k$ en vez de sumar una cantidad constante $k$. Para que la aplicación $x \\mapsto k \\cdot x \\pmod m$ defina de verdad una biyección $\\mathbb{Z}_m \\to \\mathbb{Z}_m$ se necesita que todos los elementos de  $\\mathbb{Z}_m$ sean múltiplos de $k$, lo que ocurre por ejemplo si $m=7,$ $k=3$, puesto que\n",
    "\n",
    "$$(*)\\quad\\begin{array}{*4l}\n",
    "0\\cdot 3 = 0 \\pmod7;\\ \\  &\n",
    "1\\cdot 3 = 3 \\pmod7; \\ \\ &\n",
    "2\\cdot 3 = 6 \\pmod7; \\ \\  &\n",
    "3\\cdot 3 = 2 \\pmod7; \\ \\ \\\\\n",
    "4\\cdot 3 = 5 \\pmod7; \\ \\ &\n",
    "5\\cdot 3 = 1 \\pmod7; \\ \\  &\n",
    "6\\cdot 3 = 4 \\pmod7\n",
    "\\end{array}\n",
    "$$\n",
    "\n",
    "pero no sucede si $m=6$, $k=3$, dado que\n",
    "\n",
    "$$\n",
    "0\\cdot 3 = 0 \\pmod6;\\ \\  1\\cdot 3 = 3 \\pmod6; \\ \\ 2\\cdot 3 = 0 \\pmod6; \\ \\ 3\\cdot 3 = 3 \\pmod6; \\ \\ 4\\cdot 3 = 0 \\pmod6; \\ \\ 5\\cdot 3 = 3 \\pmod6\n",
    "$$\n",
    "\n",
    "así que, por ejemplo, $1$ no está en la imagen de la homotecia $\\mathbb{Z}_6 \\to \\mathbb{Z}_6$ de factor $k=3$.\n",
    "\n",
    "## Ejercicio 3 ##\n",
    "\n",
    "Construye a partir de una lista el diccionario que representa la biyección de $\\mathbb Z_7$ en sí mismo dada por $x \\mapsto3\\cdot x$. Comprueba que el resultado es correcto mirando a (*). Calcula la inversa, que es también una homotecia. ¿Cuál es su factor? Da una explicación a tu respuesta."
   ]
  },
  {
   "cell_type": "code",
   "execution_count": 49,
   "metadata": {},
   "outputs": [
    {
     "name": "stdout",
     "output_type": "stream",
     "text": [
      "{0: 0, 1: 3, 2: 6, 3: 2, 4: 5, 5: 1, 6: 4} \n",
      "{0: 0, 1: 5, 2: 3, 3: 1, 4: 6, 5: 4, 6: 2}\n"
     ]
    }
   ],
   "source": [
    "p=dict([(x, (3*x)%7) for x in xrange(7)])\n",
    "pinv=dict([(x,(5*x)%7) for x in xrange(7)])\n",
    "print p, \"\\n\", pinv"
   ]
  },
  {
   "cell_type": "markdown",
   "metadata": {},
   "source": [
    "## Ejercicio 4 ##\n",
    "\n",
    "La idea es ahora repetir lo que hemos hecho en el ejercicio anterior en el caso $m=7$ pero para conjuntos con otros cardinales.\n",
    "\n",
    "Define una función de Sage, llamada $Hom(k,m)$, que devuelva el diccionario correspondiente a la homotecia $H:\\mathbb Z_m\\longrightarrow\\mathbb Z_m$ determinada por $T_k(x)= k \\cdot x \\pmod m$. Utilízala para mostrar todas las biyecciones de la forma $f(x)=k\\cdot x$ que existen en $\\mathbb Z_{42}$, y cuenta cuántas son. (Idea: una vez creado el diccionario que corresponde a $Hom(k,42)$ para cada $k$ posible, tendrás que comprobar en qué casos el diccionario describe una aplicación biyectiva: ¿observas algún patrón?).\n"
   ]
  },
  {
   "cell_type": "code",
   "execution_count": null,
   "metadata": {},
   "outputs": [],
   "source": []
  },
  {
   "cell_type": "markdown",
   "metadata": {},
   "source": [
    "## Ejercicio 5 ##\n",
    "\n",
    "\n",
    "Busca información sobre la función $\\texttt{euler}$_$\\texttt{phi}$ de Sage, y piensa qué relación tiene con el cálculo del número de homotecias en $\\mathbb Z_m$ que son biyecciones."
   ]
  },
  {
   "cell_type": "code",
   "execution_count": null,
   "metadata": {},
   "outputs": [],
   "source": []
  },
  {
   "cell_type": "markdown",
   "metadata": {},
   "source": [
    "_________\n",
    "\n",
    "## **Transformaciones afines** ##\n",
    "\n",
    "\n",
    "La composición de dos biyecciones es una nueva biyección. En los ejercicios anteriores hemos presentado dos familias de biyecciones de $\\mathbb{Z}_m$. Son familias diferentes, con la aplicación identidad en común, y en ambas ocurre que las inversas son de la misma familia. Las llamadas *transformaciones afines* son las que se construyen mezclando estas dos familias a base de componer dos transformaciones, una de cada familia. \n",
    "\n",
    "Por ejemplo, en $\\mathbb{Z}_{12}$ podemos hacer la operación siguiente:\n",
    "\n",
    "$$\n",
    "x \\to 5 \\cdot x \\to (5 \\cdot x) + 2 \\pmod{12} \\quad \n",
    "$$\n",
    "\n",
    "\n",
    "Es decir, primero aplicamos al elemento $x$ la homotecia $H$ descrita por Hom(5,12), y luego al resultado obtenido le aplicamos la traslación $T$ dada por \n",
    "Tras(2,12).\n",
    "\n"
   ]
  },
  {
   "cell_type": "markdown",
   "metadata": {},
   "source": [
    "## Ejercicio 6 ##\n",
    "\n",
    "a) Construye el diccionario que corresponde a la aplicación de $\\mathbb{Z}_{12}$ en $\\mathbb{Z}_{12}$ que acabamos de describir. Comprueba que es una biyección.\n",
    "\n",
    "b) Construye la biyección $x\\mapsto 5 \\cdot (x+2)= 5x+10$ dada por primero hacer la traslación con $k=2$ y luego la homotecia con $k=5$. ¿Coincide con la del apartado anterior? \n",
    "\n",
    "c) Comprueba que las dos aplicaciones de $\\mathbb{Z}_{12}$ en $\\mathbb{Z}_{12}$ definidas por $\\quad x\\mapsto 5 \\cdot (x+3)\\quad $ y $ \\quad x\\mapsto 5 \\cdot x+3 \\quad$ sí son la misma aplicación. "
   ]
  },
  {
   "cell_type": "code",
   "execution_count": null,
   "metadata": {},
   "outputs": [],
   "source": []
  },
  {
   "cell_type": "markdown",
   "metadata": {},
   "source": [
    "## Ejercicio 7 ##\n",
    "\n",
    "Muestra todas las biyecciones de $\\mathbb Z_{8}$ en sí mismo que están dadas como transformaciones afines (es decir, muestra las transformaciones afines biyectivas en $\\mathbb Z_{8}$). \n",
    "\n",
    "¿Son todas las biyecciones de $\\mathbb Z_{8}$ en sí mismo transformaciones afines? Si no es así, muestra una biyección que no sea una transformación afín."
   ]
  },
  {
   "cell_type": "code",
   "execution_count": null,
   "metadata": {},
   "outputs": [],
   "source": []
  },
  {
   "cell_type": "markdown",
   "metadata": {},
   "source": [
    "_______\n",
    "\n",
    "## **Permutaciones** ##\n",
    "\n",
    "El conjunto de todas las permutaciones de un conjunto finito de cardinal $m$ forma es el llamado *grupo simétrico* o *grupo de permutaciones* de $m$ elementos.\n",
    "\n",
    "El generador de Sage $\\texttt{Permutations}$ produce todas las permutaciones de una lista dada."
   ]
  },
  {
   "cell_type": "code",
   "execution_count": 51,
   "metadata": {},
   "outputs": [
    {
     "name": "stdout",
     "output_type": "stream",
     "text": [
      "['a', 'b', 'c']\n",
      "['a', 'c', 'b']\n",
      "['b', 'a', 'c']\n",
      "['b', 'c', 'a']\n",
      "['c', 'a', 'b']\n",
      "['c', 'b', 'a']\n"
     ]
    }
   ],
   "source": [
    "#Ejecuta y analiza\n",
    "\n",
    "A='abc'\n",
    "L=Permutations(A)\n",
    "for x in L:\n",
    "    print x"
   ]
  },
  {
   "cell_type": "code",
   "execution_count": 52,
   "metadata": {},
   "outputs": [
    {
     "name": "stdout",
     "output_type": "stream",
     "text": [
      "[['a', 'b', 'c'], ['a', 'c', 'b'], ['b', 'a', 'c'], ['b', 'c', 'a'], ['c', 'a', 'b'], ['c', 'b', 'a']]\n"
     ]
    }
   ],
   "source": [
    "#Ejecuta y analiza\n",
    "\n",
    "#Se puede recorrer L llamando a L[j]\n",
    "print [L[j] for j in xrange(factorial(3))]"
   ]
  },
  {
   "cell_type": "markdown",
   "metadata": {},
   "source": [
    "Podemos, construir así todas las biyecciones del conjunto $A=\\{a,b,c\\}$ anterior en sí mismo:"
   ]
  },
  {
   "cell_type": "code",
   "execution_count": 53,
   "metadata": {},
   "outputs": [
    {
     "data": {
      "text/plain": [
       "[{'a': 'a', 'b': 'b', 'c': 'c'},\n",
       " {'a': 'a', 'b': 'c', 'c': 'b'},\n",
       " {'a': 'b', 'b': 'a', 'c': 'c'},\n",
       " {'a': 'b', 'b': 'c', 'c': 'a'},\n",
       " {'a': 'c', 'b': 'a', 'c': 'b'},\n",
       " {'a': 'c', 'b': 'b', 'c': 'a'}]"
      ]
     },
     "execution_count": 53,
     "metadata": {},
     "output_type": "execute_result"
    }
   ],
   "source": [
    "#Ejecuta y analiza\n",
    "\n",
    "A=list('abc')\n",
    "L=Permutations(A)\n",
    "\n",
    "Lista=[]\n",
    "for permutacion in L:\n",
    "    Lista.append(dict([(A[j],permutacion[j]) for j in [0..len(A)-1]]))\n",
    "Lista"
   ]
  },
  {
   "cell_type": "markdown",
   "metadata": {},
   "source": [
    "## Ejercicio 8 ##\n",
    "\n",
    "Define una función de Sage que tome un conjunto $A$, tome una permutación al azar del grupo de permutaciones de la lista de los elementos de $A$ y devuelva como diccionario la correspondiente biyección de $A$ en sí mismo. SUGERENCIA: Usar el método $\\texttt{.random_element}()$.\n",
    "\n"
   ]
  },
  {
   "cell_type": "code",
   "execution_count": 76,
   "metadata": {},
   "outputs": [],
   "source": [
    "A=u'abcdefghijklmnñopqrstuvwxyz' #la u es para que sepa que es UNICODE\n",
    "L=Permutations(A)#enorme"
   ]
  },
  {
   "cell_type": "code",
   "execution_count": 77,
   "metadata": {},
   "outputs": [
    {
     "name": "stdout",
     "output_type": "stream",
     "text": [
      "[u'z', u'p', u'u', u'w', u'k', u'b', u'm', u'f', u'o', u'\\xf1', u'c', u'l', u'g', u'x', u'h', u'a', u'j', u'y', u's', u't', u'd', u'q', u'i', u'e', u'r', u'v', u'n']\n"
     ]
    }
   ],
   "source": [
    "g=L.random_element()\n",
    "print g"
   ]
  },
  {
   "cell_type": "code",
   "execution_count": 78,
   "metadata": {},
   "outputs": [
    {
     "data": {
      "text/plain": [
       "u'z'"
      ]
     },
     "execution_count": 78,
     "metadata": {},
     "output_type": "execute_result"
    }
   ],
   "source": [
    "diccionario=dict([(A[j],g[j]) for j in xrange(len(A))])\n",
    "diccionario['a']"
   ]
  },
  {
   "cell_type": "markdown",
   "metadata": {},
   "source": [
    "## Ejercicio 9 ##\n",
    "\n",
    "Define una función de Sage que dado un conjunto $A$, tome, al azar, una permutación  del grupo de permutaciones de $A$, encuentre su inversa y devuelva ambas (como diccionarios)."
   ]
  },
  {
   "cell_type": "code",
   "execution_count": 80,
   "metadata": {},
   "outputs": [],
   "source": [
    "def randDict(A):\n",
    "    \n",
    "    return d,dinv"
   ]
  },
  {
   "cell_type": "code",
   "execution_count": null,
   "metadata": {},
   "outputs": [],
   "source": []
  }
 ],
 "metadata": {
  "kernelspec": {
   "display_name": "SageMath 8.7",
   "language": "",
   "name": "sagemath"
  },
  "language_info": {
   "codemirror_mode": {
    "name": "ipython",
    "version": 2
   },
   "file_extension": ".py",
   "mimetype": "text/x-python",
   "name": "python",
   "nbconvert_exporter": "python",
   "pygments_lexer": "ipython2",
   "version": "2.7.15"
  }
 },
 "nbformat": 4,
 "nbformat_minor": 2
}
