{
 "cells": [
  {
   "cell_type": "markdown",
   "metadata": {},
   "source": [
    "## Instrucciones para esta prueba\n",
    "- Renombra esta hoja sustituyendo nombre y apellidos con tus datos.\n",
    "- Explicar en cada paso, con cuadros de texto, la estrategia seguida para resolverlo.\n",
    "- Subir a la tarea de moodle el resultado final."
   ]
  },
  {
   "cell_type": "markdown",
   "metadata": {},
   "source": [
    "Se ha tomado un **texto** en castellano, se han eliminado las tildes, y han quedado solo caracteres en el siguiente alfabeto"
   ]
  },
  {
   "cell_type": "code",
   "execution_count": null,
   "metadata": {},
   "outputs": [],
   "source": [
    "##Descomentar y ejecutar\n",
    "#codigos=[32, 33, 40, 41, 42, 44, 45, 46, 58, 59, 63]+[65..78]+[209]\n",
    "#codigos+=[79..90]+[97..110]+[241] +[111..122]+[161, 171, 187, 191, 10]\n",
    "#alfabeto=''.join([chr(j) for j in codigos])\n",
    "#alfabeto"
   ]
  },
  {
   "cell_type": "markdown",
   "metadata": {},
   "source": [
    "Se ha cifrado el **texto** con el método de Vigenère encriptando tan solo las letras del juego de caracteres"
   ]
  },
  {
   "cell_type": "code",
   "execution_count": null,
   "metadata": {},
   "outputs": [],
   "source": [
    "##Descomentar y ejecutar\n",
    "#A,z=alfabeto.index('A'),alfabeto.index('z')\n",
    "#abc=alfabeto[A:z+1]\n",
    "#abc"
   ]
  },
  {
   "cell_type": "markdown",
   "metadata": {},
   "source": [
    "Con el texto **encriptado**, y considerando el **alfabeto** completo, se han tomado bloques, de la mayor longitud ${\\tt b}$ posible para aplicar RSA con la clave ${\\tt (mA,eA,dA)}$ "
   ]
  },
  {
   "cell_type": "code",
   "execution_count": null,
   "metadata": {},
   "outputs": [],
   "source": [
    "##Descomentar y ejecutar\n",
    "#load('claveRSA.py')\n",
    "#mA,eA,dA=claveRSA"
   ]
  },
  {
   "cell_type": "markdown",
   "metadata": {},
   "source": [
    "El resultado es la lista ${\\tt LbloquesRSA}$ que se carga al ejecutar la siguiente celda"
   ]
  },
  {
   "cell_type": "code",
   "execution_count": null,
   "metadata": {},
   "outputs": [],
   "source": [
    "##Descomentar y ejecutar\n",
    "#load('bloquesRSA.py')\n",
    "#len(LbloquesRSA)"
   ]
  },
  {
   "cell_type": "markdown",
   "metadata": {},
   "source": [
    "Se pide revertir el procedimiento para recuperar el **texto** original."
   ]
  },
  {
   "cell_type": "code",
   "execution_count": null,
   "metadata": {},
   "outputs": [],
   "source": []
  },
  {
   "cell_type": "markdown",
   "metadata": {},
   "source": [
    "### Posibles atajos\n",
    "Con los datos disponibles se puede llegar al texto original, pero se permite acudir a diferentes ayudas en las celdas que siguen, con la **penalización** sobre la calificación que se indica. Cada ayuda precisa de un fichero que se encuentra en una sección de la plataforma moodle. **IMPORTANTE: El mero hecho de pinchar en la tarea con la ayuda, se considerará como ayuda utilizada, incluidas las anteriores.**"
   ]
  },
  {
   "cell_type": "markdown",
   "metadata": {},
   "source": [
    "- Ayuda 1, **penalización 0,5 puntos**: se da la longitud de los bloques para aplicar RSA. Descargar el fichero ${\\tt lbloques.py}$"
   ]
  },
  {
   "cell_type": "code",
   "execution_count": null,
   "metadata": {},
   "outputs": [],
   "source": [
    "##Descomentar y ejecutar\n",
    "#load('lbloques.py')\n",
    "#print(mensaje)"
   ]
  },
  {
   "cell_type": "markdown",
   "metadata": {},
   "source": [
    "- Ayuda 2, **penalización 0,5 puntos**: no se sabe qué hacer para deshacer RSA y recuperar el resultado de hacer bloques desde el texto encriptado. Descargar el fichero ${\\tt bloques.py}$ que contiene la lista de bloques ${\\tt Lbloques}$"
   ]
  },
  {
   "cell_type": "code",
   "execution_count": null,
   "metadata": {},
   "outputs": [],
   "source": [
    "##Descomentar y ejecutar\n",
    "#load('bloques.py')\n",
    "#len(Lbloques)"
   ]
  },
  {
   "cell_type": "markdown",
   "metadata": {},
   "source": [
    "- Ayuda 3, **penalización 1 punto**: no se sabe cómo recuperar el texto encriptado a partir de los datos que nos aporta la lista de bloques. Descargar el fichero ${\\tt cifrado.py}$ que contiene la cadena ${\\tt encriptado}$, resultado de hacer Vigenère sobre el texto original."
   ]
  },
  {
   "cell_type": "code",
   "execution_count": null,
   "metadata": {},
   "outputs": [],
   "source": [
    "##Descomentar y ejecutar\n",
    "#load('cifrado.py')\n",
    "#len(encriptado)"
   ]
  },
  {
   "cell_type": "markdown",
   "metadata": {},
   "source": [
    "- Ayuda 4, **penalización 1 punto**: no se sabe analizar la cadena **encriptado** para averiguar la longitud de la clave que se utilizó para aplicar el método de Vigenère. Descargar el fichero ${\\tt lVclave.py}$ que contiene la longitud de la clave ${\\tt lc}$"
   ]
  },
  {
   "cell_type": "code",
   "execution_count": null,
   "metadata": {},
   "outputs": [],
   "source": [
    "##Descomentar y ejecutar\n",
    "#load('lVclave.py')\n",
    "#print('La longitud de la clave es %d'%lc)"
   ]
  },
  {
   "cell_type": "markdown",
   "metadata": {},
   "source": [
    "- Ayuda 5, **penalización 2 puntos**: se da la clave de Vigenère. Descargar el fichero ${\\tt Vclave.py}$ que contiene la cadena clave ${\\tt Vclave}$"
   ]
  },
  {
   "cell_type": "code",
   "execution_count": null,
   "metadata": {},
   "outputs": [],
   "source": [
    "##Descomentar y ejecutar\n",
    "#load('Vclave.py')\n",
    "#print(Vclave)"
   ]
  },
  {
   "cell_type": "code",
   "execution_count": null,
   "metadata": {},
   "outputs": [],
   "source": []
  }
 ],
 "metadata": {
  "kernelspec": {
   "display_name": "SageMath 9.0",
   "language": "sage",
   "name": "sagemath"
  },
  "language_info": {
   "codemirror_mode": {
    "name": "ipython",
    "version": 3
   },
   "file_extension": ".py",
   "mimetype": "text/x-python",
   "name": "python",
   "nbconvert_exporter": "python",
   "pygments_lexer": "ipython3",
   "version": "3.8.5"
  }
 },
 "nbformat": 4,
 "nbformat_minor": 4
}
