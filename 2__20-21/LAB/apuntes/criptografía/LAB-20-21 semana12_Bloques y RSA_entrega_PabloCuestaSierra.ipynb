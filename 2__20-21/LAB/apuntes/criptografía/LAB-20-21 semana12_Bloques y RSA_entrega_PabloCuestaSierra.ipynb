{
 "cells": [
  {
   "cell_type": "markdown",
   "metadata": {},
   "source": [
    "PABLO CUESTA SIERRA."
   ]
  },
  {
   "cell_type": "markdown",
   "metadata": {},
   "source": [
    "<h3>Codificación por bloques</h3>\n",
    "<p>Con el ánimo de entorpecer el éxito del análisis de frecuencias para desencriptar un texto, se ha ideado el siguiente método:</p>\n",
    "<ul>\n",
    "<li>Fijado un alfabeto con $L$ caracteres, se asigna a cada uno de sus caracteres un único número, entre $0$ y $L-1$; por ejemplo, y si alfabeto es una cadena, podemos tomar el índice.</li>\n",
    "<li>Se fija un entero positivo, $b$, en adelante, la <span style=\"font-family: 'courier new', courier; font-size: medium;\">clave</span>.</li>\n",
    "<li>Se corta el texto a encriptar, en bloques de tamaño $b$. ${}^{\\scriptsize(*)}$</li>\n",
    "<li>Con los $b$ números, $[n_0,n_1,...,n_{b-1}]$,&nbsp;asignados a los caracteres de cada bloque, se considera el único número en base $L$ que los tiene como cifras. Se convierte dicho número a base $10$: $\\qquad\\sum\\limits_jn_jL^{b-1-j}$</li>\n",
    "<li>La lista de números (en base 10) así encontrados, se considera el cifrado del texto, o '<em>texto</em>' encriptado.</li>\n",
    "</ul>\n",
    "<p><span style=\"font-size: xx-small;\">(*) se añaden espacios en blanco, o cualquier otro caracter, si hicieran falta para completar el último bloque.</span></p>"
   ]
  },
  {
   "cell_type": "markdown",
   "metadata": {},
   "source": [
    "<p>Por ejemplo, consideremos el alfabeto&nbsp;' ABCDEFGHIJKLMNOPQRSTUVWXYZabcdefghijklmnopqrstuvwxyz!$\\$ \\%\\&$'()*+,-./012\\ 3456789:;?@' de longitud $L=83$.</p>\n",
    "<p>Tomemos clave $b=4$ y la frase: '<em>La vida es una historia contada por un idiota, una historia llena de estruendo y furia, que nada significa.</em>' (Shakespeare; en Macbeth, 5.&ordm; acto, escena V). La troceamos en bloques de longitud $b$ obteniendo la lista:</p>\n",
    "[[12, 27, 0, 48], [35, 30, 27, 0], [31, 45, 0, 47], [40, 27, 0, 34], [35, 45, 46, 41], [44, 35, 27, 0], [29, 41, 40, 46], <br />[27, 30, 27, 0], [42, 41, 44, 0], [47, 40, 0, 35], [30, 35, 41, 46], [27, 62, 0, 47],[40, 27, 0, 34], [35, 45, 46, 41],<br />&nbsp;[44, 35, 27, 0], [38, 38, 31, 40],[27, 0, 30, 31], [0, 31, 45, 46], [44, 47, 31, 40], [30, 41, 0, 51], [0,32, 47, 44],<br />&nbsp;[35, 27, 62, 0], [43, 47, 31, 0], [40, 27, 30, 27], [0, 45, 35, 33], [40, 35, 32, 35], [29, 27, 64, 0]]<br /><br />\n",
    "<p>Al pasar cada sublista de $b$ números (cifras en base $L$) a base $10$, se obtiene la lista final (el texto encriptado):</p>\n",
    "<p>[7047495, 20221456, 18035449, 23057517, 20326409, 25401984, 16867638, 15647160, 24301155, 27149584, 17398174, 15865414, 23057517, 20326409, 25401984, 21992301, 15440770, 217340, 25485024, 17436110, 224393, 20203694, 24913197, 23060000, 312943, 23115286, 16773138]</p>"
   ]
  },
  {
   "cell_type": "markdown",
   "metadata": {},
   "source": [
    "<p><strong>Ejercicio 1.-</strong> Implementar una función de Sage, Bloques(mensaje,b), que reciba una cadena de caracteres, mensaje y un entero positivo, b, y devuelva una lista de sublistas de números de longitud b, resultado de trocear y codificar el mensaje en bloques como en el ejemplo anterior.</p>\n",
    "<p>Construir, en la implementación de la función,&nbsp; el siguiente alfabeto:</p>\n",
    "<p style=\"margin-left: 30px;\">alfabeto=''.join([chr(c) for c in [65..90]])</p>\n",
    "<p style=\"margin-left: 30px;\">simbolos=''.join([chr(c) for c in [33]+[36..64]])</p>\n",
    "<p style=\"margin-left: 30px;\">alfabeto=' '+alfabeto+alfabeto.lower()+simbolos</p>"
   ]
  },
  {
   "cell_type": "code",
   "execution_count": 14,
   "metadata": {},
   "outputs": [
    {
     "data": {
      "text/plain": [
       "\" ABCDEFGHIJKLMNOPQRSTUVWXYZabcdefghijklmnopqrstuvwxyz!$%&'()*+,-./0123456789:;<=>?@\""
      ]
     },
     "execution_count": 14,
     "metadata": {},
     "output_type": "execute_result"
    }
   ],
   "source": [
    "alfabeto=''.join([chr(c) for c in [65..90]])\n",
    "simbolos=''.join([chr(c) for c in [33]+[36..64]])\n",
    "alfabeto=' '+alfabeto+alfabeto.lower()+simbolos\n",
    "alfabeto"
   ]
  },
  {
   "cell_type": "code",
   "execution_count": 36,
   "metadata": {},
   "outputs": [],
   "source": [
    "def Bloques(mensaje, b):\n",
    "    alfabeto=''.join([chr(c) for c in [65..90]])\n",
    "    simbolos=''.join([chr(c) for c in [33]+[36..64]])\n",
    "    alfabeto=' '+alfabeto+alfabeto.lower()+simbolos\n",
    "    L=len(alfabeto)\n",
    "    mensaje+='x'*(b-len(mensaje)%b) #completamos el mensaje\n",
    "    nums=[]\n",
    "    for k in range(len(mensaje)//b):\n",
    "        nums.append([alfabeto.index(letra) for letra in mensaje[k*b:(k+1)*b]])\n",
    "    final=[]\n",
    "    for bloque in nums:\n",
    "        num=0\n",
    "        for j in bloque:\n",
    "            num=num*L+j\n",
    "        final.append(num)\n",
    "    return final"
   ]
  },
  {
   "cell_type": "code",
   "execution_count": 40,
   "metadata": {},
   "outputs": [
    {
     "name": "stdout",
     "output_type": "stream",
     "text": [
      "[35750677854247488974370660616464903286, 128859701871883255373547697163312220721, 88257811927785616707241316519526376618, 111562992583967382037894443095308811705, 1138307524916218470352378344959350387, 117259693829810321742422312000066681034]\n"
     ]
    }
   ],
   "source": [
    "listaprueba=Bloques('La vida es una historia contada por un idiota, una \\\n",
    "historia llena de estruendo y furia, que nada significa.', 20)\n",
    "print listaprueba"
   ]
  },
  {
   "cell_type": "markdown",
   "metadata": {},
   "source": [
    "<p>Para desencriptar, solo hemos de seguir los pasos a la inversa. De la evaluación anterior tenemos un juego de caracteres guardado en la cadena de nombre <span style=\"font-family: comic sans ms,sans-serif;\">alfabeto</span>, la <span style=\"font-family: comic sans ms,sans-serif;\">clave</span>, b, longitud de los bloques y la lista final de números (enteros de sage), con nombre <span style=\"font-family: comic sans ms,sans-serif;\">numeros</span>.</p>"
   ]
  },
  {
   "cell_type": "markdown",
   "metadata": {},
   "source": [
    "<p><strong>Ejercicio 2.-</strong> Implementar, DesBloques(lista,b), la función inversa de la anterior, recibe una lista de números, entre 0 y $L^b-1$, con $L$ la longitud del alfabeto que estamos considerando (constrúyase dentro como antes); y debería devolver el mensaje tal que Bloques(mensaje,b)=lista.</p>"
   ]
  },
  {
   "cell_type": "code",
   "execution_count": 41,
   "metadata": {},
   "outputs": [],
   "source": [
    "def DesBloques(lista, b):\n",
    "    alfabeto=''.join([chr(c) for c in [65..90]])\n",
    "    simbolos=''.join([chr(c) for c in [33]+[36..64]])\n",
    "    alfabeto=' '+alfabeto+alfabeto.lower()+simbolos\n",
    "    L=len(alfabeto)\n",
    "    bloques=[]\n",
    "    for num in lista:\n",
    "        digitos=num.digits(L, padto=b)##para que de b dígitos\n",
    "        digitos.reverse()\n",
    "        bloques.append(digitos)\n",
    "    texto=''\n",
    "    for bloque in bloques:\n",
    "        texto+=''.join(alfabeto[j] for j in bloque)\n",
    "    return texto"
   ]
  },
  {
   "cell_type": "code",
   "execution_count": 42,
   "metadata": {},
   "outputs": [
    {
     "data": {
      "text/plain": [
       "'La vida es una historia contada por un idiota, una historia llena de estruendo y furia, que nada significa.xxxxxxxxxxxxx'"
      ]
     },
     "execution_count": 42,
     "metadata": {},
     "output_type": "execute_result"
    }
   ],
   "source": [
    "DesBloques(listaprueba, 20)"
   ]
  },
  {
   "cell_type": "markdown",
   "metadata": {},
   "source": [
    "<h3>Criptografía de clave pública y firmas digitales: RSA</h3>\n",
    "<p>En los sistemas que llevamos vistos, conocida la clave para encriptar es relativamente sencillo averiguar la clave para desencriptar.</p>\n",
    "<p>En los sistemas de clave pública, cada usuario tiene una clave para encriptar que todos los demás conocen, clave pública, y una clave privada, \"<em>inversa</em>\" de la anterior, para desencriptar. Por supuesto, y dado que la clave para encriptar de un usuario es conocida, tiene que ser <em>imposible en la práctica</em> averiguar su clave privada. El <a href=\"http://es.wikipedia.org/wiki/RSA\" target=\"_blank\">algoritmo RSA</a> (por sus creadores <span class=\"st\">Rivest, Shamir y Adleman</span>, 1978) es un ejemplo y se basa en el siguiente</p>\n",
    "<p style=\"margin-left: 30px;\"><strong>Teorema de Euler-Fermat.-</strong> Si $a$ y $m$ son dos enteros positivos coprimos, y $\\phi(m)$ denota la función de Euler de $m$, entonces $a^{1+\\phi(m)}\\equiv a\\pmod m$.</p>\n",
    "<p>En particular, se considera un entero $m$ producto de dos primos, $p$ y $q$, lo suficientemente grandes para que, conocido su producto $m=p\\cdot q$, pero no ellos, sea difícil averiguarlos, equivalentemente, <em>factorizar $m$</em> (ver, por ejemplo, <a href=\"http://es.wikipedia.org/wiki/Factorizaci%C3%B3n_de_enteros\" target=\"_blank\">este artículo de la wikipedia</a> sobre el problema computacional de la factorización, o este otro sobre el <a href=\"http://es.wikipedia.org/wiki/Problema_RSA\" target=\"_blank\">problema RSA</a>).</p>\n",
    "<p>En el siguiente cuadro se muestra un ejemplo con la generación aleatoria de dos primos, y la factorización de su producto. Aparece comentado pues su evaluación lleva varios minutos; descomentar si se quiere evaluar.</p>"
   ]
  },
  {
   "cell_type": "code",
   "execution_count": 43,
   "metadata": {
    "collapsed": false,
    "jupyter": {
     "outputs_hidden": false
    }
   },
   "outputs": [
    {
     "name": "stdout",
     "output_type": "stream",
     "text": [
      "Un primo de 30 cifras: 426722723927905830978574520231\n",
      "otro primo, de 40 cifras: 1412911105437603326532567947832458957861\n",
      "su producto: 602921275580322651481771177931206848517160018084502990687826320985891\n",
      "0.0160009860992\n"
     ]
    }
   ],
   "source": [
    "t0=walltime()\n",
    "c1,c2=30,40\n",
    "#Un primo, aleatorio, de c1 cifras decimales\n",
    "p=random_prime(10**(c1),proof=True,lbound=10**(c1-1))\n",
    "print('Un primo de %d cifras: %d'%(c1,p))\n",
    "#otro de c2 cifras\n",
    "q=random_prime(10**(c2),proof=True,lbound=10**(c2-1))\n",
    "print('otro primo, de %d cifras: %d'%(c2,q))\n",
    "m=p*q\n",
    "print('su producto: %d'%m)\n",
    "#print('Su factorizacion: %s.'%(factor(m)))\n",
    "print(walltime(t0))"
   ]
  },
  {
   "cell_type": "markdown",
   "metadata": {},
   "source": [
    "<p>Aprovechando esta dificultad, el criptosistema RSA sigue el siguiente esquema:</p>\n",
    "<ul style=\"list-style-type: circle;\">\n",
    "<li>Cada usuario, $A$, toma dos primos, $p_A, q_A$ y considera su producto $m_A=p_A\\cdot q_A$.</li>\n",
    "<li>Calcula un par de números $(e_A,d_A)$, para <strong>e</strong>ncriptar y <strong>d</strong>esencriptar mensajes. El par es tal que $e_A\\cdot d_A\\equiv 1\\pmod{\\phi(m_A)}$.</li>\n",
    "<li>El usuario publica $(m_A,e_A)$, se dice su clave pública, y mantiene en <em>secreto</em> su clave privada, $d_A$.</li>\n",
    "<li>Si otro usuario quiere comunicarse con $A$, encripta${}^{*}$ su mensaje utilizando $m_A$ y $e_A$, que son públicos.</li>\n",
    "<li>El mensaje así encriptado, solo puede ser desencriptado${}^{*}$ por $A$, con su clave $d_A$.</li>\n",
    "</ul>\n",
    "<p>(*) Encriptar y desencriptar consiste en calcular $x^{e_A}\\pmod{m_A}$ (o $x^{d_A}\\pmod{m_A}$) con $x$ un número que represente (codifique) el mensaje a encriptar (o el encriptado).</p>\n",
    "<p>Recuérdese que, en el caso que nos ocupa, $\\phi(m)=(p-1)(q-1)$, si $m=p\\cdot q$ con $p$ y $q$ primos.</p>\n",
    "<p>Para primos relativamente pequeños, podemos calcular todos los pares de claves.</p>\n",
    "<p><strong>Ejercicio 3.-</strong> Listar todos los pares $(e_A,d_A)$, con $e_A<d_A$, que sirvan para un criptosistema RSA con módulo $m=17\\cdot 19$.</p>\n",
    "<p>Sugerencia: serán útiles la función euler_phi() y el método .inverse_mod()</p>"
   ]
  },
  {
   "cell_type": "code",
   "execution_count": 44,
   "metadata": {},
   "outputs": [],
   "source": [
    "def DarPares(p,q):\n",
    "    phi_m=(p-1)*(q-1)\n",
    "    pares=[]\n",
    "    for j in srange(phi_m):\n",
    "        if gcd(j,phi_m)==1:\n",
    "            if j<j.inverse_mod(phi_m):\n",
    "                pares+=[(j, j.inverse_mod(phi_m))]\n",
    "    return pares"
   ]
  },
  {
   "cell_type": "code",
   "execution_count": 45,
   "metadata": {},
   "outputs": [
    {
     "name": "stdout",
     "output_type": "stream",
     "text": [
      "[(5, 173), (7, 247), (11, 131), (13, 133), (19, 91), (23, 263), (25, 265), (29, 149), (31, 223), (35, 107), (37, 109), (41, 281), (43, 67), (47, 239), (49, 241), (53, 125), (55, 199), (59, 83), (61, 85), (65, 257), (71, 215), (73, 217), (77, 101), (79, 175), (89, 233), (95, 191), (97, 193), (103, 151), (113, 209), (115, 283), (119, 167), (121, 169), (137, 185), (139, 259), (155, 275), (157, 277), (163, 235), (179, 251), (181, 253), (187, 211), (197, 269), (203, 227), (205, 229), (221, 245)]\n"
     ]
    }
   ],
   "source": [
    "print DarPares(17,19)"
   ]
  },
  {
   "cell_type": "code",
   "execution_count": 46,
   "metadata": {},
   "outputs": [
    {
     "data": {
      "text/plain": [
       "12"
      ]
     },
     "execution_count": 46,
     "metadata": {},
     "output_type": "execute_result"
    }
   ],
   "source": [
    "euler_phi(13)"
   ]
  },
  {
   "cell_type": "markdown",
   "metadata": {},
   "source": [
    "<p>Con primos grandes, sirve de poco calcular todas las claves, habrá suficientes, y se agotaría al intérprete. En particular, el problema del cálculo de la función de Euler para $m$ equivale al de la factorización de $m$.</p>\n",
    "<p>Mejor buscamos al azar entre los candidatos, cada vez que necesitemos <strong>una</strong> nueva.</p>\n",
    "<p><strong>Ejercicio 4.-</strong> Encontrar dos primos, $p$ y $q$, de $50$ y $60$ cifras respectivamente. Calcular, con $m=p\\cdot q$, dos juegos de claves $(e_1,d_1)$ y $(e_2,d_2)$ para un sistema RSA con módulo $m$.</p>\n",
    "<p><em>Sugerencias:</em> obsérvese que, en este caso, $\\phi(m)=(p-1)\\cdot(q-1)$.</p>"
   ]
  },
  {
   "cell_type": "code",
   "execution_count": 47,
   "metadata": {},
   "outputs": [
    {
     "name": "stdout",
     "output_type": "stream",
     "text": [
      "Un primo de 50 cifras: 77257450746063459706567657691632201202499181399229\n",
      "otro primo, de 60 cifras: 191086452978248765226517817192673712413570183472829079397517\n",
      "su producto: 14762852229207025279058071980690377025569414399090531906020269331684330689951587160602271753572246472368314393\n"
     ]
    }
   ],
   "source": [
    "c1,c2=50,60\n",
    "#Un primo, aleatorio, de c1 cifras decimales\n",
    "p=random_prime(10**(c1),proof=True,lbound=10**(c1-1))\n",
    "print('Un primo de %d cifras: %d'%(c1,p))\n",
    "#otro de c2 cifras\n",
    "q=random_prime(10**(c2),proof=True,lbound=10**(c2-1))\n",
    "print('otro primo, de %d cifras: %d'%(c2,q))\n",
    "m=p*q\n",
    "print('su producto: %d'%m)"
   ]
  },
  {
   "cell_type": "code",
   "execution_count": 48,
   "metadata": {},
   "outputs": [],
   "source": [
    "def DarDosPares(p, q):\n",
    "    phi_m=(p-1)*(q-1)\n",
    "    j=(phi_m//2-randint(0,phi_m//2))\n",
    "    count=0\n",
    "    pares=[]\n",
    "    while j<(phi_m) and count<2:\n",
    "        if gcd(j,phi_m)==1 :\n",
    "            pares+=[(j, j.inverse_mod(phi_m))]\n",
    "            count+=1\n",
    "        j+=1\n",
    "    return pares[0][0],pares[0][1],pares[1][0],pares[1][1]"
   ]
  },
  {
   "cell_type": "code",
   "execution_count": 49,
   "metadata": {},
   "outputs": [
    {
     "name": "stdout",
     "output_type": "stream",
     "text": [
      "(2601243460690061102254973114488557153879270068235082390254693037264195549874305997406349752422007099030917065, 3004032009333345779962048080434752942104847750457297808167116570795210739800373985910601400925838366846694089) (2601243460690061102254973114488557153879270068235082390254693037264195549874305997406349752422007099030917067, 14602157069632405354976929634366192509397479860357852148369263100745389035512072459738693730440275427558425475)\n"
     ]
    }
   ],
   "source": [
    "e1,d1,e2,d2=DarDosPares(p,q)\n",
    "print (e1,d1),(e2,d2)"
   ]
  },
  {
   "cell_type": "code",
   "execution_count": 50,
   "metadata": {},
   "outputs": [
    {
     "name": "stdout",
     "output_type": "stream",
     "text": [
      "1 1\n",
      "False\n"
     ]
    }
   ],
   "source": [
    "print (e1*d1)%((q-1)*(p-1)),(e2*d2)%((q-1)*(p-1))\n",
    "print e1==d1"
   ]
  },
  {
   "cell_type": "markdown",
   "metadata": {},
   "source": [
    "<p><strong>Ejercicio 5.-</strong> Implementar una función de sage, potenciaRSA(x,mA,eA), que espere un número, $x$, un módulo, $m_A$, y un exponente, $e_A$, y devuelva $x^{e_A}\\pmod{m_A}$. Sugerencia: utilizar la función power_mod() de sage.</p>"
   ]
  },
  {
   "cell_type": "code",
   "execution_count": 51,
   "metadata": {},
   "outputs": [],
   "source": [
    "def potenciaRSA(x, mA, eA):\n",
    "    return power_mod(x, eA, m)"
   ]
  },
  {
   "cell_type": "markdown",
   "metadata": {},
   "source": [
    "<p>La función anterior sirve para encriptar y desencriptar, de manera que, si $(e_A,d_A)$ verifican $e_A\\cdot d_A\\equiv 1\\pmod{\\phi(m_A)}$, se tiene</p>\n",
    "<p>$$\\mbox{potenciaRSA}\\big(\\mbox{potenciaRSA}(x,m_A,e_A),m_A,d_A\\big)=x\\quad\\forall x\\,.$$</p>\n",
    "<p>Comprobadlo.</p>"
   ]
  },
  {
   "cell_type": "code",
   "execution_count": 52,
   "metadata": {},
   "outputs": [
    {
     "data": {
      "text/plain": [
       "True"
      ]
     },
     "execution_count": 52,
     "metadata": {},
     "output_type": "execute_result"
    }
   ],
   "source": [
    "all([(x==potenciaRSA(potenciaRSA(x,m,e2),m,d2)) for x in xrange(10**3)])"
   ]
  },
  {
   "cell_type": "markdown",
   "metadata": {},
   "source": [
    "<p>El criptosistema RSA completo, añade al cálculo de las potencias modulares anteriores, la codificación de un texto en bloques del principio de esta hoja. Obsérvese que interesa que los bloques no sean cortos, pues se pretende anular el éxito de un análisis de frecuencias.</p>\n",
    "<p>Puesto que los números a los que se aplica el teorema de Euler-Fermat deben ser coprimos con el módulo $m$ utilizado, podrían existir, en principio, ciertas restricciones. Aunque, en este caso especial $m=p\\cdot q$ con $p$ y $q$ dos primos distintos, se tiene que, si $e\\cdot d\\equiv1\\pmod{\\phi(m)}$, entonces para cualquier $x$ (sea o no coprimo con $m$) se tiene</p>\n",
    "<p>$$ x^{e\\cdot d}\\equiv x\\pmod m\\,.$$</p>\n",
    "<p>Así, utilizando un alfabeto de tamaño $L$, un tamaño, $b$,&nbsp; para los bloques, debe cumplir que en el rango $[0,L^b)$ no aparezcan repetidos si los miramos módulo $m$. Basta, por ejemplo, tomar $b$ tal que $L^b<m$, de otra manera: $b<\\log m/\\log L$.</p>\n",
    "<p>En la práctica, si tenemos que encriptar con clave pública $(n_A,e_A)$ y queremos tomar el menor número de bloques (los de mayor longitud posible), tomaremos $b=\\mathrm{floor}(\\log n_A/\\log L)$ (la función floor() de sage devuelve la parte entera).</p>"
   ]
  },
  {
   "cell_type": "markdown",
   "metadata": {},
   "source": [
    "<p><strong>Ejercicio 6.-</strong> a) Implementar una función de sage, encriptaRSA(texto,nA,eA), que espere un texto y una clave pública RSA. A partir del módulo $n_A$ y la longitud $L$ de, por ejemplo, el alfabeto de los ejercicios anteriores, encripte el texto por bloques. Y, a partir de la lista resultante, devuelva la correspondiente lista de números codificada con la clave pública, (nA,claveA), mediante potenciaRSA().</p>\n",
    "<p>b) Implementar la función inversa, desencriptaRSA(lista,nA,dA), es decir, la función tal que aplicada a la lista que devuelve encriptaRSA(texto,nA,eA), devuelva texto.</p>"
   ]
  },
  {
   "cell_type": "code",
   "execution_count": 53,
   "metadata": {},
   "outputs": [],
   "source": [
    "def encriptaRSA(texto,nA,eA):\n",
    "    alfabeto=''.join([chr(c) for c in [65..90]])\n",
    "    simbolos=''.join([chr(c) for c in [33]+[36..64]])\n",
    "    alfabeto=' '+alfabeto+alfabeto.lower()+simbolos\n",
    "    L=len(alfabeto)\n",
    "    b=floor(log(nA)/log(L))\n",
    "    bloques=Bloques(texto,b)\n",
    "    encriptado=[potenciaRSA(x,nA,eA) for x in bloques]\n",
    "    return encriptado"
   ]
  },
  {
   "cell_type": "code",
   "execution_count": 54,
   "metadata": {},
   "outputs": [],
   "source": [
    "def desencriptaRSA(lista,nA,dA):\n",
    "    alfabeto=''.join([chr(c) for c in [65..90]])\n",
    "    simbolos=''.join([chr(c) for c in [33]+[36..64]])\n",
    "    alfabeto=' '+alfabeto+alfabeto.lower()+simbolos\n",
    "    L=len(alfabeto)\n",
    "    b=floor(log(nA)/log(L))\n",
    "    desencriptado=[potenciaRSA(x,nA,dA) for x in lista]\n",
    "    texto=DesBloques(desencriptado,b)\n",
    "    return texto"
   ]
  },
  {
   "cell_type": "code",
   "execution_count": 68,
   "metadata": {},
   "outputs": [
    {
     "name": "stdout",
     "output_type": "stream",
     "text": [
      "[10772097188344909451995843643198890263533527464644823185421508277434345790663835366417673741368810618340114312]\n",
      "hola buenos dias.xxxxxxxxxxxxxxxxxxxxxxxxxxxxxxxxxxxxxxx\n"
     ]
    }
   ],
   "source": [
    "mensaje=u'hola buenos dias.'\n",
    "encriptado=encriptaRSA(mensaje,m,e1)\n",
    "print encriptado\n",
    "texto_desencriptado=desencriptaRSA(encriptado,m,d1)\n",
    "print texto_desencriptado"
   ]
  },
  {
   "cell_type": "markdown",
   "metadata": {},
   "source": [
    "<p><strong>Firma digital.-</strong> Con este sistema, y puesto que las claves para encriptar son públicas, cualquiera puede hacerse pasar por otro al enviar mensajes. Pero este problema es fácil de resolver: si B quiere enviar un mensaje a A puede firmar el mensaje sin más que utilizar su clave privada, $(m_B,d_B)$, para añadir, por ejemplo, su nombre. Cuando A recibe el mensaje junto con la firma, desencripta el mensaje con su clave privada, $(m_A,d_A)$, y la firma de B con la clave pública de este, $(m_B,e_B)$.</p>\n"
   ]
  },
  {
   "cell_type": "code",
   "execution_count": null,
   "metadata": {},
   "outputs": [],
   "source": []
  },
  {
   "cell_type": "code",
   "execution_count": null,
   "metadata": {},
   "outputs": [],
   "source": []
  },
  {
   "cell_type": "code",
   "execution_count": null,
   "metadata": {},
   "outputs": [],
   "source": []
  },
  {
   "cell_type": "code",
   "execution_count": null,
   "metadata": {},
   "outputs": [],
   "source": []
  }
 ],
 "metadata": {
  "kernelspec": {
   "display_name": "SageMath 8.7",
   "language": "",
   "name": "sagemath"
  },
  "language_info": {
   "codemirror_mode": {
    "name": "ipython",
    "version": 2
   },
   "file_extension": ".py",
   "mimetype": "text/x-python",
   "name": "python",
   "nbconvert_exporter": "python",
   "pygments_lexer": "ipython2",
   "version": "2.7.15"
  }
 },
 "nbformat": 4,
 "nbformat_minor": 4
}
