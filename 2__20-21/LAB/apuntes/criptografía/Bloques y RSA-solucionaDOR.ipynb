{
 "cells": [
  {
   "cell_type": "markdown",
   "metadata": {},
   "source": [
    "<h3>Codificación por bloques</h3>\n",
    "<p>Con el ánimo de entorpecer el éxito del análisis de frecuencias para desencriptar un texto, se ha ideado el siguiente método:</p>\n",
    "<ul>\n",
    "<li>Fijado un alfabeto con $L$ caracteres, se asigna a cada uno de sus caracteres un único número, entre $0$ y $L-1$; por ejemplo, y si alfabeto es una cadena, podemos tomar el índice.</li>\n",
    "<li>Se fija un entero positivo, $b$, en adelante, la <span style=\"font-family: 'courier new', courier; font-size: medium;\">clave</span>.</li>\n",
    "<li>Se corta el texto a encriptar, en bloques de tamaño $b$. ${}^{\\scriptsize(*)}$</li>\n",
    "<li>Con los $b$ números, $[n_0,n_1,...,n_{b-1}]$,&nbsp;asignados a los caracteres de cada bloque, se considera el único número en base $L$ que los tiene como cifras. Se convierte dicho número a base $10$: $\\qquad\\sum\\limits_jn_jL^{b-1-j}$</li>\n",
    "<li>La lista de números (en base 10) así encontrados, se considera el cifrado del texto, o '<em>texto</em>' encriptado.</li>\n",
    "</ul>\n",
    "<p><span style=\"font-size: xx-small;\">(*) se añaden espacios en blanco, o cualquier otro caracter, si hicieran falta para completar el último bloque.</span></p>"
   ]
  },
  {
   "cell_type": "markdown",
   "metadata": {},
   "source": [
    "<p>Por ejemplo, consideremos el alfabeto&nbsp;' ABCDEFGHIJKLMNOPQRSTUVWXYZabcdefghijklmnopqrstuvwxyz!$\\$ \\%\\&$'()*+,-./012\\ 3456789:;?@' de longitud $L=83$.</p>\n",
    "<p>Tomemos clave $b=4$ y la frase: '<em>La vida es una historia contada por un idiota, una historia llena de estruendo y furia, que nada significa.</em>' (Shakespeare; en Macbeth, 5.&ordm; acto, escena V). La troceamos en bloques de longitud $b$ obteniendo la lista:</p>\n",
    "[[12, 27, 0, 48], [35, 30, 27, 0], [31, 45, 0, 47], [40, 27, 0, 34], [35, 45, 46, 41], [44, 35, 27, 0], [29, 41, 40, 46], <br />[27, 30, 27, 0], [42, 41, 44, 0], [47, 40, 0, 35], [30, 35, 41, 46], [27, 62, 0, 47],[40, 27, 0, 34], [35, 45, 46, 41],<br />&nbsp;[44, 35, 27, 0], [38, 38, 31, 40],[27, 0, 30, 31], [0, 31, 45, 46], [44, 47, 31, 40], [30, 41, 0, 51], [0,32, 47, 44],<br />&nbsp;[35, 27, 62, 0], [43, 47, 31, 0], [40, 27, 30, 27], [0, 45, 35, 33], [40, 35, 32, 35], [29, 27, 64, 0]]<br /><br />\n",
    "<p>Al pasar cada sublista de $b$ números (cifras en base $L$) a base $10$, se obtiene la lista final (el texto encriptado):</p>\n",
    "<p>[7047495, 20221456, 18035449, 23057517, 20326409, 25401984, 16867638, 15647160, 24301155, 27149584, 17398174, 15865414, 23057517, 20326409, 25401984, 21992301, 15440770, 217340, 25485024, 17436110, 224393, 20203694, 24913197, 23060000, 312943, 23115286, 16773138]</p>"
   ]
  },
  {
   "cell_type": "markdown",
   "metadata": {},
   "source": [
    "<p><strong>Ejercicio 1.-</strong> Implementar una función de Sage, Bloques(mensaje,b), que reciba una cadena de caracteres, mensaje y un entero positivo, b, y devuelva una lista de sublistas de números de longitud b, resultado de trocear y codificar el mensaje en bloques como en el ejemplo anterior.</p>\n",
    "<p>Construir, en la implementación de la función,&nbsp; el siguiente alfabeto:</p>\n",
    "<p style=\"margin-left: 30px;\">alfabeto=''.join([chr(c) for c in [65..90]])</p>\n",
    "<p style=\"margin-left: 30px;\">simbolos=''.join([chr(c) for c in [33]+[36..64]])</p>\n",
    "<p style=\"margin-left: 30px;\">alfabeto=' '+alfabeto+alfabeto.lower()+simbolos</p>"
   ]
  },
  {
   "cell_type": "code",
   "execution_count": 1,
   "metadata": {},
   "outputs": [
    {
     "data": {
      "text/plain": [
       "\" ABCDEFGHIJKLMNOPQRSTUVWXYZabcdefghijklmnopqrstuvwxyz!$%&'()*+,-./0123456789:;<=>?@\""
      ]
     },
     "execution_count": 1,
     "metadata": {},
     "output_type": "execute_result"
    }
   ],
   "source": [
    "alfabeto=''.join([chr(c) for c in [65..90]])\n",
    "simbolos=''.join([chr(c) for c in [33]+[36..64]])\n",
    "alfabeto=' '+alfabeto+alfabeto.lower()+simbolos\n",
    "alfabeto"
   ]
  },
  {
   "cell_type": "code",
   "execution_count": 2,
   "metadata": {},
   "outputs": [],
   "source": [
    "def Bloques(mensaje,b):\n",
    "    alfabeto=''.join([chr(c) for c in [65..90]])\n",
    "    simbolos=''.join([chr(c) for c in [33]+[36..64]])\n",
    "    alfabeto=' '+alfabeto+alfabeto.lower()+simbolos\n",
    "    L=len(alfabeto)\n",
    "    mensnums=[alfabeto.index(letra) for letra in mensaje]\n",
    "    mensnums+=[randint(1,L)]*(b-len(mensaje)%b)\n",
    "    bloques=[]\n",
    "    for j in range(len(mensnums)//b):\n",
    "        num=0\n",
    "        for k in mensnums[j*b:(j+1)*b]:\n",
    "            num=k+num*L\n",
    "        bloques.append(num)\n",
    "    return bloques"
   ]
  },
  {
   "cell_type": "code",
   "execution_count": 3,
   "metadata": {},
   "outputs": [
    {
     "name": "stdout",
     "output_type": "stream",
     "text": [
      "[7047495, 20221456, 18035449, 23057517, 20326409, 25401984, 16867638, 15647160, 24301155, 27149584, 17398174, 15865414, 23057517, 20326409, 25401984, 21992301, 15440770, 217340, 25485024, 17436110, 224393, 20203694, 24913197, 23060000, 312943, 23115286, 16773200]\n"
     ]
    }
   ],
   "source": [
    "texto='La vida es una historia contada por un idiota, una historia llena de estruendo y furia, que nada significa.'\n",
    "print(Bloques(texto,4))"
   ]
  },
  {
   "cell_type": "markdown",
   "metadata": {},
   "source": [
    "<p>Para desencriptar, solo hemos de seguir los pasos a la inversa. De la evaluación anterior tenemos un juego de caracteres guardado en la cadena de nombre <span style=\"font-family: comic sans ms,sans-serif;\">alfabeto</span>, la <span style=\"font-family: comic sans ms,sans-serif;\">clave</span>, b, longitud de los bloques y la lista final de números (enteros de sage), con nombre <span style=\"font-family: comic sans ms,sans-serif;\">numeros</span>.</p>"
   ]
  },
  {
   "cell_type": "markdown",
   "metadata": {},
   "source": [
    "<p><strong>Ejercicio 2.-</strong> Implementar, DesBloques(lista,b), la función inversa de la anterior, recibe una lista de números, entre 0 y $L^b-1$, con $L$ la longitud del alfabeto que estamos considerando (constrúyase dentro como antes); y debería devolver el mensaje tal que Bloques(mensaje,b)=lista.</p>"
   ]
  },
  {
   "cell_type": "code",
   "execution_count": 4,
   "metadata": {},
   "outputs": [],
   "source": [
    "def DesBloques(lista,b):\n",
    "    alfabeto=''.join([chr(c) for c in [65..90]])\n",
    "    simbolos=''.join([chr(c) for c in [33]+[36..64]])\n",
    "    alfabeto=' '+alfabeto+alfabeto.lower()+simbolos\n",
    "    L=len(alfabeto)\n",
    "    bloques=[]\n",
    "    for num in lista:\n",
    "        bloque=num.digits(L,padto=b)\n",
    "        bloque.reverse()\n",
    "        bloques.append(bloque)\n",
    "    texto=''\n",
    "    for bloque in bloques:\n",
    "        texto+=''.join([alfabeto[j] for j in bloque])\n",
    "    return texto"
   ]
  },
  {
   "cell_type": "code",
   "execution_count": 5,
   "metadata": {},
   "outputs": [
    {
     "data": {
      "text/plain": [
       "'La vida es una historia contada por un idiota, una historia llena de estruendo y furia, que nada significa.b'"
      ]
     },
     "execution_count": 5,
     "metadata": {},
     "output_type": "execute_result"
    }
   ],
   "source": [
    "lista=Bloques(texto,4)\n",
    "DesBloques(lista,4)"
   ]
  },
  {
   "cell_type": "markdown",
   "metadata": {},
   "source": [
    "<h3>Criptografía de clave pública y firmas digitales: RSA</h3>\n",
    "<p>En los sistemas que llevamos vistos, conocida la clave para encriptar es relativamente sencillo averiguar la clave para desencriptar.</p>\n",
    "<p>En los sistemas de clave pública, cada usuario tiene una clave para encriptar que todos los demás conocen, clave pública, y una clave privada, \"<em>inversa</em>\" de la anterior, para desencriptar. Por supuesto, y dado que la clave para encriptar de un usuario es conocida, tiene que ser <em>imposible en la práctica</em> averiguar su clave privada. El <a href=\"http://es.wikipedia.org/wiki/RSA\" target=\"_blank\">algoritmo RSA</a> (por sus creadores <span class=\"st\">Rivest, Shamir y Adleman</span>, 1978) es un ejemplo y se basa en el siguiente</p>\n",
    "<p style=\"margin-left: 30px;\"><strong>Teorema de Euler-Fermat.-</strong> Si $a$ y $m$ son dos enteros positivos coprimos, y $\\phi(m)$ denota la función de Euler de $m$, entonces $a^{1+\\phi(m)}\\equiv a\\pmod m$.</p>\n",
    "<p>En particular, se considera un entero $m$ producto de dos primos, $p$ y $q$, lo suficientemente grandes para que, conocido su producto $m=p\\cdot q$, pero no ellos, sea difícil averiguarlos, equivalentemente, <em>factorizar $m$</em> (ver, por ejemplo, <a href=\"http://es.wikipedia.org/wiki/Factorizaci%C3%B3n_de_enteros\" target=\"_blank\">este artículo de la wikipedia</a> sobre el problema computacional de la factorización, o este otro sobre el <a href=\"http://es.wikipedia.org/wiki/Problema_RSA\" target=\"_blank\">problema RSA</a>).</p>\n",
    "<p>En el siguiente cuadro se muestra un ejemplo con la generación aleatoria de dos primos, y la factorización de su producto. Aparece comentado pues su evaluación lleva algo de tiempo; descomentar si se quiere evaluar.</p>"
   ]
  },
  {
   "cell_type": "code",
   "execution_count": 6,
   "metadata": {
    "collapsed": false,
    "jupyter": {
     "outputs_hidden": false
    }
   },
   "outputs": [
    {
     "name": "stdout",
     "output_type": "stream",
     "text": [
      "Un primo de 30 cifras: 952735102523642715965653947649\n",
      "otro primo, de 40 cifras: 3562314874804686260044750752067251318253\n",
      "su producto: 3393942427468540230209308561892297195723317102817332859898608700137197\n",
      "Su factorizacion: 952735102523642715965653947649 * 3562314874804686260044750752067251318253.\n",
      "111.11842489242554\n"
     ]
    }
   ],
   "source": [
    "t0=walltime()\n",
    "c1,c2=30,40\n",
    "#Un primo, aleatorio, de c1 cifras decimales\n",
    "p=random_prime(10**(c1),proof=True,lbound=10**(c1-1))\n",
    "print('Un primo de %d cifras: %d'%(c1,p))\n",
    "#otro de c2 cifras\n",
    "q=random_prime(10**(c2),proof=True,lbound=10**(c2-1))\n",
    "print('otro primo, de %d cifras: %d'%(c2,q))\n",
    "m=p*q\n",
    "print('su producto: %d'%m)\n",
    "print('Su factorizacion: %s.'%(factor(m)))\n",
    "t1=walltime(t0)\n",
    "print(t1)"
   ]
  },
  {
   "cell_type": "markdown",
   "metadata": {},
   "source": [
    "<p>Aprovechando esta dificultad, el criptosistema RSA sigue el siguiente esquema:</p>\n",
    "<ul style=\"list-style-type: circle;\">\n",
    "<li>Cada usuario, $A$, toma dos primos, $p_A, q_A$ y considera su producto $m_A=p_A\\cdot q_A$.</li>\n",
    "<li>Calcula un par de números $(e_A,d_A)$, para <strong>e</strong>ncriptar y <strong>d</strong>esencriptar mensajes. El par es tal que $e_A\\cdot d_A\\equiv 1\\pmod{\\phi(m_A)}$.</li>\n",
    "<li>El usuario publica $(m_A,e_A)$, se dice su clave pública, y mantiene en <em>secreto</em> su clave privada, $d_A$.</li>\n",
    "<li>Si otro usuario quiere comunicarse con $A$, encripta${}^{*}$ su mensaje utilizando $m_A$ y $e_A$, que son públicos.</li>\n",
    "<li>El mensaje así encriptado, solo puede ser desencriptado${}^{*}$ por $A$, con su clave $d_A$.</li>\n",
    "</ul>\n",
    "<p>(*) Encriptar y desencriptar consiste en calcular $x^{e_A}\\pmod{m_A}$ (o $x^{d_A}\\pmod{m_A}$) con $x$ un número que represente (codifique) el mensaje a encriptar (o el encriptado).</p>\n",
    "<p>Recuérdese que, en el caso que nos ocupa, $\\phi(m)=(p-1)(q-1)$, si $m=p\\cdot q$ con $p$ y $q$ primos.</p>\n",
    "<p>Para primos relativamente pequeños, podemos calcular todos los pares de claves.</p>\n",
    "<p><strong>Ejercicio 3.-</strong> Listar todos los pares $(e_A,d_A)$, con $e_A<d_A$, que sirvan para un criptosistema RSA con módulo $m=17\\cdot 19$.</p>\n",
    "<p>Sugerencia: serán útiles la función euler_phi() y el método .inverse_mod()</p>"
   ]
  },
  {
   "cell_type": "code",
   "execution_count": 7,
   "metadata": {},
   "outputs": [
    {
     "name": "stdout",
     "output_type": "stream",
     "text": [
      "[(1, 1), (5, 173), (7, 247), (11, 131), (13, 133), (17, 17), (19, 91), (23, 263), (25, 265), (29, 149), (31, 223), (35, 107), (37, 109), (41, 281), (43, 67), (47, 239), (49, 241), (53, 125), (55, 199), (59, 83), (61, 85), (65, 257), (71, 215), (73, 217), (77, 101), (79, 175), (89, 233), (95, 191), (97, 193), (103, 151), (113, 209), (115, 283), (119, 167), (121, 169), (127, 127), (137, 185), (139, 259), (143, 143), (145, 145), (155, 275), (157, 277), (161, 161), (163, 235), (179, 251), (181, 253), (187, 211), (197, 269), (203, 227), (205, 229), (221, 245), (271, 271), (287, 287)]\n"
     ]
    }
   ],
   "source": [
    "m=17*19\n",
    "fim=euler_phi(m)\n",
    "pares=[]\n",
    "for j in [1..fim]:\n",
    "    if gcd(j,fim)==1:\n",
    "        invj=j.inverse_mod(fim)\n",
    "        if j<= invj:\n",
    "            pares.append((j,invj))\n",
    "print(pares)"
   ]
  },
  {
   "cell_type": "markdown",
   "metadata": {},
   "source": [
    "Con primos grandes, sirve de poco calcular todas las claves, habrá suficientes, y se agotaría al intérprete. En particular, el problema del cálculo de la función de Euler para $m$ equivale al de la factorización de $m$.\n",
    "\n",
    "Mejor buscamos al azar entre los candidatos, cada vez que necesitemos **una** nueva.\n",
    "\n",
    "**Ejercicio 4.-**  Encontrar dos primos, $p$ y $q$, de $50$ y $60$ cifras respectivamente. Calcular, con $m=p\\cdot q$, dos juegos de claves $(e_1,d_1)$ y $(e_2,d_2)$ para un sistema RSA con módulo $m$.\n",
    "\n",
    "_Sugerencias:_ obsérvese que, en este caso, $\\phi(m)=(p-1)\\cdot(q-1)$. Utilizar el algoritmo de Euclides extendido (${\\tt xgcd}()$) en lugar de ${\\tt.inverse}\\_{\\tt mod}()$, para el cálculo del inverso modular."
   ]
  },
  {
   "cell_type": "code",
   "execution_count": null,
   "metadata": {},
   "outputs": [],
   "source": []
  },
  {
   "cell_type": "markdown",
   "metadata": {},
   "source": [
    "Comenzamos definiendo una función que, dados dos enteros positivos ${\\tt c1}$ y ${\\tt c2}$, construye un primo de longitud ${\\tt c1}$ y\n",
    "otro de longitud ${\\tt c2}$."
   ]
  },
  {
   "cell_type": "code",
   "execution_count": 8,
   "metadata": {},
   "outputs": [],
   "source": [
    "def primosRSA(c1,c2):\n",
    "    p=random_prime(10^c1,proof=True,lbound=10^(c1-1))\n",
    "    q=random_prime(10^c2,proof=True,lbound=10^(c2-1))\n",
    "    return p,q"
   ]
  },
  {
   "cell_type": "markdown",
   "metadata": {},
   "source": [
    "Con esta función generamos los dos primos que darán lugar a $m$."
   ]
  },
  {
   "cell_type": "code",
   "execution_count": 9,
   "metadata": {},
   "outputs": [],
   "source": [
    "p,q=primosRSA(50,60)"
   ]
  },
  {
   "cell_type": "markdown",
   "metadata": {},
   "source": [
    "A continuación definimos una función que, a partir de dos primos $p$ y $q$, construye, con $m=p\\cdot q$, una clave $(e,d)$."
   ]
  },
  {
   "cell_type": "code",
   "execution_count": 10,
   "metadata": {},
   "outputs": [],
   "source": [
    "def clavesRSA(p,q):\n",
    "    m=p*q\n",
    "    fim=(p-1)*(q-1)\n",
    "    eA=randint(1,fim)\n",
    "    x,dA,v=xgcd(eA,fim)\n",
    "    while x!=1:\n",
    "        eA=randint(1,fim)\n",
    "        x,dA,v=xgcd(eA,fim)\n",
    "    eA,dA=eA+(eA<0)*fim,dA+(dA<0)*fim\n",
    "    return m,eA,dA"
   ]
  },
  {
   "cell_type": "markdown",
   "metadata": {},
   "source": [
    "Ahora aplicamos dos veces esta función, con los mismos primos $p$ y $q$, para dar lugar a los dos pares de claves pedidos."
   ]
  },
  {
   "cell_type": "code",
   "execution_count": 11,
   "metadata": {},
   "outputs": [
    {
     "name": "stdout",
     "output_type": "stream",
     "text": [
      "True\n",
      "6232535895171084559365032178234232331432540185894724956083924265335612175021675238438544191664540365388291413 932593753599882249262086320906126246211749708930141279721487876370460016344441132287621909863995849088678277\n",
      "18088306090766560087792482416023441353693740910421825145566287645310136873148656273405603467158700952547955661 23913284580156251783708530028250725069310472652336411150992476957996856937578283624131571376564400120412296805\n"
     ]
    }
   ],
   "source": [
    "mA,eA,dA=clavesRSA(p,q)\n",
    "mB,eB,dB=clavesRSA(p,q)\n",
    "print(mA==mB)\n",
    "print(eA,dA)\n",
    "print(eB,dB)"
   ]
  },
  {
   "cell_type": "markdown",
   "metadata": {},
   "source": [
    "<p><strong>Ejercicio 5.-</strong> Implementar una función de sage, potenciaRSA(x,mA,eA), que espere un número, $x$, un módulo, $m_A$, y un exponente, $e_A$, y devuelva $x^{e_A}\\pmod{m_A}$. Sugerencia: utilizar la función power_mod() de sage.</p>"
   ]
  },
  {
   "cell_type": "code",
   "execution_count": 12,
   "metadata": {},
   "outputs": [],
   "source": [
    "##No es una función nueva; es casi un alias para power_mod() (solo intercambia segundo y tercer argumentos)\n",
    "def potenciaRSA(x,mA,eA):\n",
    "    return power_mod(x,eA,mA)"
   ]
  },
  {
   "cell_type": "markdown",
   "metadata": {},
   "source": [
    "<p>La función anterior sirve para encriptar y desencriptar, de manera que, si $(e_A,d_A)$ verifican $e_A\\cdot d_A\\equiv 1\\pmod{\\phi(m_A)}$, se tiene</p>\n",
    "<p>$$\\mbox{potenciaRSA}\\big(\\mbox{potenciaRSA}(x,m_A,e_A),m_A,d_A\\big)=x\\quad\\forall x\\,.$$</p>\n",
    "<p>Comprobadlo.</p>"
   ]
  },
  {
   "cell_type": "code",
   "execution_count": 13,
   "metadata": {},
   "outputs": [
    {
     "data": {
      "text/plain": [
       "123"
      ]
     },
     "execution_count": 13,
     "metadata": {},
     "output_type": "execute_result"
    }
   ],
   "source": [
    "potenciaRSA(potenciaRSA(123,mA,eA),mA,dA)"
   ]
  },
  {
   "cell_type": "markdown",
   "metadata": {},
   "source": [
    "<p>El criptosistema RSA completo, añade al cálculo de las potencias modulares anteriores, la codificación de un texto en bloques del principio de esta hoja. Obsérvese que interesa que los bloques no sean cortos, pues se pretende anular el éxito de un análisis de frecuencias.</p>\n",
    "<p>Puesto que los números a los que se aplica el teorema de Euler-Fermat deben ser coprimos con el módulo $m$ utilizado, podrían existir, en principio, ciertas restricciones. Aunque, en este caso especial $m=p\\cdot q$ con $p$ y $q$ dos primos distintos, se tiene que, si $e\\cdot d\\equiv1\\pmod{\\phi(m)}$, entonces para cualquier $x$ (sea o no coprimo con $m$) se tiene</p>\n",
    "<p>$$ x^{e\\cdot d}\\equiv x\\pmod m\\,.$$</p>\n",
    "<p>Así, utilizando un alfabeto de tamaño $L$, un tamaño, $b$,&nbsp; para los bloques, debe cumplir que en el rango $[0,L^b)$ no aparezcan repetidos si los miramos módulo $m$. Basta, por ejemplo, tomar $b$ tal que $L^b<m$, de otra manera: $b<\\log m/\\log L$.</p>\n",
    "<p>En la práctica, si tenemos que encriptar con clave pública $(n_A,e_A)$ y queremos tomar el menor número de bloques (los de mayor longitud posible), tomaremos $b=\\mathrm{floor}(\\log n_A/\\log L)$ (la función floor() de sage devuelve la parte entera).</p>"
   ]
  },
  {
   "cell_type": "markdown",
   "metadata": {},
   "source": [
    "<p><strong>Ejercicio 6.-</strong> a) Implementar una función de sage, encriptaRSA(texto,nA,eA), que espere un texto y una clave pública RSA. A partir del módulo $n_A$ y la longitud $L$ de, por ejemplo, el alfabeto de los ejercicios anteriores, encripte el texto por bloques. Y, a partir de la lista resultante, devuelva la correspondiente lista de números codificada con la clave pública, (nA,claveA), mediante potenciaRSA().</p>\n",
    "<p>b) Implementar la función inversa, desencriptaRSA(lista,nA,dA), es decir, la función tal que aplicada a la lista que devuelve encriptaRSA(texto,nA,eA), devuelva texto.</p>"
   ]
  },
  {
   "cell_type": "markdown",
   "metadata": {},
   "source": [
    "> _Nota_: Al alfabeto de los apartados anteriores le añadiremos también la Ñ y la ñ"
   ]
  },
  {
   "cell_type": "code",
   "execution_count": 14,
   "metadata": {},
   "outputs": [],
   "source": [
    "# Apartado a\n",
    "def encriptaRSA(texto,mA,eA):\n",
    "    alfabeto=''.join([chr(c) for c in [65..90]])\n",
    "    simbolos=''.join([chr(c) for c in [33]+[36..64]])\n",
    "    k=alfabeto.index('N')\n",
    "    alfabeto=alfabeto[:k+1]+u'Ñ'+alfabeto[k+1:]\n",
    "    alfabeto=' '+alfabeto+alfabeto.lower()+simbolos\n",
    "    ###\n",
    "    L,x=len(alfabeto),len(texto)\n",
    "    b=floor(log(mA)/log(L))\n",
    "    for k in range(b-x%b):\n",
    "        texto+=alfabeto[randint(0,L-1)]\n",
    "    ###\n",
    "    nums=[]\n",
    "    for letra in texto:\n",
    "        nums=nums+[alfabeto.index(letra)]\n",
    "    bloques=[nums[j:j+b] for j in range(0,x,b)]\n",
    "    ###\n",
    "    final=[]\n",
    "    for bloque in bloques:\n",
    "        suma=sum([bloque[j]*L^(b-1-j) for j in range(b)])\n",
    "        final.append(power_mod(suma,eA,mA))\n",
    "    return final"
   ]
  },
  {
   "cell_type": "code",
   "execution_count": 15,
   "metadata": {},
   "outputs": [],
   "source": [
    "# Apartado b\n",
    "def desencriptaRSA(lista,mA,dA):\n",
    "    alfabeto=''.join([chr(c) for c in [65..90]])\n",
    "    simbolos=''.join([chr(c) for c in [33]+[36..64]])\n",
    "    k=alfabeto.index('N')\n",
    "    alfabeto=alfabeto[:k+1]+u'Ñ'+alfabeto[k+1:]\n",
    "    alfabeto=' '+alfabeto+alfabeto.lower()+simbolos\n",
    "    L=len(alfabeto)\n",
    "    b=floor(log(mA)/log(L))\n",
    "    ###\n",
    "    bloques=[]\n",
    "    for num in lista:\n",
    "        num=power_mod(num,dA,mA)\n",
    "        bloque=num.digits(L,padto=b)\n",
    "        bloque.reverse()\n",
    "        bloques.append(bloque)\n",
    "    ###\n",
    "    letras=[''.join([alfabeto[j] for j in num]) for num in bloques]\n",
    "    return ''.join(letras)"
   ]
  },
  {
   "cell_type": "code",
   "execution_count": 16,
   "metadata": {},
   "outputs": [
    {
     "name": "stdout",
     "output_type": "stream",
     "text": [
      "La vida es una historia contada por un idiota, una historia llena de estruendo y furia, que nada significa.DmDN@\n"
     ]
    }
   ],
   "source": [
    "print(desencriptaRSA(encriptaRSA(texto,mA,eA),mA,dA))"
   ]
  },
  {
   "cell_type": "markdown",
   "metadata": {},
   "source": [
    "**Firma digital.-** Con este sistema, y puesto que las claves para encriptar son públicas, cualquiera puede hacerse pasar por otro al enviar mensajes. Pero este problema es fácil de resolver: si B quiere enviar un mensaje a A puede firmar el mensaje sin más que utilizar su clave privada, $(m_B,d_B)$, para añadir, por ejemplo, su nombre. Cuando A recibe el mensaje junto con la firma, desencripta el mensaje con su clave privada, $(m_A,d_A)$, y la firma de B con la clave pública de este, $(m_B,e_B)$."
   ]
  },
  {
   "cell_type": "code",
   "execution_count": null,
   "metadata": {},
   "outputs": [],
   "source": []
  },
  {
   "cell_type": "code",
   "execution_count": null,
   "metadata": {},
   "outputs": [],
   "source": []
  }
 ],
 "metadata": {
  "kernelspec": {
   "display_name": "SageMath 9.0",
   "language": "sage",
   "name": "sagemath"
  },
  "language_info": {
   "codemirror_mode": {
    "name": "ipython",
    "version": 3
   },
   "file_extension": ".py",
   "mimetype": "text/x-python",
   "name": "python",
   "nbconvert_exporter": "python",
   "pygments_lexer": "ipython3",
   "version": "3.8.5"
  }
 },
 "nbformat": 4,
 "nbformat_minor": 4
}
