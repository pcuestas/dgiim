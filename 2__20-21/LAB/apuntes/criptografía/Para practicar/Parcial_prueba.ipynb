{
 "cells": [
  {
   "cell_type": "markdown",
   "metadata": {},
   "source": [
    "<h3>Instrucciones para esta prueba</h3>\n",
    "<ul>\n",
    "<li>Renombrar esta hoja con el formato: <span style=\"font-family: comic sans ms,sans-serif; font-size: medium;\">nombre.apellido_2marzo2015</span></li>\n",
    "<li>Para cada ejercicio explicar, en cuadros de texto, la estrategia seguida para resolverlo.</li>\n",
    "<li>Guardar el resultado final (<span style=\"font-family: comic sans ms,sans-serif; font-size: medium;\">File...Save worksheet to a file...</span>) en la carpeta de entrega.</li>\n",
    "</ul>"
   ]
  },
  {
   "cell_type": "markdown",
   "metadata": {},
   "source": [
    "<p>Consideramos el siguiente sistema criptográfico:</p>\n",
    "<ul>\n",
    "<li>Se elige como clave una cadena de caracteres, de longitud $lc$.</li>\n",
    "<li>Si 0$\\le i<lc$, el código del caracter que ocupa la posición $i$-ésima en la cadena encriptada se obtiene sumando el código del carácter que ocupa la posición $i$-ésima en la clave al código del caracter que ocupa la posición $i$-ésima en la cadena original, todo ello, por supuesto, módulo la longitud del alfabeto.</li>\n",
    "<li>Si $i\\ge lc$, el carácter $i$-ésimo de la cadena encriptada es aquel cuyo código es la suma (módulo la longitud del alfabeto) de los códigos de los caracteres $i$-ésimo e ($i-lc$-ésimo de la cadena original</li>\n",
    "</ul>\n",
    "<p><strong>Ejercicio 1 (3 puntos).</strong> Escribir una función Sage, <span style=\"font-family: comic sans ms,sans-serif; font-size: medium;\"><em>CifradoTercerParcial(texto,clave,alfabeto)</em></span>,&nbsp; que espere un <span style=\"font-family: comic sans ms,sans-serif; font-size: medium;\"><em>texto</em></span>, una <span style=\"font-family: comic sans ms,sans-serif; font-size: medium;\"><em>clave</em></span> y un <span style=\"font-family: comic sans ms,sans-serif; font-size: medium;\"><em>alfabeto</em></span>, y devuelva el resultado de encriptar <span style=\"font-family: comic sans ms,sans-serif; font-size: medium;\"><em>texto</em></span> por medio del esquema que acabamos de describir con clave <span style=\"font-family: comic sans ms,sans-serif; font-size: medium;\">clave</span> usando el alfabeto <span style=\"font-family: comic sans ms,sans-serif; font-size: medium;\"><em>alfabeto</em></span>. La función usará por defecto el alfabeto</p>\n",
    "<p style=\"text-align: center;\"><span style=\"font-family: comic sans ms,sans-serif; font-size: medium;\"><em>alfabeto</em></span>=u' ABCDEFGHIJKLMN&Ntilde;OPQRSTUVWXYZabcdefghijklmn&ntilde;opqrstuvwxyz'</p>\n",
    "<p style=\"text-align: left;\">que tiene un espacio en blanco como primer caracter.</p>"
   ]
  },
  {
   "cell_type": "markdown",
   "metadata": {},
   "source": [
    "<p><strong>Ejercicio 2 (3 puntos). </strong>Escribir una función Sage, <span style=\"font-family: comic sans ms,sans-serif; font-size: medium;\"><em>DescifradoTercerParcial(texto,clave,alfabeto)</em></span>,&nbsp; que espere un <span style=\"font-family: comic sans ms,sans-serif;\"><span style=\"font-size: medium;\"><em>texto</em></span> </span>resultado de encriptar un mensaje por medio del esquema descrito con una<span style=\"font-family: comic sans ms,sans-serif;\"> <span style=\"font-size: medium;\"><em>clave</em></span> </span>y un <span style=\"font-family: comic sans ms,sans-serif;\"><span style=\"font-size: medium;\"><em>alfabeto</em></span></span>, y que devuelva el mensaje desencriptado. Por defecto usará el alfabeto mencionado anteriormente.</p>"
   ]
  },
  {
   "cell_type": "code",
   "execution_count": 55,
   "metadata": {},
   "outputs": [],
   "source": [
    "def Contraclave(clave, alfabeto):\n",
    "    u'''calcula la contraclave de la clave que entra como argumento'''\n",
    "    num_clave=[alfabeto.index(letra) for letra in clave]\n",
    "    contraclave=''.join([alfabeto[-m] for m in num_clave])\n",
    "    return contraclave"
   ]
  },
  {
   "cell_type": "code",
   "execution_count": 56,
   "metadata": {},
   "outputs": [],
   "source": [
    "def CifradoTercerParcial(texto, clave, alfabeto=u' ABCDEFGHIJKLMNÑOPQRSTUVWXYZabcdefghijklmnñopqrstuvwxyz'):\n",
    "    u'''\n",
    "    Esta función espera un texto, una palabra clave y un alfabeto\n",
    "    y devuelve el texto cifrado (Vigenere) con esta clave \n",
    "    '''\n",
    "    if any([(letra not in alfabeto) for letra in clave]):\n",
    "        print (u'Alguna letra en la clave no es válida')\n",
    "        return None\n",
    "    \n",
    "    len_cla,len_alf = len(clave),len(alfabeto)\n",
    "    clavenum=[alfabeto.index(letra) for letra in clave]\n",
    "    \n",
    "    encriptado=u''\n",
    "    for k in [0..(len(texto)-1)]:\n",
    "        letra=texto[k]\n",
    "        if letra in alfabeto:\n",
    "            letra=alfabeto[(alfabeto.index(letra)+clavenum[k%len_cla])%len_alf]\n",
    "        encriptado+=letra\n",
    "        \n",
    "    return encriptado\n",
    "def DescifradoTercerParcial(texto, clave, alfabeto=u' ABCDEFGHIJKLMNÑOPQRSTUVWXYZabcdefghijklmnñopqrstuvwxyz'):\n",
    "    contraclave=Contraclave(clave, alfabeto)\n",
    "    return CifradoTercerParcial(texto, contraclave, alfabeto)"
   ]
  },
  {
   "cell_type": "markdown",
   "metadata": {},
   "source": [
    "<p><strong>Ejercicio 3 (4 puntos). </strong>Al ejecutar la casilla siguiente, se carga un texto cifrado en la variable <span style=\"font-family: comic sans ms,sans-serif; font-size: medium;\">encriptado</span>.</p>"
   ]
  },
  {
   "cell_type": "code",
   "execution_count": 57,
   "metadata": {
    "jupyter": {
     "outputs_hidden": false
    }
   },
   "outputs": [
    {
     "data": {
      "text/plain": [
       "73134"
      ]
     },
     "execution_count": 57,
     "metadata": {},
     "output_type": "execute_result"
    }
   ],
   "source": [
    "load('VetustaEnc.py')\n",
    "len (encriptado)"
   ]
  },
  {
   "cell_type": "markdown",
   "metadata": {},
   "source": [
    "<p>Dicho texto se corresponde con un cap&iacute;tulo de un libro de un escritor al que le gustaba especialmente la letra \"a\", quizá porque su primer apellido sólo ten&iacute;a esa vocal. El texto encriptado se obtuvo a partir del original mediante un método de Vigen&egrave;re, con alfabeto</p>\n",
    "<p style=\"text-align: center;\">alfabeto=u\"!'(),-.1234:;?abcdefghijklmnopqrstuvwxyz\\xa1\\xab\\xba\\xbb\\xbf\\xf1\"</p>\n",
    "<p>Aunque el texto original conten&iacute;a blancos y saltos de linea, esos caracteres no se encriptaron.</p>\n",
    "<p>Se pide averiguar el texto original.</p>"
   ]
  },
  {
   "cell_type": "code",
   "execution_count": 58,
   "metadata": {},
   "outputs": [],
   "source": [
    "alfabeto=u\"!'(),-.1234:;?abcdefghijklmnopqrstuvwxyz\\xa1\\xab\\xba\\xbb\\xbf\\xf1\"\n",
    "\n",
    "def MasFrecuente(cadena, k):\n",
    "    u'''\n",
    "    esta función nos dice cuál es la k-ésima \n",
    "    letra más frecuente en la cadena: cadena\n",
    "    '''\n",
    "    char=list(set(cadena))\n",
    "    if k>len(char):\n",
    "        print u'error'\n",
    "        return None\n",
    "    frecs=dict(zip(char, [0]*len(char)))\n",
    "    for letra in cadena:\n",
    "        frecs[letra]+=1\n",
    "    FrecCar=zip(frecs.values(),frecs.keys())\n",
    "    FrecCar.sort(reverse=True)\n",
    "    return FrecCar[k-1][-1]"
   ]
  },
  {
   "cell_type": "code",
   "execution_count": 59,
   "metadata": {},
   "outputs": [
    {
     "data": {
      "text/plain": [
       "(u' ', u'-')"
      ]
     },
     "execution_count": 59,
     "metadata": {},
     "output_type": "execute_result"
    }
   ],
   "source": [
    "MasFrecuente(encriptado, 1), MasFrecuente(encriptado, 2)"
   ]
  },
  {
   "cell_type": "code",
   "execution_count": 60,
   "metadata": {},
   "outputs": [],
   "source": [
    "\n",
    "def McdNgramas(texto,k,m=10):\n",
    "    u'''\n",
    "    esta función encuentra las m cadenas de longitud k más \n",
    "    repetidas y devuelve el mcd de los saltos entre cada cadena \n",
    "    (para hacer más sencillo el return, se devuelve en forma de \n",
    "    conjunto, para evitar muchas repeticiones)\n",
    "    '''\n",
    "    ltexto=len(texto)\n",
    "    kgramas=[texto[j:j+k] for j in [0..(ltexto-k)]]\n",
    "    kgramas_=list(set(kgramas))\n",
    "    frec_dic=dict(zip(kgramas_,[0]*len(kgramas_)))\n",
    "    for palabra in kgramas:\n",
    "        frec_dic[palabra]+=1\n",
    "    frec_lis=zip(frec_dic.values(),frec_dic.keys())\n",
    "    frec_lis.sort(reverse=True)\n",
    "    \n",
    "    if m<len(frec_lis):\n",
    "        minimo=m\n",
    "    else:\n",
    "        minimo=len(frec_lis)\n",
    "    \n",
    "    kgramas=[frec_lis[j][-1] for j in range(minimo)]\n",
    "    distancias=[]\n",
    "    s=0#índice en la lista distancias (que contiene las listas de las distancias de cada kgrama)\n",
    "    for pal in kgramas:\n",
    "        distancias+=[[]]\n",
    "        j=texto.find(pal)#encontramos primera ocurrencia\n",
    "        l=j\n",
    "        while l!=-1 and j+k<ltexto:\n",
    "            l=texto[j+k:].find(pal)#buscamos desde la última aparición, el índice que nos de, será la distancia (falta añadir k elementos desde el inicio de la cadena anterior)\n",
    "            if l!=-1:\n",
    "                distancias[s].append(l+k)#incluímos en la s-ésima lista de distancias l+k\n",
    "                j+=k+l#actualizamos j para que contenga el índice de la última aparición encontrada\n",
    "        s+=1\n",
    "    mcds=[gcd(lista) for lista in distancias]\n",
    "    return set(mcds)\n"
   ]
  },
  {
   "cell_type": "code",
   "execution_count": 61,
   "metadata": {},
   "outputs": [
    {
     "data": {
      "text/plain": [
       "({1, 7}, {7})"
      ]
     },
     "execution_count": 61,
     "metadata": {},
     "output_type": "execute_result"
    }
   ],
   "source": [
    "McdNgramas(encriptado, 3, 10), McdNgramas(encriptado, 4, 10)"
   ]
  },
  {
   "cell_type": "code",
   "execution_count": 62,
   "metadata": {},
   "outputs": [
    {
     "name": "stdout",
     "output_type": "stream",
     "text": [
      ")s'(!'o\n"
     ]
    }
   ],
   "source": [
    "#Todo apunta a que la longitud de la clave es 7, por tanto:\n",
    "pista=''.join([MasFrecuente(encriptado[j::7], 2) for j in range(7)])\n",
    "print pista"
   ]
  },
  {
   "cell_type": "code",
   "execution_count": 63,
   "metadata": {},
   "outputs": [
    {
     "name": "stdout",
     "output_type": "stream",
     "text": [
      "vetusta\n"
     ]
    }
   ],
   "source": [
    "#esta es la secuencia más frecuente, como sabemos que realmente en la cadena original, esto eran 'a's:\n",
    "# 'aaaaaaa'(+Vigenere)clave=pista, por tanto , calculemos ahora pista(+Vigenere)(-'aaaaaaa')=clave\n",
    "posibleclave=DescifradoTercerParcial(pista, 'aaaaaaa', alfabeto)\n",
    "print posibleclave"
   ]
  },
  {
   "cell_type": "code",
   "execution_count": 1,
   "metadata": {},
   "outputs": [
    {
     "ename": "SyntaxError",
     "evalue": "invalid syntax (<ipython-input-1-2dd1aa82ab5b>, line 3)",
     "output_type": "error",
     "traceback": [
      "\u001b[0;36m  File \u001b[0;32m\"<ipython-input-1-2dd1aa82ab5b>\"\u001b[0;36m, line \u001b[0;32m3\u001b[0m\n\u001b[0;31m    print texto_descifrado[:Integer(1000)]\u001b[0m\n\u001b[0m          ^\u001b[0m\n\u001b[0;31mSyntaxError\u001b[0m\u001b[0;31m:\u001b[0m invalid syntax\n"
     ]
    }
   ],
   "source": [
    "#con esta clave desciframos el texto\n",
    "texto_descifrado=DescifradoTercerParcial(encriptado, posibleclave, alfabeto)\n",
    "print texto_descifrado[:1000]"
   ]
  },
  {
   "cell_type": "code",
   "execution_count": 90,
   "metadata": {},
   "outputs": [],
   "source": [
    "def cifrado1SegundoParcial(texto, clave, alfabeto=u' ABCDEFGHIJKLMÑNOPQRSTUVWXYZabcdefghijklmñnopqrstuvwxyz'):\n",
    "    L,A=len(texto),len(alfabeto)\n",
    "    encriptado=alfabeto[(clave+alfabeto.index(texto[0]))%A]\n",
    "    j=1\n",
    "    while j<L:\n",
    "        encriptado+=alfabeto[(alfabeto.index(texto[j])+alfabeto.index(texto[j-1]))%A]\n",
    "        j+=1\n",
    "    return encriptado"
   ]
  },
  {
   "cell_type": "code",
   "execution_count": 91,
   "metadata": {},
   "outputs": [
    {
     "name": "stdout",
     "output_type": "stream",
     "text": [
      "DwYRNSsncQJLW\n"
     ]
    }
   ],
   "source": [
    "text=cifrado1SegundoParcial('Buenas noches', 2, )\n",
    "print text"
   ]
  },
  {
   "cell_type": "code",
   "execution_count": 92,
   "metadata": {},
   "outputs": [],
   "source": [
    "def descifrado1SegundoParcial(texto, clave, alfabeto=u' ABCDEFGHIJKLMÑNOPQRSTUVWXYZabcdefghijklmñnopqrstuvwxyz'):\n",
    "    L,A=len(texto),len(alfabeto)\n",
    "    #calcular la primera letra\n",
    "    desen=alfabeto[(-clave+alfabeto.index(texto[0]))%A]\n",
    "    j=1\n",
    "    while j<L:\n",
    "        desen+=alfabeto[(alfabeto.index(texto[j])-alfabeto.index(desen[j-1]))%A]\n",
    "        j+=1\n",
    "    return desen"
   ]
  },
  {
   "cell_type": "code",
   "execution_count": 93,
   "metadata": {},
   "outputs": [
    {
     "data": {
      "text/plain": [
       "u'Buenas noches'"
      ]
     },
     "execution_count": 93,
     "metadata": {},
     "output_type": "execute_result"
    }
   ],
   "source": [
    "orig=descifrado1SegundoParcial(text, 2, )\n",
    "orig"
   ]
  },
  {
   "cell_type": "code",
   "execution_count": 151,
   "metadata": {},
   "outputs": [],
   "source": [
    "def cifrado2SegundoParcial(texto, clave, alfabeto=u' ABCDEFGHIJKLMÑNOPQRSTUVWXYZabcdefghijklmñnopqrstuvwxyz'):\n",
    "    L,A=len(texto),len(alfabeto)\n",
    "    #primer caracter\n",
    "    encri_num=[(clave+alfabeto.index(texto[0]))%A]\n",
    "    #caracteres de 1 a clave-1 (posiciones 2...k)\n",
    "    j=1\n",
    "    while j<clave and j<L:\n",
    "        encri_num+=[sum([alfabeto.index(texto[k]) for k in range(j+1)])%A]\n",
    "        j+=1\n",
    "    while j<L:\n",
    "        encri_num+=[sum([alfabeto.index(texto[k]) for k in [(j-clave+1)..j]])%A]\n",
    "        j+=1\n",
    "    letras=[alfabeto[k] for k in encri_num]\n",
    "    encriptado=''.join(letras)\n",
    "    return encriptado"
   ]
  },
  {
   "cell_type": "code",
   "execution_count": 152,
   "metadata": {},
   "outputs": [
    {
     "name": "stdout",
     "output_type": "stream",
     "text": [
      "YwaNohhUJmSxp\n"
     ]
    }
   ],
   "source": [
    "text=cifrado2SegundoParcial('Buenas noches', 1234, )\n",
    "print text"
   ]
  },
  {
   "cell_type": "code",
   "execution_count": 153,
   "metadata": {},
   "outputs": [],
   "source": [
    "def descifrado2SegundoParcial(texto, clave, alfabeto=u' ABCDEFGHIJKLMÑNOPQRSTUVWXYZabcdefghijklmñnopqrstuvwxyz'):\n",
    "    L,A=len(texto),len(alfabeto)\n",
    "    #primer caracter\n",
    "    des=[(-clave+alfabeto.index(texto[0]))%A]\n",
    "    #segundo caracter\n",
    "    des+=[(alfabeto.index(texto[1])-des[0])%A]\n",
    "    #caracteres de 2 a clave-1 (posiciones 3...k)\n",
    "    j=2\n",
    "    while j<clave and j<L:\n",
    "        des+=[(alfabeto.index(texto[j])-alfabeto.index(texto[j-1]))%A]\n",
    "        j+=1\n",
    "    while j<L:\n",
    "        des+=[(alfabeto.index(texto[j])-sum([k for k in des[(j-clave+1):j+1]]))%A]\n",
    "        j+=1\n",
    "    letras=[alfabeto[k] for k in des]\n",
    "    encriptado=''.join(letras)\n",
    "    return encriptado"
   ]
  },
  {
   "cell_type": "code",
   "execution_count": 154,
   "metadata": {},
   "outputs": [
    {
     "data": {
      "text/plain": [
       "u'Buenas noches'"
      ]
     },
     "execution_count": 154,
     "metadata": {},
     "output_type": "execute_result"
    }
   ],
   "source": [
    "orig=descifrado2SegundoParcial(text, 1234, )\n",
    "orig"
   ]
  },
  {
   "cell_type": "code",
   "execution_count": 175,
   "metadata": {},
   "outputs": [
    {
     "data": {
      "text/plain": [
       "True"
      ]
     },
     "execution_count": 175,
     "metadata": {},
     "output_type": "execute_result"
    }
   ],
   "source": [
    "alfabeto=u\" !'(),-.1234:;?abcdefghijklmnopqrstuvwxyz\\xa1\\xab\\xba\\xbb\\xbf\\xf1\"\n",
    "clave=12\n",
    "texto=u'''lakdfhaklfh)dk123: -,  ;lfjhsklfjhakl'!-fasdh kñlfashfkldshfklasdhfasdkljfhaskldfhasdklfhaklsdfhaskldfhaskldfhaklsdfhasklfhaskljdfasdkljfshlfkjasdhfklasdjhflasdkjfhasdlkjhasdlkfjhasdklhf'''\n",
    "text=cifrado2SegundoParcial(texto, clave, alfabeto)\n",
    "orig=descifrado2SegundoParcial(text, clave, alfabeto)\n",
    "orig==texto"
   ]
  },
  {
   "cell_type": "code",
   "execution_count": null,
   "metadata": {},
   "outputs": [],
   "source": []
  }
 ],
 "metadata": {
  "kernelspec": {
   "display_name": "SageMath 9.0",
   "language": "sage",
   "name": "sagemath"
  },
  "language_info": {
   "codemirror_mode": {
    "name": "ipython",
    "version": 3
   },
   "file_extension": ".py",
   "mimetype": "text/x-python",
   "name": "python",
   "nbconvert_exporter": "python",
   "pygments_lexer": "ipython3",
   "version": "3.8.5"
  }
 },
 "nbformat": 4,
 "nbformat_minor": 4
}
