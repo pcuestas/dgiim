{
 "cells": [
  {
   "cell_type": "markdown",
   "metadata": {},
   "source": [
    "<h3>Instrucciones para esta prueba</h3>\n",
    "<ul>\n",
    "<li>Renombrar esta hoja con el formato: <span style=\"font-family: comic sans ms,sans-serif; font-size: medium;\">nombre.apellido_2marzo2015</span></li>\n",
    "<li>Para cada ejercicio explicar, en cuadros de texto, la estrategia seguida para resolverlo.</li>\n",
    "<li>Guardar el resultado final (<span style=\"font-family: comic sans ms,sans-serif; font-size: medium;\">File...Save worksheet to a file...</span>) en la carpeta de entrega.</li>\n",
    "</ul>"
   ]
  },
  {
   "cell_type": "markdown",
   "metadata": {},
   "source": [
    "<p>Consideramos el siguiente sistema criptográfico:</p>\n",
    "<ul>\n",
    "<li>Se elige como clave una cadena de caracteres, de longitud $lc$.</li>\n",
    "<li>Si 0$\\le i<lc$, el código del caracter que ocupa la posición $i$-ésima en la cadena encriptada se obtiene sumando el código del carácter que ocupa la posición $i$-ésima en la clave al código del caracter que ocupa la posición $i$-ésima en la cadena original, todo ello, por supuesto, módulo la longitud del alfabeto.</li>\n",
    "<li>Si $i\\ge lc$, el carácter $i$-ésimo de la cadena encriptada es aquel cuyo código es la suma (módulo la longitud del alfabeto) de los códigos de los caracteres $i$-ésimo e ($i-lc$-ésimo de la cadena original</li>\n",
    "</ul>\n",
    "<p><strong>Ejercicio 1 (3 puntos).</strong> Escribir una función Sage, <span style=\"font-family: comic sans ms,sans-serif; font-size: medium;\"><em>CifradoTercerParcial(texto,clave,alfabeto)</em></span>,&nbsp; que espere un <span style=\"font-family: comic sans ms,sans-serif; font-size: medium;\"><em>texto</em></span>, una <span style=\"font-family: comic sans ms,sans-serif; font-size: medium;\"><em>clave</em></span> y un <span style=\"font-family: comic sans ms,sans-serif; font-size: medium;\"><em>alfabeto</em></span>, y devuelva el resultado de encriptar <span style=\"font-family: comic sans ms,sans-serif; font-size: medium;\"><em>texto</em></span> por medio del esquema que acabamos de describir con clave <span style=\"font-family: comic sans ms,sans-serif; font-size: medium;\">clave</span> usando el alfabeto <span style=\"font-family: comic sans ms,sans-serif; font-size: medium;\"><em>alfabeto</em></span>. La función usará por defecto el alfabeto</p>\n",
    "<p style=\"text-align: center;\"><span style=\"font-family: comic sans ms,sans-serif; font-size: medium;\"><em>alfabeto</em></span>=u' ABCDEFGHIJKLMN&Ntilde;OPQRSTUVWXYZabcdefghijklmn&ntilde;opqrstuvwxyz'</p>\n",
    "<p style=\"text-align: left;\">que tiene un espacio en blanco como primer caracter.</p>"
   ]
  },
  {
   "cell_type": "markdown",
   "metadata": {},
   "source": [
    "<p><strong>Ejercicio 2 (3 puntos). </strong>Escribir una función Sage, <span style=\"font-family: comic sans ms,sans-serif; font-size: medium;\"><em>DescifradoTercerParcial(texto,clave,alfabeto)</em></span>,&nbsp; que espere un <span style=\"font-family: comic sans ms,sans-serif;\"><span style=\"font-size: medium;\"><em>texto</em></span> </span>resultado de encriptar un mensaje por medio del esquema descrito con una<span style=\"font-family: comic sans ms,sans-serif;\"> <span style=\"font-size: medium;\"><em>clave</em></span> </span>y un <span style=\"font-family: comic sans ms,sans-serif;\"><span style=\"font-size: medium;\"><em>alfabeto</em></span></span>, y que devuelva el mensaje desencriptado. Por defecto usará el alfabeto mencionado anteriormente.</p>"
   ]
  },
  {
   "cell_type": "markdown",
   "metadata": {},
   "source": [
    "<p><strong>Ejercicio 3 (4 puntos). </strong>Al ejecutar la casilla siguiente, se carga un texto cifrado en la variable <span style=\"font-family: comic sans ms,sans-serif; font-size: medium;\">encriptado</span>.</p>"
   ]
  },
  {
   "cell_type": "code",
   "execution_count": 1,
   "metadata": {
    "collapsed": false,
    "jupyter": {
     "outputs_hidden": false
    }
   },
   "outputs": [],
   "source": [
    "load('VetustaEnc.py')"
   ]
  },
  {
   "cell_type": "markdown",
   "metadata": {},
   "source": [
    "<p>Dicho texto se corresponde con un cap&iacute;tulo de un libro de un escritor al que le gustaba especialmente la letra \"a\", quizá porque su primer apellido sólo ten&iacute;a esa vocal. El texto encriptado se obtuvo a partir del original mediante un método de Vigen&egrave;re, con alfabeto</p>\n",
    "<p style=\"text-align: center;\">alfabeto=u\"!'(),-.1234:;?abcdefghijklmnopqrstuvwxyz\\xa1\\xab\\xba\\xbb\\xbf\\xf1\"</p>\n",
    "<p>Aunque el texto original conten&iacute;a blancos y saltos de linea, esos caracteres no se encriptaron.</p>\n",
    "<p>Se pide averiguar el texto original.</p>"
   ]
  }
 ],
 "metadata": {
  "kernelspec": {
   "display_name": "SageMath 9.0",
   "language": "sage",
   "name": "sagemath"
  },
  "language_info": {
   "codemirror_mode": {
    "name": "ipython",
    "version": 3
   },
   "file_extension": ".py",
   "mimetype": "text/x-python",
   "name": "python",
   "nbconvert_exporter": "python",
   "pygments_lexer": "ipython3",
   "version": "3.8.5"
  }
 },
 "nbformat": 4,
 "nbformat_minor": 4
}
